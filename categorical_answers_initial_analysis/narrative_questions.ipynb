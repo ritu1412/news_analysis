{
 "cells": [
  {
   "cell_type": "code",
   "execution_count": 1,
   "metadata": {},
   "outputs": [
    {
     "name": "stderr",
     "output_type": "stream",
     "text": [
      "/Users/ritutoshniwal/Code/news_analysis/env/lib/python3.9/site-packages/urllib3/__init__.py:35: NotOpenSSLWarning: urllib3 v2 only supports OpenSSL 1.1.1+, currently the 'ssl' module is compiled with 'LibreSSL 2.8.3'. See: https://github.com/urllib3/urllib3/issues/3020\n",
      "  warnings.warn(\n"
     ]
    }
   ],
   "source": [
    "from eventregistry import *\n",
    "import json, os, sys\n",
    "import os\n",
    "from eventregistry import EventRegistry"
   ]
  },
  {
   "cell_type": "code",
   "execution_count": 2,
   "metadata": {},
   "outputs": [],
   "source": [
    "api_key = os.getenv(\"NEWSAPI_API_KEY\")\n",
    "er = EventRegistry(apiKey=api_key, allowUseOfArchive=False)"
   ]
  },
  {
   "cell_type": "markdown",
   "metadata": {},
   "source": [
    "### English articles from India"
   ]
  },
  {
   "cell_type": "code",
   "execution_count": 5,
   "metadata": {},
   "outputs": [],
   "source": [
    "lang = \"eng\"\n",
    "query = {\n",
    "  \"$query\": {\n",
    "    \"$and\": [\n",
    "      {\n",
    "        \"keyword\": \"india\",\n",
    "        \"keywordLoc\": \"body\"\n",
    "      },\n",
    "      {\n",
    "        \"keyword\": \"election\",\n",
    "        \"keywordLoc\": \"body\"\n",
    "      },\n",
    "      {\n",
    "        \"keyword\": \"2024\",\n",
    "        \"keywordLoc\": \"body\"\n",
    "      },\n",
    "      {\n",
    "        \"sourceLocationUri\": \"http://en.wikipedia.org/wiki/India\"\n",
    "      },\n",
    "      {\n",
    "        \"lang\": lang\n",
    "      }\n",
    "    ]\n",
    "  },\n",
    "  \"$filter\": {\n",
    "    \"forceMaxDataTimeWindow\": \"31\"\n",
    "  }\n",
    "}\n",
    "q = QueryArticlesIter.initWithComplexQuery(query)\n",
    "filename = lang + \".json\"\n",
    "if os.path.exists(filename):\n",
    "    os.remove(filename)\n",
    "\n",
    "articles = []\n",
    "for art in q.execQuery(\n",
    "    er,\n",
    "    sortBy=\"date\",\n",
    "    maxItems=20,\n",
    "    returnInfo=ReturnInfo(\n",
    "        sourceInfo=SourceInfoFlags(location=True),\n",
    "    ),\n",
    "):\n",
    "    articles.append(art)\n",
    "\n",
    "with open(filename, \"w\") as f:\n",
    "    json.dump(articles, f, ensure_ascii=False, indent=4)"
   ]
  },
  {
   "cell_type": "code",
   "execution_count": 6,
   "metadata": {},
   "outputs": [
    {
     "name": "stdout",
     "output_type": "stream",
     "text": [
      "[{'article': \"According to the , the counting of votes will commence at 8 AM, on Tuesday, June 4. This will cover not only the Lok Sabha elections but also the state legislative assemblies of Andhra Pradesh and Odisha, along with various bye-elections.\\n\\nFor the latest updates on the Lok Sabha election results, you can visit the official Election Commission of India (ECI) website: https://results.eci.gov.in/. These updates will also be accessible via the Voter Helpline App, compatible with both iOS and Android devices.\\n\\nTo experience comprehensive coverage, constituency wise updates and debates, the election results will be live-streamed on various news channels, YouTube channels, and social media accounts of major news outlets. Enthusiasts of large screen experience in Maharashtra, including Mumbai, can watch the 2024 Lok Sabha election results live in theatres as well as MovieMax will showcase the event titled 'Election Results 2024' starting at 9 AM.\\n\\nUnder Rule 54 A of the Conduct of Elections Rules 1961, the process for counting votes starts with postal ballots at the Returning Officer's (RO) table. Thirty minutes into postal ballot counting, Electronic Voting Machine (EVM) votes can be counted, or immediately if no postal ballots are present.\\n\\nCounting officials must ensure that the EVM's Control Unit (CU) seal is intact and that the total votes match Form 17C before counting. Results from the CU are recorded in Part-II of Form 17C, verified by the counting supervisor, micro observer, and candidate agents. If the CU's display fails, VVPAT slips are counted post CU counting.\\n\\nResults for each CU are documented and signed in Form 17C, which is then sent for compiling the final result in Form 20. VVPAT slip counting starts after CU votes are counted, with mandatory verification of VVPAT slips from five random polling stations per constituency. If the victory margin is less than the rejected postal ballots, those ballots are re-verified before declaring the result. In case of a tie, the winner is determined by a draw of lots.\"}, {'article': 'Phew! Tomorrow as ballot boxes are counted we shall know who will sit on India\\'s Raj gaddi in this hard-fought theeka-dhuandhar elections. Encapsulated brilliantly in an adage: Poll is a right whore. She often gives but also takes away all in one fell swoop. Even as all exit polls predict BJP Modi\\'s clean sweep, INDIA bloc\\'s Congress tom-tom their victory. Either which way in politics it\\'s not over till it\\'s over and jo jeeta wohi sikander!\\n\\nUndeniably, Election 2024 is easily the most polarising one in recent electoral history. Forget mutual antipathy and mistrust, it is an election which spewed hatred between communities on religious basis to polarise people built on those supporting Modi or his INDIA bloc opponents with barely any meeting ground between the two which was violated on a scale never seen before.\\n\\nAlso, unlike 2014 or 2019, 2024 was most Presidential, selling Brand Modi whereby the Party and its candidates were secondary to the Gaurantee called Modi. Of course, the Prime Minister led a grueling campaign seeking a third term with no challenger. While, the Opposition which appeared divided, jaded and listless at first managed to get its act together and mounted an aggressive counter against BJP. But, was hamstrung when it came to countering the NaMo cult.\\n\\nThis election stands testimony to Congress decline when it fielded the lowest number of candidates ever totaling 294 of 543 Lok Sabha seats. Surprising, as bhai-behen Rahul-Priyanka duo did show signs of reviving its deflated cadres, but desperate to stop Modi from returning to power continues to be confused about its support base and fell back on its tried and tested formula -- abuse and corruption as poll plank.\\n\\nCampaigning for a greater part appealed to bad-mouthing opponents preaching fire and brimstone sermons. Worse, the political discourse has never been more neech, gross, coarse, divisive, inflammatory and pungent sans any debate on vital issues debilitating the nation. Be it citizenry\\'s needs and wants, unemployment, healthcare, farmers distress and rising food inflation. Making plain our democratic process is severely under strain with none caring a damn for the Election Commission\\'s (EC) Model Code of Conduct.\\n\\nWith polls being all about rah-rahs and unsavoury put-downs, which sadly, voters seem to have accepted as par for the course. Notwithstanding, EC trying, though half-heartedly, to rein in \\'star campaigners\\' across the political spectrum. Alongside our leaders\\' obsession with the numbers game: seats won, vote shares, voter turnout, number of rallies and size etc. Yet, beyond quantity, the quality left a lot wanting.\\n\\nCertainly, Opposition left no stone unturned to raise questions on flaws in electoral rolls, efficacy of EVMs, alleged fudging of voter turnout figures and attempts to influence 150 District Magistrates and collectors yet no substantive evidence was put forth. Besides, there were no complaints from candidates and those receiving Form 17 C which records votes polled in a booth, said Election Commissioner (CEC) Rajiv Kumar yesterday.\\n\\nClearing the air on various allegations against the Commission, CEC asserted, \"the one making allegations was present in the kachahari but there was no gavah. He also commented on memes on social media describing the EC as \\'Laapata gentlemen\\' for being absent amid MCC violations by top leaders during electioneering, clarifying that he and two fellow Commissioners were \"never out and always here. We issued 100 press notes and advisories.\"\\n\\nPatting itself, CEC averred only 39 re-polls were held as opposed to 540 in 2019 while 27 States didn\\'t require re-polling. For resons best known to him, he discounted poll violence, obviously turning a blind eye to major incidents in West Bengal.\\n\\nHowever, the EC was found wanting in taking action to ensure parties respected the MCC. Resulting in a perception, the three wise men allowed MCC to be violated and were too lenient about transgressions of BJP and its leaders, especially in censuring leaders indulging in hate speech. Besides, the delay in releasing voter turnout has cast a cloud on its reputation.\\n\\nOpposition leaders call the EC a paper tiger and for being extremely partisan leading to its functioning and impartiality being profoundly degraded. Recently, it banned AAP\\'s official campaign song on the pretext it showed \"BJP and its agencies in poor light\". If this was a criteria does it not amount to a muzzling of criticism and accountability, the life-breath of democracy?\\n\\nOn the other hand, it turned a blind eye when BJP ran explicit dog-whistling campaigns targeting Muslims or when it spread canards about the Congress manifesto. Also, when Modi created a false impression that people\\'s money and women\\'s mangalsutras would be taken away in the name of wealth redistribution and given to \"infiltrators\" and \"those who have more children\", EC sent a notice not to Modi but BJP Chief Nadda. Clearly, the institution has a problem in hand.\\n\\nBesides, even as institutions may be under strain in the backdrop of all-round decline in conversation but competitive electoral democracy at the grassroots level is alive and kicking. And no leader, however popular, can take the voter for granted. Every vote has to be fought for with hard work, by hard selling promises and achievements and unfortunately, not by stoking fears about what might be.\\n\\nThe good thing is the electorate knew its choices and seemed unwilling to be impressed by legacy, placing a premium on record. The bad thing: Being enamoured by freebies and all too susceptible to polarizing rhetoric.\\n\\nAt the same time even as elections are all about competition and campaigns do leaders need to stoop so low as to manufacture fears, and then personally malign opponents to win votes? Modi\\'s speeches were filled with anti-Muslim verbose while Opposition created a scare over possible amendments to the Constitution to take away benefits of reservation.\\n\\nUndeniably, these dog whisles vitiated the atmosphere and lowered the dignity of discourse. A nation which prides itself in being the mother of democracy needs to do better when it comes to language of electioneering.\\n\\nIn the ultimate, as one does a cost-benefit analysis time for our polity to realize they can disagree without being disagreeable, be critical yet engaging and constructive. Voters too need to demand more of our netagan and go beyond sharing images of inked fingers proof of \\'job done.\\'\\n\\nPerhaps the time has come for Parties to get a complete makeover, good politicians and a new set of rules which fight for policies and problems that bother their electorate and uphold the ideals of democracy. The dignity of the electoral process which draws a lakshman rekha on vulgarity and vows not to cross it. Along-with overhauling the election apparatus.\\n\\nOnce the heat and dust of this gigantic exercise involving over one crore polling personnel, the unsung heroes, to elect 543 Lok Sabha MPs dissipates and settles down, both the supply and demand side of governance will mature in quality, and not just in quantity.\\n\\nTrue, it might be wishful thinking to even think that this narrative will return to normal and business as usual once polls are over. Primarily as they could leave our polity and society divided and scarred. Whereby a lot of time, effort and statesmanship will be required to undo the damage.\\n\\nTime our leaders understand that Prime Ministers will come and go but their words will stay. Which will influence young minds and teach them to show dignity and respect for others. The lead will have to be taken by none other than the next Prime Minister. -- -- INFA'}, {'article': 'The outcome of the long-drawn-out polling for Mandate 2024 will be out on Tuesday. This was arguably one of the most polarising general election campaigns the country has witnessed. Prime Minister (PM) Narendra Modi led a grueling campaign, seeking a third term in office for the BJP. On the other hand, the opposition which appeared divided, jaded, and listless at the beginning of the elections managed to get its act together and mounted an aggressive counter against the ruling party. It witnessed fierce debate. The campaign was deeply communal with minority Muslim bashing becoming the norm during the campaign.\\n\\nThe campaign revealed one thing about India. Institutions may be under strain in India, but competitive electoral democracy is alive and kicking at the grassroots, and no leader, however popular one may think the person is, can take the voters for granted. Every vote has to be fought for with hard work, by hard-selling promises and achievements and, unfortunately, by stoking fears about what might be. The good thing is that the electorate is particular about its choices and seems unwilling to be impressed by legacy, placing a premium on record. The bad thing is they are often enamoured by freebies, and all too susceptible to polarising rhetoric. The result will be out and soon a new government will be formed. But the deeply polarising campaign has once again hurt the social fabric of the nation. One wonders how long can this be allowed to be continued. Someone needs to put an end to communal politics and focus on development.'}, {'article': 'Interestingly, the house was briefly listed on Airbnb in 2021 for a one-night stay, allowing fans to experience the iconic setting firsthand. While the original 90s decor may not align with modern aesthetics, the revamped interior now reflects contemporary design elements. Read less\\n\\nIf you remember the classic 1990 film \"Home Alone,\" featuring Macaulay Culkin, you will know that for many of us, it will remain an enduring favourite among Christmas movies. Beyond Culkin\\'s portrayal of Kevin McCallister, what captured the hearts of cinema enthusiasts was the iconic house where the story unfolds.\\n\\nSituated in the Chicago suburbs, this famous residence is now available for purchase for the first time since 2012, as per the reports. Following a refurbishment and expansion in 2018, the property is now listed for $5.25 million.More from Travel NewsDelhi Police issues traffic advisory ahead of 2024 general election vote countingUAE leads regionally and 18th globally in Travel and Tourism Development listChar Dham Yatra: Offline registration starts; all details hereMore News\\n\\nThe Dawn McKenna Group, a real estate firm based in the United States, has showcased the fully renovated house in a video posted on Instagram. The video offers a glimpse into the luxurious features of the property, including a spacious basketball court, a sunroom, five bedrooms, six bathrooms, and even a home theatre.\\n\\nMost beautiful places in Asia that inspire travel FacebookTwitterPintrestHowever, fans of \"Home Alone\" have expressed disappointment over the altered interior of the house. Despite this, the modern redesign boasts of additional amenities such as a game room and a basketball half-court.\\n\\nInterestingly, the house was briefly listed on Airbnb in 2021 for a one-night stay, allowing fans to experience the iconic setting firsthand. While the original 90s decor may not align with modern aesthetics, the revamped interior now reflects contemporary design elements.\\n\\nRead more: Last tiger safaris in India before the monsoon season closure\\n\\nAs for the price tag, the McAllister house is indeed a coveted piece of pop culture history, with a listing price of $5.25 million. Situated in Winnetka, Illinois, the home was originally constructed in 1921 and spans over 9,000 square feet, boasting five bedrooms and six bathrooms.\\n\\nDespite the passage of over 30 years since its cinematic debut, the McAllister house continues to captivate audiences with its nostalgic charm. From Kevin\\'s legendary traps to speculations about the McAllister family\\'s occupation and finances, the house remains an enduring symbol of the film\\'s legacy.\\n\\nRead more: South Africa introduces \\'univisa\\' for these 5 countries\\n\\nNow, with the property officially on the market, prospective buyers have the opportunity to own a piece of cinematic history. The Dawn McKenna Group announced the availability of the iconic McAllister house, inviting interested parties to make their dream of owning this legendary residence a reality.\\n\\nFacebookTwitterLinkedinEmail'}, {'article': \"According to their projections, pollster predicts the National Democratic Alliance (NDA) and the Indian National Congress (INC) are engaged in a tight contest for the state's two parliamentary seats.\\n\\nPredominantly influenced by regional parties, the state's political arena is with the National People's Party (NPP) emerging as a significant player in recent years.\\n\\nThe Election Commission of India (ECI) is set to announce the Lok Sabha election 2024 results on Tuesday, June 4. Counting votes will begin at 8 am and will be done collectively across the country, revealing Meghalaya's parliamentary representatives and other states.\"}, {'article': 'Now that the Lok Sabha Election 2024 is over and the verdict will be in the public domain in a few hours from now. India has proved that it has the electoral democracy in its DNA that gives expression to the public opinion to govern the nation. The public participation to choose the new Lok Sabha and the new national government is testimony to the maturity of the Indian nation when conflict has become the hallmark in the modern democracies of the world. India has stood the test of the time when it comes to upholding the parliamentary democracy.2024 Lok Sabha Election has proved without any doubt that there may be difference of political ideologies among the political parties both at the regional and the national level. But when it comes to national governance then the most difficult political disagreements are insignificant and national interest takes the centre stage. This year the percentage of voting has crossed the previous records in the conflict zones and people have come out in large numbers to cast their vote. People in Jammu and Kashmir have proved many political pundits wrong. The poll percentage has crossed the previous records. Kashmir valley has underlined the power of the ballot and rejected the regression of the bullet. The \"Naya Kashmir \" has invested its vote for the comprehensive development and peace in the valley. This election in the aftermath of the neutralisation of Article 370 and 35A signifies the change of mood. And the mood is for sending representatives to the parliament who can express the people\\'s aspirations and get them operationalized through policies. If the writing on the wall is read carefully then it can be said with utmost confidence and conviction that the people in Jammu and Kashmir want the Assembly Elections to be conducted in consonance with the Supreme Court Direction by September. This mood must not be squandered. Aspirations of the people must get redressal to be stakeholders in the national resurgence. The cause for confidence of the voters all over India has another reason and that is the strong centre. In the last two decades India has witnessed a stable government. This has led to development of faith in the people that their votes are valuable weapons to shape the destiny of the nation. The improvement in the internal security, upgradation of the national security, economic boom, strong foreign policy and above all a leadership guided by conviction that governs on the principle of the nation first. It would not be an exaggeration that the Modi factor has led the voters to cast their votes. Prime Minister has been able to reach the voters through his policies at the grass root level with a segmented approach. This has paid dividends and made voters reinforce their faith in the national festival of the Lok Sabha Election with rejuvenation. No one will be surprised to see the seat tally tomorrow. The Lok Sabha Election 2024 is a referendum for the \"Nation First\" and everyone knows what that means. Opposition has been lac lustre as far as its election manifestos are concerned. And what has added to the crisis in the INDI Alliance camp is the absence of the mutually accepted national leader who can deliver and appeal to the masses. The reason being that Narendra Modi has set high standards when it comes to leadership. So the Lok Sabha Verdict 2024 is a foregone conclusion that the Indian Nation will repeat the strong leadership that has delivered on national issues.'}, {'article': 'At eight in the morning, the long eighty-day voting process will come to an end with the counting. On Tuesday, the outcomes of the assembly elections in Odisha and Andhra Pradesh will also be announced, opening the door for the new state administrations.\\n\\nFollowing months of intense campaigning, the nation is about to find out the results of the 2024 Lok Sabha elections, in which millions of people have cast their ballots in the world\\'s biggest democracy.\\n\\nTo ensure a seamless electoral process, security systems and guidelines have been installed at several counting centres in different cities.\\n\\nAt eight in the morning, the long eighty-day voting process will come to an end with the counting. On Tuesday, the outcomes of the assembly elections in Odisha and Andhra Pradesh will also be announced, opening the door for the new state administrations.\\n\\nThis was the first election in which the INDIA alliance competed against the NDA, which had formed coalitions with regional parties. The Congress stated it is convinced that the INDIA alliance will win the election comfortably with 295 seats.\\n\\nAlso read: India Lok Sabha Election 2024: Know how to check poll results on ECI website\\n\\nMost exit polls predicted Prime Minister Narendra Modi\\'s return to power for a third term, with the BJP-led NDA projected to gain a large majority in the Lok Sabha elections.\\n\\nThe security services are already making preparations for Modi\\'s swearing-in ceremony, which is set for next weekend, as per an ANI report.\\n\\nConversely, leaders of the INDIA alliance have pushed the Election Commission to make sure that postal ballots are counted and results revealed before the announcement of the EVM results.\\n\\nThe opposition parties unanimously rejected the exit poll prediction and accused the pollsters of influencing the counting process.\\n\\nAlso read: INDIA bloc leaders to stay in Delhi for \\'other options\\' if seat count falls short of expectations: Report\\n\\n\"Elaborate security arrangements have been made by Delhi Police for the vote-counting day of Lok Sabha Elections 2024. On June 4, during the counting process, around 70 companies of the forces will be deployed at all seven counting centres across Delhi,\" said the police.\\n\\nThe Delhi traffic police issued a new advisory ahead of Tuesday\\'s vote counting, listing key roads where traffic restrictions and diversions will start from 5:00 AM to guarantee smooth traffic flow.'}, {'article': \"In today's episode of NewsHour Agenda with anchor Madhavdas on Times Now Prime Time Debate show, the discussion revolves around Lok Sabha Election 2024 results. Exit polls have given an overwhelming edge to the BJP-led NDA in the Lok Sabha elections 2024. While the opposition dismisses exit polls, calling them 'Modi media polls.' What's concerning are the questions being raised on the entire election process. The Election Commission of India has now responded to the allegations and is calling out the negative narrative. The opposition questions the credibility of ECI and the need to be alert on counting day. ECI has responded to the opposition's allegations.We have been joined by panellists to discuss the issue:The statement made by Akhilesh Ji today was for mobilizing his cadre; it wasn't a war cry. Because we know that BJP can go to any extent, says Faizen Kidwai.They (Oppn) know that they are losing. They just want to build up a narrative in other countries, RP Singh.#newshour #pmmodi #loksabhapolls #electioncommission #rajivkumar #jairamramesh #congress #modi #bjp #indiaalliance #indiabloc\"}, {'article': 'Get latest articles and stories on India at LatestLY. Three buses were gutted in a blaze that broke out at the Jammu bus stand here on Monday night, officials said.\\n\\nJammu, Jun 3 (PTI) Three buses were gutted in a blaze that broke out at the Jammu bus stand here on Monday night, officials said.\\n\\nNo casualty was reported in the incident, they said.\\n\\nAlso Read | Lok Sabha Election Results 2024: Central Forces to Control Security in and Around LS Poll Counting Centres in North East States.\\n\\nWhile most of the buses were driven out, they added that three were caught in the blaze.\\n\\nFirefighters rushed to the spot and efforts are underway to douse the flames, they said.\\n\\nAlso Read | Bengaluru Rains: City Breaks 133-Year-Old Record, Sees Highest Rainfall in June As Southwest Monsoon Advances Further in Some Parts of South Peninsula.\\n\\nIn a separate incident, firefighters successfully averted a mishap by extinguishing a fire that had engulfed a transformer in the Pacca Danga area, officials said.\\n\\n(This is an unedited and auto-generated story from Syndicated News feed, LatestLY Staff may not have modified or edited the content body)'}, {'article': 'A day before the announcement of Lok Sabha poll results, former Tripura Chief Minister and Bharatiya Janata Party leader Biplab Kumar Deb said that BJP is set to form the government in Odisha adding that there is no alternative of Prime Minister Narendra Modi in the country.\\n\\n\"There is no alternative to Prime Minister Modi, he is the need of the country. BJP will form the state government in Odisha. As per my assessment in Lok Sabha, we won\\'t get less than 17 seats. People are upset in Odisha due to the bad governance under CM Naveen Patnaik. People were angry as Odisha had everything people are going to Gujarat for labour,\" Biplab Kumar Deb told reporters.\\n\\nALSO READ| Odisha assembly election: Exit poll predicts nail-biting contest between BJD, BJP\\n\\nIn exit polls, the BJP is projected to win 18-20 seats in Odisha in the 2024 Lok Sabha elections, while the ruling Biju Janata Dal may only win 0-2 seats, according to predictions by India Today-Axis My India exit poll. Besides, the Congress is likely to get 0-1 seat.\\n\\nThe exit polls further said that the BJP is expected to gather a 48 per cent vote share while the BJD is predicted to get a vote share of 42 per cent.\\n\\nIn the 2019 legislative assembly elections, Naveen Patnaik-led BJD posted a thumping victory winning 112 seats out of 147 in the state. Patnaik was sworn in as chief minister for a fifth consecutive time since 2000. The BJP won 23 and the Congress managed to win nine seats in 2019.'}, {'article': 'As India awaits the results of the 2024 Lok Sabha elections, discussions focus on the fairness of the process and the potential implications of different outcomes for the nation\\'s democracy. (PTI Image)\\n\\nA painfully long general election in our hottest summer has finally ended. The tea leaves will be read in the exit polls that were released on Saturday evening, but one must keep in mind their imperfect record. Even for a single state, West Bengal, which held Assembly elections in the summer of 2021, one out of four got the result wrong. Opinion polls, conducted before this longest cycle of elections was announced, were unanimous that the BJP would get a majority.\\n\\nToday, some are not sure this will be the case, but we shall see. Without knowing the results, however, what can be said about the election that is still important? Let us work our way through the possibilities.\\n\\nThe first is that no matter who wins, this was not a free or fair election. Two chief ministers were jailed before the campaigning began. Jailed not because they were convicted but because the BJP wanted them jailed. One of them was released for a few days of campaigning, but will have to return to jail now.\\n\\nThe access to bank accounts of the Opposition was restricted, through attacks made by the Central investigative agencies controlled by the BJP. The Election Commission compromised itself, sadly, and allowed the BJP to control both the planning of the phases and their execution. The commission\\'s insolent replies to the Opposition, its refusal to act on the Prime Minister\\'s hate speeches against Muslims and its refusal to release the poll data on time has harmed our democracy. The electoral bonds scheme was determined to be unconstitutional, but thousands of crores raised under it were used in this election, and this has tainted it, quite irredeemably in my opinion.\\n\\nNext, let\\'s look at what the possibilities are. Since the opinion polls were unanimous, the most likely one may seem to be that Narendra Modi returns to office with a similarly large majority. What should one expect in that case? More of the same, of course. He has run the nation as one would a monarchy and his ministers are courtiers (see their social media accounts bleating his glories). The Opposition parties will continue to be attacked through the misuse of official agencies, civil society will be force-marched towards extinction and India\\'s plummeting on the global indices will continue. The minorities, and especially Muslims, will continue to have open season declared on them. The institutions will continue on their path of decline. The consolidation of what a former chief economic adviser has referred to as \"the two As\" will continue, meaning a corporate capture of the economy. In short, what we see around us today will remain as it is.\\n\\nIt is unhealthy to have a single-party state, as has happened in Gujarat. The Opposition exists, but only on sufferance. What happened to opponents and prospective candidates in Surat and in Varanasi will repeat in more places.\\n\\nIt should be conceded that if he wins again, Narendra Modi will be the most successful leader we have seen in our history, and delivering three consecutive Lok Sabha wins after three Assembly wins all with absolute majorities will be a singular achievement.\\n\\nThe second possibility is that the BJP gets a plurality of seats but not an absolute majority. Say, they get 250 seats and form the government. In this case, the situation changes in several ways. First, the allies will begin to assert themselves and it will no longer be possible for the king to ignore the courtiers. Does Mr Modi have it in him to function in a more democratic manner? No. This will make such a government a whole lot more volatile.\\n\\nWithin the party, there will be people wanting to assert themselves. The old men in Nagpur, always playing the long game, will raise their heads and become more visible.\\n\\nSome of the things will shift, though the attack on minorities is likely to continue, because that happens at the level of the states, where in several places the BJP enjoys a certain popularity because of its bigotry. The attack on federalism will recede. Today, India is federal only in name. The states have no power to tax after GST and the unhappiness of many has broken out into the open. Law and order continues to be a state subject, but from Delhi to Jharkhand to Karnataka to Bengal, the Union government has sent out its agencies to undermine state governments and chief ministers. With the Union government as strong and unwilling to change as it has been, there has been no attempt at redressal. An alliance government will likely alter that and this will be good for our country.\\n\\nThe last possibility is, of course, that the BJP loses. On the evidence of the opinion polls, this is the least likely possibility but one that we have to consider. To my mind, this will be a good outcome and not because of personal preferences entirely. Democracy renews and refreshes itself with changes in government. One man presiding for decades -- take Vladimir Putin, Xi Jinping and Kim Jong Un -- rarely produces anything positive. Some of the things, many of them in fact, that we have taken on since 2014 need to be got rid of. It is true that our democracy gives us the option of countering them in other ways, for instance through the courts or through protests. But elections are the only way in which changes take place structurally.'}, {'article': 'India awaits verdict: 2024 Lok Sabha election results to determine Modi\\'s fate\\n\\nOn Tuesday, June 4, the nation will learn who will come to power after the 2024 Lok Sabha elections with the announcement of the much-awaited results that will decide the fate of Prime Minister Narendra Modi and his BJP, the world\\'s largest party, as well as of the Opposition parties.\\n\\nBut before the actual counting, much drama and dispute has been seen over the exit poll predictions that have spoken of a landslide for the BJP under Mr Modi.\\n\\nIt has curiously run into a controversy with the Opposition seeking to dismiss the findings and insisting it was very much in the race to come to power. Such a counter-offensive by the opposition is an unprecedented move, turning the whole situation a little bizarre.\\n\\nShiv Sena\\'s Sanjay Raut, himself a journalist, claimed the Opposition I.N.D.I.A. grouping is thick in the game and could win 295 of the total 543 seats, which has added much curiosity as to what is in store. His claim came a day after the meeting of I.N.D.I.A. leaders.\\n\\nNever in the past has any Opposition questioned the outcome of the exit polls in such a forceful manner, questioning the very intent of the polling companies and suggesting that there is more to it than meets the eye.\\n\\nThe nation had seen such a landslide in 1971 and 1984 in the wake of the Bangladesh war and the assassination of Indira Gandhi. In contrast, the 2024 election is a \"normal\" one.\\n\\nThe exit poll predictions show unequivocally that the BJP under Mr Modi is way ahead in the Lok Sabha race against the I.N.D.I.A. grouping, one of whose main constituents is the Congress.\\n\\nThe actual numbers will put a stamp of approval/disapproval on the business of exit polls, pre-poll surveys and such exercises in the world\\'s largest democracy. The outcome is expected to reveal what has weighed on the minds of voters, what has gone wrong for the rival sides and what has helped them. It must be conceded that the just-concluded campaign was the toughest one for Prime Minister Modi, who has been on a winning spree since Gujarat days in 2002.\\n\\nThis election will go down in history as the most puzzling for Mr Modi, as the hero of many an electoral battle who was fighting in the dark this time. Many commentators had claimed that Mr Modi may have missed the bus this time as he had delayed the announcement of the polls, which according to them should have happened in January after the Ram Mandir\\'s inauguration in Ayodhya.\\n\\nThe two-month-long election schedule too looked a bit troublesome with the BJP, which was intended for Mr Modi to have much time for campaigning but appeared too tiring for him for want of a narrative.\\n\\nIf the exit poll predictions prove true, the lesson for the Opposition is that they could be a fighting force in states where they have worked hard and joined hands in fierce combat, and that the same must be replicated at the national level.\\n\\nThe exit polls show that the Opposition is doing much better in states like Maharashtra and Bihar because there they not only worked hard but unitedly too.\\n\\nThe moral of the story is that Mr Modi is not invincible and could be contained or defeated if the Opposition works purposefully with a plan of action and has boots on the ground.\\n\\nThe Opposition leaders, such as Uddhav Thackeray, Sharad Pawar or Tejashwi Yadav, could make a mark due to their connection with the grassroots, running an effective campaign and playing the victim card aggressively in the face of the BJP juggernaut.\\n\\nThere have been pluses for the BJP side too. The TINA (There Is No Alternative) factor has been working in favour of Mr Modi. Besides, both Mr Modi and Amit Shah are known to be hard taskmasters when it comes to fighting the polls.\\n\\nA section in the BJP, however, insists Mr Modi is the past master in the polarisation game. His Hindu-Muslim rhetoric has silently mobilised the majority and the Hindutva card will be seen in action. It feels a sizeable section of Hindus don\\'t buy the caste census logic, which it feels is past its expiry date.\\n\\nThe reporters of a news website not known to be Modi admirers insisted that what they saw during the campaign was that the BJP was very much on the ground and fighting hard.\\n\\nBut the experience was also that in states like Uttar Pradesh, the BJP was suffering some losses due to its failure to change candidates. For the Opposition, the lesson of the 2024 election season is that you cannot win a poll if you start preparing at the last moment and fail to project a united face.\\n\\nIn West Bengal, where chief minister Mamata Banerjee appears under intense pressure, the Trinamul boss broke ranks with her I.N.D.I.A. allies to ensure that only the TMC gets the maximum number of seats.\\n\\nThere have been minuses too for the BJP. Despite being hailed as \"Sher\" by his supporters, Mr Modi was at a loss to clinch an issue that would drive a big wedge in the rival camp and take the poll battle into their territory.\\n\\nIssues like price rise, unemployment and growing inequality raised by the Opposition did have resonance in the polls.\\n\\nOn the face of it, it did not appear that Hindutva has raised much crescendo in the minds of the majority community.\\n\\nThe Prime Minister\\'s failure to correctly gauge the mood of the people by harping on the right issues and raising the pitch speaks poorly of the mighty election machinery of the world\\'s largest party. How can they go so wrong?\\n\\nMr Modi has been good at sensing the mood of the people and this was seen in 2014 and 2019.\\n\\nThis time, he was like a character in the story in which some blind men were asked to specify their impression about the elephant. So, shooting in the dark, Mr Modi used all cards: Ram Mandir, Pakistan, dynasty, appeasement politics. The name of the game was polarisation.\\n\\nTwo decades back, Subhash Ghai had come out with a film Yaadein, which was sold out at exorbitant rates in all regions and the music rights too fetched much moolah. But the film flopped at the box office, leaving just Yaadein.\\n\\nOne thing did happen after Yaadein. Ghai was no longer the magic man of Bollywood. Tuesday will reveal the fate of Mr Modi, but one thing is clear -- this was not his best election.'}, {'article': \"In 1975, the people of Sikkim, comprising indigenous Lepcha, Bhutia, and Nepali ethno-cultural groups, became citizens of India. Since then, they have remained hostile to the imposition of what they see as nationalist projects. Sikkim has always been ruled by regional forces; its politics is embedded in the lived experience of the Sikkimese people. The results of the 2024 Assembly elections in the State once again reinforce this.\\n\\nThe elections were seen as a contest between the ruling Sikkim Krantikari Morcha (SKM) and the Sikkim Democratic Front (SDF). The SKM stormed back to power winning 31 of the 32 Assembly seats. The leader of the SDF, the five-time Chief Minister Pawan Kumar Chamling, lost both the seats he contested. The SDF managed to win just one seat.\\n\\nIn Sikkim, NOTA outdid Congress; CM got more votes than 31 BJP candidates\\n\\nThe SKM's victory can be attributed to many reasons. The first is the shift in narrative. SKM leader Prem Singh Tamang highlighted the SDF's predicament in delivering Scheduled Tribe (ST) representation for Limbu-Tamang communities in the State Assembly, and promised parivartan (change). He also mobilised the sentiments of about 11 Nepali communities which have not been granted ST status yet.\\n\\nSecond, Mr. Tamang appealed to younger voters. The SKM's 'vote for jobs' narrative struck a chord with the people. It equally allowed the incumbent Chief Minister to change his image. Mr. Tamang had been convicted in a graft case and served a one-year term in prison between 2017 and 2018. This attracted the provisions of the Representation of People Act, debarring him from being an electoral candidate for six years from the date he was released. The Election Commission in 2019 reduced the disqualification by almost five years. The Opposition has been protesting that Mr. Tamang's swearing-in in May 2019 was illegal. But people's memories are short and Mr. Tamang is now known as a pro-people Chief Minister.\\n\\nP.S. Tamang: A CM better known by his nickname\\n\\nThird, the SKM was also imaginative with its social media campaigns compared to the SDF and BJP. This also appealed to the younger voters.\\n\\nThe mandate that the SKM has received reveals a political space bereft of a credible Opposition and brings four decades of Mr. Chamling's dominance to a closure.\\n\\nAssembly Elections 2024: Sikkim Assembly results at a glance\\n\\nThe Bharatiya Janata Party (BJP) contested the election in the backdrop of the Finance Act of 2023, which expanded the definition of Sikkimese beyond Lepcha, Bhutia, and Nepali to include 'other' Indian citizens settled in Sikkim. This apparent effort to enfranchise non-Sikkimese in the Sikkimese political space caused concern. There was also fear following the dilution of Article 370 in Jammu and Kashmir that the government would dilute Article 371F of the Constitution, which provides for the unique status of Sikkim. It is not surprising then that many BJP MLAs switched to the SKM. The BJP's candidates, who were mostly from the upper castes, did not do enough to appeal to the regional aspirations.\\n\\nThe crowd-funded Citizen Action Party-Sikkim also failed to create an impact. Its narrative of reform was too idealistic and did not strike a chord.\\n\\nSikkim Krantikari Morcha: The second-time victorious dissident\\n\\nThe Congress did not even deem it fit to visit Sikkim during its Bharat Jodo Yatra. Nor did the party, which was responsible for Sikkim's integration with India, use history to dispel fears about the loss of autonomy and identity.\\n\\nIn the absence of Opposition legislators in the Sikkim Assembly, how will the delimitation exercise take place in 2026? Is the BJP likely to pitch for non-Sikkimese representation in the Sikkim Assembly? If the BJP-SKM alliance was a liability for State politics, does the absolute verdict in favour of the SKM mean that the people want a strong Chief Minister? It is crucial to note that Sikkim and Mizoram are outliers in the north-east, where the BJP otherwise dominates the political landscape.\\n\\nAmong other things, the verdict shows a preference to maintain the regional status quo. In this context, the SKM would do well to revisit the implementation of some Central laws in Sikkim. It could pass a resolution in the Assembly against the implementation of the Finance Act and work towards preserving the Sikkim subject. It could also help in the fight to obtain ST status for certain communities and give representation to the Limbu-Tamangs. This will not only reinforce but restore Sikkimese agency and autonomy.\\n\\nSunil Pradhan is a Sikkim-based political consultant\\n\\nRead Comments\"}, {'article': \"Devendra Fadnavis, Uddhav Thackeray, Amit Shah and Aditya Thackeray in happier times. Who will have the last laugh on June4? (File | PTI)\\n\\nMaharashtra, the second-largest state in the Lok Sabha elections with 48 seats, plays a crucial role not only for the ruling BJP-led National Democratic Alliance (NDA) but also for the Opposition's INDIA bloc in challenging Narendra Modi's bid for a historic third term as Prime Minister of India.\\n\\nThe entire country is closely watching the developments and the fiercely contested Lok Sabha battle in the land of the medieval Maratha king, Chhatrapati Shivaji Maharaj, known for his guerrilla warfare tactics. Maharashtra's diverse regions resemble Europe's variety in dialects and food culture, yet historically, the state has decisively chosen one side in Lok Sabha elections.\\n\\nIn the 2019 general elections, 60.95% (5,40,54,245) of eligible voters cast their votes. In 2024, this increased slightly to 61.33% (5,70,06,778), marking a 0.33% increase (29,52,533), according to the Election Commission. During the five-phase 2024 polls, Gadchiroli-Chimur led with a 71.88% turnout, followed by Kolhapur at 71.59%, Hatkanangale at 71.11%, Beed at 70.92%, and Nandurbar at 70.68%. The lowest turnout was 50.06% in the Mumbai South\\n\\nIn the 2014 Lok Sabha elections, the NDA secured 41 seats, with 23 for BJP and 18 for the united Shiv Sena, while the Opposition managed only six seats (four for NCP, two for Congress, and one for Swabhimani Shetkari Sangathan). The NDA's vote share was over 47%, while the Opposition had only 34%.\\n\\nIn the 2019 Lok Sabha elections, the NDA retained its 41 seats, with BJP and Shiv Sena maintaining their respective tallies and a combined vote share of over 50%. The Opposition again performed poorly, winning only five seats (four for NCP, one for Congress) with a 32% vote share. The Asaduddin Owaisi-led All India Majlis-e-Ittehadul Muslimeen (AIMIM) won one seat in Aurangabad.\\n\\nThe BJP focused its campaign on nationalist issues like the abolition of Article 370 in Jammu and Kashmir, the construction of the Ram temple, and the image of India under PM Modi. The Opposition highlighted inflation, unemployment, and alleged hidden agendas of the BJP-RSS, promising financial support for women, stipends for unemployed youths, loan waivers for farmers, and legal guarantees for minimum support prices (MSP) for crops.\\n\\nThe INDIA bloc, meanwhile, aimed to localise the elections by adopting a local and state-centric name for its alliance: the Maha Vikas Aghadi, comprising the Congress, Uddhav Thackeray-led Shiv Sena (UBT), and Sharad Pawar-led NCP (SP). Uddhav Thackeray not only contested the highest number of Lok Sabha seats within the MVA, with 21, but also emerged as a star campaigner and a key factor in this election.\"}, {'article': '* 100 contestants\\' fates sealed in 5 Parliamentary battles\\n\\n* Multi-tier security arrangements in place: IGPKashmir\\n\\n* Union Minister, two former CMs, senior leaders in fray\\n\\n* Agents of pol. parties instructed to adhere to ECI\\'s guidelines\\n\\nSrinagar, June 03: The LokSabha election 2024 results are set to be declared tomorrow, June 4. The counting of votes across 543 LokSabha constituencies by the Election Commission will begin at 8 am. Citizens across India eagerly await the outcome of the LokSabha elections 2024 that will determine the formation of the next government at the Centre.\\n\\nSimilarly, in Jammu and Kashmir, counting of votes for five parliamentary seats will be conducted amidst stringent security arrangements. With the fate of 100 candidates hanging in the balance, the vote counting process will commence at 8 am in the respective parliamentary constituencies, with meticulous arrangements made by concerned departments in the Union Territory.\\n\\nChief Electoral Officer (CEO) J&K, PK Pole, affirmed that all necessary preparations have been made, including the secure transfer of Electronic Voting Machines (EVMs) to designated strong rooms. \"Comprehensive security measures, including three-tier security setups, have been implemented to ensure the smooth conduct of the counting process,\" stated Pole.\\n\\nSecurity remains paramount, with Inspector General of Police (IGP) Kashmir, V.K. Birdi, affirming comprehensive security plans at counting centers. \"Our strategy is geared towards maintaining law and order,\" stated IGP Birdi, stressing the importance of public cooperation in upholding peace.\\n\\nBirdiassured that security grids and district-level forces will remain on high alert and vigilant throughout the proceedings.\\n\\nReflecting on the peaceful polling period, IGP Birdi attributed the absence of incidents to meticulous planning and professional execution by the security forces. \"The plan, executed in cooperation with other security agencies, ensured a violence-free polling process,\" he stated.\\n\\nHe also emphasized the crucial role of public cooperation in maintaining peace during the polls. \"Democracy thrives on the participation of the people. Their cooperation is essential in addressing policing-related issues. When the public cooperates, it becomes easier for us to maintain order and security,\" he added.\\n\\nFor the Srinagar Parliament Constituency, counting will take place at SKICC-Centaur, with stringent surveillance and security measures ensuring transparency and accuracy. The process will strictly adhere to Election Commission guidelines, with no mobile phones allowed inside the counting room except for the observer and returning officer.\\n\\nThe counting of votes will decide fate of 100 candidates, including senior BJP leader and Union Minister Jitendra Singh, BJP two-time MP Jugal Sharma, and two former Chief Ministers, Omar Abdullah of the National Conference (NC) and Mehbooba Mufti of the People\\'s Democratic Party (PDP).\\n\\nOther prominent figures include former Ministers Raman Bhalla and ChoudharyLal Singh of Congress, GM Saroori of DPAP, Aga Ruhullah Mehdi and MianAltaf of NC, Ashraf Mir of the Apni Party, and Sajjad Lone of the Peoples Conference. Former MLA Engineer Rashid is campaigning from Tihar Jail.\\n\\nThe Union Territory witnessed a Combined Voter Turnout (VTR) of 58.46 percent across five LokSabha seats, marking the highest poll participation in the last 35 years.\\n\\nThe voter turnout in the Kashmir Valley\\'s three parliamentary constituencies surged to 50.86 percent, a significant increase from the 19.16 percent in the 2019 general elections. Srinagar, Baramulla, and Anantnag-Rajouri recorded VTRs of 38.49 percent, 59.1 percent, and 54.84 percent respectively, the highest in three decades. In the Jammu region, Udhampur and Jammu constituencies recorded turnouts of 68.27 percent and 72.22 percent respectively.\\n\\nIn the Udhampur constituency, where Union Minister Dr.Jitendra Singh seeks a third consecutive term, vote counting will take place at Government Degree College, Kathua. Singh faces 11 other candidates, including Lal Singh and GM Saroori, with seven independents in the race.\\n\\nBaramulla constituency\\'s votes will be counted at Government Degree College (Boys), Baramulla. Omar Abdullah faces 21 candidates, including Lone and Rashid, with 14 independents in the contest, two of whom are women.\\n\\nIn the Anantnag-Rajouri constituency, divided by the PirPanjal range, vote counting will occur at Government Degree College (Boys), Anantnag, and Government PG College, Rajouri. Mehbooba Mufti is contesting against NC\\'s MianAltaf, 10 independents, and other candidates, including BJP-supported Apni Party\\'s ZaffarManhas.\\n\\nSrinagar Parliamentary constituency, with the highest number of 24 candidates, including 16 independents, will have its votes counted at Sher-i-Kashmir International Convention Center (SKICC) along Dal Lake. Key candidates include NC\\'s Ruhullah, Mir of Apni Party, and PDP youth leader Waheed Para.\\n\\nJammu constituency votes will be counted at Government Polytechnic College and Government MAM College. BJP\\'s Jugal Kishore aims for a hat-trick of wins, facing 21 other candidates, including Congress\\' Raman Bhalla.\\n\\nCounting of Kashmiri migrant votes will take place at Government College for Women, Gandhi Nagar, Jammu, Government Girls Higher Secondary School, Udhampur, and J&K House, New Delhi.\\n\\nTraffic restrictions for smooth vote counting in Jammu City\\n\\nIn preparation for the counting of votes for the Jammu Parliamentary Constituency, the Traffic Police has announced a series of restrictions on vehicle movement to ensure a smooth process for officials and the general public. These restrictions will be in effect tomorrow around key areas in the city.\\n\\nThe affected routes include BikramChowk-Jammu to Asia Crossing, and Police Headquarter (PHQ) Rotary to BikramChowk to MAM College. The counting of votes will take place at Government Polytechnic College for Boys BikramChowk/MAM College Jammu and Government Women College Gandhi Nagar Jammu.\\n\\nThese traffic restrictions have been imposed to facilitate officials on duty, provide adequate parking, and ensure smooth traffic regulation. As a result, there will be no routine traffic or PSV movements on the specified routes.\\n\\nOnly vehicles belonging to ROs, AROs, observers, territorial officers, and candidates with valid identity cards will be allowed to pass through the designated cut-off points towards their respective counting centers.\\n\\nDiversion Details: Vehicles from Narwal/Railway Station heading towards DograChowk will be diverted from B.R AmbedkarChowk towards Asia Crossing. Narwal/Railway Station bound vehicles should use Gujjar Nagar Bridge to reach their destination.\\n\\n- Gandhi Nagar, Shastri Nagar, Trikuta Nagar, Samba, and Kathua bound vehicles will be diverted via Fly-Over from BikramChowk.\\n\\nFor any traffic-related assistance, the Traffic Police has provided the following contact numbers: 0191-2459048, 94191-47732, 0191-2740550.\\n\\nResidents and commuters are advised to plan their travel accordingly to avoid any inconvenience.\\n\\nRO reviews vote counting preparedness with candidates\\n\\nIn a crucial meeting held on Monday, Returning Officer for 5-Jammu Parliamentary Constituency, Sachin Kumar Vaishya, convened with candidates contesting the LokSabha election and their agents to discuss the final preparations and protocols for the vote counting process.\\n\\nThe meeting, which took place in anticipation of the vote counting scheduled for June 4 at Government Polytechnic College BikramChowk and MAM College Jammu, also saw the presence of SSP Dr.Vinod Kumar, who outlined the security-related guidelines and protocols to ensure a smooth and hassle-free counting day for the candidates and their agents.\\n\\nKey officials, including ADDC Sher Singh and Deputy District Election Officer Rameshwar Kumar, were also in attendance. During the session, the Returning Officer delivered a detailed presentation covering the preparations and protocols for the counting process, emphasizing parking and security arrangements. He clarified areas where mobile phone usage would be prohibited and other necessary arrangements for the candidates.\\n\\nThe RO underscored the enforcement of Section 144 and the Model Code of Conduct (MCC) on counting day, explicitly prohibiting any violations. Additionally, celebratory processions will not be permitted without prior approval from the District Election Officer (DEO), and the bursting of crackers within the Counting Centre premises will be strictly banned.\\n\\nCandidates and their agents were urged to adhere to the established protocols to ensure a smooth and orderly counting process.'}, {'article': \"New Delhi [India], June 3 (ANI): With counting slated for tomorrow for the Lok Sabha elections, which have seen the largest voter participation, the electoral fate of several leaders across the political spectrum will be decided.\\n\\nPrime Minister Narendra Modi, Home Minister Amit Shah, and Defence Minister Rajnath Singh are among the senior BJP leaders in the fray. Key opposition leaders, including former Congress chief Rahul Gandhi, NCP's Supriya Sule, and Samajwadi Party chief Akhilesh Yadav, are also contesting the poll.\\n\\nAlso Read | Lok Sabha Election Results 2024: Central Forces to Control Security in and Around LS Poll Counting Centres in North East States.\\n\\nHere is a look at some key contests involving prominent leaders:\\n\\n1. Narendra Modi: Prime Minister Modi, is seeking a third term from Varanasi, the constituency that paved his way to the Lok Sabha after his stint as Chief Minister. He is pitted against Congress leader and INDIA bloc candidate Ajay Rai. PM Modi won the seat by huge margins in 2014 and 2019.\\n\\nAlso Read | Bengaluru Rains: City Breaks 133-Year-Old Record, Sees Highest Rainfall in June As Southwest Monsoon Advances Further in Some Parts of South Peninsula.\\n\\n2. Amit Shah: The Union Home Minister entered the Lok Sabha in 2019 from Gandhinagar and is seeking his second straight term from the seat, which has been held by BJP veterans in the past. Shah, who earlier served as BJP President, is against Congress candidate Sonal Patel.\\n\\n3. Rahul Gandhi: Congress leader Rahul Gandhi is contesting the Lok Sabha elections from two seats -- Wayanad and Raebareli. Gandhi, who lost the family bastion seat of Amethi in 2019 and entered the Lok Sabha from Wayanad, is aiming to maintain the party's lone bastion left in the state. He is up against BJP's Dinesh Pratap Singh and BJP's K. Surendran, as well as CPI-M's Annie Raja in Wayanad.\\n\\n4. Supriya Sule and Sunetra Pawar: The Baramati constituency is another 'hot seat' that will decide the future of the 'Pawar' legacy. NCP supremo Sharad Pawar's daughter Supriya Sule is against his cousin Ajit Pawar's wife, Sunetra Pawar, from the seat. The exit polls have predicted a tight contest.\\n\\n5. Shashi Tharoor: Congress leader Shashi Tharoor, who is a three-time MP from Thiruvananthapuram, is facing a three-way contest against BJP's Rajeev Chandrasekhar and CPI-M's Panniyan Ravindran. The exit polls have predicted a tight contest.\\n\\n6. K. Annamalai: BJP Tamil Nadu chief and rising face in the south, K Annamalai, is aiming to make the party's inroads in the state. Contesting from Coimbatore, the former cop is up against DMK leader Ganapathy P Rajkumar and AIADMK's Singai Ramachandran.\\n\\n7. Rajnath Singh: Defence Minister Rajnath Singh is seeking a third term from Lucknow. The former Uttar Pradesh CM served as the Home Minister in BJP's first term and Defence Minister in the second term. Singh is facing SP candidate Ravidas Mehrotra and BSP candidate Sarwar Malik.\\n\\n8. Abhishek Banerjee: As the BJP is aiming to make further inroads in West Bengal, and TMC is looking to maintain its fortress, TMC general secretary and Chief Minister Mamata Banerjee's nephew Abhishek Banerjee is contesting from Diamond Harbour seeking a second term from the seat. Banerjee is pitted against CPI(M) candidate Pratikur Rahaman and BJP's Abhijit Das.\\n\\n9. Akhilesh Yadav: Former Uttar Pradesh CM and Samajwadi Party chief Akhilesh Yadav made a surprise entry in the Lok Sabha polls, announcing his candidature from Kannauj. Yadav, who is an MLA from Karhal assembly constituency, is facing incumbent MP and BJP leader Subrat Pathak.\\n\\n10. Asaduddin Owaisi: The Hyderabad constituency is bracing for a big showdown with four-time MP and All India Majlis-e-Ittehadul Muslimeen chief Asaduddin Owaisi facing a challenge against BJP candidate and actor-turned-politician Madhavi Latha.\\n\\nThe Lok Sabha elections for 543 seats of the lower house were held across seven phases. The counting of votes will take place on Tuesday, June 4.\\n\\nThe Bharatiya Janata Party is eyeing a third straight term in power, while the Opposition under the umbrella of the INDIA bloc is seeking to wrest power from the ruling party.\\n\\nMeanwhile, all the exit polls have predicted the BJP returning to power with a resounding majority, with further inroads in Odisha, West Bengal, and southern states. (ANI)\"}, {'article': \"The Arunachal Pradesh and Sikkim mandates are for status quo\\n\\nThe verdicts to the Assembly elections in India's easternmost and smallest State by population, Arunachal Pradesh and Sikkim, respectively, might not be a harbinger of what is to come in the 2024 general election. But the decisive victories achieved by the incumbent parties, the Bharatiya Janata Party (BJP) in Arunachal Pradesh and the Sikkim Krantikari Morcha (SKM) in Sikkim, indicate that the electorates in two States, overwhelmingly, preferred continuity over change. Arunachal Pradesh Chief Minister Pema Khandu and his party received a strong mandate, winning 46 out of the 60 seats and increasing the BJP's tally even further by five seats. Mr. Khandu enjoys the reputation of running a stable government in the State, far from the tumultuous period in 2016 when he took over the reins. With a focus on welfare delivery and infrastructure development that has further connected the State to the rest of the country, Mr. Khandu has earned the confidence of the electorate. The BJP-friendly parties, the National People's Party and the People's Party of Arunachal, also registered five and two wins each, while the Opposition Congress's tally was reduced to just one seat. Supporters of the BJP and its main leader, Mr. Khandu, would celebrate the fact that in 10 out of the 60 seats there was no contest, which limited the chances of any upset. But this does not bode well for the State as a robust contestation of ideas and policies is a must for a functioning democracy.\\n\\nArunachal Pradesh would do well not to go the Nagaland way where, technically, there is no opposition as all the parties that contested against the BJP-Nationalist Democratic Progressive Party coalition joined the alliance after the elections in 2023. In Sikkim, the SKM, led by Chief Minister Prem Singh Tamang won 31 out of the 32 seats, with a lone seat going to the erstwhile dominant Sikkim Democratic Front. The SKM's victory in a multi-cornered fight was made possible by the regional assertion by the party which mobilised support on the issue of retaining Sikkim's special status enshrined in Article 371F of the Constitution, on Mr. Tamang's promises to deliver Scheduled Tribe status to some Nepali-origin communities, and his emphasis on job creation in the State. Sikkim's ruling party might have fought against the BJP and the latter might have drawn a blank, but the SKM still considers the BJP an ally. Notwithstanding the strong identity based politics in the north-east, voters choose the national party ruling at the Centre or its ally, dependent as these States are on central government funds. The overwhelming mandate in his favour should help Mr. Tamang, who will have to use all of his diplomatic powers to ensure benefits from the Union government.\\n\\nRead Comments\"}, {'article': 'Global markets steadied on Monday despite declines on Wall Street triggered by weak U.S. manufacturing data. The European Central Bank\\'s anticipated interest rate cut and China\\'s robust factory growth offered a mixed outlook. Ongoing economic uncertainties influenced notable market movements across currencies, stocks, and commodities.\\n\\nWorld stocks steadied on Monday despite declines on Wall Street following data that showed unexpected weakness in U.S. manufacturing activity, adding to uncertainty about the U.S. interest rate outlook. The cloudy outlook for U.S. rates contrasts with Europe, where investors are looking forward to a 25-basis-point interest rate cut by the European Central Bank on Thursday, which would bring the benchmark rate down to 3.75%.\\n\\nBy 1807 GMT, the MSCI All Country World Price Index added 0.17%. U.S. stocks stayed in the red, amid a reported technical glitch on the New York Stock Exchange regarding \"Limit Up-Limit Down\" bands that sent dozen of stocks listed on the exchange into volatility pauses. The exchange said it was investigating the problem and will provide information as soon as possible.\\n\\nThe S&P 500 index fell 0.3%, the Dow Jones Industrial Average shed 0.7%, while the Nasdaq Composite bucked the downtrend and edged up 0.1%. The pan-European STOXX index was up 0.32%. Benchmark U.S. Treasury yields fell to a two-week low and the dollar tumbled after data showed that U.S. manufacturing activity slowed for a second straight month in May, as new goods orders dropped by the most in nearly two years.\\n\\nThe soft data supported some speculation that the Federal Reserve might cut interest rates this year, although some investors remained sceptical about the chance of rate cuts with inflation standing above its 2% target. \"We see inflation limiting how much central banks can cut interest rates,\" Jean Boivin, the head of Blackrock Investment Institute, said. \"We see them keeping rates high for longer.\"\\n\\nBenchmark 10-year note yields were last down 11 basis points at 4.4021%, and got as low as 4.404%, the lowest since May 16. Two-year note yields fell 7 basis points to 4.823% and reached 4.816%, also the lowest since May 21. In Europe, even though the ECB is considered almost certain to trim rates on Thursday, last week\\'s surprisingly strong euro zone inflation data further weakened the case for a rapid round of reductions.\\n\\nMarkets now price in fewer than 60 basis points of easing - meaning two 25-basis-point cuts and less than a 50% chance of a third. \"There\\'s a relatively positive risk tone to start the week, which seems like a continuation of the positive momentum seen on Friday, albeit it is somewhat surprising given the bumper calendar of event risk coming up,\" said Michael Brown, strategist at broker Pepperstone in London.\\n\\nChina\\'s factory activity grew at the fastest pace in about two years in May, data showed on Monday. That extended the optimism prevailing in markets following Friday figures showing the U.S. Federal Reserve\\'s preferred measure of inflation held steady in April. \"The ECB decision is perhaps the most important event to watch, particularly after last week\\'s inflation data which raises the hawkish risk that there is only one more cut this year after a 25bp reduction on Thursday,\" Brown said.\\n\\nMarkets also imply around an 80% chance the Bank of Canada will cut rates at its meeting on Wednesday and around 60 basis points of easing this year, though analysts are hopeful the easing will be even deeper. ASIAN STRENGTH\\n\\nThe dollar fell to a three-week low after the weak U.S. manufacturing data. The dollar index, a measure of the U.S. currency\\'s value versus six major currencies, slipped 0.37% to 104.2. The greenback also fell to a two-week low against the yen following the data and was last down 0.6% at 156.245.\\n\\nThe euro rose 0.4% against the dollar to $1.08893. In other currencies, the Mexican peso weakened on Monday after the ruling party declared Claudia Sheinbaum the winner of the presidential election by a \"large margin\" after polls closed on Sunday. The U.S. dollar was last up 4.5% at 17.754 pesos .\\n\\nIndia\\'s rupee strengthened and its stock market rose to a record high, buoyed by expectations of sustained economic growth as Prime Minister Narendra Modi looked set for a third term. Gold was up 0.9% at $2,347.55 an ounce, having now rallied for four months in a row, helped in part by buying from central banks and China.\\n\\nOil prices slumped after OPEC+ agreed on Sunday to extend most of its oil output cuts into 2025, though some cuts will start to be unwound from October 2024 onwards. Some analysts described the group\\'s complicated decision, agreed on Sunday, as incrementally bearish for oil prices. Brent tumbled 3.5% to $78.24 a barrel, while U.S. crude dropped 3.78% to $74.07 per barrel.\\n\\nEuropean natural gas prices rose more than 8% to their highest this year at over 37 euros/ MWh as an outage in Norway, which overtook Russia in 2022 as Europe\\'s biggest gas supplier, pushed exports sharply lower on Monday. ($1 = 157.1900 yen)\\n\\n(This story has not been edited by Devdiscourse staff and is auto-generated from a syndicated feed.)'}, {'article': 'Lok Sabha Election Results LIVE: India is prepared for the high-stakes results day. With extensive security measures in place, the national capital of Delhi is ready to witness one of the most important electoral battles in recent history. Some exit polls have even suggested the BJP-led National Democratic Alliance (NDA) might achieve the ambitious \"400 paar\" target set by its leaders during the campaign.\\n\\nLok Sabha Election Results LIVE: After months of fierce campaigning, the nation stands on the brink of finding out the outcome of the 2024 Lok Sabha elections where millions of voters cast their ballot in the world\\'s largest democracy. Results are set to be announced on Tuesday (June 4). The ruling Bharatiya Janata Party (BJP) is hoping to come back to power and continue its dominance. Exit polls predicted a clear victory for the saffron party. On the other hand, the INDIA alliance has confidently claimed it will secure over 295 seats.'}, {'article': \"It must be said that seasonal changes in weather influence the number of foreign tourist arrivals in India. Consequently, significant reductions in visitor numbers are observed during the monsoon season. Goa, one of the most happening destinations in the world, is famous for its sunny beaches. Since tourism-related activity is the prime revenue earner for the state, it seems necessary for the government to make all efforts to promote Goa as a 365-day tourist destination. This is why promoting the state as a monsoon tourism destination assumes significance. Goa has a lot to offer visitors during the monsoon season. The springs and waterfalls are in full force, there is greenery everywhere, the beaches are clean and deserted, and river cruises have become even more attractive. Plus, there are attractive off-season discounts as well. This is precisely why more and more tourists are now visiting Goa during the monsoon season. This piece of heaven looks the prettiest when the rain washes the dust away. Like every other coastal region, the monsoon in Goa brings with it drizzling heavy rain and thundershowers. Goa has two wonderful islands, namely Chorao and Divar, that can be explored during the monsoon. The fresh, green, and raw beauty at these sites makes for an experience one just cannot miss. Goa is home to abundant wildlife in its dense tropical forests. So going on wildlife safari tours is something that attracts nature lovers. The Dudhsagar waterfall is a must-visit place for every traveller. This waterfall becomes all the more beautiful during the monsoon, when it literally swells up with excess water. However, swimming in the water is prohibited. The iconic waterfalls are surrounded by dense greenery, which makes for a good trekking trip. This is also the best time to visit spice plantations.\\n\\nThe general elections are over, and the economy is on track for higher growth, which is good news. There is life after this election. We need to bury the hatchet, stop our obsession with who wins and who loses, and focus on the future. Those who take a keen interest in economic growth might have gotten the taste of the growth chart going up. The growth rate is an impressive 8.2% due to a higher than expected increase of 7.8% in the last quarter and that is quite significant. In fact, the expansion is higher than the RBI's earlier forecast of 7%. This is the ninth time since 1961-62 that the economy has recorded 8% growth. Importantly, the growth numbers by themselves failed to get votes unless there was a real increase in the employment rate. The challenge for the next government was to create jobs at a faster rate, along with a faster rate of economic growth. The writing is on the wall and the people expect a lot in the next five years to become the third-highest economy in the next five years. The aim of the government is high, and the stake is very much in our favour.\\n\\nBefore the onset of the monsoon, which is a high transmission season for vector-borne diseases like dengue, the authorities in the government health services in Karnataka must devise a strategy and closely monitor the dengue situation in vulnerable hotspots across the state. Additionally, government teams need to visit locations where cases are reported, inspect for potential breeding sites, and raise awareness among residents about dengue prevention measures. The unit responsible for the National Vector-borne Disease Control Programme should ensure that crucial prevention guidelines are rigorously followed at the household level to effectively eliminate dengue. Local communities must be urged to join the fight against dengue by monitoring and eliminating stagnant water in courtyards and discarded items. Over the past two to three years, Karnataka has seen a steady increase in dengue cases, resulting in deaths.\\n\\nA year after the implementation of the AI (artificial intelligence) camera pilot project at Merces Circle, Panaji, the transport department is set to net a bumper Rs 3 crore in fines after drivers were e-challaned for overspeeding and jumping red lights. The project, which aimed to enhance traffic management and safety through automated surveillance and enforcement mechanisms, saw the Goa traffic police rein in law-breaking motorists to a significant extent. Data indicates a steep drop in overspeeding violations, from 5,300 in June 2023 to 1,900 in May 2024. Similarly, cases of vehicles jumping signals declined from 6,400 last year to 3,100 this year. The AI camera monitoring system is a pilot project, but taking cognizance of the positive results, it should be rolled out across the state. Also, other violations like helmetless riding should be added to the list of detections. Technology used for law enforcement will also ensure that road fatalities, for which Goa has a dubious record, will reduce.\\n\\nInvestors' wealth jumped Rs 12.48 lakh crore, and non-deliverable rupee forwards traded at $83.11 in morning trade on Monday as the benchmark equity index Sensex hit its lifetime high after exit polls, which only served to sow more confusion in the minds of the electorate. It is worth remembering that such predictions are off the mark a lot of times, particularly who forgets 'Shinning India' of the Atal Bihari Vajpayee regime? (Do we really need them?) pointed to a third term and a sizable mandate for Prime Minister Narendra Modi, whom investors hope will spend on infrastructure and manufacturing to keep economic growth going. The counting of votes for the Lok Sabha elections, which took place in seven phases, will take place on June 4. Investors should be prepared for fluctuations but can remain optimistic about a potential rally if the final results align with the exit polls. Though I have doubts in mind, even then, it could lead to a significant surge in the stock prices of companies dubbed 'Modi stocks.' However, the final outcome, if in line with exit polls, would likely calm investor nerves, as political and policy continuity will be good for risk assets in the immediate run and macro stability in the medium term.\"}]\n"
     ]
    }
   ],
   "source": [
    "# copy the body of the articles to a new json file\n",
    "import json\n",
    "\n",
    "articles_body = []\n",
    "for article in articles:\n",
    "    art = {}\n",
    "    art[\"article\"] = article[\"body\"]\n",
    "    articles_body.append(art)\n",
    "print(articles_body)"
   ]
  },
  {
   "cell_type": "code",
   "execution_count": 7,
   "metadata": {},
   "outputs": [],
   "source": [
    "from openai import OpenAI\n",
    "\n",
    "client = OpenAI(api_key=os.getenv(\"OPENAI_API_KEY\"))"
   ]
  },
  {
   "cell_type": "code",
   "execution_count": 72,
   "metadata": {},
   "outputs": [],
   "source": [
    "def QnA(\n",
    "    art,\n",
    "    client,\n",
    "    model=\"gpt-4o\",\n",
    "    QnA_prompt=\"I have 20 news articles, and I need you to create multiple-choice questions with categorical answers to identify narrative differences among the provided articles. The questions should be generic to all articles and shouldn't have answer related to one specific article. Here are the articles:\",\n",
    "    QnA_answer = \" \"\n",
    "):\n",
    "\n",
    "    prompt_complete = QnA_prompt + QnA_answer + \"\\n\" + art\n",
    "    model = model\n",
    "    messages = [\n",
    "        {\"role\": \"user\", \"content\": prompt_complete},\n",
    "    ]\n",
    "    try:\n",
    "        response = client.chat.completions.create(\n",
    "            model=model, messages=messages, temperature=0\n",
    "        )\n",
    "\n",
    "        content = response.choices[0].message.content\n",
    "        return content\n",
    "    except Exception as e:  # if the model fails to return a response\n",
    "        print(f\"Error: {e}\")\n",
    "        return \"Sorry, error from GPT.\""
   ]
  },
  {
   "cell_type": "code",
   "execution_count": 13,
   "metadata": {},
   "outputs": [],
   "source": [
    "response = QnA(str(articles_body), client)"
   ]
  },
  {
   "cell_type": "code",
   "execution_count": 14,
   "metadata": {},
   "outputs": [
    {
     "name": "stdout",
     "output_type": "stream",
     "text": [
      "Sure, here are some multiple-choice questions with categorical answers to identify narrative differences among the provided articles:\n",
      "\n",
      "### Question 1: What is the primary focus of the article?\n",
      "A. Election results and political analysis  \n",
      "B. Real estate and property listings  \n",
      "C. Tourism and travel destinations  \n",
      "D. Economic and market updates  \n",
      "\n",
      "### Question 2: Which region or country is predominantly discussed in the article?\n",
      "A. India  \n",
      "B. United States  \n",
      "C. Europe  \n",
      "D. Global  \n",
      "\n",
      "### Question 3: What type of event or topic is central to the article?\n",
      "A. Political elections  \n",
      "B. Real estate transactions  \n",
      "C. Tourism and travel  \n",
      "D. Economic and market trends  \n",
      "\n",
      "### Question 4: What is the tone of the article?\n",
      "A. Informative and factual  \n",
      "B. Analytical and critical  \n",
      "C. Promotional and enthusiastic  \n",
      "D. Reflective and opinionated  \n",
      "\n",
      "### Question 5: Which sector is primarily highlighted in the article?\n",
      "A. Politics and governance  \n",
      "B. Real estate and housing  \n",
      "C. Tourism and hospitality  \n",
      "D. Finance and economy  \n",
      "\n",
      "### Question 6: What is the article's perspective on the subject matter?\n",
      "A. Neutral and objective  \n",
      "B. Critical and questioning  \n",
      "C. Supportive and positive  \n",
      "D. Mixed and balanced  \n",
      "\n",
      "### Question 7: What is the main narrative style of the article?\n",
      "A. News reporting  \n",
      "B. Opinion and editorial  \n",
      "C. Feature story  \n",
      "D. Analytical report  \n",
      "\n",
      "### Question 8: What is the article's primary source of information?\n",
      "A. Official statements and reports  \n",
      "B. Expert opinions and analysis  \n",
      "C. Personal experiences and anecdotes  \n",
      "D. Statistical data and research  \n",
      "\n",
      "### Question 9: What is the article's intended audience?\n",
      "A. General public  \n",
      "B. Political enthusiasts  \n",
      "C. Real estate investors  \n",
      "D. Economic analysts  \n",
      "\n",
      "### Question 10: What is the article's main objective?\n",
      "A. To inform about recent events  \n",
      "B. To analyze and critique  \n",
      "C. To promote and advertise  \n",
      "D. To reflect and opine  \n",
      "\n",
      "These questions should help in identifying the narrative differences among the provided articles by focusing on their primary focus, region, event, tone, sector, perspective, narrative style, source of information, intended audience, and main objective.\n"
     ]
    }
   ],
   "source": [
    "print(response)"
   ]
  },
  {
   "cell_type": "markdown",
   "metadata": {},
   "source": [
    "### Testing on one question"
   ]
  },
  {
   "cell_type": "code",
   "execution_count": 70,
   "metadata": {},
   "outputs": [],
   "source": [
    "import json\n",
    "\n",
    "def get_LLM_QnA(\n",
    "    src_filename,\n",
    "    client,\n",
    "    model=\"gpt-4o\",\n",
    "    QnA_prompt=\"Which of the following is correct tone that this article discuss about India elections:\",\n",
    "    QnA_answer=\"A) Positive\\nB) Neutral\\nC) Negative\\nD) Not applicable\\n\",\n",
    "):\n",
    "    with open(src_filename, \"r\") as f:\n",
    "        data = f.read()\n",
    "        des_articles = []\n",
    "        src_articles = json.loads(data)\n",
    "        for src_art in src_articles:\n",
    "            src_art[\"Question\"] = QnA_prompt\n",
    "            src_art[\"Answers\"] = QnA_answer\n",
    "            src_art[\"LLM_answer\"] = QnA(\n",
    "                str(src_art),\n",
    "                client,\n",
    "                model=model,\n",
    "                QnA_prompt=QnA_prompt,\n",
    "                QnA_answer=QnA_answer,\n",
    "            )\n",
    "            des_articles.append(src_art)\n",
    "    des_filename = \"QnA_\" + src_filename\n",
    "    if os.path.exists(des_filename):\n",
    "        os.remove(des_filename)\n",
    "    with open(des_filename, \"w\") as f:\n",
    "        json.dump(des_articles, f, ensure_ascii=False, indent=4)"
   ]
  },
  {
   "cell_type": "code",
   "execution_count": 71,
   "metadata": {},
   "outputs": [],
   "source": [
    "question = \"What type of event or topic is central to the article?:\"\n",
    "answer = \"A) Political elections \\\n",
    "B) Real estate transactions \\\n",
    "C) Tourism and travel \\\n",
    "D) Economic and market trends\"\n",
    "get_LLM_QnA(\n",
    "    \"eng.json\",\n",
    "    client,\n",
    "    model=\"gpt-4o\",\n",
    "    QnA_prompt=question,\n",
    "    QnA_answer=answer,\n",
    ")"
   ]
  },
  {
   "cell_type": "code",
   "execution_count": 39,
   "metadata": {},
   "outputs": [],
   "source": [
    "import re\n",
    "\n",
    "def extract_answer(qna_text):\n",
    "    # Use a regular expression to find the answer choice (A, B, C, or D) at the start of the QnA field\n",
    "    match = re.search(r\"\\s*([A-D])\\)\", qna_text)\n",
    "    if match:\n",
    "        return match.group(1)\n",
    "    return None\n",
    "\n",
    "\n",
    "def extract_answer_from_json(src_filename):\n",
    "    # Load the JSON data\n",
    "    with open(src_filename, \"r\") as file:\n",
    "        data = json.load(file)\n",
    "\n",
    "    # Iterate through the records and extract answers\n",
    "    for record in data:\n",
    "        LLM_answer = record.get(\"LLM_answer\", \"\")\n",
    "        answer = extract_answer(LLM_answer)\n",
    "        if answer:\n",
    "            print(f\"Extracted answer: {answer}, lang: {record['lang']}\")\n",
    "        else:\n",
    "            print(\"No answer extracted\")"
   ]
  },
  {
   "cell_type": "code",
   "execution_count": 40,
   "metadata": {},
   "outputs": [
    {
     "name": "stdout",
     "output_type": "stream",
     "text": [
      "Extracted answer: A, lang: eng\n",
      "Extracted answer: A, lang: eng\n",
      "Extracted answer: A, lang: eng\n",
      "Extracted answer: B, lang: eng\n",
      "Extracted answer: A, lang: eng\n",
      "Extracted answer: A, lang: eng\n",
      "Extracted answer: A, lang: eng\n",
      "Extracted answer: A, lang: eng\n",
      "Extracted answer: A, lang: eng\n",
      "Extracted answer: A, lang: eng\n",
      "Extracted answer: A, lang: eng\n",
      "Extracted answer: A, lang: eng\n",
      "Extracted answer: A, lang: eng\n",
      "Extracted answer: A, lang: eng\n",
      "Extracted answer: A, lang: eng\n",
      "Extracted answer: A, lang: eng\n",
      "Extracted answer: A, lang: eng\n",
      "Extracted answer: D, lang: eng\n",
      "Extracted answer: A, lang: eng\n",
      "Extracted answer: C, lang: eng\n"
     ]
    }
   ],
   "source": [
    "extract_answer_from_json(\"QnA_eng.json\")"
   ]
  },
  {
   "cell_type": "markdown",
   "metadata": {},
   "source": [
    "### Tone of the article test"
   ]
  },
  {
   "cell_type": "code",
   "execution_count": 41,
   "metadata": {},
   "outputs": [],
   "source": [
    "import json\n",
    "\n",
    "def get_LLM_QnA(\n",
    "    src_filename,\n",
    "    client,\n",
    "    model=\"gpt-4o\",\n",
    "    QnA_prompt=\"Which of the following is correct tone that this article discuss about India elections:\",\n",
    "    QnA_answer=\"A) Positive\\nB) Neutral\\nC) Negative\\nD) Not applicable\\n\",\n",
    "):\n",
    "    with open(src_filename, \"r\") as f:\n",
    "        data = f.read()\n",
    "        des_articles = []\n",
    "        src_articles = json.loads(data)\n",
    "        for src_art in src_articles:\n",
    "            src_art[\"Question\"] = QnA_prompt\n",
    "            src_art[\"Answers\"] = QnA_answer\n",
    "            src_art[\"LLM_answer\"] = QnA(\n",
    "                str(src_art),\n",
    "                client,\n",
    "                model=model,\n",
    "                QnA_prompt=QnA_prompt,\n",
    "                QnA_answer=QnA_answer,\n",
    "            )\n",
    "            des_articles.append(src_art)\n",
    "    des_filename = \"Interest_\" + src_filename\n",
    "    if os.path.exists(des_filename):\n",
    "        os.remove(des_filename)\n",
    "    with open(des_filename, \"w\") as f:\n",
    "        json.dump(des_articles, f, ensure_ascii=False, indent=4)"
   ]
  },
  {
   "cell_type": "code",
   "execution_count": 42,
   "metadata": {},
   "outputs": [],
   "source": [
    "get_LLM_QnA(\"eng.json\", client)"
   ]
  },
  {
   "cell_type": "code",
   "execution_count": 43,
   "metadata": {},
   "outputs": [
    {
     "name": "stdout",
     "output_type": "stream",
     "text": [
      "Extracted answer: B, lang: eng\n",
      "Extracted answer: C, lang: eng\n",
      "Extracted answer: C, lang: eng\n",
      "Extracted answer: D, lang: eng\n",
      "Extracted answer: B, lang: eng\n",
      "Extracted answer: A, lang: eng\n",
      "Extracted answer: B, lang: eng\n",
      "Extracted answer: C, lang: eng\n",
      "Extracted answer: D, lang: eng\n",
      "Extracted answer: A, lang: eng\n",
      "Extracted answer: C, lang: eng\n",
      "Extracted answer: C, lang: eng\n",
      "Extracted answer: B, lang: eng\n",
      "Extracted answer: B, lang: eng\n",
      "Extracted answer: B, lang: eng\n",
      "Extracted answer: B, lang: eng\n",
      "Extracted answer: B, lang: eng\n",
      "Extracted answer: D, lang: eng\n",
      "Extracted answer: B, lang: eng\n",
      "Extracted answer: A, lang: eng\n"
     ]
    }
   ],
   "source": [
    "extract_answer_from_json(\"Interest_eng.json\")"
   ]
  },
  {
   "cell_type": "code",
   "execution_count": 44,
   "metadata": {},
   "outputs": [],
   "source": [
    "def copy_LLM_QnA(\n",
    "    src_filename,\n",
    "    des_filename,\n",
    "    N=10,\n",
    "):\n",
    "    with open(des_filename, \"r\") as f:\n",
    "        data = f.read()\n",
    "        des_articles = json.loads(data)\n",
    "\n",
    "    with open(src_filename, \"r\") as f:\n",
    "        data = f.read()\n",
    "\n",
    "        src_articles = json.loads(data)\n",
    "        for n in range(N):\n",
    "            qna = {}\n",
    "            qna[\"Question\"] = src_articles[n][\"Question\"]\n",
    "            qna[\"Answers\"] = src_articles[n][\"Answers\"]\n",
    "            qna[\"LLM_answer\"] = src_articles[n][\"LLM_answer\"]\n",
    "            match = re.search(r\"\\s*([A-D])\\)\", qna[\"LLM_answer\"])\n",
    "            if match:\n",
    "                qna[\"post_LLM_answer\"] = match.group(1)\n",
    "            else:\n",
    "                qna[\"post_LLM_answer\"] = \"NaN\"\n",
    "\n",
    "            if \"QnA\" in des_articles[n]:\n",
    "                des_articles[n][\"QnA\"].append(qna)\n",
    "            else:\n",
    "                des_articles[n][\"QnA\"] = [qna]\n",
    "\n",
    "            # overwrite the file\n",
    "    with open(des_filename, \"w\") as f:\n",
    "        json.dump(des_articles, f, ensure_ascii=False, indent=4)"
   ]
  },
  {
   "cell_type": "code",
   "execution_count": 45,
   "metadata": {},
   "outputs": [],
   "source": [
    "copy_LLM_QnA(\n",
    "    src_filename=\"QnA_eng.json\",\n",
    "    des_filename=\"Interest_eng.json\",\n",
    "    N=20,\n",
    ")"
   ]
  },
  {
   "cell_type": "markdown",
   "metadata": {},
   "source": [
    "### Hindi articles in India"
   ]
  },
  {
   "cell_type": "code",
   "execution_count": 46,
   "metadata": {},
   "outputs": [],
   "source": [
    "lang = \"hin\"\n",
    "query = {\n",
    "  \"$query\": {\n",
    "    \"$and\": [\n",
    "      {\n",
    "        \"keyword\": \"india\",\n",
    "        \"keywordLoc\": \"body\"\n",
    "      },\n",
    "      {\n",
    "        \"keyword\": \"election\",\n",
    "        \"keywordLoc\": \"body\"\n",
    "      },\n",
    "      {\n",
    "        \"keyword\": \"2024\",\n",
    "        \"keywordLoc\": \"body\"\n",
    "      },\n",
    "      {\n",
    "        \"sourceLocationUri\": \"http://en.wikipedia.org/wiki/India\"\n",
    "      },\n",
    "      {\n",
    "        \"lang\": lang\n",
    "      }\n",
    "    ]\n",
    "  },\n",
    "  \"$filter\": {\n",
    "    \"forceMaxDataTimeWindow\": \"31\"\n",
    "  }\n",
    "}\n",
    "q = QueryArticlesIter.initWithComplexQuery(query)\n",
    "filename = lang + \".json\"\n",
    "if os.path.exists(filename):\n",
    "    os.remove(filename)\n",
    "\n",
    "articles = []\n",
    "for art in q.execQuery(\n",
    "    er,\n",
    "    sortBy=\"date\",\n",
    "    maxItems=20,\n",
    "    returnInfo=ReturnInfo(\n",
    "        sourceInfo=SourceInfoFlags(location=True),\n",
    "    ),\n",
    "):\n",
    "    articles.append(art)\n",
    "\n",
    "with open(filename, \"w\") as f:\n",
    "    json.dump(articles, f, ensure_ascii=False, indent=4)"
   ]
  },
  {
   "cell_type": "code",
   "execution_count": 47,
   "metadata": {},
   "outputs": [
    {
     "name": "stdout",
     "output_type": "stream",
     "text": [
      "[{'article': \"Exit Poll 2024 Result, Cvoter, Today Chanakya, CNX India Tv, Axis MY India, Times Now Navbharat ETG, Watch Online: चुनाव आयोग (Election Commission) ने कहा कि अंतिम चरण का मतदान संपन्न होने के आधे घंटे बाद एग्जिट पोल्स दिखाए जा सकेंगे। हर बात की तरह इस बार भी टाइम्स नाउ ने ईटीजी के साथ मिलकर एग्जिट पोल किया है। टाइम्स नाउ के एग्जिट पोल सबसे सटीक रहे हैं।\\n\\nTamil Nadu Exit Poll, Exit Poll 2024 Result, C-voter, Today Chanakya, CNX India Tv, Axis MY India, Times Now Navbharat ETG, Watch Online: सातवें एवं अतिम चरण में 57 सीटों पर वोटिंग समाप्त होने के साथ ही लोकसभा चुनाव का मतदान समाप्त हो गया है। इसके साथ ही देश की सभी 543 सीटों के लिए वोटिंग पूरी हो गई है। इन सभी सीटों के चुनाव नतीजे चार जून को आएंगे लेकिन एजेंसियों के एग्जिट पोल्स शाम साढ़े छह बजे के बाद आने शुरू हो गए हैं। जो एजेंसियां अपने एग्जिट पोल दे रही हैं उनमें VMR, C Voter, Today's Chanakya, Axis My India प्रमुख रूप से शामिल हैं। 2019 के एग्जिट पोल्स की अगर बात करें तो इन सभी एजेंसियों ने भाजपा और एनडीए की जीत के बारे में अनुमान जताया था। चुनाव नतीजों में ये अनुमान सही साबित हुए। पीएम मोदी का दावा है कि इस चुनाव में भारतीय जनता पार्टी 370 से ज्यादा और एनडीए 400 से ज्यादा सीटें जीतेगा।\\n\\nलोकसभा चुनाव को लेकर सर्वे एजेंसियों ने अपने एग्जिट पोल जारी कर दिए हैं। PMARQ EXIT POLL के मुताबिक, NDA KA 359 सीटें, इंडिया अलायंस को 154 सीटें मिल रही हैं। जबकि अन्य को 30 सीटें मिल रही हैं। वहीं MATRIZE EXIT POLL के अनुसार, NDA को 353- 398, इंडिया अलायंस को 118-133, जबकि अन्य को 43-48 सीटें मिलने का अनुमान जताया है\\n\\nवहीं, INDIA गठबंधन का दावा है कि इस बार उसकी सरकार बनेगी। बहरहाल, एग्जिट पोल्स चार जून को आने वाले चुनाव नतीजों की संकेत दे देंगे। देश भर में लोग एग्जिट पोल्स का इंतजार कर रहे हैं। एग्जिट पोल्स अनुमान हैं।\\n\\nटाइम्स नाउ नवभारत ईटीजी लाइव : वायनाड से राहुल की जीत संभवटाइम्स नाउ नवभारत ईटीजी लाइव: केरल में UDF के खाते में 14 से 15 सीटें आ सकती हैं। वहीं Kerala में NDA के खाते में सिर्फ 1 सीट आ सकती है। एलडीएफ के हिस्से 4 सीट आ सकती है। वहीं वायनाड सीट से राहुल गांधी जीत रहे हैं।\\n\\nGujarat Exit Poll Result : गुजरात में बीजेपी दोहराएगी पिछला प्रदर्शन?इंडिया टुडे - एक्सिस माय इंडिया एग्जिट पोल के मुताबिक, गुजरात उन राज्यों में शुमार होने वाला है जहां बीजेपी अपना पिछला प्रदर्शन दुहरा सकती है। एग्जिट पोल के मुताबिक, गुजरात में बीजेपी 25 से 26 सीटें जीत सकती है। गुजरात में बीजेपी ने पिछले दोनों लोकसभा चुनावों में सभी 26 सीटें जीती थीं।\\n\\nचुनावों की अखंडता सुनिश्चित करने के लिए, भारत के चुनाव आयोग, ईसीआई ने 19 अप्रैल को सुबह 7:00 बजे से 1 जून, 2024 को शाम 6 बजे तक एग्जिट पोल जारी करने पर प्रतिबंध लगा दिया है। पोल 2024 जारी किया जाएगा। सबसे भरोसेमंद एग्जिट पोल में से एक टाइम्स नाउ ईटीजी सर्वे भी यहां जारी किया जाएगा। एग्ज़िट पोल के नवीनतम आंकड़े यहां प्राप्त करें।\\n\\nलोकसभा चुनाव और विधानसभा चुनाव से जुड़ी सभी ताजा खबरों और एग्जिट पोल के नतीजों के लिए इस एग्जिट पोल 2024 लाइव अपडेट पर बने रहें।\\n\\nचुनाव नतीजे चार जून को आएंगे जिसमें जीत और हार का पता चलेगा। चुनाव की निष्पक्षता बनाए रखने के लिए चुनाव आयोग (Election Commission of India) ने 19 अप्रैल की सुबह सात बजे से एक जून की शाम छह बजे तक किसी भी प्रकार के एग्जिट पोल पर प्रतिबंध लगाया है। ईसी ने कहा कि अंतिम चरण का मतदान संपन्न होने के आधे घंटे बाद एग्जिट पोल्स दिखाए जा सकेंगे।\\n\\nहर बात की तरह इस बार भी टाइम्स नाउ ईटीजी के साथ मिलकर एग्जिट पोल किया है। टाइम्स नाउ के एग्जिट पोल सबसे सटीक रहे हैं।\"}, {'article': 'Lok Sabha Election Result 2024: देश में किसकी सरकार बनेगी. इस बात से पर्दा मंगलवार (4 जून) को उठ जाएगा. लगभग दो महीने तक चले लोकसभा चुनाव के रण में NDA के सिर जीत का सेहरा सजेगा या फिर कांग्रेस के नेतृत्व वाला इंडिया गठबंधन बाजी मारेगा. इस बात का जवाब मंगलवार को होनी वाली मतगणना में मिल जाएगा.\\n\\nदरअसल, मंगलवार (4, जून) को सुबह आठ बजे देश की 543 में से 542 सीटों पर मतगणना शुरू होगी. सभी मतगणना केंद्रों पर सबसे पहले पोस्टल बैलेट की गिनती शुरू होगी. डाक मतपत्रों की गिनती शुरू होने के आधे घंटे बाद EVM में कैद वोटों की गिनती शुरू होगी. शुरुआत में रूझान सामने आएंगे. इसके बाद दोपहर तक नतीजों भी आने शुरू हो जाएंगे.\\n\\nमुख्य चुनाव आयुक्त राजीव कुमार ने बताया कि मतगणना प्रक्रिया में 70-80 लाख कर्मचारी शामिल हैं. केंद्रीय चुनाव पर्यवेक्षकों की रिपोर्ट के आधार पर नतीजों के बाद किसी भी तरह की हिंसा को रोकने के लिए कई राज्यों में अर्धसैनिक बलों की तैनाती की जाएगी. आंध्र प्रदेश और पश्चिम बंगाल में मतगणना के 15 दिन बाद तक सुरक्षाकर्मी तैनात रहेंगे, जबकि उत्तर प्रदेश, ओडिशा, सिक्किम और अरुणाचल प्रदेश में मतगणना के दो दिन बाद तक सुरक्षाकर्मी तैनात रहेंगे.\\n\\n19 अप्रैल से 1 जून के बीच सात चरणों में संपन्न हुए लोकसभा चुनाव में 543 में से 542 सीटों पर 797 महिलाओं समेत 8,360 उम्मीदवारों की किस्मत का फैसला होगा, क्योंकि सूरत की एक सीट पर बीजेपी उम्मीदवार निर्विरोध निर्वाचित हो चुका है. इस बार के चुनाव में यह साफ हो जाएगा कि पीएम मोदी के नेतृत्व में NDA लगातार तीसरी बार जीत दर्ज कर पाएगी या नहीं. या फिर कांग्रेस के नेतृत्व वाला INDIA अलायंस इस बार बाजी मारेगा.\\n\\nएग्जिट पोल के नतीजों में बीजेपी की रिकॉर्ड तीसरी बार वापसी की भविष्यवाणी की गई है, जबकि इंडिया गठबंधन के लिए एग्जिट पोल कोई अच्छी खबर नहीं देते दिखाई दे रहे हैं. इसी के चलते इंडिया गठबंधन ने इस एग्जिट पोल को सरकार प्रायोजित पूर्वानुमान बताया है. उनका दावा है कि इंडिया अलायंस 295 प्लस सीटों पर जीत हासिल करेगा.\\n\\n2024 के लोकसभा चुनाव सात चरणों में संपन्न हुए हैं. पहला चरण 19 अप्रैल, दूसरा चरण 26 अप्रैल, तीसरा चरण 7 मई, चौथा चरण 13 मई, पांचवां चरण 20 मई, छठा चरण 25 मई और सातवें चरण के लिए 1 जून को मतदान संपन्न हुए हैं. महाराष्ट्र और जम्मू-कश्मीर में 5 चरणों में मतदान हुआ, जबकि उत्तर प्रदेश, बिहार और पश्चिम बंगाल में सभी सात चरणों में मतदान हुआ. इसके अलावा कर्नाटक, राजस्थान, त्रिपुरा और मणिपुर में दो चरणों में मतदान हुआ. वहीं, छत्तीसगढ़ और असम में 3 चरणों में मतदान हुआ, जबकि ओडिशा, मध्य प्रदेश और झारखंड में 4 चरणों में मतदान हुआ. 744 पार्टियों के 8,360 उम्मीदवारों ने 543 निर्वाचन क्षेत्रों में चुनाव लड़ा है.\\n\\nचुनावी नतीजों को लेकर मतगणना स्थल के बाहर सुरक्षा का भी कड़ा पहरा है. स्थानीय पुलिस से लेकर सुरक्षा बलों के जवानों की भी स्ट्रांग रूम के बाहर तैनाती की गई है. इसके अलावा सीसीटीवी कैमरों से भी पैनी निगाह रखी जा रही है. बता दें कि मतगणना स्थल पर आने-जाने वाले लोगों का भी रिकॉर्ड रखा जा रहा है.'}, {'article': 'लोकसभा चुनाव 2024 के परिणाम (Lok Sabha Election Results 2024) आज जारी किए जाएंगे. 4 जून को मतगणना पूरी होने के बाद चुनाव आयोग द्वारा आधिकारिक परिणाम घोषित किए जाएंगे. ऐसे में सभी की निगाहें इस बात पर टिकी हैं कि एग्जिट पोल के अनुमान सही साबित होंगे या नहीं. प्रधानमंत्री नरेंद्र मोदी के नेतृत्व वाला NDA सरकार बनाएगा या INDIA गठबंधन चुनाव में बेहतर करेगा. ये सब कुछ ही घंटों में साफ हो जाएगा.\\n\\n2019 में सभी एग्जिट पोल ने \"मोदी लहर\" को कम करके आंका था, फिर भी NDA 353 सीट पाने में सफल हुआ था. इनमें से अकेली भाजपा ने 303 सीटें जीती थीं. वहीं विपक्षी गठबंधन UPA को केवल 93 सीटें मिली थीं, जिनमें से कांग्रेस ने 52 सीटें हासिल की थीं.\\n\\nवहीं लोकसभा चुनाव 2024 के तमाम एग्जिट पोल्स ने NDA की शानदार जीत का अनुमान लगाया है. पोल्स के आंकड़ों को देखें तो भाजपा 2019 के अपने 303 सीटों के आंकड़े से बेहतर प्रदर्शन कर सकती है. इंडिया टुडे-एक्सिस माय पोल और टुडेज चाणक्य ने NDA की सीटों की संख्या 400 से अधिक होने का अनुमान लगाया है. एबीपी-सीवोटर ने NDA को 353-383 सीटें दीं. जबकि जन की बात ने अनुमान लगाया कि सत्तारूढ़ गठबंधन 362 से 392 सीटों के बीच जीत सकता है.\\n\\nउधर राष्ट्रपति भवन ने आधिकारिक प्रक्रिया के तहत केंद्र में बनने वाली नई सरकार के शपथ ग्रहण की शुरुआती तैयारी शुरू कर दी हैं. भव्य आयोजन से पहले राष्ट्रपति भवन को अगले कुछ दिनों में और भी सजाया-संवारा जाएगा. सेंट्रल पब्लिक वर्क्स डिपार्टमेंट और दूसरी सरकारी एजेंसियां इस ऐतिहासिक कार्यक्रम के आयोजन में जुट गई हैं. खबर है कि शपथ ग्रहण समारोह के लिए सजावटी पौधों के लिए टेंडर भी जारी कर दिए गए हैं.\\n\\nलोकसभा चुनावों के परिणाम औपचारिक रूप से अधिसूचित होने के बाद भारत के मुख्य चुनाव आयुक्त राजीव कुमार दोनों चुनाव आयुक्तों के साथ 5 या 6 जून को राष्ट्रपति द्रौपदी मुर्मु से मिलेंगे.'}, {'article': 'चुनाव आयोग के मुताबिक, 4 जून को वोटों की गिनती सुबह 8 बजे शुरू होगी. सबसे पहले पोस्टल बैलट की गिनती की जाएगी.\\n\\nनई दिल्ली:\\n\\nदेश में 18वीं लोकसभा चुनाव (Lok Sabha Elections 2024) के लिए 16 मार्च से शुरू हुई प्रक्रिया 4 जून को खत्म होने जा रही है. मंगलवार को लोकसभा की 542 सीटों के नतीजे (Lok Sabha Elections Result 2024) आने वाले हैं. गुजरात की सूरत सीट पर पहले ही BJP उम्मीदवार निर्विरोध चुन लिया गया है. चुनाव की प्रक्रिया पूरे 46 दिन चला. वोटिंग 19 से 1 जून के बीच 7 फेज में पूरी हुई थी. इस दौरान 642 मिलियन वोटर्स ने चुनावी मैदान में उतरे 8360 कैंडिडेट की किस्मत का फैसला किया. वोटिंग के लिए 55 लाख EVM का इस्तेमाल हुआ. आज साफ हो जाएगा कि देश की जनता ने नरेंद्र मोदी (PM Narendra Modi) या INDIA अलायंस में किसे चुना है.\\n\\n8 बजे से शुरू होगी काउंटिंग\\n\\nचुनाव आयोग के मुताबिक, 4 जून को वोटों की गिनती सुबह 8 बजे शुरू होगी. सबसे पहले पोस्टल बैलट की गिनती की जाएगी. पोस्टल बैलट 2 कैटेगरी में काउंट होंगे. पहले सेना, पैरामिलिट्री फोर्स के जवानों और ऑफिसर्स के वोट काउंट होंगे. इसके बाद EVM की सील खोली जाएगी और वोट गिने जाएंगे. काउंटिंग शुरू होने के शुरुआती 4 घंटों के बाद रुझान आने शुरू होंगे. फाइनल रिजल्ट शाम 6 बजे तक घोषित होने की संभावना है.\\n\\nकिस पार्टी ने उतारे कितने कैंडिडेट?\\n\\nएसोसिएशन फॉर डेमोक्रेटिक रिफॉर्म (ADR) के मुताबिक, 2024 के लोकसभा चुनाव में 1333 प्रत्याशी राष्ट्रीय पार्टी से थे. क्षेत्रीय पार्टियों से 532 उम्मीदवार मैदान में हैं. जबकि 3915 निर्दलीय उम्मीदवारों ने भी अपनी किस्मत आजमाई है. आज लोकसभा चुनावों के साथ ही ओडिशा और आंध्र प्रदेश विधानसभा चुनावों के नतीजे भी आने हैं. जबकि सिक्किम और अरुणाचल प्रदेश के नतीजे रविवार को आ गए हैं.\\n\\n2019 के मुकाबले वोटर टर्नआउट रहा कम\\n\\nलोकसभा चुनाव 2019 में भी 7 फेज में वोटिंग हुई. हालांकि, 2024 के 7 में से 5 चरणों में पिछली बार की तुलना में वोटिंग 4% तक घटी है. पहले, दूसरे, तीसरे और चौथे फेज में वोटर टर्नआउट पिछली बार के मुकाबले कम रहा.\\n\\nइन VIP कैंडिडेट और VIP सीट पर रहेगी नजर\\n\\nलोकसभा चुनाव में पीएम नरेंद्र मोदी की वाराणसी (यूपी) सीट, राहुल गांधी की वायनाड (केरल) और रायबरेली (यूपी) सीट, गृह मंत्री अमित शाह की गांधीनगर (गुजरात) सीट, ज्योतिरादित्य सिंधिया की गुना (मध्य प्रदेश) सीट, शिवराज सिंह चौहान की विदिशा (मध्य प्रदेश) सीट, दिग्विजय सिंह की राजगढ़ (मध्य प्रदेश) सीट, कंगना रनौत की मंडी (हिमाचल) सीट, स्मृति ईरानी की अमेठी (यूपी) सीट, महबूबा मुफ्ती की बारामूला-राजौरी (जम्मू-कश्मीर) सीट, ओवैसी की हैदराबाद सीट, पवन सिंह की काराकट (बिहार) सीट, प्रज्वल रेवन्ना की हासन (कर्नाटक) सीट पर नजर रहेगी.\\n\\nक्या कहते हैं एग्जिट पोल?\\n\\nएग्जिट पोल के नतीजों में केंद्र में तीसरी बार नरेंद्र मोदी की सरकार बनती दिख रही है. इंडिया टुडे एक्सिस माय इंडिया, न्यूज 24 टुडेज चाणक्य के पोल में तो NDA 400 के पार तक पहुंच रही है. जबकि 13 एग्जिट पोल में NDA को 350 से पार सीटे मिलती दिख रही हैं. दूसरी ओर INDIA को 145 सीटों का अनुमान है. अन्य को 32 सीटें मिल सकती हैं. NDTV के Poll of Exit Poll 2024 के मुताबिक, NDA को ओवरऑल 358 सीटें मिल सकती हैं. कांग्रेस की लीडरशिप वाले INDIA अलायंस को 148 सीटों का अनुमान है. जबकि अन्य को 37 सीटें मिलती दिख रही हैं.\\n\\nतमाम एग्जिट पोल के नतीजे:-\\n\\n-रिपब्लिक-PMARQ के एग्जिट पोल में BJP प्लस को 359 सीटें मिलती दिखाई गई हैं. जबकि कांग्रेस की लीडरशिप वाले INDIA अलायंस के लिए 150 सीटों का अनुमान जताया गया है.\\n\\n-इंडिया न्यूज-डी डायनामिक्स के एग्जिट पोल में BJP प्लस (NDA) को 371 सीटें मिलने का अनुमान जताया गया है. INDIA अलायंस को 125 सीटें मिलने का अनुमान है.\\n\\n-इंडिया न्यूज-पोलस्ट्रैट के एग्जिट पोल में NDA के लिए 371 सीटों का अनुमान है. जबकि INDIA को 125 सीटें मिलती दिख रही हैं. अन्य को 47 सीटें मिल सकती हैं.\\n\\n-SAAM-जन की बात के एग्जिट पोल में BJP प्लस यानी NDA को 377 सीटें पर जीत का प्रिडिक्शन है. INDIA अलायंस को 151 सीटें मिलती दिख रही हैं.\\n\\n-रिपब्लिक भारत मैट्रिज के एग्जिट पोल में NDA को 368 सीटें मिलने का अनुमान है. जबकि INDIA 125 सीटें जीत सकती है.\\n\\n-News Nation के एग्जिट पोल में NDA को 342 से 338 सीटें मिलती दिख रही हैं. जबकि INDIA अलायंस को 153-169 सीटें मिलने का अनुमान जताया गया है. अन्य पार्टियों को 21-23 सीटें मिल सकती हैं.\\n\\n-दैनिक भास्कर के एग्जिट पोल में NDA को 281 से 350 सीटें मिलने का अनुमान है. जबकि INDIA के लिए 145 से 201 सीटों का अनुमान जताया गया है. अन्य पार्टियों के खाते में 33 से 49 सीटें जा सकती हैं.\\n\\n-इंडिया टीवी-CNX के एग्जिट पोल के मुताबिक, NDA को 371-401 सीटें मिलती दिख रही है. INDIA अलायंस को 109 से 139 सीटें मिल सकती हैं. अन्य के खाते में 28-38 सीटें जा सकती हैं.\\n\\n-ABP-C वोटर्स के एग्जिट पोल के मुताबिक, NDA के लिए 244 से 292 सीटों का अनुमान है. जबकि INDIA को 123-169 सीटों का अनुमान है. अन्य को 4 से 12 सीटें मिल सकती हैं.\\n\\n-News24-टुडेज चाणक्य के एग्जिट पोल के मुताबिक, NDA को 400 सीटें मिलती दिख रही हैं. INDIA को 107 सीटें मिलती दिख रही हैं. अन्य के खाते में 36 सीटें जाएंगी.\\n\\n-इंडिया टुडे-एक्सिस माय इंडिया के एग्जिट पोल में भी NDA को 400 पार मिलता दिखाया गया है. पोल के मुताबिक, NDA को 361-401 तक सीटें मिल सकती हैं, जबकि INDIA को 131-166 मिलने के आसार हैं. अन्य को 8-20 सीटें मिलने का अनुमान है.\\n\\n-टाइम्स नाउ ETG के एग्जिट पोल के मुताबिक, NDA को 358 सीटें मिलती दिख रही हैं. जबकि INDIA अलायंस के लिए 152 सीटों का अनुमान जताया गया है. अन्य के हिस्से में 33 सीटें जा सकती हैं.\\n\\n-न्यूज 18 के एग्जिट पोल के मुताबिक, NDA को 355 से 370 सीटें मिल सकती हैं. INDIA को 125 से 140 सीटें मिल सकती हैं.\\n\\nकाउंटिंग प्रोसेस पर एक नजर:-\\n\\n* इलेक्शन कंडक्ट रूल 1961 के नियम 54A के तहत निर्वाचन अधिकारी यानी रिटर्निंग ऑफिसर (RO) की टेबल पर सबसे पहले पोस्टल बैलट पेपर की गिनती की जाती है.\\n\\n* सिर्फ उन्हीं पोस्ट बैलट की गिनती होगी, जो RO के पास वोटों की गिनती शुरू होने की तय समय सीमा से पहले पहुंच चुके हैं.\\n\\n*पोस्टल बैलट पेपर्स की गिनती शुरू होने के 30 मिनट के बाद EVM के जरिये डाले गए वोटों की गिनती शुरू की जानी चाहिए.\\n\\n* अगर किसी निर्वाचन क्षेत्र में कोई पोस्टल बैलट नहीं है, तो EVM के जरिये डाले गए वोटी की गिनती शुरू की जा सकती है.\\n\\n* काउंटिंग सेंटर पर वोटों की गिनती के लिए फॉर्म 17C के साथ EVM की सिर्फ कंट्रोल यूनिट (CU) का इस्तेमाल किया जाता है.\\n\\n* ईवीएम के सीयू से परिणाम सुनिश्चित करने से पहले, मतगणना अधिकारी यह सुनिश्चित करेंगे कि उन पर लगी पेपर सील बरकरार है और डाले गए कुल मत फॉर्म 17सी में उल्लिखित मतों से मेल खाते हैं.\\n\\n*CU का रिजल्ट, कैलकुलेशन ऑब्जर्वर, माइक्रो ऑब्जर्वर और कैंडिडेट्स की काउंटिंग एजेंटों को दिखाने के बाद, फार्म 17C के पार्ट-II में दर्ज किया जाएगा.\\n\\n* CU में नतीजे प्रदर्शित नहीं होने की स्थिति में सभी CU में दर्ज वोटों की गिनती के बाद संबंधित CU के VVPAT की पर्ची की गिनती की जाएगी.\\n\\n* हर CU का उम्मीदवार वार नतीजा फार्म 17C के पार्ट II में दर्ज किया जाएगा. मतगणना पर्यवेक्षक और मतगणना टेबल पर उपस्थित उम्मीदवारों के मतगणना एजेंट द्वारा उस पर साइन किए जाएंगे.\\n\\n* प्रत्येक मतदान केन्द्र का फार्म 17C उस अधिकारी को भेजा जाना चाहिए, जो फार्म 20 में अंतिम परिणाम पत्रक संकलित कर रहा है.\\n\\n* VVPAT पर्चियों की गिनती CU में दर्ज मतों की गिनती पूरी होने के बाद की जानी चाहिए.\\n\\n* VVPAT से अनिवार्य सत्यापन की प्रक्रिया के तहत संसदीय क्षेत्र के अंतर्गत आने वाले प्रत्येक विधानसभा क्षेत्र से यादृच्छिकता के आधार पर पांच मतदान केंद्रों को चुना जाएगा. यह मतों की गिनती की प्रक्रिया पूरी होने के बाद होगी.\\n\\n* अगर जीत का अंतर अस्वीकृत डाक मतपत्रों से कम है तो उस स्थिति में अंतिम नतीजे घोषित किए जाने से पहले खारिज किए डाक मतपत्रों को अनिवार्य रूप से दोबारा सत्यापित किया जाएगा.\\n\\n*अगर शीर्ष दो उम्मीदवारों को समान मत मिलते हैं, तो उस स्थिति में नतीजे लॉटरी के आधार पर घोषित किए जाएंगे.\\n\\nये भी पढ़ें:-\\n\\nLok Sabha Election 2024: मनोज तिवारी हैं दिल्ली के सबसे अमीर उम्मीदवार, इतने करोड़ है भोजपुरी सुपरस्टार की नेट वर्थ\\n\\nमिठाइयां-मालाएं, अखंड पाठ से लेकर रुद्राभिषेक तक... इलेक्शन रिजल्ट से पहले BJP-कांग्रेस समर्थकों में ऐसा है माहौल\\n\\n489 सीटें, 4 महीने का वोटिंग प्रोसेस और हाथ से वोटों की गिनती... जानें कैसे हुआ था देश का पहला लोकसभा चुनाव?\\n\\nपूरी स्टोरी पढ़ें\\n\\nNDTV.in पर ताज़ातरीन ख़बरों को ट्रैक करें, व देश के कोने-कोने से और दुनियाभर से न्यूज़ अपडेट पाएं\\n\\nफॉलो करे:\\n\\nLok Sabha Election 2024, LokSabhaElectionsExplainer2024, Lok Sabha Election Result 2024, Vote Counting, PM Narendra Modi'}, {'article': 'Election Results 2024: लोकसभा चुनाव 2024 के नतीजे मंगलवार को घोषित होंगे। इस दौरान लोकसभा की 543 सीटों के परिणाम सामने आएंगे। यह पूरी प्रक्रिया चुनाव आयोग के निर्देशन में पूर्ण होगी। चुनाव आयोग के मुताबिक, हर जिले में एक मतगणना केंद्र बनाया गया है। जहां पर वोटों की गिनती के लिए चुनाव आयोग के प्रशिक्षित अधिकारी इलेक्ट्रॉनिक वोटिंग मशीन में डाले गए मतों की गणना करेंगे। काउंटिंग सेंटर्स पर 4 जून को सुबह 8 बजे वोटों की गिनती शुरू होगी। सबसे पहले डाक मत पत्रों यानी पोस्टल बैलेट की गणना होगी।\\n\\n8000 से ज्यादा प्रत्याशियों के भाग्य का फैसला\\n\\nकेंद्र में क्या मोदी सरकार की हैट्रिक लगेगी? ओडिशा और आंध्र प्रदेश में किसकी सरकार और कौन बनेगा मुख्यमंत्री? इसका फैसला आने में महज चंद घंटे बाकी हैं। लोगों की निगाहें नतीजों पर टिकी हैं। मंगलवार को 8000 से ज्यादा लोकसभा उम्मीदवारों के भाग्य का फैसला होगा। आप 543 लोकसभा सीटों और 2 राज्यों के विधानसभा चुनावों के सबसे तेज नतीजे और सटीक विश्लेषण haribhoomi.com और inh24x7 न्यूज पर सुबह 7 बजे से लगातार देख पाएंगे।\\n\\nकैसे और कहां देख पाएंगे चुनाव परिणाम?\\n\\nलोकसभा चुनाव के रुझान और परिणाम चुनाव आयोग के आधिकारिक वेबसाइट पर देखे जा सकेंगे। चुनाव आयोग की वेबसाइट पर लगातार वोटों की गिनती से जुड़ा अपडेट मिलेगा। विधानसभा क्षेत्र/संसदीय क्षेत्र के रिटर्निंग ऑफिसर/सहायक रिटर्निंग ऑफिसरों के द्वारा फीड डेटा के अनुसार काउंटिंग के रुझान और नतीजे इलेक्शन कमीशन की वेबसाइट https://results.eci.gov.in/ और वोटर हेल्पलाइन ऐप, iOS और Android ऐप पर उपलब्ध होंगे।\\n\\nशनिवार को आए एग्जिट पोल में एनडीए को बढ़त दिखाई गई है, तो वहीं विपक्षी गठबंधन (INDIA Bloc) ने 295 से ज्यादा सीट हासिल करने का दावा किया है।'}, {'article': 'Lok Sabha Chunav 2024 Result Live Streaming Online, लोकसभा चुनाव परिणाम के पल पल के अपडेट्स, कब और कहां देख पाएंगे लोकसभा चुनाव नतीजे: लोकसभा चुनाव-2024 के सभी सात चरणों के मतदान की प्रक्रिया पूरी हो चुकी है। अब 4 जून को होने वाली मतगणना का सभी को इंतजार है।\\n\\nElection Commission of India: Lok Sabha Chunav Result 2024 Live Updates Here\\n\\nमतगणना के रुझान और चुनाव नतीजे चुनाव आयोग के आधिकारिक वेबसाइट पर देखे जा सकेंगे। एग्जिट पोल के अनुसार इस चुनाव में NDA को बढत मिल रही है तो वहीं विपक्षी गठबंधन ने 295 से ज्यादा सीट हासिल करने का दावा किया है।\\n\\nलोकसभा चुनाव 2024 परिणाम: ईसीआई मोबाइल एप्प से देखें मिनट-मिनट के फ्री अपडेट\\n\\nमुख्य चुनाव आयुक्त राजीव कुमार ने कहा कि इतिहास में पहली बार ऐसा है कि 100 से ज्यादा प्रेस नोट, एडवाइजरी जारी हुए। चुनाव आयोग लापता नहीं था, हम हमेशा काम करते रहे।\\n\\nलोकसभा चुनाव 2024 रिजल्ट ऑनलाइन फ्री लाइव स्ट्रीमिंग , टीवी कवरेज: सबसे सटीक आंकड़े यहां देखें'}, {'article': \"पहले लोकसभा चुनाव में वोटों की गिनती हाथ से की गई थी.\\n\\nनई दिल्ली:\\n\\nदेश में लोकसभा चुनाव (Lok Sabha Election 2024) सात फेज में कराया जा चुका है. कुछ घंटों में चुनाव के नतीजे आएंगे. मंगलवार को वोटों की गिनती होगी और रिजल्ट सामने आने लगेंगे. 18वीं लोकसभा के लिए 19 अप्रैल, 26 अप्रैल, 7 मई, 13 मई, 20 मई, 25 मई और 1 जून को 7 फेज में मतदान हुए. 28 राज्य और 8 केंद्र शासित प्रदेशों की 542 सीट पर लगभग 65.14% वोटिंग हुई. देश में पहला आम चुनाव 1952 में हुआ था. ये सबसे लंबे समय तक चलने वाला चुनाव था, जो 4 महीने तक चला. आइए जानते हैं, देश में पहली बार कैसे हुए थे लोकसभा चुनाव? क्या था प्रक्रिया और किस तरह से की गई थी वोटों की गिनती:-\\n\\nलंबे संघर्ष के बाद 1947 में भारत को अंग्रेजों की गुलामी से आजादी मिली. लोकसभा की वेबसाइट पर दी गई जानकारी के मुताबिक, आजादी के 2 साल के अंदर चुनाव आयोग की स्थापना हो गई थी. मार्च 1950 में सुकुमार सेन को पहला मुख्य चुनाव आयुक्त यानी CEC नियुक्त किया गया था. देश में पहला आम चुनाव यानी लोकसभा चुनाव 1951-52 में हुआ. उस समय लोगों को वोटिंग कैसे करते हैं, इसकी जानकारी नहीं थी. इसके लिए वोटिंग के वीडियो बनाकर लोगों को दिखाए गए थे, ताकि लोगों को मतदान के बारे में समझाया जा सके.\\n\\nकैसे होती है वोटों की गिनती? काउंटिंग हॉल में किसको अनुमति? कैसे दिया जाता है जीत का सर्टिफिकेट? जानें पूरी प्रक्रिया\\n\\nपहले लोकसभा के चुनावों में कितनी थी सीटें?\\n\\nउस समय 489 सीटें लोकसभा की थीं, लेकिन संसदीय क्षेत्रों की संख्या 401 थी. 314 संसदीय सीटें ऐसी थीं, जहां सिर्फ एक-एक प्रतिनिधि चुने जाने थे. जबकि, 86 संसदीय सीटें ऐसी थीं, जिनमें 2-2 लोगों को सांसद चुना जाना था. किसी संसदीय क्षेत्र में एक से अधिक सदस्य चुनने की यह व्यवस्था 1957 तक जारी रही. बाद में इसे खत्म कर दिया गया.\\n\\nकब से कब तक चली थी वोटिंग?\\n\\nवोटिंग 25 अक्टूबर 1951 को शुरू हुई थी. यह 21 फरवरी 1952 तक चली. रिपोर्ट्स के मुताबिक, पहले आम चुनाव में करीब 10 लाख रुपये का खर्च आया था. देश के पहले लोकसभा चुनाव में करीब 17 करोड़ लोगों ने भाग लिया था. इनमें 85% मतदाता पढ़े-लिखे नहीं थे. वोटिंग बैलट पेपर से कराई गई थी.\\n\\nकैसे हुई वोटों की गिनती?\\n\\nसोशल मीडिया पर देश के पहले लोकसभा चुनाव की काउंटिंग का एक फोटो वायरल हो रहा है. इसमें फॉर्मल सूट पहने कुछ अधिकारियों को एक बड़ी सी गोल मेज पर बैठे देखा जा सकता है. टेबल पर बैलट बॉक्स रखे हैं. पहले लोकसभा चुनाव में वोटों की गिनती हाथ से की गई थी.\\n\\nNDA या 'INDIA'... फलोदी सट्टा बाजार किसे दे रहा सत्ता? जानें नतीजों से पहले सटोरियों की भविष्यवाणी\\n\\nकब अस्तित्व में आई पहली लोकसभा?\\n\\nपहली लोकसभा 17 अप्रैल 1952 को अस्तित्व में आई थी. इसकी पहली बैठक 13 मई, 1952 को आयोजित की गई थी.\\n\\nकौन थे पहले लोकसभा स्पीकर और डिप्टी स्पीकर?\\n\\nगणेश वासुदेव मावलंकर देश की पहली लोकसभा के अध्यक्ष थे. वो 15 मई 1952 से 27 फरवरी 1956 तक इस पद पर रहे. पहली लोकसभा के उपाध्यक्ष एम अनंतशयनम अय्यंगर थे. उनका कार्यकाल 30 मई 1952 से 7 मार्च 1956 तक था.\\n\\nपूरी स्टोरी पढ़ें\\n\\nNDTV.in पर ताज़ातरीन ख़बरों को ट्रैक करें, व देश के कोने-कोने से और दुनियाभर से न्यूज़ अपडेट पाएं\\n\\nफॉलो करे:\\n\\nLok Sabha Elections 2024, Lok Sabha Election 2024 Result, Lok Sabha Election 2024 Result Counting, PM Narendra Modi, Lok Sabha Election Counting\"}, {'article': 'India Brings Back 100 Tonne Gold From UK ये खबर हर तरफ छाई हुई है... Election 2024 के दौरान Pm Narendra Modi के सपोर्टर्स को एक और वजह मिल गई है उनके कामों का प्रचार करने के लिए. लेकिन इस वीडियो में हम Election की बात नहीं करेंगे हम बात करेंगे 1991 में chandra shekhar government से P. V. Narasimha Rao सरकार ने कैसे 1990-91 के economic crisis in india के संभाला था. कैसे उस वक्त Bharat में foreign exchange reserves Crisis अपने चरम पर था लेकिन Reserve Bank of India ने इस स्थिती को सुधारने में कैसे निर्णायक भूमिका निभाई. Yashwant Sinha से लेकर Manmohan Singh ने उस दौरान RBI का साथ दिया और 67 Tonn Gold, Bank of England के साथ साथ Bank of Japan के पास गिरवी रखा. Former Governor of the Reserve Bank of India C. Rangarajan का First hand account भी जानेंगे कि How India Sent its gold to Uk? ये कहानी काफी फिल्मी है. इसके असावा इन सवालों पर भी बात होगी कि How India Changed after 1991 और कैसे RBI ने Gold Reserve को बढ़ाया और अब Narendra Modi सरकार के दौरान RBI 100 Tonnes of Gold भारत लाने में सफल रहा. ऐसे कई सवाल है जिनके जवाब मिलेंगे Kissa Uncut with Shupinder Soni के इस वीडियो में.'}, {'article': 'Election Results 2024, 4 June को आने वाले हैं और सुबह 8 बजे से Counting of Vote शुरू हो जाएगा. एक तरफ जहां इस बात के कयास लगाए जा रहे हैं कि INDIA Alliance जीतेगा या NDA. PM Narendra Modi की पार्टी BJP, Rahul Gandhi की Congress पर भारी पड़ेगी या नहीं. या फिर Rahul Gandhi, Akhilesh Yadav, Tejashwi Yadav,Uddhav Thackeray, Sharad Pawar मिलकर Modi जी को हरा देंगे... ऐसे में Counting की प्रक्रिया काफी अहम हो जाती है. तो यहां ये जानना ज़रूरी है कि EVM में Vote Counting होती कैसे है? कैसे Counting को लेकर Election Commission of India के नियम क्या कहते हैं? एक Party Candidate अपने कितने Polling Agents काउंटिंग के दौरान अंदर रख सकता है? Uncut पर ऐसे ही कई सवालों के जवाब मिलेंगे Bhupinder Soni के इस वीडियो में.'}, {'article': \"पटना में पीएम नरेंद्र मोदी के मास्क लगाकर लड्डू तैयार करते कारीगर (ANI)\\n\\nनई दिल्ली:\\n\\nलोकसभा चुनाव 2024 (Lok Sabha Elections 2024 Result) के नतीजे मंगलवार (4 जून) को आ रहे हैं. उससे पहले तमाम एग्जिट पोल (Exit Poll 2024) में प्रधानमंत्री नरेंद्र मोदी (PM Narendra Modi) के नेतृत्व में बंपर वोटों से NDA की सरकार बनने का अनुमान है. नतीजे आने में अभी कुछ घंटे बाकी हैं, लेकिन एग्जिट पोल के रिजल्ट से उत्साहित BJP के वोटर्स और समर्थक अभी से जश्न के माहौल में डूबे हैं. जीत की खुशी में मुंह मीठा कराने के लिए कई जगहों पर मिठाइयां बन रही हैं. लड्डू के डिब्बे पैक हो रहे हैं. कहीं अखंड पाठ रखा जा रहा है. फूलों की मालाएं तैयार की जा रही हैं. वहीं, कांग्रेस दफ्तरों में भी रिजल्ट देखने का इंतजाम किया जा रहा है. टेंट और कूलर लगवाएं जा रहे हैं. मिठाइयां भी तैयार किए जा रहे हैं.\\n\\nलोकसभा चुनाव के तमाम एग्जिट पोल के नतीजों में केंद्र में प्रचंड बहुमत से तीसरी बार नरेंद्र मोदी की सरकार बनने का अनुमान है. NDA के अबकी बार 400 पार हो रहे हैं या नहीं, ये तो 4 जून को ही पता चलेगा. लेकिन अभी से देशभर के BJP समर्थकों में जश्न का मौहाल है.\\n\\nभारत EVM का इस्तेमाल करने वाला पहला देश, दुनिया को ऐसे दिखाया डिजिटल डेमोक्रेसी का रास्ता\\n\\nपटना में मोदी के मास्क पहनकर लड्डू बना रहे कारीगर\\n\\nबिहार की राजधानी पटना में BJP के समर्थकों में जोश इस कदर है कि वो पीएम नरेंद्र मोदी के मास्क लगाकर ही मोतीचूर के लड्डू तैयार कर रहे हैं. ये लड्डू रिजल्ट जारी होने के बाद समर्थकों में बांटे जाएंगे.\\n\\nपटना में BJP के जश्न के लिए लड्डू तैयार करते कारीगर.\\n\\nमुंबई में भी बन ही मिठाइयां, सज रहे मंदिर-मस्जिद\\n\\nमहाराष्ट्र की राजधानी मुंबई में भी जश्न के लिए मिठाइयां तैयार की जा रही हैं. मुंबई के गणेश भंडार में कारीगर देर रात से लड्डू बनाने में जुटे हुए हैं. कुछ कारीगरों ने BJP के चुनाव चिह्न कमल की छाप वाली मिठाई भी बनाई है. मंदिरों और मस्जिदों में सजावट भी की जा रही है.\\n\\nमुंबई के गणेश भंडार में लड्डू के पैकेट तैयार करते लोग.\\n\\nकोलकाता में INDIA अलायंस के पार्टियों पर बन रहीं मिठाइयां\\n\\nपश्चिम बंगाल में भी जश्न में मुंह मीठा कराने के लिए लड्डू और संदेश तैयार किए जा रहे हैं. यहां INDIA अलायंस के घटक दलों जैसे कांग्रेस, टीएमसी और अन्य पार्टियों के चुनाव चिह्न के शेप वाले संदेश और छेने की मिठाइयां बन रही हैं. कुछ दुकानदार फूलों की मालाएं भी तैयार कर रहे हैं.\\n\\nकैसे होती है वोटों की गिनती? काउंटिंग हॉल में किसको अनुमति? कैसे दिया जाता है जीत का सर्टिफिकेट? जानें पूरी प्रक्रिया\\n\\nपश्चिम बंगाल के हावड़ा के एक दुकान में INDIA अलायंस के घटक दलों के चुनाव चिन्ह के आकार की मिठाइयां बनाई गईं.\\n\\nजबलपुर में अभी से बंटने लगी मिठाइयां\\n\\nमध्य प्रदेश के जबलपुर में लोकसभा चुनाव के नतीजे आने से पहले ही BJP कार्यकर्ताओं ने मिठाई बनाना शुरू कर दिया है. उत्तर मध्य विधानसभा के विधायक अभिलाष पांडे ने कार्यकर्ताओं के साथ मगज और बूंदी के लड्डू बना रहे है. इस मिठाई के परिणाम आने के पहले से ही जबलपुर वासियों को बांटा जाएगा. लड्डू के अलावा कलाकंद भी बनाया जा रहा है, इसके साथ ही शरबत की भी व्यवस्था की गई है.\\n\\nवोटों की गिनती को लेकर AAP मुख्यालय में काउंटिंग एजेंटों को दी गई ट्रेनिंग, मतगणना केंद्रों पर डटे रहने के निर्देश\\n\\nमध्य प्रदेश के जबलपुर में रिजल्ट से पहले ही मिठाइयां बनाकर बांटी जा रही हैं.\\n\\nवाराणसी में हुआ रुद्राभिषेक यज्ञ\\n\\nएग्जिट पोल के आंकड़ों पर जारी प्रतिक्रियाओं बीच प्रधानमंत्री नरेंद्र मोदी के संसदीय क्षेत्र वाराणसी में कुछ अलग ही माहौल है. यहां सत्ता पक्ष के लोगों में जश्न का माहौल है. धर्म की नगरी काशी में लोगों ने पीएम मोदी की जीत और एनडीए को 400 पार सीट मिले, इसकी कामना करते हुए रुद्राभिषेक यज्ञ किया. यज्ञ करने वालों में ज्ञानवापी मामले में शामिल हिंदू पक्ष के वकील और वादी भी शामिल रहे. इन लोगों ने महामृत्युंजय मंदिर में ज्ञानवापी मामले में सकारात्मक फैसले के लिए भी यज्ञ किया.\\n\\nकांग्रेस मुख्यालय में तैयारियां जोरों पर\\n\\nदूसरी ओर, लोकसभा चुनाव की मतगणना से एक दिन पहले सोमवार को कांग्रेस मुख्यालय में तैयारियां जोरों पर हैं. पार्टी मुख्यालय '24 अकबर' रोड के परिसर में टेंट लगाया गया है. वहां कूलर की व्यवस्था भी की गई है. कांग्रेस समर्थक पार्टी की इन तैयारियों को 'INDIA' गठबंधन की जीत की स्थिति में जश्न की तैयारी के रूप में देख रहे हैं. एक वीडियो में कांग्रेस समर्थकों को मिठाइयां बांटते और राहुल गांधी पर फूल बरसाते देखा जा सकता है. दूसरे वीडियो में कांग्रेस समर्थकों को फूलों की माला तैयार करते देखा जा सकता है.\\n\\nबता दें कि कांग्रेस और 'INDIA' गठबंधन के अन्य घटक दलों ने एग्जिट पोल को खारिज कर दिया है. उन्होंने दावा किया है कि विपक्षी गठबंधन अगली सरकार बनाएगा.\\n\\nराहुल बोले- फैंटेसी, सोनिया बोलीं- गलत, क्या वाकई उलट सकते हैं एग्जिट पोल्स!\\n\\nपूरी स्टोरी पढ़ें\\n\\nNDTV.in पर ताज़ातरीन ख़बरों को ट्रैक करें, व देश के कोने-कोने से और दुनियाभर से न्यूज़ अपडेट पाएं\\n\\nफॉलो करे:\\n\\nLok Sabha Election 2024, Election Commission, Loksabha Election Result 2024, PM Narendra Modi, BJP\"}, {'article': 'Lok Sabha Election 2024: रामायण में राम का रोल निभाकर फेमस हुए अरुण गोविल (बीजेपी) ने लोकसभा चुनाव 2024 में मेरठ सीट से चुनाव लड़ा. लोकसभा चुनाव 2024 के नतीजे आने में बस कुछ समय ही बचा है. एग्जिट पोल के रिजल्ट आ चुके हैं. मेरठ सीट पर सभी की निगाहें टिकी हैं. ये सीट बीजेपी के लिए बहुत जरुरी है. पिछली तीन बार से बीजेपी यहां जीत रही हैं. अब आइए नजर डालते हैं इस सीट पर एग्जिट पोल के नतीजों में कौन बाजी मार रहा है.\\n\\nअरुण गोविल को मिलेगी जीत?\\n\\nइस सीट पर अरुण गोविल के सामने समाजवादी पार्टी से सुनीता वर्मा हैं. मालूम हो कि सुनीता वर्मा मेरठ की पूर्व मेयर हैं. India Today-Axis My India के एग्जिट पोल के मुताबिक, मेरठ सीट बीजेपी के लिए बहुत जरुरी सीट है. इस बार भी बीजेपी के जीतने के चांसेस बन रहे हैं.\\n\\nबता दें कि राजेंद्र अग्रवाल पिछले तीन बार से लगातार वहां से जीत रहे थे. इस बार राजेंद्र अग्रवाल की जगह अरुण गोविल को टिकट मिला है और अनुमानों के मुताबिक, अरुण गोविल की जीत के चांसेस पूरे हैं.\\n\\nPOLSTRAT और PEOPLES INSIGHT के एग्जिट पोल के मुताबिक, अरुण गोविल के जीतने की पूरी उम्मीदें हैं. अरुण गोविल को करीब 52 परसेंट वोट मिल सकते हैं.\\n\\nहालांकि, वहीं कुछ एग्जिट पोल और एक्सपर्ट के मुताबिक, अरुण गोविल के लिए जीत की राह इतनी आसान नहीं होगी. अरुण गोविल को कांटे की टक्कर मिलेगी.\\n\\nअरुण गोविल की बात करें तो उन्हें घर-घर में लोग जानते हैं. अरुण गोविल ने रामानंद सागर की रामायण में राम का किरदार निभाया था. इस शो ने उन्हें रातोरात फेम कर दिया था. लोग उन्हें भगवान की तरह पूजते हैं. उनकी तगड़ी फैन फॉलोइंग है.\\n\\nअरुण गोविल ने मेरठ सीट से चुनाव लड़ने को लेकर कहा था- मेरठ सीट पर भाजपा की ही जीत होगी. मुझे जीत को लेकर कोई संशय नहीं है, निश्चित तौर पर जीत होगी. ये चुनाव दरअसल विकसित भारत के लिए चुनाव हैं. जनता को भी पता है कि कौन देश के बारे में बात कर रहा है और कौन नहीं.'}, {'article': \"Lok Sabha Election 2024: सत्ता पक्ष और विपक्ष दोनों के लिए आज का दिन बड़ा भारी है, और रात उससे भी भारी. एग्जिट पोल के आंकड़े आने के बाद विपक्ष की बेचैनी तो बढ़ी ही है. सत्ता पक्ष भी बेचैन है. विपक्ष का अभी भी यह दावा है कि इंडिया गठबंधन 295 प्लस सीटें ला रही है. वहीं, सत्ता पक्ष को एग्जिट पोल के आंकड़ों में प्रचंड जीत मिली है. पूरा एनडीए गठबंधन एग्जिट पोल देखकर गदगद है. हालांकि यह एग्जिट पोल का आंकड़ा हैं इसलिए मन के किसी कोने में एक खटका तो रह ही जा रहा है. उस पर से मीडिया और सोशल मीडिया में अलग-अलग दावे और विपक्ष की बयानबाजी से यह खटका आम लोग, खासकर जो सत्ता पक्ष के समर्थक हैं उनके लिए और गहरा हो रहा है. आलम यह है कि पूरे देश में हर स्तर पर एक अलग माहौल है. बयानबाजी का दौर जो एग्जिट पोल के आने के साथ शुरू हुआ था वो अभी भी बदस्तूर जारी है. नतीजे कल यानी मंगलवार को सामने आ जाएंगे. पीएम मोदी प्रचंड जीत के साथ सत्ता में तीसरी बार वापसी करेंगे या विपक्ष का दावा सही साबित होगा. यह कल साफ हो जाएगा. लेकिन बीच का जो यह समय है उसमें बयानबाजी का दौर दोनों ओर से जारी है.\\n\\nअवसरवादी इंडी गठबंधन को लोगों ने किया खारिज- पीएम मोदी\\n\\nएग्जिट पोल के आंकड़े में एनडीए को बंपर जीत मिलने के बाद पीएम मोदी ने पहली प्रतिक्रिया देते हुए कहा था कि अवसरवादी इंडी गठबंधन को लोगों ने खारिज कर दिया है. पीएम मोदी ने यह भी कहा कि वोटरों के दिलों को छूने में विपक्ष पूरी तरह विफल रहा है. प्रधानमंत्री मोदी ने यह भी कहा कि लोगों ने उनकी सरकार का ट्रैक रिकॉर्ड देखा है. उनकी सरकार के कामकाज से गरीबों, हाशिए पर पड़े लोगों और दलितों के जीवन में सकारात्मक बदलाव आया है, इस कारण लोगों ने एनडीए को बढ़-चढ़ को वोट दिया है. पीएम मोदी ने सोशल मीडिया एक्स पर पोस्ट करते हुए लिखा कि भारत ने मतदान किया.. उन्होंने अपने मताधिकार का इस्तेमाल करने वाले सभी लोगों का हृदय से आभार जताया है. चुनावों में मजबूत भागीदारी के लिए भारत की नारी शक्ति और युवा शक्ति की विशेष रूप से सराहना किया है.\\n\\nमोदी मिडिया पोल और फैंटेसी पोल- राहुल गांधी\\n\\nइधर, कांग्रेस नेता राहुल गांधी ने एक्जिट पोल पर अपनी प्रतिक्रिया देते हुए इसे 'मोदी मीडिया पोल' और 'फैंटेसी पोल' करार दिया है. और जब उनसे इंडिया गठबंधन की सीटों की संख्या के बारे में पूछा गया तो उन्होंने कहा, 'क्या आपने सिद्धू मूसेवाला का गाना 295 सुना है? दरअसल, INDIA ब्लॉक का दावा है कि वे 18वीं लोकसभा चुनाव में 295+ सीटें जीत रहे हैं. 295 सीटों का कांग्रेस ने एक आंकड़ा भी पेश किया है और बताया है कि किस राज्य में इंडिया गठबंधन कितनी सीटें जीत रहा है. एक बयान में राहुल गांधी ने यह भी कहा था कि 4 जून के गौतम अडानी को लेकर ईडी पीएम मोदी से सवाल करेगी.\\n\\nइंडिया गठबंधन लाएगा 295+ सीट- खरगे\\n\\nलोकसभा चुनाव के सातवें चरण के बाद कांग्रेस के राष्ट्रीय अध्यक्ष मल्लिकार्जुन खरगे ने अपने आवास पर 'इंडिया' गठबंधन के नेताओं की एक बैठक बुलाई थी. बैठक गठबंधन के सभी घटक दल के नेता मौजूद थे. इसी मीटिंग में खरगे ने दावा किया था कि 18वीं लोकसभी चुनाव में इंडिया गठबंधन 295+ सीटें ला रही है. ढाई घंटे तक चली बैठक में कई मुद्दों पर बात हुई थी.\\n\\nअभी इंतजार कीजिए- सोनिया गांधी\\n\\nइधर कांग्रेस की पूर्व अध्यक्ष सोनिया गांधी ने लोकसभा चुनाव के परिणाम को लेकर आए एग्जिट पोल के नतीजों पर पहली प्रतिक्रिया देते हुए कहा है कि इंतजार करना होगा. सोनिया गांधी ने कहा कि 'हमें अभी इंतजार करना होगा. हमें पूरी उम्मीद है कि नतीजे एग्जिट पोल के बिल्कुल विपरीत रहने वाले हैं.'\\n\\nएग्जिट पोल विश्वसनीय नहीं- अखिलेश यादव\\n\\nइधर, समाजवादी पार्टी के अध्यक्ष अखिलेश यादव ने एग्जिट पोल की विश्वसनीयता पर सवाल उठाते हुए दावा किया है कि एग्जिट पोल करने वाली एजेंसियां सिर्फ भारतीय जनता पार्टी के पक्ष में माहौल बनाने की कोशिश कर रही हैं. मीडिया से बात करते हुए अखिलेश ने कहा कि इंडियन नेशनल डेवलपमेंट इंक्लूसिव अलायंस की जीत, देश और जनता की जीत होगी. यादव ने कहा कि हम और आप (मीडिया) लोकतंत्र को मजबूत करने के लिए लोगों के बीच थे. हम सभी ने देखा है कि भाजपा की रैलियों में लोग नहीं थे, उनके टेंट खाली थे. उनके पक्ष में कुछ भी नहीं था. एग्जिट पोल पर सवाल उठाते हुए उन्होंने कहा कि एग्जिट पोल करने वाली कई एजेंसियां वही हैं जो भाजपा के लिए बूथ प्रबंधन का काम करती थीं.\\n\\n... तो मैं अपना सिर मुंडवा लूंगा- सोमनाथ\\n\\nआम आदमी पार्टी के नेता सोमनाथ भारती ने कहा है कि अगर पीएम नरेन्द्र मोदी तीसरी बार प्रधानमंत्री बनते हैं तो वह अपना सिर मुंडवा लेंगे. नई दिल्ली लोकसभा सीट से AAP उम्मीदवार सोमनाथ भारती ने सोशल मीडिया मंच एक्स पर अपने एक पोस्ट में कहा कि चार जून को लोकसभा चुनाव परिणाम आने के बाद सारे एग्जिट पोल गलत साबित होंगे. उन्होंने कहा कि अगर पीएम मोदी तीसरी बार प्रधानमंत्री बने तो मैं अपना सिर मुंडवा लूंगा. मेरी बात याद रखना . चार जून को सभी एग्जिट पोल गलत साबित होंगे और मोदी जी तीसरी बार प्रधानमंत्री नहीं बनेंगे.\\n\\nNDA के खाते में आएंगी 235 सीटें- अरविंद केजरीवाल\\n\\nइस बीच आम आदमी पार्टी के राष्ट्रीय संयोजक और दिल्ली के मुख्यमंत्री अरविंद केजरीवाल ने दावा किया था कि कि इस बार 'इंडियन नेशनल डेवलपमेंटल इंक्लूसिव अलांयस' (इंडिया) केंद्र में एक मजबूत और स्थिर सरकार बनाएगा. उन्होंने यह भी दावा किया कि बीजेपी को केवल 220 सीटें मिलेंगी जबकि राजग को 235 सीटें मिलेंगी. एग्जिट पोल के नतीजे को केजरीवाल ने खारिज करते हुए कहा था कि यह बीजेपी और मोदी सरकार का एग्जिट पोल है. उन्होंने 'इंडिया' के नेताओं से अपील की थी कि वो एग्जिट पोल के नतीजों पर भरोसा न करें.\\n\\n295 से अधिक सीटों पर जीतेंगे हम- तेजस्वी यादव\\n\\nइसी कड़ी में आरजेडी नेता तेजस्वी यादव ने कहा है कि हम जीत रहे हैं, हमारी जीत भारत की जीत है. उन्होंने कहा कि हमें 295 से अधिक सीटें मिलेंगी. इसी कड़ी में माकपा महासचिव सीताराम येचुरी ने दावा किया कि सरकार गठन के बाद एक साझा न्यूनतम कार्यक्रम तैयार किया जाएगा और वही नई सरकार का आधार होगा.\"}, {'article': 'Lok Sabha Election 2024: एग्जिट पोल्स में बीजेपी गठबंधन तीसरी बार सत्ता में वापसी करता दिख रहा है. सात चरणों के एग्जिट पोल्स के आंकड़ों से पता चलता है कि INDIA ब्लॉक ने पहले चरण में तो NDA की टक्कर दी, लेकिन फिर चरण दर चरण विपक्षी दल पीछे होते चले गए.\\n\\nदेश की सत्ता से करीब 10 साल तक दूर रहने के बाद देश की सबसे बड़ी विपक्षी पार्टी कांग्रेस ने 18 जुलाई 2023 को दो दर्जन से ऊपर पार्टियों के साथ मिलकर इंडिया ब्लॉक बनाया. इसके बाद गठबंधन दलों ने पूरे जोर शोर से चुनाव की तैयारी करनी शुरू की, लेकर धीरे-धीरे जोश हल्का पड़ता रहा. यही वजह रही कि गठबंधन की कई पार्टियों ने चुनाव से पहले ही INDIA ब्लॉक से दूरी बना ली.\\n\\nअब चुनाव हो चुके हैं और एग्जिट पोल्स में INDIA ब्लॉक को हार मिलते दिख रही है. सत्ता में वापसी करने का दावा करने वाले INDIA ब्लॉक को TV9, Polstrat औन Peoples Insight के एग्जिट पोल में महज 162 सीटें मिलती दिख रही हैं. आइये जानते हैं कैसे चरण दर चरण दर इंडिया ब्लॉक सत्ता की रेस में दूर होता गया.\\n\\nपहले चरण में देश 102 सीटों पर चुनाव हुआ जिसमें INDIA ने NDA को करारी टक्कर जी है. पहले चरण की सीटों में INDIA को 49 सीटें मिलती दिख रही हैं. वहीं NDA को एक सीट ज्यादा 50 और अदर्स पार्टियों को 3 सीट दी गई हैं.\\n\\nपहला चरण अच्छा लड़ने के बाद दूसरे चरण में इंडिया ब्लॉक अपनी रफ्तार को जारी नहीं रख पाया है. दूसरे चरण की 87 सीटों में इंडिया ब्लॉक अपने खाते में 31 सीट ही लाता नजर आ रहा है. वहीं NDA 54 सीटें अपने नाम कर सकता है. अदर्स को 2 सीटें मिलती दिख रही हैं.\\n\\nतीसरे चरण में 95 सीटों के लिए चुनाव हुए जिसमें NDA को 69, INDIA को 25 और दूसरी पार्टियों को 1 सीट मिलने का अनुमान जताया गया है.\\n\\n96 सीटों के चौथे चरण में INDIA ब्लॉक और ज्यादा पिछड़ता हुआ दिख रहा है. इस चरण में ब्लॉक महज 21 सीट ही लाता दिख रहा है, वहीं एग्जिट पोल ने NDA को 60 सीटें और अदर्स को 15 सीटें दी हैं.\\n\\nपांचवा चरण में भी कुछ ऐसा ही सूरत ए हाल रहा है. पांचवें चरण की 49 सीटों में INDIA 13, NDA 35 और अदर्स 1 सीटे लाते हुए दिख रहे हैं.\\n\\nछठा चरण विपक्ष गठबंधन के लिए और निराशाजनक रहा है. इस चरण में गठबंधन के खाते में सिर्फ 8 सीट दी गई हैं, एग्जिट पोल में NDA 45 और दूसरी पार्टियों को 4 सीट दी गई हैं.\\n\\nचुनाव के आखिरी चरण में भी INDIA ब्लॉक वापसी करने में नाकाम होता दिख रहा. एग्जिट पोल में सातवें चरण की 57 सीटों में से INDIA ब्लॉक को 15, NDA को 33 और अदर्स का 9 सीटें मिलने का अनुमान जताया गया है.'}, {'article': 'Lok Sabha Election Results 2024 LIVE Streaming: देशभर में सात चरणों में हुए मतदान के बाद अब सभी की नजरें अब 4 जून को आने वाले नतीजों पर है. लोकसभा चुनाव 2024 के नतीजे 4 जून मंगलवार को सुबह से आने शुरू हो जाएंगे. एक तरफ एग्जिट पोल में एनडीए को बढ़त मिलता दिख रहा है तो वहीं दूसरी ओर विपक्षी गठबंधन INDIA ने 295 से अधिक सीटें हासिल करने का दावा कर रहा हैं.'}, {'article': 'लोकसभा चुनाव 2024 के लिए मतगणना 4 जून को होनी है. इससे पहले दिल्ली में चुनाव आयोग ने प्रेस कॉन्फ़्रेंस (Election Commission Press Conference) की है. आयोग ने आम चुनावों की वोटिंग के बाद और रिजल्ट के पहले ये प्रेस कॉन्फ्रेंस बुलाई है. ऐसा पहली बार हुआ है. मुख्य चुनाव आयुक्त राजीव कुमार ने कहा कि सोशल मीडिया पर \\'लापता जेंटलमेन\\' जैसे मीम चले, लेकिन ऐसा कुछ नहीं हुआ. चुनाव आयोग के अधिकारी कभी लापता थे ही नहीं.\\n\\nप्रेस कॉन्फ़्रेंस के दौरान राजीव कुमार का शायराना अंदाज भी दिखा. उन्होंने चुनाव ड्यूटी में लगे कर्मचारियों की तारीफ की. कहा कि देश का ऐसा कोई कोना नहीं होगा, जहां मतदान कर्मी ना पहुंचे हों. मुख्य चुनाव आयुक्त ने कहा कि जब इन कर्मचारियों पर आरोप लगते हैं, तो बहुत तकलीफ होती है. इसी के साथ उन्होंने दो पंक्तियां कहीं-\\n\\n\"गुलशन की ख़ूबसूरती फूलों से है, माली की बात कौन करता है.\\n\\nलोकतंत्र में जीत हार ज़रूरी है, मगर तुम्हारी बात कौन करता है.\\n\\nप्रेस कॉन्फ्रेंस के दौरान चुनाव आयोग के अधिकारियों ने सूरत से BJP उम्मीदवार को निर्विरोध विजेता घोषित करने पर भी प्रतिक्रिया दी. आयोग की तरफ से कहा गया कि वो हर सीट पर निष्पक्ष चुनाव कराने के पक्ष में है, अगर यह बात सामने आती है कि किसी उम्मीदवार का नाम जबरन वापस हुआ है, तब ही आयोग हस्तक्षेप कर सकता है.\\n\\nवहीं, पोस्टल बैलट की गिनती पहले करने की विपक्ष की मांग पर चुनाव आयोग ने कहा कि पोस्टल बैलट की गिनती पहले शुरू होगी. आधे घंटे बाद ईवीएम के वोट्स की गिनती शुरू होगी. ऐसा अरुणाचल और सिक्किम में भी हुआ.\\n\\nइससे पहले INDIA गठबंधन के नेताओं के एक प्रतिनिधिमंडल ने 2 जून को चुनाव आयोग के अधिकारियों से मुलाक़ात की थी. इस प्रतिनिधिमंडल में अभिषेक मनु सिंघवी , डी राजा, राम गोपाल यादव, संजय यादव, नासिर हुसैन, सलमान खुर्शीद और सीताराम येचुरी शामिल थे. इन नेताओं ने मतगणना को लेकर चुनाव आयोग से पांच मांगें रखी थीं. इनमें पोस्टल बैलट के रिजल्ट EVM के रिजल्ट से पहले जारी करने, नियमों के तहत काउंटिंग, मतगणना की CCTV से मॉनीटरिंग जैसी बातों का जिक्र था.\\n\\nइसके बाद वित्त मंत्री निर्मला सीतारमण, वाणिज्य मंत्री पीयूष गोयल समेत कई BJP नेताओं ने भी चुनाव आयोग के अधिकारियों से मुलाक़ात की थी. पीयूष गोयल ने मीडिया से बातचीत में कहा था कि कांग्रेस और INDIA गठबंधन की उसकी सहयोगी पार्टियों ने लगातार चुनाव प्रक्रिया पर सवाल उठाए. इन पार्टियों ने मिलकर आरोप लगाए हैं, जो इस लोकतांत्रिक संस्था पर हमला है. ये हमला बार-बार होता रहा है.\\n\\nइससे पहले चुनाव आयोग ने 16 मार्च को प्रेस कॉन्फ्रेंस की थी. इसमें लोकसभा और 4 राज्यों में विधानसभा चुनावों की तारीखों का एलान किया गया था.'}, {'article': 'इंडियन शेयर मार्केट (Indian Stock Market) पर लोकसभा चुनाव 2024 के एग्जिट पोल्स (Lok Sabha Election Exit Poll) का असर देखने को मिल रहा है. भारतीय बाजार 3 जून को गजब की तेजी के साथ खुले हैं. सेंसेक्स (BSE Sensex), निफ्टी (Nifty) और बैंक निफ्टी (Bank Nifty) सब नए रिकॉर्ड हाई पर खुले. सेंसेक्स जहां पहली बार 76 हजार के आंकड़े को पार गया, वहीं निफ्टी भी 23,300 के ऊपर खुला.\\n\\n3 जून की सुबह मार्केट खुलते ही निफ्टी 807 अंक चढ़कर 23,337 के लेवल पर खुला. जबकि सेंसेक्स 2,622 अंक चढ़कर 76,583 पर खुला. वहीं निफ्टी बैंक 1906 अंक चढ़कर 50,889 पर खुला. हालांकि, कुछ देर के कारोबार के बाद इसमें थोड़ी से गिरावट आई. खबर लिखे जाने तक सेंसेक्स 2091 अंकों की तेजी के साथ 76022 पर कारोबार कर रहा है. जबकि निफ्टी 653 अंकों की बढोतरी के साथ 23188 पर है. वहीं बैंक निफ्टी 1483 अंकों के उछाल के साथ 50470 पर है. मिडकैप और स्मॉलकैप शेयरों में भी जोरदार खरीदारी हो रही है. दोनों के अधिकतर शेयर्स ग्रीन नजर आ रहे हैं.\\n\\nपिछले कारोबारी दिन यानी 31 मई की बात करें तो बाजार रिकवर हुए थे. निफ्टी 42 अंक चढ़कर 22,530 पर बंद हुआ था. सेंसेक्स 75 अंक चढ़कर 73,961 पर बंद हुआ और निफ्टी बैंक 301 अंक चढ़कर 48,983 पर बंद हुआ था.\\n\\nये भी पढ़ें: वोटिंग खत्म होने के ठीक 2 दिन बाद महंगा हो गया अमूल दूध, टोल टैक्स में भी बढ़ोतरी, वजह बताई\\n\\n1 जून को अंतिम चरण की वोटिंग कराई गई थी. इसके बाद एजेंसियों ने एग्जिट पोल जारी किया था. Axis-My India के एग्जिट पोल के अनुसार, NDA इस चुनाव में बंपर जीत हासिल करती हुई दिख रही है. NDA को 361-401 सीटें हासिल करती हुई नजर आ रही है. जबकि I.N.D.I.A गठबंधन को 131-166 सीटें मिल रही है. वहीं सी वोटर में NDA को 353-383 और I.N.D.I.A गठबंधन को 152-182 सीटें मिलती दिख रही है. वहीं चाणक्य के एग्जिट पोल में NDA को 385-415 सीटें मिलती हुई दिख रही हैं.'}, {'article': 'Lok Sabha Election Result 2024 Date Time (लोकसभा चुनाव के नतीजे कल कितने बजे से आएंगे) Lok Sabha Chunav Ke Natije/Prainam on election commission of india Live Updates in Hindi: लोकतंत्र का सबसे बड़ा महापर्व लोकसभा चुनाव खत्म हो चुका है। अब सभी की नजरें चुनाव के परिणामों पर टिकी हुई हैं। चुनाव आयोग 4 जून को वोटों की गिनती शुरू करेगा। चुनाव आयोग की ओर से बताया गया है कि सुबह 8 बजे से वोटों की गिनती शुरू हो जाएगी और एक-एक कर सभी सीटों पर रुझान आना भी शुरू हो जाएंगे। चुनाव आयोग अपनी वेबसाइट और ऐप दोनों पर परिणामों को अपडेट करेगा। इस दौरान राजनीतिक दलों के पोलिंग एजेंट भी हर राउंड में हुई मतगणना के आंकड़े पार्टी से साझा करेंगे। चुनाव परिणामों के हर अपडेट के लिए जुड़े रहिए हमारे साथ...'}, {'article': 'लोकसभा चुनाव (Lok Sabha Election) के नतीजे 4 जून को आने हैं. अंतिम चरण के मतदान के बाद एग्जिट पोल (Exit Poll 2024) आए. इसमें NDA सरकार बनाती दिख रही है. NDA को अलग-अलग पोल्स 350 से लेकर 400 तक सीटें दे रहे हैं. इसमें BJP का बड़ा हिस्सा शामिल है. BJP को कई राज्यों में फ़ायदा तो मिलता दिख रहा है, लेकिन वोट प्रतिशत पर नजर डाली जाए तो कुछ राज्यों में BJP को नुक़सान भी हो सकता है.\\n\\nइंडिया टुडे - Axis My India के सर्वे के मुताबिक़, कई राज्यों में BJP के वोटर शेयर बढ़ता दिखा. तेलंगाना में BJP को 2019 के लोकसभा चुनाव के वोट शेयर से 24 फ़ीसदी बढ़कर 43 फ़ीसदी वोट मिल सकते हैं. वहीं, पंजाब में BJP को 26 फ़ीसदी वोट मिल सकते हैं, जो 2019 के चुनाव से 16 फ़ीसदी ज़्यादा हैं.\\n\\nओडिशा में BJP को बड़ा फ़ायदा होता दिख रहा है. यहां उसे 2019 के वोट शेयर से 13 फ़ीसदी वोट मिल रहे हैं. इससे ओडिशा में उसे 51 फ़ीसदी वोट मिल सकता है. वहीं आंध्र प्रदेश में उसे 2019 के चुनाव से 12 प्रतिशत बढ़कर 13 प्रतिशत वोट मिलने की संभावना है. दक्षिण में प्रवेश करने की कोशिश में लगी BJP को तमिलनाडु में 14 फ़ीसदी वोट मिल सकते हैं, जो 2019 लोकसभा चुनाव से 10 प्रतिशत ज़्यादा हैं.\\n\\nइससे इतर कई राज्यों में BJP को नुक़सान भी हो सकता है. 2019 की तुलना BJP को झारखंड में 2024 में 4 फ़ीसद वोट कम मिल सकते हैं. झारखंड के लिए अनुमानित वोट शेयर 47 फ़ीसदी है. वहीं, उत्तर प्रदेश में 4 फ़ीसदी के नुक़सान के साथ BJP को 46 फ़ीसदी, हिमाचल प्रदेश में 5 फ़ीसदी के नुक़सान के साथ 64 फ़ीसदी, राजस्थान में 7 फ़ीसदी के नुक़सान के साथ 51 फ़ीसदी और हरियाणा में 10 फ़ीसदी के नुक़सान के साथ 48 फ़ीसदी वोट मिल सकते हैं.\\n\\nये भी पढ़ें - दक्षिण भारत में BJP की बड़ी एंट्री?\\n\\nसर्वे में BJP के नेतृत्व वाले NDA गठबंधन को 361 से 401 सीटें मिलने का अनुमान है. वहीं INDIA गठबंधन को कुल 131 से 166 सीटें मिल सकती हैं. बिहार, महाराष्ट्र समेत कुछ राज्यों में BJP की सीटें घट सकती हैं लेकिन पश्चिम बंगाल, ओडिशा सहित कई राज्यों में पार्टी को बढ़त मिलती दिख रही है. अगर पार्टी के आधार पर आंकड़ों की बात करें, तो BJP को 322 से 340 सीट मिल सकती है. NDA के दूसरे सहयोगी दलों को 39 से 61 सीटें मिल सकती हैं. वोट प्रतिशत को देखें, तो BJP कुल 40 फ़ीसदी वोट हासिल कर सकती है. NDA को कुल मिलाकर 47 फीसदी वोट मिलने के आसार हैं.\\n\\nसाथ ही, कांग्रेस 60 से 76 सीट ला सकती है. इस एग्जिट पोल की मानें, तो INDIA गठबंधन में शामिल दूसरे दलों को कुल 71 से 90 सीटें मिलने का अनुमान है. कांग्रेस का वोट शेयर 21 फ़ीसदी हो सकता है. वहीं INDIA गठबंधन को कुल 39 फ़ीसदी वोट मिलने की संभावना जताई गई है.'}, {'article': \"आज शाम की ताजा खबर (Aaj Ki Taza Khabar), 2 जून 2024 की खबरें और समाचार: खबरों के लिहाज से रविवार का दिन काफी अहम रहा है. दिल्ली के मुख्यमंत्री अरविंद केजरीवाल ने तिहाड़ जेल में फिर से सरेंडर कर दिया है. वहीं, रविवार को ही अरुणाचल प्रदेश और सिक्किम विधानसभा चुनाव के परिणाम भी सामने आए हैं. एक बड़ी खबर बॉलीवुड से भी है. एक्ट्रेस रवीना टंडन से मारपीट का मामला सामने आया है. इसकी वीडियो भी वायरल हो रही है.\\n\\n'मैं देश बचाने के लिए जेल जा रहा', माता-पिता का आशीर्वाद लेकर केजरीवाल ने तिहाड़ में किया सरेंडर\\n\\nसुप्रीम कोर्ट से मिली 21 दिन की अंतरिम जमानत की अवधि खत्म होने के बाद अरविंद केजरीवाल आज तिहाड़ जेल के अधिकारियों के सामने सरेंडर किया. इससे पहले केजरीवाल सिविल लाइंस इलाके में स्थित अपने आवास से राजघाट के लिए रवाना हुए. केजरीवाल ने राजघाट पर महात्मा गांधी की समाधि पर पुष्प अर्पित किए. राजघाट के बाद केजरीवाल कनॉट प्लेस स्थित हनुमान मंदिर पहुंचे. यहां उन्होंने हनुमान जी के दर्शन कर पूजा अर्चना की. इसके बाद मुख्यमंत्री आम आदमी पार्टी के कार्यालय पहुंचे और यहां उन्होंने पार्टी कार्यकर्ताओं और नेताओं को संबोधित किया.\\n\\nArunachal Pradesh Election Result 2024: अरुणाचल प्रदेश में BJP की ऐतिहासिक जीत, 60 में से 46 सीटों पर किया कब्जा\\n\\nअरुणाचल प्रदेश की 50 विधानसभा सीटों के लिए हुए 19 अप्रैल को हुए विधानसभा चुनाव की मतगणना पूरी हो गई है. मतगणना सुबह 6 बजे से शुरू हुई थी. यहां कुल 133 उम्मीदवारों की किस्मत का फैसला हुआ है. मतगणना शुरू होने के बाद से ही बीजेपी ने बढ़त बनानी शुरू कर दी थी. बीजेपी ने 46 सीटों पर कब्जा कर लिया हैं. इसके अलावा कांग्रेस के खाते में 1, अन्य के खाते में 8 तथा एनपीपी के खाते में 5 सीटें गई हैं.\\n\\nSikkim Election Result 2024 Updates: सिक्किम में SKM की प्रचंड जीत, 32 में 31 सीटों पर किया कब्जा\\n\\nसिक्किम विधानसभा चुनावों के लिए मतगणना रविवार को पूरी हो गई. सिक्किम की 32 विधानसभा सीटों में से 31 पर SKM ने जीत दर्ज की है. सिक्किम में सत्तारूढ़ सिक्किम क्रांतिकारी मोर्चा (SKM) की यह लगातार दूसरी और प्रचंड जीत है. वहीं एक सीट SDF के खाते में आई जबकि अन्य किसी भी दल का खाता ही नहीं खुला.\\n\\n'सिद्धू मूसेवाला का गाना सुना है? 295...', Exit Poll का विरोध करते हुए राहुल गांधी को क्यों याद आए पंजाबी सिंगर\\n\\nदेशभर में 18वीं लोकसभा के चुनाव पूरे हो चुके हैं. ऐसे में सभी राज्यों को लेकर एग्जिट पोल साफ हो चुके हैं. इंडिया टुडे-एक्सिस माई इंडिया के एग्जिट पोल में सत्तारूढ़ NDA को 361-401 सीटें मिल रही हैं. तो वहीं INDIA ब्लॉक को 131-166 सीटें मिलने का अनुमान है. इसके अलावा भी अन्य एग्जिट पोल्स में NDA की ही सरकार बनती दिख रही है. इससे स्थिति साफ हो चुकी है कि INDIA ब्लॉक को हार मिल रही है. कांग्रेस नेता राहुल गांधी से जब एग्जिट पोल को लेकर सवाल किया गया तो उन्होंने कहा, 'यह एग्जिट पोल नहीं है. यह उनका फैंटेसी पोल है.' जब उनसे इंडिया गठबंधन की सीटों की संख्या के बारे में पूछा गया तो उन्होंने कहा, 'क्या आपने सिद्धू मूसेवाला का गाना 295 सुना है? '\\n\\nRaveena Tandon से मारपीट का मामला आया सामने, हंगामे का वीडियो वायरल, क्या है सच?\\n\\nरवीना टंडन का एक चौंकाने वाला वीडियो सामने आया है. बॉलीवुड एक्ट्रेस और उनके ड्राइवर पर मारपीट का आरोप लगा है. मामला 1 जून देर रात मुंबई के ब्रांदा इलाके का है. बांद्रा इलाके में तीन लोगों के साथ गाली-गलौच और मारपीट करने का आरोप रवीना पर लगा है. एक्ट्रेस को वहां के लोकर लोगों ने भी घेरा. कुछ लोगों ने उन पर हमला भी किया. रविवार सुबह से रवीना टंडन का एक वीडियो चर्चा का मुद्दा बना हुआ है. बताया जा रहा है कि रवीना का ड्राइवर बेहद लापरवाही से गाड़ी चला रहा था. रिजवी कॉलेज के पास कार्टर रोड पर रवीना की गाड़ी ने तीन व्यक्तियों को टक्कर मार दी. वहीं रवीना से जब इस बारे में बात करने की कोशिश की, तो वो नशे की हालत में पाई गईं.\"}, {'article': \"Exit Poll LIVE 2024: 'ये सरकारी पोल है, फर्जी है'- जयराम रमेश का बड़ा बयान | Loksabha Election 2024 लोकसभा चुनाव के लिए 7 चरणों की वोटिंग आज यानी शनिवार शाम (1 जून 2024) को खत्म हो गई. वोटिंग खत्म होने के बाद एग्जिट पोल के आंकड़े सामने आने लगे हैं. जहां BJP ने लगातार तीसरी बार सत्ता में आने के लिए 400 सीटों का लक्ष्य रखा है तो वहीं विपक्षी 'INDIA' गठबंधन NDA को सत्ता से बेदखल करने के लिए चुनाव में पूरा दमखम लगा दिया है. विपक्षी नेताओं का दावा है कि 'INDIA' गठबंधन 300 सीटें जीतने जा रहा है. चुनाव के नतीजे 4 जून को आएंगे...लेकिन एग्जिट पोल में एनडीए की फिर सरकार बनने का दावा किया गया है.....जिस पर कांग्रेस के महासचिव जयराम रमेश ने बड़ा बयान दिया है.. उन्होंने दावा किया कि एग्जिट पोल सरकारी पोल हैं और इंडिया गठबंधन को 295 सीट आ रही हैं\"}]\n"
     ]
    }
   ],
   "source": [
    "# copy the body of the articles to a new json file\n",
    "import json\n",
    "\n",
    "articles_body = []\n",
    "for article in articles:\n",
    "    art = {}\n",
    "    art[\"article\"] = article[\"body\"]\n",
    "    articles_body.append(art)\n",
    "print(articles_body)"
   ]
  },
  {
   "cell_type": "markdown",
   "metadata": {},
   "source": [
    "### Testing on one question"
   ]
  },
  {
   "cell_type": "code",
   "execution_count": 48,
   "metadata": {},
   "outputs": [],
   "source": [
    "import json\n",
    "\n",
    "def get_LLM_QnA(\n",
    "    src_filename,\n",
    "    client,\n",
    "    model=\"gpt-4o\",\n",
    "    QnA_prompt=\"Which of the following is correct tone that this article discuss about India elections:\",\n",
    "    QnA_answer=\"A) Positive\\nB) Neutral\\nC) Negative\\nD) Not applicable\\n\",\n",
    "):\n",
    "    with open(src_filename, \"r\") as f:\n",
    "        data = f.read()\n",
    "        des_articles = []\n",
    "        src_articles = json.loads(data)\n",
    "        for src_art in src_articles:\n",
    "            src_art[\"Question\"] = QnA_prompt\n",
    "            src_art[\"Answers\"] = QnA_answer\n",
    "            src_art[\"LLM_answer\"] = QnA(\n",
    "                str(src_art),\n",
    "                client,\n",
    "                model=model,\n",
    "                QnA_prompt=QnA_prompt,\n",
    "                QnA_answer=QnA_answer,\n",
    "            )\n",
    "            des_articles.append(src_art)\n",
    "    des_filename = \"QnA_\" + src_filename\n",
    "    if os.path.exists(des_filename):\n",
    "        os.remove(des_filename)\n",
    "    with open(des_filename, \"w\") as f:\n",
    "        json.dump(des_articles, f, ensure_ascii=False, indent=4)"
   ]
  },
  {
   "cell_type": "code",
   "execution_count": 49,
   "metadata": {},
   "outputs": [],
   "source": [
    "question = \"What type of event or topic is central to the article?:\"\n",
    "answer = \"A) Political elections \\\n",
    "B) Real estate transactions \\\n",
    "C) Tourism and travel \\\n",
    "D) Economic and market trends\"\n",
    "get_LLM_QnA(\n",
    "    \"hin.json\",\n",
    "    client,\n",
    "    model=\"gpt-4o\",\n",
    "    QnA_prompt=question,\n",
    "    QnA_answer=answer,\n",
    ")"
   ]
  },
  {
   "cell_type": "code",
   "execution_count": 50,
   "metadata": {},
   "outputs": [
    {
     "name": "stdout",
     "output_type": "stream",
     "text": [
      "Extracted answer: A, lang: hin\n",
      "Extracted answer: A, lang: hin\n",
      "Extracted answer: A, lang: hin\n",
      "Extracted answer: A, lang: hin\n",
      "Extracted answer: A, lang: hin\n",
      "Extracted answer: A, lang: hin\n",
      "Extracted answer: A, lang: hin\n",
      "Extracted answer: D, lang: hin\n",
      "Extracted answer: A, lang: hin\n",
      "Extracted answer: A, lang: hin\n",
      "Extracted answer: A, lang: hin\n",
      "Extracted answer: A, lang: hin\n",
      "Extracted answer: A, lang: hin\n",
      "Extracted answer: A, lang: hin\n",
      "Extracted answer: A, lang: hin\n",
      "Extracted answer: D, lang: hin\n",
      "Extracted answer: A, lang: hin\n",
      "Extracted answer: A, lang: hin\n",
      "Extracted answer: A, lang: hin\n",
      "Extracted answer: A, lang: hin\n"
     ]
    }
   ],
   "source": [
    "extract_answer_from_json(\"QnA_hin.json\")"
   ]
  },
  {
   "cell_type": "markdown",
   "metadata": {},
   "source": [
    "### Tone of article test"
   ]
  },
  {
   "cell_type": "code",
   "execution_count": 51,
   "metadata": {},
   "outputs": [],
   "source": [
    "import json\n",
    "\n",
    "def get_LLM_QnA(\n",
    "    src_filename,\n",
    "    client,\n",
    "    model=\"gpt-4o\",\n",
    "    QnA_prompt=\"Which of the following is correct tone that this article discuss about India elections:\",\n",
    "    QnA_answer=\"A) Positive\\nB) Neutral\\nC) Negative\\nD) Not applicable\\n\",\n",
    "):\n",
    "    with open(src_filename, \"r\") as f:\n",
    "        data = f.read()\n",
    "        des_articles = []\n",
    "        src_articles = json.loads(data)\n",
    "        for src_art in src_articles:\n",
    "            src_art[\"Question\"] = QnA_prompt\n",
    "            src_art[\"Answers\"] = QnA_answer\n",
    "            src_art[\"LLM_answer\"] = QnA(\n",
    "                str(src_art),\n",
    "                client,\n",
    "                model=model,\n",
    "                QnA_prompt=QnA_prompt,\n",
    "                QnA_answer=QnA_answer,\n",
    "            )\n",
    "            des_articles.append(src_art)\n",
    "    des_filename = \"Interest_\" + src_filename\n",
    "    if os.path.exists(des_filename):\n",
    "        os.remove(des_filename)\n",
    "    with open(des_filename, \"w\") as f:\n",
    "        json.dump(des_articles, f, ensure_ascii=False, indent=4)"
   ]
  },
  {
   "cell_type": "code",
   "execution_count": 52,
   "metadata": {},
   "outputs": [],
   "source": [
    "get_LLM_QnA(\"hin.json\", client)"
   ]
  },
  {
   "cell_type": "code",
   "execution_count": 53,
   "metadata": {},
   "outputs": [
    {
     "name": "stdout",
     "output_type": "stream",
     "text": [
      "Extracted answer: B, lang: hin\n",
      "Extracted answer: B, lang: hin\n",
      "Extracted answer: B, lang: hin\n",
      "Extracted answer: B, lang: hin\n",
      "Extracted answer: B, lang: hin\n",
      "Extracted answer: B, lang: hin\n",
      "Extracted answer: B, lang: hin\n",
      "Extracted answer: D, lang: hin\n",
      "Extracted answer: B, lang: hin\n",
      "Extracted answer: A, lang: hin\n",
      "Extracted answer: A, lang: hin\n",
      "Extracted answer: B, lang: hin\n",
      "Extracted answer: C, lang: hin\n",
      "Extracted answer: B, lang: hin\n",
      "Extracted answer: B, lang: hin\n",
      "Extracted answer: A, lang: hin\n",
      "Extracted answer: B, lang: hin\n",
      "Extracted answer: B, lang: hin\n",
      "Extracted answer: B, lang: hin\n",
      "Extracted answer: C, lang: hin\n"
     ]
    }
   ],
   "source": [
    "extract_answer_from_json(\"Interest_hin.json\")"
   ]
  },
  {
   "cell_type": "code",
   "execution_count": 54,
   "metadata": {},
   "outputs": [],
   "source": [
    "copy_LLM_QnA(\n",
    "    src_filename=\"QnA_hin.json\",\n",
    "    des_filename=\"Interest_hin.json\",\n",
    "    N=20,\n",
    ")"
   ]
  },
  {
   "cell_type": "markdown",
   "metadata": {},
   "source": [
    "### Testing on different questions"
   ]
  },
  {
   "cell_type": "code",
   "execution_count": 73,
   "metadata": {},
   "outputs": [],
   "source": [
    "def get_LLM_QnA(\n",
    "    src_filename,\n",
    "    client,\n",
    "    model=\"gpt-4o\",\n",
    "    QnA_prompt=\"Which of the following is the correct tone that this article discusses about India elections:\",\n",
    "    QnA_answer=\"A) Positive\\nB) Neutral\\nC) Negative\\nD) Not applicable\\n\",\n",
    "):\n",
    "    # Read the source file\n",
    "    with open(src_filename, \"r\") as f:\n",
    "        src_articles = json.load(f)\n",
    "\n",
    "    # Define the output file name\n",
    "    des_filename = \"QnA_\" + src_filename\n",
    "\n",
    "    # Initialize des_articles\n",
    "    des_articles = []\n",
    "\n",
    "    # Check if the output file already exists\n",
    "    if os.path.exists(des_filename):\n",
    "        with open(des_filename, \"r\") as f:\n",
    "            des_articles = json.load(f)\n",
    "    else:\n",
    "        des_articles = src_articles\n",
    "\n",
    "    # Process each article in the source file\n",
    "    for src_art in src_articles:\n",
    "        llm_answer = QnA(\n",
    "            str(src_art),\n",
    "            client,\n",
    "            model=model,\n",
    "            QnA_prompt=QnA_prompt,\n",
    "            QnA_answer=QnA_answer,\n",
    "        )\n",
    "        \n",
    "        qna_entry = {\n",
    "            \"Question\": QnA_prompt,\n",
    "            \"Answers\": QnA_answer,\n",
    "            \"LLM_answer\": llm_answer\n",
    "        }\n",
    "        \n",
    "        # Extract post_LLM_answer based on regex match\n",
    "        match = re.search(r\"\\s*([A-D])\\)\", llm_answer)\n",
    "        if match:\n",
    "            qna_entry[\"post_LLM_answer\"] = match.group(1)\n",
    "        else:\n",
    "            qna_entry[\"post_LLM_answer\"] = \"NaN\"\n",
    "        \n",
    "        if \"QnA\" not in src_art:\n",
    "            src_art[\"QnA\"] = []\n",
    "        src_art[\"QnA\"].append(qna_entry)\n",
    "\n",
    "    # Write the updated list to the output file\n",
    "    with open(des_filename, \"w\") as f:\n",
    "        json.dump(src_articles, f, ensure_ascii=False, indent=4)"
   ]
  },
  {
   "cell_type": "code",
   "execution_count": 74,
   "metadata": {},
   "outputs": [],
   "source": [
    "question = \"What is the primary focus of the article?\"\n",
    "answer = \"A) Election results and political analysis\\\n",
    "B) Real estate and property listings  \\\n",
    "C) Tourism and travel destinations \\\n",
    "D) Economic and market updates\"\n",
    "get_LLM_QnA(\n",
    "    \"eng.json\",\n",
    "    client,\n",
    "    model=\"gpt-4o\",\n",
    "    QnA_prompt=question,\n",
    "    QnA_answer=answer,\n",
    ")"
   ]
  },
  {
   "cell_type": "code",
   "execution_count": 75,
   "metadata": {},
   "outputs": [],
   "source": [
    "question = \"Which region or country is predominantly discussed in the article?\"\n",
    "answer = \"A) India\\\n",
    "B) United States  \\\n",
    "C) Europe \\\n",
    "D) Global\"\n",
    "get_LLM_QnA(\n",
    "    \"eng.json\",\n",
    "    client,\n",
    "    model=\"gpt-4o\",\n",
    "    QnA_prompt=question,\n",
    "    QnA_answer=answer,\n",
    ")"
   ]
  },
  {
   "cell_type": "markdown",
   "metadata": {},
   "source": [
    "### More categorical objective questions"
   ]
  },
  {
   "cell_type": "code",
   "execution_count": 77,
   "metadata": {},
   "outputs": [],
   "source": [
    "lang = \"eng\"\n",
    "dateStart = \"2024-05-28\"\n",
    "dateEnd = \"2024-06-04\"\n",
    "\n",
    "query = {\n",
    "  \"$query\": {\n",
    "    \"$and\": [\n",
    "      {\n",
    "        \"keyword\": \"india\",\n",
    "        \"keywordLoc\": \"body\"\n",
    "      },\n",
    "      {\n",
    "        \"keyword\": \"election\",\n",
    "        \"keywordLoc\": \"body\"\n",
    "      },\n",
    "      {\n",
    "        \"keyword\": \"2024\",\n",
    "        \"keywordLoc\": \"body\"\n",
    "      },\n",
    "      {\n",
    "        \"sourceLocationUri\": \"http://en.wikipedia.org/wiki/India\"\n",
    "      },\n",
    "      {\n",
    "        \"dateStart\": \"2024-05-28\",\n",
    "        \"dateEnd\": \"2024-06-04\",\n",
    "        \"lang\": \"eng\"\n",
    "      }\n",
    "    ]\n",
    "  }\n",
    "}\n",
    "q = QueryArticlesIter.initWithComplexQuery(query)\n",
    "filename = lang + dateEnd + \".json\"\n",
    "if os.path.exists(filename):\n",
    "    os.remove(filename)\n",
    "\n",
    "articles = []\n",
    "for art in q.execQuery(\n",
    "    er,\n",
    "    sortBy=\"date\",\n",
    "    maxItems=20,\n",
    "    returnInfo=ReturnInfo(\n",
    "        sourceInfo=SourceInfoFlags(location=True),\n",
    "    ),\n",
    "):\n",
    "    articles.append(art)\n",
    "\n",
    "with open(filename, \"w\") as f:\n",
    "    json.dump(articles, f, ensure_ascii=False, indent=4)"
   ]
  },
  {
   "cell_type": "code",
   "execution_count": 78,
   "metadata": {},
   "outputs": [
    {
     "name": "stdout",
     "output_type": "stream",
     "text": [
      "[{'article': 'In the 2024 Lok Sabha elections, Uttar Pradesh became a political thriller with Rahul Gandhi and Akhilesh Yadav challenging the BJP, resulting in a reduced seat share for the ruling party. Priyanka Gandhi\\'s intense campaign played a crucial role in Congress\\'s victories in Amethi and Rae Bareli. Her direct and personal approach resonated with voters, particularly women. She also successfully brokered a seat-sharing deal between Congress and the Samajwadi Party. This election marked a significant turnaround for Congress in Uttar Pradesh.Uttar Pradesh has emerged as a gripping political thriller on the day of the Lok Sabha election results in 2024. Rahul Gandhi and Akhilesh Yadav, the \\'UP ke ladke\\', posed a formidable challenge to the Bharatiya Janata Party (BJP), with the INDIA bloc cutting into BJP\\'s seat share. However, the true victor of Uttar Pradesh in this election is a leader whose efforts have finally borne fruit.\\n\\nThe twin power:\\n\\nThe Congress clinched victory in Amethi and Rae Bareli. Rahul Gandhi, who contested from Rae Bareli this time along with Wayanad after Sonia Gandhi moved to Rajya Sabha, won by a huge margin and broke his mother\\'s record.\\n\\nAmethi, which the Congress lost in 2019 after BJP\\'s Smriti Irani defeated Rahul Gandhi, in a surprise result, is also now back with the party. Congress\\'s Amethi candidate Kishori Lal Sharma won the Gandhi family bastion defeating BJP\\'s \\'giant-slayer\\'.\\n\\nCongratulating Sharma, Priyanka Gandhi wrote on X: \"Kishori bhaiya, I never had any doubts, I was sure from the beginning that you would win. Hearty congratulations to you and my dear brothers and sisters of Amethi!\"\\n\\nThe positive outcomes followed an intense campaign led by star campaigner Priyanka Gandhi, who chose not to run in the elections but made every effort to secure votes for the alliance.\\n\\nThe star campaigner in Uttar Pradesh\\n\\nIn one of her addresses to the party workers during the election campaign Priyanka said, \"We have to fight together, with all our strength. Every single one of us has to be ready for the battle ahead.\" She urged party members to work tirelessly and fearlessly to secure victory in the polls and showed the way herself.\\n\\nPriyanka Gandhi Vadra\\'s campaign in Amethi and Rae Bareli showcased her personal approach, boldness, and impromptu style. Her interactions with the public were marked by a sense of connection and empathy. \"I am your sister, your daughter. I have come to understand your issues and find solutions,\" she told a group of women in Amethi.\\n\\nPriyanka\\'s campaign focused on directly engaging with voters, especially women, and addressing their concerns. She visited villages, held small meetings, and participated in door-to-door canvassing. Her spontaneity was evident when she joined young girls performing a folk dance at a village in Rae Bareli, breaking into an impromptu jig herself.\\n\\nPriyanka\\'s campaign style was a departure from the traditional, stage-managed rallies often seen in Indian politics. Her approach was more personal, direct, and spontaneous, which resonated with the local population and is now translating into Lok Sabha wins.\\n\\nThe one who brought \\'UP ke ladke\\' together\\n\\nAfter the 2017 assembly election setback, a new alliance between Congress and the Samajwadi Party seemed unlikely. However, they finally agreed on seat sharing, thanks to Priyanka Gandhi, who broke the deadlock.\\n\\nWhile announcing the seat-sharing details in February, Congress UP incharge Avinash Pande made a special mention of Priyanka\\'s role in reaching a consensus. It was Priyanka Gandhi who dialled up Akhilesh Yadav to iron out differences between the two parties. The call helped not just seal the deal but also ensured that Congress got a fair deal in the form of some important seats that it wanted, the sources added.\\n\\nIn 2017 last assembly elections, the Congress could win just one seat. This, even though Priyanka Gandhi led the party campaign. In the 2019 Lok Sabha elections also, the party could win only the Rae Bareli seat which is represented by Sonia Gandhi. Rahul Gandhi\\'s defeat at the hands of BJP\\'s Smriti Irani in Congress bastion of Amethi represented a new low in Congress\\'s electoral performance in the state.\\n\\nBut the 2024 Lok Sabha election results now portray a different story altogether.\\n\\n(With TOI inputs)'}, {'article': \"Jofra Archer's Tweet Resurfaces As BJP Fails To Go '400 Par' In Lok Sabha Election Result 2024: When on song, Jofra Archer, the England speedster, is among the most lethal fast bowlers in world cricket. While he hasn't been able to be on the field as often as he and the Three Lions would have liked, owing to injury and fitness concerns, Archer is also known for his tweets which somehow find their way to be relevant, years after they had been posted by the pacer\\n\\nAnd now as the Results of the Lok Sabha Election 2024 was declared on Tuesday (June 4), one of Archer's old tweet has resurfaced. Notably, the ruling party in India- Prime Minister Narendra Modi-led Bhartiya Janata Party (BJP)'s entire campaign for the elections revolved around the 'Abki Baar 400 Paar' Mantra which clearly showed their aim of going past 400 seats in the General Elections.\\n\\nREAD HERE | From Highest First Time Voters To Biggest Victory Margin -- A List Of Records Set In Lok Sabha Election 2024\\n\\nHowever, with the BJP-led National Democartic Alliance (NDA) having to settle with less than 300 seats, Archer's old tweet has gone viral and seems to be a dig at the party even though it could be an observation on a cricket match and its score made years ago.\\n\\nALSO READ | From Yusuf Pathan, Kirti Azad To Devendra Jhajharia: How Sporting Personalities Fared In Lok Sabha Election 2024\\n\\nMeanwhile, among members of the cricket fraternity it was Yusuf Pathan and Kirti Azad, who had contested in the Lok Sabha Elections. Both were candidates of the All India Trinamool Congress (TMC), contesting from the Bahrampur and the Bardhaman-Durgapur Constituency respectively. Both emerged victorious, with Pathan beating Congress' Adhir Ranjan Chowdhury and Azad winning over BJP'sDilip Ghosh.\"}, {'article': 'Pithapuram, the seat from where Kalyan chose to fight the assembly election, had become the most keenly watched contest in Andhra Pradesh.\\n\\nP.K. had lost both the Gajuwaka and Bhimavaram assembly constituencies to the YSRCP in the 2019 polls, which he had contested in an alliance with the Communist Party of India (Marxist), the Communist Party of India and the Bahujan Samaj Party, leaving lakhs of fans and admirers of the hugely popular Telugu film star turned politician, especially among the youth, heartbroken.\\n\\nTaking no chances in this election, Kalyan had allied with TDP and BJP -- the winning combination of the 2014 polls. Kalyan formed the JSP in 2014, but the fledgling party did not contest the polls then, even though Kalyan campaigned extensively for the TDP-BJP.\\n\\nFor the 2024 elections, Kalyan, going against the expectations of his party workers in these elections, settled for 21 assembly seats and two Lok Sabha seats as the share of the JSP in the tripartite alliance to accommodate the BJP.\\n\\nKalyan started his political career in the short-lived Praja Rajyam Party (PRP) formed by his elder brother, K. Chiranjeevi, but left when the PRP merged with the Congress in 2011 and founded the JSP three years later.\\n\\nKalyan\\'s Pithapuram selection, according to analysts, is calculated and deliberate as the assembly seat has a significant number of Kapus, whose community Kalyan hails from.\\n\\nPithapuram, 15 km from the port town Kakinada, is located in the lush Godavari region and is known for its serene green landscapes, temples, etc. According to reports, the most heavily wagered-on result in the state was that of Pithapuram, after the discrete betting of crores of rupees on which party or combine would come to power in the state.\\n\\nIn addition to the caste factor, hundreds of Kalyan\\'s fans -- daily wage labourers from nearby towns and villages to Telugu techies from abroad -- descended on the quiet town of Pithapuram, weeks ahead of the 13 May polls. They silently but actively campaigned for Kalyan, galvanising electoral support for their beloved leader.\\n\\nKalyan, however, faced a formidable rival in YSRCP candidate Geetha. A seasoned politician, Geetha, who started her political journey in the TDP, was elected the Pithapuram MLA in 2009 from Chiranjeevi\\'s PRP. At the time, Kalyan actively supported Geetha as part of the PRP campaign.\\n\\nGeetha was a TDP Rajya Sabha MP from 2000 to 2006 before she joined the PRP and then the Congress when the PRP merged with the national party. She joined the YSRCP before the 2019 polls and won the Lok Sabha elections from Kakinada seat, which includes the Pithapuram assembly segment.\\n\\nUnperturbed by the presence of the hugely popular Kalyan, Geetha went about her campaign by assuring voters of her services as a locally available leader and reminding them about her contributions, such as developing affordable housing, modernising the Yeluru canal and bringing the Industrial Training Institute, polytechnic, and hotel management institutes to Pithapuram. Geetha also banked on the welfare programmes of the Jagan Mohan Reddy-led government -- pension, Amma Vodi, and Cheyutha, among other such schemes for women -- to gather support.\\n\\nWhile Kalyan connected directly with the Pithapuram electorate through his addresses at rallies and road shows, the film star also received the backing of the film fraternity, especially his family. Elder brother and former Union minister Chiranjeevi, who has taken a break from politics, released a short video on social media, appealing for public support for Kalyan. Chiranjeevi\\'s son Ram Charan of RRR (2022) fame, nephew Sai Durgha Tej, and other prominent actors such as Ghanta Nani and Teja Sajja of Hanu-Man (2024) fame also extended their support to the \"power star\" in the Telugu film industry.\\n\\nOn 13 May, Pithapuram, with 236,409 registered voters, recorded an 86.63 voting percentage, according to the ECI.'}, {'article': 'New Delhi [India], June 4 (ANI): Rajasthan Chief Minister Bhajanlal Sharma on Tuesday congratulated Prime Minister Narendra Modi over the victory registered from Varanasi in the 2024 Lok Sabha polls and said that his win was \"historic.\"\\n\\n\"Heartiest congratulations to the architect of \\'Ek Bharat-Shrestha Bharat\\', \\'Charioteer of Amritkaal\\' of New India, Prime Minister Narendra Modi, on achieving a historic victory from Varanasi Lok Sabha constituency, the confluence of India\\'s spiritual and cultural heritage,\" said CM Sharma.\\n\\n\"This massive victory is a symbol of the unwavering faith of the people of Kashi, the city of Devadhishdev Mahadev,\" said the Chief Minister.\\n\\nPraising PM Modi, he said the win is due to the PM\\'s guidance and leadership, public welfare vision and policies, and \\'Modi ki Guarantee\\' dedicated to public welfare.\\n\\nTaking to X, he said, \"With the blessings of Lord Mahadev, under PM Modi\\'s energetic leadership, may the foundation of \\'Developed India\\' be strengthened and may India continue to move on the path of rapid development. Hail Lord Mahadev! Hail Lord Ganga!\"\\n\\nNotably, PM Modi has defeated Congress candidate Ajay Rai with a margin of 1,52,513 votes, according to the Election Commission of India.\\n\\nPrime Minister Modi received 6,12,970 votes while Ajay Rai received 4,60,457 votes. Bahujan Samaj Party candidate Ather Jamal Lari was in the third position with 33,766 votes.\\n\\nAfrer a defeat, Rai thanked the people of Kashi for their support adding that PM Modi had to face difficulty even in winning by a margin of 1,50,000 votes. (ANI)'}, {'article': \"Bharatiya Janata Party (BJP) supporters light firecrackers after hearing of a candidate's victory during the counting of votes in India's national election, in New Delhi, India, on 4 June 2024. AP\\n\\nThe Bharatiya Janata Party (BJP) is confident of returning to power for a third term at the Centre as its National Democratic Alliance (NDA) has surpassed the majority mark of 272 and is leading in 292 seats. The Opposition INDIA bloc has made big gains in this Lok Sabha election and could win over 230 seats. The Others are likely to take 19 seats as vote counting progresses.\\n\\nThe saffron party has been reduced to 240 seats this time, compared to 303 it won in the 2019 polls. However, the party has a reason to cheer as many of its candidates have won by a significant margin.\\n\\nHere's a look at the biggest winners of the 2024 Lok Sabha elections.\\n\\nNDA's top winners\\n\\nShankar Lalwani of the BJP scripted history as he won the Indore Lok Sabha seat by a whooping margin of over 10 lakh votes. Not any candidate but None of the Above (NOTA) emerged as the runner-up in the Madhya Pradesh constituency, getting 218,674 votes. Notably, the BJP won all 29 Lok Sabha seats in the Hindi belt state.\\n\\nUnion Home Minister Amit Shah, who won a second term from Gujarat's Gandhinagar, defeated his nearest rival Congress' Sonal Patel by 744,716 votes.\\n\\nFormer Madhya Pradesh chief minister Shivraj Singh Chouhan won by a huge margin of over eight lakh votes from the Vidisha constituency on a BJP ticket. He trounced Congress leader Pratap Bhanu Sharma, who secured 295,052 votes.\\n\\nGujarat BJP president CR Patil got 10,31,065 votes in Navsari, defeating Congress candidate Naishadh Bhupatbhai Desai by a margin of 7.7 lakh votes.\\n\\nIn Chhattisgarh's Raipur, the BJP's Brijmohan Agrawal received 10,50,351 votes against Vikas Upadhyay of the Congress who won 475,066 votes.\\n\\nRajpalsinh Mahendrasinh Jadav of the BJP bagged the Panchmahal Lok Sabha seat in Gujarat by a margin of over five lakh votes against the Congress leader Gulabsinh Somsinh Chauhan.\\n\\nBJP's Hemang Joshi won a mandate of 873,189 votes in Gujarat's Vadodara, trouncing his nearest rival Padhiyar Jashpalsinh Mahendrasinh (Bapu) by over 5.8 lakh votes.\\n\\nBJP's Jyotiraditya Scindia registered a victory from Guna in Madhya Pradesh by a margin of 540,929 votes against the Congress' Yadvendra Rao Deshraj Singh.\\n\\nThe saffron party's Vishnu Datt Sharma also won from the Khajuraho seat by over five lakh votes. The runner-up was Bahujan Samaj Party's (BSP) Kamlesh Kumar.\\n\\nBJP's Alok Sharma and Sudheer Gupta also won with a margin of more than five lakh votes from Bhopal and Mandsour respectively.\\n\\nDr Mahesh Sharma of the saffron party won by a margin of over five lakh votes in Uttar Pradesh's Gautam Buddha Nagar.\\n\\nSribharat Mathukumilli of the Telugu Desam Party (TDP) won Visakhapatnam by a margin of 504,247 votes against the Yuvajana Sramika Rythu Congress Party (YSRCP) candidate Jhansi Lakshmi Botcha.\\n\\nINDIA parties\\n\\nCongress' Rakibul Hussain will be a giant slayer as he is leading with a margin of over 10 lakh votes in Assam's Dhubri Lok Sabha constituency. Hussain won 1,46,7110 votes, while his nearest rival Badruddin Ajmal of the All India United Democratic Front secured 4.5 lakh votes.\\n\\nRahul Gandhi clinched the Congress' bastion of Rae Bareli by a margin of 390,030 votes against the BJP's Dinesh Pratap Singh who got 297,619 votes. The former Congress chief bagged the seat with over double the margin of Sonia Gandhi in 2019.\\n\\nRahul Gandhi also comfortably defeated the Communist Party of India's Annie Raja in Kerala's Wayanad with over three lakh votes.\\n\\nWhile the Trinamool Congress (TMC) fought the elections solo in West Bengal, it is part of the INDIA bloc. Chief Minister Mamata Banerjee's nephew Abhishek Banerjee logged a massive victory over BJP's Abhijit Das (Bobby) by over seven lakh votes.\\n\\nLowest margins\\n\\nMany candidates won by a margin of less than 1,000 votes.\\n\\nIn Kerala's Attingal, the Congress candidate won by a few hundred votes.\\n\\nEknath Shinde-led Shiv Sena candidate Ravindra Waikar won by just 48 votes against rival Shiv Sena (Uddhav Balasaheb Thackrey) leader Amol Gajanan Kirtikar in the Mumbai Northwest seat.\"}, {'article': 'Get latest articles and stories on India at LatestLY. She scoffed at Prime Minister Narendra Modi\\'s barbs by delivering her own piercing jibes. She revived painful memories of her father\\'s assassination to emphasise her family\\'s sacrifices and patriotism. Drawing immense crowds in rally after rally, she emerged as the mobiliser-in-chief for her party.\\n\\nNew Delhi, Jun 4 (PTI) She scoffed at Prime Minister Narendra Modi\\'s barbs by delivering her own piercing jibes. She revived painful memories of her father\\'s assassination to emphasise her family\\'s sacrifices and patriotism. Drawing immense crowds in rally after rally, she emerged as the mobiliser-in-chief for her party.\\n\\nWith the Congress putting up a surprisingly good show in the Lok Sabha polls, Priyanka Gandhi Vadra has cemented her position as her party\\'s talisman.\\n\\nAlso Read | PM Narendra Modi Thanks Voters for NDA\\'s Third Term, Says Fight Against Corruption Will Continue.\\n\\n\"The Congress for a long time was in search of an effective campaigner and in the 2024 elections Priyanka Gandhi has been a revelation in the way she has responded to Modi. Priyanka Gandhi showed Modi can be countered and played a key role pan-India,\" said Rasheed Kidwai, who has authored several books, including \"24 Akbar Road: A Short History Of The People Behind The Fall And Rise Of The Congress\".\\n\\nPolitical commentator and former Congress leader Sanjay Jha hailed Priyanka Gandhi as an \"outstanding campaigner\".\\n\\nAlso Read | Himachal Pradesh Election Results 2024: Huge Relief for Sukhvinder Sukhu Led Congress Government As Party Wins Four Out of Six Bypolls, Loses Four Lok Sabha Seats to BJP for Third Time in a Row.\\n\\n\"Her sharp and prompt rebuttals to Mr Modi\\'s jibes have worked wonders during the campaign. Her presence has been talismanic,\" he said.\\n\\n\"I am very happy. I would like to say to the people of UP that they showed a lot of wisdom. I am most proud of my UP,\" she told reporters after a press conference here.\\n\\nThe INDIA bloc may end up falling short of the magic mark to form government but gave the country an opposition to contend with. At 3 pm, trends showed it ahead in 230 seats and the Congress leading in 98 seats, almost double of what it got last time. Priyanka Gandhi in large part was at the centre of the Congress\\' action, giving a number of enduring images from this election campaign.\\n\\nWho can forget her emotional outburst in Bengaluru when she lashed out at Prime Minister Modi over his \"gold and mangalsutra\" remarks, saying her mother Sonia Gandhi sacrificed her \"mangalsutra\" for the country.\\n\\nThe speculation was intense as was the spotlight on everything she said. But the Congress general secretary did not take the electoral plunge this time, opting instead to be the party\\'s go-to star campaigner and anchor for the elections in Rae Bareli, from where her brother contested, and Amethi, where the family\\'s aide Kishori Lal Sharma took on Union minister Smriti Irani.\\n\\nWhile Sharma beat Irani by more than 1.67 lakh votes, Rahul Gandhi won by 3.9 lakh votes.\\n\\nMuch of this is attributed to Priyanka Gandhi, who stayed camped in the two family bastions of Rae Bareli and Amethi for two weeks. If there was ever a non-playing captain in the rough and tumble that is the electoral arena it has to be the leader who was here, there and everywhere in the two constituencies.\\n\\nDiscussing her childhood, the pain of her father Rajiv Gandhi\\'s assassination and her mother\\'s grief, she steered the Congress campaign, adroitly walking the tightrope between striking a familial chord and discussing national level issues.\\n\\nThe spotlight firmly on her, Priyanka Gandhi was strategist, orator and mass mobiliser.\\n\\nAs the curtains came down on Election 2024, analysts totted up the numbers. She took part in 108 public meetings and roadshows. She also gave more than 100 media bites, one TV interview and five print interviews during her marathon election campaign.\\n\\nShe campaigned in 16 states and one union territory. Priyanka Gandhi also addressed two conferences of workers in Amethi and Rae Bareli.\\n\\nAt a packed party workers\\' meeting in Amethi, the Congress leader narrated the story of a woman sitting in the audience who wanted to educate her daughter but her father-in-law was against it. Undeterred, she stitched sari falls to fund her daughter\\'s education and managed to make her a graduate.\\n\\nPriyanka Gandhi told the woman that she was inspired by her and then called her over to sit on stage. There were plenty of smiles all around and a few cheers too as the audience responded to a meeting that appeared to go beyond being just politics.\\n\\nIt was just one of the many instances in the campaign during which Priyanka Gandhi went on a charm offensive with speeches centred around anecdotes from past elections -- when she campaigned for her mother Sonia Gandhi or brother Rahul, or from her childhood when she accompanied her father Rajiv Gandhi who fought multiple elections from Amethi.\\n\\nIn one meeting, she said she would fast for her father\\'s safety after he lost power and was in the opposition.\\n\\n\"I started keeping \\'maun vrats\\' and my father asked why I was doing it on Sundays and told me, \\'it is the only day when I get some time to speak with you\\',\" Priyanka Gandhi narrated.\\n\\nMost of her speeches were akin to a conversation with the crowd, establishing a connect and giving people the impression that this is someone they know, someone sharing her feelings and thoughts with them.\\n\\nAccountability was a constant refrain in her campaign speeches across the country. In her campaign speeches, Priyanka Gandhi also made it a point to appeal to people to not vote on emotive issues based on religion and caste and vote for bread and butter issues to improve their daily lives.\\n\\nGoing forward, her role in the party would be in focus as the wait continues for her electoral debut. If the Congress has to build on its pluses this election, she will have to be more hands-on in future with a bigger organisational role perhaps.'}, {'article': \"Kolkata, Jun 4 (PTI) Union minister and prominent Matua Community leader Shantanu Thakur retained the refugee-dominated Bongaon seat, where the elections served as a crucial test for the BJP's key agenda following the implementation of Citizenship Amendment Act (CAA) rules.\\n\\nThakur retained the Matua bastion of Bongoan Lok Sabha seat by a margin of over 73,000 votes.\\n\\nAlso Read | PM Narendra Modi Thanks Voters for NDA's Third Term, Says Fight Against Corruption Will Continue.\\n\\nHe bagged 7,19,505 votes against his nearest TMC rival Biswajit Das got 6,45,812 votes.\\n\\nThakur, a prominent leader of the Matua community, entered politics just before the 2019 Lok Sabha elections.\\n\\nAlso Read | Himachal Pradesh Election Results 2024: Huge Relief for Sukhvinder Sukhu Led Congress Government As Party Wins Four Out of Six Bypolls, Loses Four Lok Sabha Seats to BJP for Third Time in a Row.\\n\\nHe secured victory in the Bongaon (SC) Lok Sabha seat, which has a significant Matua population, by an impressive margin of 1,11,594 votes, capturing around 48 per cent of the total votes cast.\\n\\nKnown for his vocal support of the CAA, Thakur was appointed the Union Minister of State for the Ministry of Ports, Shipping, and Waterways in a cabinet reshuffle in July 2019.\\n\\nHe is a key figure in the All India Matua Mahasangha and comes from a political family. His father, Manjul Krishna Thakur, is a former TMC minister, and his brother, Subrata Thakur, serves as a BJP MLA in the West Bengal Legislative Assembly.\\n\\nThe constituency, currently held by the BJP, has emerged as a crucible where politics intertwines with identity, and where the promises of ideological agendas meet with the realities of their implementation.\\n\\nNo wonder then that ahead of the Lok Sabha polls, Bongaon has become a focal point of intense political manoeuvring, with the BJP, emboldened by the recent notification of CAA rules, positioning itself as the harbinger of hope for the Matuas by tapping into their aspirations for recognition and security.\\n\\n(This is an unedited and auto-generated story from Syndicated News feed, LatestLY Staff may not have modified or edited the content body)\"}, {'article': \"Get latest articles and stories on India at LatestLY. The BJP-led NDA on Tuesday got a simple majority in the Lok Sabha elections by winning 273 seats.\\n\\nNew Delhi, Jun 4 (PTI) The BJP-led NDA on Tuesday got a simple majority in the Lok Sabha elections by winning 273 seats.\\n\\nWhile results for 498 seats were declared by the Election Commission, counting on 45 seats was still on.\\n\\nAlso Read | PM Narendra Modi Thanks Voters for NDA's Third Term, Says Fight Against Corruption Will Continue.\\n\\nAccording to the tally on the EC website, the BJP has already won 226 seats, and its allies TDP and JDU won 12 seats each, Shiv Sena 7, LJP (Ram Vilas) 5 and JDS and RLD two seats each.\\n\\nOther NDA partners including Jana Sena, NCP, UPPL, AJSU, HAMS, SKM and Apna Dal (Sone Lal) have won one seat each.\\n\\nAlso Read | Himachal Pradesh Election Results 2024: Huge Relief for Sukhvinder Sukhu Led Congress Government As Party Wins Four Out of Six Bypolls, Loses Four Lok Sabha Seats to BJP for Third Time in a Row.\\n\\nThe BJP had already won the Surat Lok Sabha seat unopposed.\\n\\nAs per the latest tally, the BJP was leading in 12 more seats, while TDP was leading in four more seats and some other NDA partners like AGP were leading in one seat.\\n\\n(This is an unedited and auto-generated story from Syndicated News feed, LatestLY Staff may not have modified or edited the content body)\"}, {'article': 'Congress workers expressed their jubilation and celebrated on Tuesday after party candidate Pradyut Bordoloi won from the Nagaon parliamentary constituency in Assam. Pradyut Bordoloi said, \"In Assam, Chief Minister Himanta Biswa Sarma has been dividing people on the basis of religion. The politics of religious polarisation has come to an end. This election has given a clear and clarion signal.\"\\n\\nAccording to ECI trends and results, the BJP has won in 2 Lok Sabha constituencies and is leading in 7 constituencies in Assam. The Congress is leading in 3 seats. The United People\\'s Party, Liberal (UPPL) is leading in 1 seat while the Asom Gana Parishad (AGP) is leading in one seat. The Congress party thanked the people of India after the party improved its tally from the last elections and the INDIA bloc is poised to cross the 230 mark in the 2024 Lok Sabha elections.\\n\\nThe party posted a picture of Congress President Mallikarjun Kharge, party leader Rahul Gandhi, Priyanka Gandhi, and former AICC president Sonia Gandhi, posing with the victory symbol. It was captioned \"Dhanyavad Hindustan.\" As the counting for the Lok Sabha elections was nearing its end, the Bharatiya Janata Party-led National Democratic Alliance (NDA) crossed the majority mark and is ahead on around 300 seats, while the INDIA bloc, defying all predictions is leading on over 230 seats. (ANI)\\n\\n(This story has not been edited by Devdiscourse staff and is auto-generated from a syndicated feed.)'}, {'article': 'Get latest articles and stories on India at LatestLY. Actor-turned-politician and sitting MP Shatrughan Sinha won from the Asansol Lok Sabha seat in West Bengal on Tuesday, the ECI said.The TMC leader defeated his nearest rival S S Ahluwalia of the BJP by a margin of 59,564 votes.\\n\\nKolkata, Jun 4 (PTI) Actor-turned-politician and sitting MP Shatrughan Sinha won from the Asansol Lok Sabha seat in West Bengal on Tuesday, the ECI said.The TMC leader defeated his nearest rival S S Ahluwalia of the BJP by a margin of 59,564 votes.\\n\\nSinha secured 6,05,645 votes, while Ahluwalia garnered 5,46,081 votes.\\n\\nAlso Read | PM Narendra Modi Thanks Voters for NDA\\'s Third Term, Says Fight Against Corruption Will Continue.\\n\\nCricketer-turned-politician Kirti Azad defeated his nearest rival Dilip Ghosh of the BJP by 1,37,981 votes in the Bardhaman-Durgapur Lok Sabha seat.\\n\\nAzad, the TMC candidate, secured 7,20,667 votes, while Ghosh, a former state BJP president, got 5,82,686 votes.\\n\\nAlso Read | Himachal Pradesh Election Results 2024: Huge Relief for Sukhvinder Sukhu Led Congress Government As Party Wins Four Out of Six Bypolls, Loses Four Lok Sabha Seats to BJP for Third Time in a Row.\\n\\nSpeaking to reporters, Shatrughan Sinha said, \"This is Mamata Banerjee\\'s win. I will try my best to address the issues in the constituency. I had earlier said Mamata ji will be a game-changer and TMC will sweep Bengal.\"\\n\\nSinha, the sitting Asansol MP, alleged that the exit polls were \"fabricated to misguide voters\".\\n\\nDuring the by-poll held in the constituency in 2022, Sinha defeated BJP\\'s Agnimitra Paul by a margin of 3,03,209 votes. The Lok Sabha seat went vacant after the then BJP MP Babul Supriyo resigned and joined the Trinamool Congress.\\n\\nThe Asansol Lok Sabha constituency in Paschim Bardhaman district comprises seven assembly constituencies - Pandabeswar, Raniganj, Jamuria, Asansol Dakshin, Asansol Uttar, Kulti and Barabani.\\n\\nThe constituency has unaddressed issues related to unemployment and drinking water problems and has a mixed population.\\n\\n(This is an unedited and auto-generated story from Syndicated News feed, LatestLY Staff may not have modified or edited the content body)'}, {'article': \"Get latest articles and stories on India at LatestLY. Rajya Sabha MP Misa Bharti, RJD candidate and elder daughter of party supremo Lalu Prasad, won the Patliputra Lok Sabha seat, defeating her nearest BJP rival Ram Kripal Yadav by a margin of over 85,000 votes.\\n\\nPatna, Jun 4 (PTI) Rajya Sabha MP Misa Bharti, RJD candidate and elder daughter of party supremo Lalu Prasad, won the Patliputra Lok Sabha seat, defeating her nearest BJP rival Ram Kripal Yadav by a margin of over 85,000 votes.\\n\\nHowever, Rohini Acharya, Lalu's other daughter who was an RJD nominee from Saran Lok Sabha constituency, lost by over 13,661 votes to BJP's Rajiv Pratap Rudy.\\n\\nAlso Read | PM Narendra Modi Thanks Voters for NDA's Third Term, Says Fight Against Corruption Will Continue.\\n\\nIn Patliputra Lok Sabha seat, Misa Bharti secured 6,13,283 votes, whereas, her nearest rival BJP's Yadav secured 528109 votes.\\n\\nIn Arrah Lok Sabha seat, BJP leader and Union minister RK Singh lost his seat by over 59,808 votes to Communist Party of India (Marxist-Leninist) (Liberation)'s Sudama Prasad.\\n\\nAlso Read | Himachal Pradesh Election Results 2024: Huge Relief for Sukhvinder Sukhu Led Congress Government As Party Wins Four Out of Six Bypolls, Loses Four Lok Sabha Seats to BJP for Third Time in a Row.\\n\\nRaja Ram Singh of the Communist Party of India (Marxist-Leninist) (Liberation) won Karakat Lok Sabha seat by defeating Bhojpuri singer and independent candidate, Pawan Singh, by a margin of over 1,05858 votes.\\n\\nCommunist Party of India (Marxist Leninist) Liberation's candidate, Shiv Prakash Ranjan, won the Agiaon assembly constituency by-poll with a margin of over 29835 votes by defeating his nearest rival Prabhunath Prasad of the Janata Dal (United).\\n\\nThe Agiaon assembly segment, under Arrah Lok Sabha seat, where the by-election held simultaneously on June 1, had recorded a turnout of 46 per cent. The by-election was necessitated due to the disqualification of CPI (ML) Liberation MLA Manoj Manzil following his conviction in a murder case.\\n\\n(This is an unedited and auto-generated story from Syndicated News feed, LatestLY Staff may not have modified or edited the content body)\"}, {'article': 'Nagaon (Assam) [India], June 4 (ANI): Congress workers expressed their jubilation and celebrated on Tuesday after party candidate Pradyut Bordoloi won from the Nagaon parliamentary constituency in Assam.\\n\\nPradyut Bordoloi said, \"In Assam, Chief Minister Himanta Biswa Sarma has been dividing people on the basis of religion. The politics of religious polarisation has come to an end. This election has given a clear and clarion signal.\"\\n\\nAccording to ECI trends and results, the BJP has won in 2 Lok Sabha constituencies and is leading in 7 constituencies in Assam. The Congress is leading in 3 seats. The United People\\'s Party, Liberal (UPPL) is leading in 1 seat while the Asom Gana Parishad (AGP) is leading in one seat.\\n\\nThe Congress party thanked the people of India after the party improved its tally from the last elections and the INDIA bloc is poised to cross the 230 mark in the 2024 Lok Sabha elections.\\n\\nThe party posted a picture of Congress President Mallikarjun Kharge, party leader Rahul Gandhi, Priyanka Gandhi, and former AICC president Sonia Gandhi, posing with the victory symbol. It was captioned \"Dhanyavad Hindustan.\"\\n\\nAs the counting for the Lok Sabha elections was nearing its end, the Bharatiya Janata Party-led National Democratic Alliance (NDA) crossed the majority mark and is ahead on around 300 seats, while the INDIA bloc, defying all predictions is leading on over 230 seats. (ANI)'}, {'article': \"In at least 15 Lok Sabha seats, the margin of votes between the top two leading candidates was less than the votes secured by the person third in the tally by 6 pm.\\n\\nIMAGE: The counting of votes for the Lok Sabha elections is underway, at a counting centre in Amritsar, Punjab, June 4, 2024. Photograph: ANI Photo\\n\\nMajority of these constituencies are in Uttar Pradesh and the party that is on the third slot even as the counting is still underway on several seats is the Bahujan Samaj Party, a party neither with the National Democratic Alliance nor the opposition INDIA bloc.\\n\\nInterestingly, in at least two seats -- Siwan and Karakat, both in Bihar, an Independent is right behind the leading candidate.\\n\\nIn the trends available till 6 pm, Vijaylakshmi Devi from the Janata Dal-United was leading with 3,66,168 votes in Siwan followed by Hena Shahab, the wife of former MP from this seat, Mohammad Shahabuddin.\\n\\nWhile Shahab, who fought the polls as an independent, was trailing behind Devi with a margin of 87,806 votes, Rashtriya Janata Dal's Awadh Bihari Choudhary was on the third position.\\n\\nSimilarly in Karakat, Communist Party of India-Marxist Leninist Liberation candidate Raja Ram Singh was leading with 3,70,929 votes by 6 pm, while Bhojpuri singer Pawan Singh, an Independent, stood behind him by a margin of 1,04,494 votes.\\n\\nUpendra Kushwaha of the Rashtriya Lok Morcha was trailing on the third position by 6 pm, data on Election Commission of India website showed.\\n\\nAs counting exercise that began at 8 am continued till late evening, the latest trends showed the Bharatiya Janata Party won 143 seats and was leading in 97 of 542 seats, while the Congress had won 57 and had leads in 42.\\n\\nThe country's most politically significant state Uttar Pradesh, which sends 80 MPs to the Lok Sabha, and the BJP's bastion of power seemed to be the game changer, bringing the ruling NDA down from the promise of '400 par' with which 2024 polls had started.\\n\\nIn Amroha seat, BJP's Kanwar Singh Tanwar had amassed 3,85,120 votes and leading the tally with a slender margin of 1,619 votes by 6 pm, with Congress' Danish Ali trailing behind him.\\n\\nHowever, BSP's Mujahid Husain had secured 1,38,998 votes by the same time.\\n\\nSimilarly, in Bansgaon constituency, Kamlesh Paswan of the BJP was leading with a margin of 3,708 votes followed by Congress' Sadal Prasad followed by BSP's Ramsamujh who had secured 60,103 votes by 6 pm.\\n\\nIn Muzaffarnagar, the margin of votes between the top two leading candidates in that order -- Harendra Singh Malik of the Samajwadi Party and Sanjeev Kumar Balyan of the BJP -- stood at 13,316 while Dara Singh Prajapati of the BSP had secured 1,33,119 votes by late evening.\\n\\nIn Sultanpur, Rambhual Nishad of the Samajwadi Party had amassed 4,40,579 votes and led with a margin of 43,034 votes followed by BJP's Maneka Gandhi, while Udraj Verma of the BSP had secured 1,62,273 votes.\\n\\nThe situation was similar in Azamgarh, where Bhojpuri actor and sitting MP Dinesh Lal Yadav 'Nirahua' was trailing on the second position behind SP's Dharmendra Yadav, with a margin of 1,59,112 votes.\\n\\nHowever, Mashhod Sabeeha Ansari of the BSP had secured 1,79,189 votes by 6 pm, more than the margin.\\n\\nIn Basti, SP's Ram Prasad Chaudhary led with 98,883 votes followed by BJP's Harish Chandra and BSP's Lavkush Patel who had secured 1,02,818 votes.\\n\\nIn Tamil Nadu's Coimbatore, Ganapathy Rajkumar P of the Dravida Munnetra Kazhagam led with a margin of 78,682 votes by 6 pm, followed by BJP's Annamalai K and All India Anna Dravida Munnetra Kazhagam's Singai G Ramachandran was on the third position with 1,62,566 votes.\\n\\nIn Badaun, while the margin between the SP and BJP candidates was 33,419 votes by 6 pm, the BSP has secured 86,380 votes.\\n\\nSimilarly in Akbarpur, such a margin was 53,709 while the candidate finishing third had 68,750 votes by 6 pm.\\n\\nThe trend was similar in Ballia, Ambedkar Nagar, Domariyanganj, Banda and Bijnor seats.\\n\\nIn Aligarh, Satish Kumar Gautam of the BJP was leading with a margin 14,775 votes while Hitendra Kumar of the BSP on the third position had secured 1,23,717 votes by 6 am.\\n\\nIn Chandauli seat, former Union minister Mahendra Nath Pandey lost to SP's Birendra Singh by a margin of 21,565 votes, while the candidate on the third position secured 1,59,903 votes.\"}, {'article': 'New Delhi: In perhaps the biggest election upset in India\\'s recent history, the ruling Bharatiya Janata Party\\'s (BJP) seat count fell short (32) of the 272 majority mark in the 543-seat Lok Sabha, landing at 240 (including leads), and well short of its ambitious target of 400 seats for the NDA. But the bruised party is still set to form the next government with support from its allies in the National Democratic Alliance (NDA), including the Janata Dal (United), or JDU, and the Telugu Desam Party (TDP). The NDA\\'s tally stood at 291 (including leads) at the time of going to press.\\n\\nThe opposition Indian National Developmental Inclusive Alliance (INDIA), meanwhile, has done unexpectedly well, belying just about every exit poll prediction. The alliance is winning in 233 seats (including leads), with the Congress party, which had struggled to cross the 50 mark in the previous two elections, in the vanguard and within kissing distance of the 100 mark.\\n\\nWhile the performance by the Congress was creditable relative to the last two elections, the real show stealers in the INDIA bloc were regional parties Samajwadi Party, Trinamool Congress and Dravida Munnetra Kazhagam, which along with smaller contributions from Uddhav Thackeray\\'s Shiv Sena and Sharad Pawar\\'s NCP bagged more than a hundred seats, and propelled the alliance\\'s total to 233. It may not form the government but after a decade, the country is likely to have a strong opposition, provided the alliance holds and there are no defections.\\n\\nIn Uttar Pradesh, which sends the most MPs -- 80 -- to the Lok Sabha, the Samajwadi Party turned the tables on the BJP, with the alliance winning 43 of the 80 seats (including leads). In 2019, the NDA had won 64 seats in the state. In Maharashtra, which has the next highest number of MPs -- the Congress, NCP and Uddhav Thackeray\\'s Shiv Sena took 29 seats (including leads) -- the NDA had won 41 seats in 2019. In Bengal, where national partners Congress, the Left and the Trinamool Congress fought each other, Mamata Banerjee\\'s party increased its seat count by seven to 29 (including leads). In Tamil Nadu, the alliance was leading in all the 39 seats (including leads) with the DMK at the forefront again.\\n\\nWhile the political chaos in Maharashtra meant the elections would be unpredictable, it is Uttar Pradesh, at the heart of the BJP\\'s big Ram Mandir pitch, that has thrown up the biggest surprise. The Ram Mandir was not the primary election issue, as the BJP had hoped it would be, and as Mint had reported last month. Indeed, most voters across states, and more specifically Uttar Pradesh, did not cite the Ram Mandir as an election issue. The BJP\\'s overreliance on what it believed to be its trump card clearly has not paid off.\\n\\nIn the end, the unkindest cut for the BJP came from Ayodhya. The saffron party lost to the SP in the Faizabad seat, of which Ayodhya is a part. This is despite building the Ram temple, an airport, a railway station and an expressway; despite the temple corridor, five-star hotels and the influx of tourists and the money they brought along; and despite the Yogi Adityanath government\\'s focus on law and order and a slew of welfare schemes both from the Centre and the state. What happened in the constituency mirrored the disaffection for the BJP across the state.\\n\\nIn a sense, 2024 has turned out to be more like a traditional Indian election, where constituencies and local factors matter as much as national narratives, unlike in 2014 and 2019, when the only question was if Narendra Modi should be prime minister.\\n\\nThere are four big takeaways for the BJP this election.\\n\\nOne, Prime Minister Modi\\'s brand is no longer enough to win elections on its own. Modi\\'s popularity had peaked in 2019 in several states and to that extent, it seems to have plateaued. Nevertheless, the BJP is gaining fresh ground in states such as Telangana and Odisha, where the PM\\'s popularity is on the uptick, but not enough to offset losses in key states.\\n\\nTwo, the state leadership is equally important. Besides Gujarat, which is a Modi-Amit Shah bastion, the one state that has kept the BJP in good stead is Madhya Pradesh, where the party swept all the 29 seats. Former chief minister Shivraj Singh Chouhan\\'s massive popularity and his government\\'s welfare delivery seem to have given the BJP a big fillip there, as was evident on the ground, with voters across the board pledging their support for \\'Mamaji\\', as Chouhan is fondly known. This factor was evidently missing in other heartland states such as Haryana and Rajasthan, where the BJP had done tremendously well in 2019 but has suffered serious reverses in this election, due to a diminished state leadership.\\n\\nThree, the Centre\\'s welfare plank is a solid one, but weakens when there is an opposition party in the state that can sing the same song. In West Bengal, for instance, chief minister Mamata Banerjee\\'s own welfare delivery is strong enough to overshadow the Centre\\'s. Voters, especially women, cite her popular schemes such as Lakshmir Bhandar, more than Modi\\'s initiatives. The BJP had hoped to improve on its solid performance in West Bengal in 2019 but ended up losing seats.\\n\\nAnd four, a united Opposition can pose a far greater challenge by making gains in each state, even in the absence of an overarching national narrative, as happened in Uttar Pradesh and Maharashtra.\\n\\n\"I think the verdict clearly sets out a message for course correction. The BJP will be in government but will need to be more accommodative in dealing with the Opposition while the Opposition can no longer complain about being voiceless,\" said Chandrachur Singh, professor of political science at Delhi University\\'s Hindu College. \"The verdict can be read as one that is full of mixed bags for all. For the NDA, it offers power but cautions them on future prospects, while for the Opposition it gives them a little now but perhaps brightens their prospects if they play the constructive role required of a responsible opposition.\"\\n\\nNilanjan Mukhopadhyay, veteran journalist and author, Narendra Modi: The Man, the Times, felt that the prime minister will have to become more accommodating with his NDA partners henceforth. \"Going forward, for the survival of his government, Modi has to demonstrate skills in taking others along and forge a consensus. He will have to restart parliamentary processes like referring to Standing Committees, which were almost totally discontinued,\" said Mukhopadhyay.\\n\\nThe big headline of this election is undoubtedly Uttar Pradesh. The BJP had everything going for it in the state, from a popular chief minister with a law and order record to boast of to the Ram Mandir, a decimated Opposition and a formidable win in the 2022 assembly election.\\n\\nWhat seems to have worked against the BJP is its over-reliance on the Ram Mandir issue, as well as a lack of vacancies in government jobs, the paper leak scandal, inflation and the Agniveer scheme.\\n\\nThe caste configuration of constituencies and Samajwadi Party\\'s tactic of fielding only five candidates from the Yadav community worked in its favour, helping it secure votes beyond its core Yadav-Muslim vote bank. It made inroads into the non-Yadav OBC vote and shifted a significant chunk of the Scheduled Caste vote towards itself. Both these are vote banks that the BJP has relied on significantly.\\n\\nThe Congress-SP alliance also helped prevent a split in the Muslim vote, which almost en masse seems to have gone to the alliance.\\n\\n\"Economic issues, too, have played a major role in this verdict and PM Narendra Modi failed to construct an overarching narrative. The opposition strategy, in UP particularly, was very effective. This is Modi\\'s biggest electorally humbling moment,\" said Mukhopadhyay.\\n\\nMaharashtra, meanwhile, is more a case of too many cooks spoiling the broth. \"Yahan sab khichdi bani huyi hai,\" was a common lament among voters and that seems to have been reflected in the outcome as well. Ultimately, the Uddhav Thackeray-led Shiv Sena and Sharad Pawar NCP outdid their rival factions. Uddhav was seen as the rightful heir of the Shiv Sena legacy, while the Pawar patriarch clearly had voter sympathy for what they perceived as a \\'betrayal\\' by his nephew and NDA ally Ajit Pawar.\\n\\nAs expected, every political party touted its welfare schemes during campaigning. For the NDA, \\'Suvidha\\' was the buzzword this election too and is perhaps the plank that helped the BJP emerge as the single largest party, thanks to schemes offering rural houses, free rations, water, subsidized gas and cash payouts through PM Kisan Nidhi.\\n\\nBut unlike in 2019 when welfare gave the BJP the push to the 303 mark, 2024 was different for two reasons. One, several of these central schemes are not new, with voters having already rewarded the BJP for these in the 2019 Lok Sabha polls as well as several state elections. Voters now view these schemes as a given and not with the enthusiasm of 2019. It is in states where the BJP\\'s state governments have a solid welfare record to show that the BJP is benefiting from the double-engine model. Madhya Pradesh and Assam are instant examples, with voters in these states citing state government schemes such as Ladli Laxmi and Orunodoi more than the Modi government initiatives. The NDA won 10 of the 14 seats in Assam (including leads).\\n\\nSecondly, that welfare is a key poll plank is now clear to all political parties and they are mastering the art of selling their programmes to the electorate, giving the BJP tough competition.\\n\\nAnother factor that has been a mixed bag for the BJP is its \\'There is no alternative\\' (TINA) pitch. Some voters did indeed vote for the party as they felt the absence of a national alternative. The perceived absence of a pan-India alternative to Modi meant INDIA failed to emerge as the single largest bloc.\\n\\nOn the other hand, it is bad news for the BJP that the TINA factor was discussed at all in this election. In 2019, it was hardly a factor, with the vote for BJP primarily a euphoric vote for Modi. The 2024 election, however, saw several voters looking for something more.\\n\\n\"Now we have seen Modi for 10 years and while his work has been good, one perhaps wouldn\\'t mind trying out a new prime minister. Today, there is no PM candidate on the other side, hence we are supporting Modi. But tomorrow, if a candidate emerges, it will not be easy for the BJP. Boredom does set in,\" said Kuldeep Singh of Sehore in Madhya Pradesh, summing up the thinking of some voters in the 2024 Lok Sabha poll.'}, {'article': \"Ghatal Lok Sabha Election Results 2024: Trinamool Congress candidate Deepak Adhikary defeated BJP candidate Hiranmoy Chattopadhyay with over 1.8 lakh votes in the the Lok Sabha Election. ( Image Source :Dev Adhikary, Harinmoy/Instagram. )\\n\\nGhatal Lok Sabha Election Results 2024: Trinamool Congress candidate Deepak Adhikari defeated BJP candidate Hiranmoy Chattopadhyay with over 95,000 votes in the the Lok Sabha Election 2024 from the Ghatal Lok Sabha constituency. Deepak garnered a total of 837990 votes while Hiranmoy received 655122 votes. TMC marked its win with a margin of 182868 otes.\\n\\nAbout TMC Candidate Deepak Adhikari\\n\\nOne of Tollywood's highest-paid performers, Deepak Adhikari (Dev), made his silver screen debut in Tollywood in 2006 with Agnishapath. He is a highly sought-after Bengali actor who has made a name for himself in the industry by winning numerous accolades. The actor-turned-politician's fame helped him garner more than 50% of the vote in the 2014 national elections. In 2022, Dev became embroiled in a scandal with an alleged cattle smuggling case.\\n\\nAbout Ghatal Lok Constituency\\n\\nWest Bengal's Ghatal Lok Sabha Constituency is a powerful political bastion with a great deal of political clout in India. The region continues to play a significant role in the political scene of the state and has a diversified population. The constituency held a successful election on May 25th, during the sixth phase of the election, with 82.17 percent of voters casting ballots.\\n\\nFrom 1977 until 2014, the Ghatal Lok Sabha constituency was a bastion of the Communist Party. However, in that year, the Trinamool Congress made a decisive victory and ended the Communist Party's hold on the Ghatal. In the 2014 elections, TMC candidate Dipak Adhikari secured the top spot, with 50.70%, 31.40%, and 6.93% of the vote, respectively, ahead of CPI candidate Santosh Rana and INC candidate Manas Bhunia.\\n\\nThe current MP for the Trinamool Congress received 48.22 percent of the vote in 2019 and began his second term. In addition, the BJP saw a notable increase in their vote share of 34.04 percent by finishing in second place with 40.97% of the total votes. Tapan Ganguly, the CPI candidate, received 6.56% of the vote and took third place.\"}, {'article': \"Election Results 2024: However, Rohini Acharya, Lalu's other daughter who was an RJD nominee from Saran Lok Sabha constituency, lost by over 13,661 votes to BJP's Rajiv Pratap Rudy.\\n\\nRohini Acharya lost by over 13,661 votes (File)\\n\\nPatna:\\n\\nRajya Sabha MP Misa Bharti, RJD candidate and elder daughter of party chief Lalu Prasad, won the Patliputra Lok Sabha seat, defeating her nearest BJP rival Ram Kripal Yadav by a margin of over 85,000 votes.\\n\\nHowever, Rohini Acharya, Lalu's other daughter who was an RJD nominee from Saran Lok Sabha constituency, lost by over 13,661 votes to BJP's Rajiv Pratap Rudy.\\n\\nIn Patliputra Lok Sabha seat, Misa Bharti secured 6,13,283 votes, whereas, her nearest rival BJP's Yadav secured 528109 votes.\\n\\nIn Arrah Lok Sabha seat, BJP leader and Union minister RK Singh lost his seat by over 59,808 votes to Communist Party of India (Marxist-Leninist) (Liberation)'s Sudama Prasad.\\n\\nRaja Ram Singh of the Communist Party of India (Marxist-Leninist) (Liberation) won Karakat Lok Sabha seat by defeating Bhojpuri singer and independent candidate, Pawan Singh, by a margin of over 1,05858 votes.\\n\\nCommunist Party of India (Marxist Leninist) Liberation's candidate, Shiv Prakash Ranjan, won the Agiaon assembly constituency by-poll with a margin of over 29835 votes by defeating his nearest rival Prabhunath Prasad of the Janata Dal (United).\\n\\nPromotedListen to the latest songs, only on JioSaavn.com\\n\\nThe Agiaon assembly segment, under Arrah Lok Sabha seat, where the by-election held simultaneously on June 1, had recorded a turnout of 46 per cent. The by-election was necessitated due to the disqualification of CPI (ML) Liberation MLA Manoj Manzil following his conviction in a murder case.\\n\\n(Except for the headline, this story has not been edited by NDTV staff and is published from a syndicated feed.)\"}, {'article': 'Lok Sabha Election Results: The Rashtrapati Bhavan will be closed to the general public from Wednesday to Sunday due to preparations for the forthcoming swearing-in ceremony of the council of ministers. This was announced in an official statement on Tuesday. \"Visit of Rashtrapati Bhavan (Circuit -1) will remain closed for the general public from June 5 to 9, 2024, due to preparation for the forthcoming event of swearing-in-ceremony of the council of ministers at Rashtrapati Bhavan,\" said the statement issued by the President\\'s office.\\n\\nCircuit-1 offers visitors a tour of the main building, forecourt, reception, Navachara, banquet hall, upper loggia, Lutyens\\' grand stairs, guest wing, Ashok hall, north drawing room, long drawing room, library, Durbar hall and Lord Buddha statue.\\n\\nIn the wake of the recent Lok Sabha elections, the Bharatiya Janata Party (BJP) is set to become the single-largest party but will fall short of the majority mark of 272 seats in the 543-member Lok Sabha. The BJP-led National Democratic Alliance (NDA), however, is expected to cross the magic figure comfortably.\\n\\n\"People have placed their faith in NDA, for a third consecutive time! This is a historical feat in India\\'s history,\" said Prime Minister Narendra Modi in his first message after the results were announced. \"I bow to the Janata Janardan for this affection and assure them that we will continue the good work done in the last decade to keep fulfilling the aspirations of people,\" Modi added in his message posted on X.\\n\\nDespite Modi\\'s optimistic statement, the BJP is expected to reflect on the reasons behind its reduced numbers. The party is projected to win about 240 seats, a significant drop from the 303 it secured in 2019.\\n\\nALSO READ | \\'First Time After 1962...\\': PM Modi Expresses Gratitude As NDA Heads For Historic Third Consecutive Term\\n\\nModi\\'s attempt to pivot the election around the opposition\\'s alleged Muslim appeasement and his contentious phrases faced significant criticism. The BJP\\'s manifesto received little attention, while the party\\'s leaders focused attacks on the Congress over its manifesto.\\n\\nThe Prime Minister\\'s slogan \"400 paar\" aimed to project a grand majority but may have contributed to a sense of complacency among his supporters, while rallying fence-sitters around the opposition\\'s concerns over threats to the Constitution and misuse of investigative agencies.\\n\\nAccording to news agency PTI, a BJP leader noted that the party is expected to perform well in several states, including Madhya Pradesh, Odisha, Chhattisgarh, and Gujarat. \"It will be wrong to interpret the verdict against the party\\'s agenda or its leadership,\" the leader said.\\n\\nHowever, the party faced a significant setback in Uttar Pradesh, a BJP stronghold since 2014. The party won or was leading in only 33 of the state\\'s 80 seats, a sharp decline from the 62 seats it secured in 2019. This loss has raised concerns about the party\\'s future strategy in the state, particularly under Chief Minister Yogi Adityanath.\\n\\nThe issue of unemployment, especially among the youth, also played a role against the BJP in several states, acknowledged party leaders, as per PTI.'}, {'article': 'Prime Minister Narendra Modi in his speech after the results of the 2024 Lok Sabha elections, said his third term would see big decisions taken and uprooting corruption would be a priority. AP\\n\\nBefore the election, the BJP-led NDA set itself the lofty goal of winning 400 seats in Parliament.\\n\\nThree exit polls too predicted that the \\'400 par\\' was a possibility, while the others said that the alliance would return stronger than ever.\\n\\nOn Tuesday, that didn\\'t happen.\\n\\nWhile the NDA comfortably crossed the \\'magic mark\\' of 272 seats in the Lok Sabha needed to form the government, it is nowhere close to that 400 prediction.\\n\\nThe BJP is also well down from the over 350 seats it won in the 2019 Lok Sabha election.\\n\\nModi in his speech after the results of the 2024 Lok Sabha elections, said his third term would see big decisions taken and uprooting corruption would be a priority.\\n\\n\"The fight against corruption is becoming tougher by the day. Corruption is being shamelessly glorified for political interest. In our third term, NDA will focus a lot on rooting out corruption of all kinds,\" Modi said.\\n\\nModi\\'s speech did not refer to its reduced numbers in Parliament but focussed on the \"clean sweep\" victories in assembly elections as well as Lok Sabha wins in Madhya Pradesh, Gujarat, Chhattisgarh, Odisha, Delhi, Himachal Pradesh and Uttarakhand.\\n\\nModi also said that the Congress has been wiped out in several states and pointed out that the combined number of seats won by the opposition alliance was less than that of the BJP alone.\\n\\nBut what happens next? How dependent is the BJP on its alliance partners? How important are Chandrababu Naidu and Nitish Kumar? What can we expect?\\n\\nThe BJP, meanwhile, which pollsters uniformly predicted to return with an even bigger majority than its 303 seats in 2019, has won 192 seats and is leading in 42 seats.\\n\\nWhich means that the party cannot form the government on its own strength.\\n\\nMeanwhile, the BJP\\'s alliance partners in the NDA - the Chandrababu Naidu-led Telugu Desam Party and Nitish Kumar\\'s JD (U) - have won and are leading in 16 and 12 seats respectively.\\n\\nThe INDI alliance has racked up 234 seats with the Congress just one shy of the psychologically important three figure mark with its combined wins and leads.\\n\\nThe Samajwadi Party has won 33 seats and is leading in four seats, while the Trinamool Congress has won 22 seats and is leading in seven seats.\\n\\nThe BJP being the single-largest party will obviously be invited to form the next government.\\n\\nWhich is why its future is now in the hands of its allies.\\n\\nWhy Naidu and Nitish matter\\n\\nPrime Minister Narendra Modi in his first speech after the results of the 2024 Lok Sabha elections thanked TDP supremo Naidu and Bihar chief minister Nitish Kumar for the successes in Andhra Pradesh and Bihar\\n\\nModi and Shah earlier in the day dialled Naidu - who is set to return as Andhra Pradesh chief minister for the fourth time - and congratulated him on a remarkable comeback.\\n\\nModi and Shah\\'s outreach should come as no surprise given reports that Sharad Pawar, a senior leader in the INDIA alliance and a man known for having friends in high places across the political aisle, is in touch with Naidu.\\n\\nPawar, of course, has denied any such reports.\\n\\n\"I have not called up Chandrababu Naidu... Whatever is the outcome, after discussing with colleagues in the other INDIA allies, we shall share it publicly tomorrow,\" Pawar was quoted as saying by Deccan Chronicle.\\n\\nIndeed, the 74-year-old Naidu, who began his career with the Congress before jumping ship to his father-in-law\\'s TDP has been often described as a \\'political opportunist.\\'\\n\\nNaidu, who split from the BJP in 2019, returned to the NDA fold for the 2024 polls.\\n\\nSome would argue that this is Naidu\\'s last chance to be prime minister.\\n\\nA piece in Indian Express, noting the reports of calls from INDI alliance leaders to Naidu, said the TDP chief may well be able to demand \\'several ministries\\' in order to help the alliance take power.\\n\\nKumar, meanwhile, is so famed for switching sides that he has earned the nickname \\'paltu Ram.\\'\\n\\nKumar has been switching back and forth between camps since 2013.\\'\\n\\nABP News earlier on Tuesday reported that the INDI alliance has offered Kumar the post of deputy prime minister and Naidu special status for Andhra Pradesh to try to bring them over to their side.\\n\\nA piece in the I_ndian Express_ noted how Nitish could play kingmaker or even be the king.\\n\\n\"The BJP will likely need the JD(U), the third-largest NDA party, to form the government. But given Nitish\\'s record, his support is not likely to make for a stable Centre. And he may leverage his performance to eke out a better deal with INDIA,\" the piece argued.\\n\\nWhile both Naidu and Kumar have reportedly assured the BJP of their support, only time will tell if the BJP makes both men an offer too good to refuse to keep them in the tent.\\n\\nWhat happens next?\\n\\nExperts say the BJP finds itself in an unfamiliar position.\\n\\nA piece in BBC noted that the BJP going forward will be reliant on its partners and will thus need to take a more consultative and deliberative approach.\\n\\n\"This dependency makes it vulnerable to collapse if allies feel neglected. The party, once perceived as all-powerful, is now reliant on allies, unlike in 2014 and 2019,\" the piece noted.\\n\\nA piece in The Hindu noted the BJP now finds itself in the same position as it did in 1998 when Atal Behari Vajpayee established the first incarnation of the NDA.\\n\\n\"The 2024 Lok Sabha election result, which has left the BJP with less than a majority of seats, will likely lead to changes -- not just in terms of how the coalition, if it fructifies in governmental terms, is run, but also in the internal dynamics of the BJP,\" the piece argued.\\n\\nThe piece, stating that Naidu and Kumar had both received offers from the INDI alliance, noted that Modi now has to play a new role - of a conciliatory consensus maker.\\n\\nThe piece predicted that the BJP will put its uniform civil code and \\'One Nation one polls\\' plank on the backburner.\\n\\nIt also said it may bring back the post of NDA convener if the numbers hold.\\n\\n\"More than anything else, Tuesday\\'s poll outcome may result in a more conciliatory position from the BJP and the Prime Minister,\" the piece stated.\\n\\nOthers say a return to Vajpayee\\'s coalition dharma is imminent.\\n\\nPolitical scientist Ashwani Kumar of the Tata Institute of Social Sciences (TISS) told The Hindu, \"Given the rich tradition of centrist politics in India, the BJP is set to enter into the Rajdharma of rainbow coalition, reverting to Atal Behari Vajpayee\\'s consensual politics of governance [while] reinventing the idea of cooperative federalism. Thus, let\\'s expect what a legendary political scientist called a \\'consocial\\' or power sharing democracy, within the majoritarian polity of India,\" he said.\\n\\n\"India will likely have an NDA government, where the BJP does not have a majority on their own, and coalition politics will come into real play,\" Sandeep Shastri, the national coordinator of the Lokniti Network told Al Jazeera.\\n\\n\"There will be questions on imagining Modi as a leader of the alliance, where he would have to listen to non-BJP leaders much more,\" Shastri predicted.\\n\\nModi\\'s victory speech at the BJP headquarters, however, was thin on politics and heavy on the future roadmap of his government, which he noted was coming for the third consecutive time, a first in six decades.\\n\\n\"Our Constitution is our guiding light. I want to assure that the Centre will work with all states, irrespective of the party in power there, to work towards our resolve to make India a developed country,\" Modi said.\\n\\nThe prime minister arrived at the BJP headquarters to a rousing welcome by hundreds of supporters who chanted \\'Modi, Modi\\'. He was greeted by BJP President J P Nadda and Union Ministers Rajnath Singh and Amit Shah on the dais.\\n\\nThe backdrop on the stage had \\'Dhanyawad Bharat\\' written in various languages, including Urdu.\\n\\nModi began his speech with \\'Jai Jagannath\\' and thanked the people of Odisha for giving BJP a clear mandate for the first time.'}, {'article': \"New Delhi: General elections were held in India from 19 April to 1 June 2024 in seven phases, to elect all 543 members of the Lok Sabha. This election was the largest-ever in history, surpassing the previous one, and lasting 44 days, making it the second longest after the 1951-52 Indian general election.\\n\\nThe incumbent Prime Minister Narendra Modi, having completed his second term, is running for a third consecutive term.\\n\\nArunachal Pradesh Lok Sabha Election Results\\n\\nThe Lok sabha election results 2024 in Arunachal Pradesh was held on April 19, 2024, to elect two members. Simultaneously, the state also conducted its legislative assembly election.\\n\\nIn the last Lok Sabha elections in 2019, BJP had won 2 seats. Under the leadership of Prime Minister Narendra Modi, a resurgent BJP has achieved two consecutive election victories in 2014 and 2019.\\n\\nThe Lok Sabha Election 2024 in Assam took placein in three phases from April 19 to May 7, 2024, to elect 14 members to the 18th Lok Sabha.\\n\\nExit survey has predict that NDA is projected to win 10-13 of the 14 seats, with the BJP expected to secure 8-11 of these. The Congress is anticipated to win 2-5 seats, while the AIUDF is likely to claim one seat.\\n\\nThe Lok Sabha election in Manipur took place on April 19 and 26, 2024, to elect two members to the 18th Lok Sabha. The constituencies of Inner Manipur and Outer Manipur participated in the electoral process.\\n\\nThe Lok Sabha election 2024 in Meghalaya was held on 19 April 2024 to elect 2 members of 18th Lok Sabha.\\n\\nAccording to the exit poll, the NDA is projected to secure between 0 to 1 seat in Meghalaya, indicating a potential presence for the alliance in the state's parliamentary representation.\\n\\nThe Lok Sabha Election in Mizoram held on April 19 To elect one member.\\n\\nNagaland Lok Sabha Election Results\\n\\nThe Lok Sabha election 2024 in Nagaland was held on 19 April 2024 to elect lone member of from Nagaland.\\n\\nTripura Lok Sabha Election Results\\n\\nThe Lok Sabha election 2024 in Tripura held in 2 Phases, On 19 April 2024 and 26 April 2024 to elect 2 members.\\n\\nSikkim Lok Sabha Election Results\\n\\nThe Lok Sabha election 2024 was held in Sikkim on 19 April 2024 to elect the sole member of 18th Lok Sabha from Sikkim.\"}, {'article': \"NEW DELHI: In a notable political shift, the Congress party has secured both Lok Sabha seats in Manipur amidst ongoing ethnic strife, according to the Election Commission. Angomcha Bimol Akoijam triumphed in the Inner Manipur constituency, defeating his closest competitor, BJP's Thounaojam Basantakumar, by a significant margin of 1,09,801 votes. Akoijam received 3,74,017 votes, while Basantakumar garnered 2,64,216 votes.\\n\\nManipur has been in turmoil since May of last year, following ethnic violence triggered by a march by Kuki tribals protesting the Meitei community's demand for Scheduled Tribes status.The conflict has resulted in over 220 deaths, including those of security personnel, and has caused widespread displacement. Despite the unrest, the BJP-led government has held power in the state since 2017.\\n\\nFollowing the announcement of the election results, state Congress president K Meghachandra demanded chief minister N Biren Singh's resignation, holding him responsible for the ongoing crisis.\\n\\nAkoijam, in his victory speech, prioritized the rehabilitation of those displaced by the conflict and the restoration of normalcy. He also urged his supporters to refrain from celebrating the victory due to the dual challenges of conflict and recent flooding in the state.\\n\\nBasantakumar, the defeated BJP candidate, is a prominent state cabinet minister, overseeing the portfolios of Education and Law & Legislative Affairs.\\n\\nAlso See: Lok Sabha Election Results 2024 Live Updates\\n\\nThe Inner Manipur Lok Sabha constituency, one of the two seats of Manipur state. The Inner Manipur Parliamentary constituency is made up of 32 assembly constituencies. The constituency went on for the election in the first phase on 19th of April. There are over 9,91,574 lakh voters in the constituency. The voter turnout this year was 7,94,790 which is 80.15%.\\n\\nBJP candidate Singh highlighted the crucial need for the Center's support to drive Manipur towards becoming a developed state.\\n\\nMeanwhile, Congress candidate Akoijam expressed concerns about attempts to sow division among the people along ethnic and tribal lines.\\n\\nWhile there are six candidates, including independent candidates, in the fray for the seat, both the BJP and the Congress anticipate that the electoral battle will primarily be between them.\\n\\nIn the 2019 general election, Congress candidate Dr Thokchom Meinya was elected from the Inner Manipur seat with 2,30,837 (39.59%) votes. Moirangthem Nara of Communist Party of India (CPI) was the runner-up with 1,99,890 (34.28%) votes. In the 2014 general election also Dr. Thokchom Meinya ran victorious with Moirangthem Nara as the runner-up.\\n\\nAlso Read:\"}]\n"
     ]
    }
   ],
   "source": [
    "# copy the body of the articles to a new json file\n",
    "import json\n",
    "\n",
    "articles_body = []\n",
    "for article in articles:\n",
    "    art = {}\n",
    "    art[\"article\"] = article[\"body\"]\n",
    "    articles_body.append(art)\n",
    "print(articles_body)"
   ]
  },
  {
   "cell_type": "code",
   "execution_count": 79,
   "metadata": {},
   "outputs": [],
   "source": [
    "def QnA(\n",
    "    art,\n",
    "    client,\n",
    "    model=\"gpt-4o\",\n",
    "    QnA_prompt=\"I have 20 news articles, and I need you to create multiple-choice objective questions with categorical answers to identify narrative differences among the provided articles. The questions should be generic to all articles and shouldn't have answer related to one specific article. The end goal is to match the articles which are talking abouut the same thing. Here are the articles:\",\n",
    "    QnA_answer = \" \"\n",
    "):\n",
    "\n",
    "    prompt_complete = QnA_prompt + QnA_answer + \"\\n\" + art\n",
    "    model = model\n",
    "    messages = [\n",
    "        {\"role\": \"user\", \"content\": prompt_complete},\n",
    "    ]\n",
    "    try:\n",
    "        response = client.chat.completions.create(\n",
    "            model=model, messages=messages, temperature=0\n",
    "        )\n",
    "\n",
    "        content = response.choices[0].message.content\n",
    "        return content\n",
    "    except Exception as e:  # if the model fails to return a response\n",
    "        print(f\"Error: {e}\")\n",
    "        return \"Sorry, error from GPT.\""
   ]
  },
  {
   "cell_type": "code",
   "execution_count": 80,
   "metadata": {},
   "outputs": [],
   "source": [
    "response = QnA(str(articles_body), client)"
   ]
  },
  {
   "cell_type": "code",
   "execution_count": 81,
   "metadata": {},
   "outputs": [
    {
     "name": "stdout",
     "output_type": "stream",
     "text": [
      "Sure, here are some multiple-choice objective questions with categorical answers to help identify narrative differences among the provided articles:\n",
      "\n",
      "### Question 1: What is the primary focus of the article?\n",
      "A. Political alliances and election results\n",
      "B. Sports and celebrity involvement in politics\n",
      "C. Economic policies and development\n",
      "D. Social issues and public welfare\n",
      "\n",
      "### Question 2: Which region or state is prominently mentioned in the article?\n",
      "A. Uttar Pradesh\n",
      "B. West Bengal\n",
      "C. Andhra Pradesh\n",
      "D. Assam\n",
      "\n",
      "### Question 3: What is the main event discussed in the article?\n",
      "A. A political leader's campaign strategy\n",
      "B. Election results and seat distribution\n",
      "C. A sports event or celebrity's involvement\n",
      "D. A social or economic policy announcement\n",
      "\n",
      "### Question 4: Which political party is frequently mentioned in the article?\n",
      "A. Bharatiya Janata Party (BJP)\n",
      "B. Indian National Congress (INC)\n",
      "C. Trinamool Congress (TMC)\n",
      "D. Samajwadi Party (SP)\n",
      "\n",
      "### Question 5: What is the tone of the article?\n",
      "A. Celebratory and positive\n",
      "B. Critical and analytical\n",
      "C. Neutral and informative\n",
      "D. Emotional and personal\n",
      "\n",
      "### Question 6: Who is the central figure or main personality discussed in the article?\n",
      "A. Narendra Modi\n",
      "B. Rahul Gandhi\n",
      "C. Priyanka Gandhi\n",
      "D. A regional political leader\n",
      "\n",
      "### Question 7: What type of campaign strategy is highlighted in the article?\n",
      "A. Traditional rallies and speeches\n",
      "B. Personal and direct voter engagement\n",
      "C. Social media and digital campaigns\n",
      "D. Celebrity endorsements and appearances\n",
      "\n",
      "### Question 8: What is the outcome or result mentioned in the article?\n",
      "A. Victory in a specific constituency\n",
      "B. Formation of a new political alliance\n",
      "C. A significant policy change\n",
      "D. A sports achievement or event\n",
      "\n",
      "### Question 9: Which demographic or voter group is specifically mentioned in the article?\n",
      "A. Women voters\n",
      "B. Youth and first-time voters\n",
      "C. Minority communities\n",
      "D. Rural and agricultural workers\n",
      "\n",
      "### Question 10: What is the article's perspective on the election results?\n",
      "A. Optimistic about future prospects\n",
      "B. Pessimistic and critical of the current situation\n",
      "C. Balanced and neutral\n",
      "D. Focused on the emotional impact of the results\n",
      "\n",
      "These questions can help categorize the articles based on their narrative focus, key figures, regions, and overall tone, making it easier to identify which articles are discussing similar topics or events.\n"
     ]
    }
   ],
   "source": [
    "print(response)"
   ]
  }
 ],
 "metadata": {
  "kernelspec": {
   "display_name": "env",
   "language": "python",
   "name": "python3"
  },
  "language_info": {
   "codemirror_mode": {
    "name": "ipython",
    "version": 3
   },
   "file_extension": ".py",
   "mimetype": "text/x-python",
   "name": "python",
   "nbconvert_exporter": "python",
   "pygments_lexer": "ipython3",
   "version": "3.9.6"
  }
 },
 "nbformat": 4,
 "nbformat_minor": 2
}
