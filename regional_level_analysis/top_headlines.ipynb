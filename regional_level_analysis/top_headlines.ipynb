{
 "cells": [
  {
   "cell_type": "code",
   "execution_count": 3,
   "metadata": {},
   "outputs": [],
   "source": [
    "# Import necessary libraries\n",
    "import requests\n",
    "import pandas as pd\n",
    "import json"
   ]
  },
  {
   "cell_type": "code",
   "execution_count": 7,
   "metadata": {},
   "outputs": [],
   "source": [
    "def top_headlines_by_country(countryname):\n",
    "    url = \"https://newsapi.org/v2/top-headlines\"\n",
    "    api_key = \"c39a0a140628445590475bcc67833d84\"\n",
    "    # Define the parameters for the API request\n",
    "    params = {\n",
    "        'country': countryname,\n",
    "        'apiKey': api_key\n",
    "    }\n",
    "\n",
    "    # Make the API request\n",
    "    response = requests.get(url, params=params)\n",
    "\n",
    "    # Check if the request was successful\n",
    "    if response.status_code == 200:\n",
    "        # Parse the JSON response\n",
    "        data = response.json()\n",
    "        \n",
    "        # Save the JSON response to a file\n",
    "        with open('top_headlines_' + countryname + '.json', 'w') as json_file:\n",
    "            json.dump(data, json_file, indent=4)\n",
    "        \n",
    "        print(\"JSON data has been saved\")\n",
    "    else:\n",
    "        print(f\"Failed to fetch data. Status code: {response.status_code}\")"
   ]
  },
  {
   "cell_type": "code",
   "execution_count": 10,
   "metadata": {},
   "outputs": [
    {
     "name": "stdout",
     "output_type": "stream",
     "text": [
      "JSON data has been saved\n",
      "JSON data has been saved\n",
      "JSON data has been saved\n",
      "JSON data has been saved\n",
      "JSON data has been saved\n",
      "JSON data has been saved\n",
      "JSON data has been saved\n",
      "JSON data has been saved\n",
      "JSON data has been saved\n",
      "JSON data has been saved\n"
     ]
    }
   ],
   "source": [
    "countries = ['us', 'in', 'fr', 'au', 'ca','hk','il','jp','za','gb']\n",
    "for country in countries:\n",
    "    top_headlines_by_country(country)"
   ]
  }
 ],
 "metadata": {
  "kernelspec": {
   "display_name": "env",
   "language": "python",
   "name": "python3"
  },
  "language_info": {
   "codemirror_mode": {
    "name": "ipython",
    "version": 3
   },
   "file_extension": ".py",
   "mimetype": "text/x-python",
   "name": "python",
   "nbconvert_exporter": "python",
   "pygments_lexer": "ipython3",
   "version": "3.9.6"
  }
 },
 "nbformat": 4,
 "nbformat_minor": 2
}
