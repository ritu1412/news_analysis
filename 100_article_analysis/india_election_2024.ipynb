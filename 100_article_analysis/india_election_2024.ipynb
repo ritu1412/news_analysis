{
 "cells": [
  {
   "cell_type": "code",
   "execution_count": 6,
   "metadata": {},
   "outputs": [
    {
     "name": "stderr",
     "output_type": "stream",
     "text": [
      "/Users/ritutoshniwal/Code/news_analysis/env/lib/python3.9/site-packages/urllib3/__init__.py:35: NotOpenSSLWarning: urllib3 v2 only supports OpenSSL 1.1.1+, currently the 'ssl' module is compiled with 'LibreSSL 2.8.3'. See: https://github.com/urllib3/urllib3/issues/3020\n",
      "  warnings.warn(\n"
     ]
    }
   ],
   "source": [
    "from eventregistry import *\n",
    "import json, os, sys\n",
    "import os\n",
    "from eventregistry import EventRegistry\n",
    "from openai import OpenAI\n",
    "from tqdm import tqdm"
   ]
  },
  {
   "cell_type": "code",
   "execution_count": 7,
   "metadata": {},
   "outputs": [],
   "source": [
    "api_key = os.getenv(\"NEWSAPI_API_KEY\")\n",
    "er = EventRegistry(apiKey=api_key, allowUseOfArchive=False)\n",
    "client = OpenAI(api_key=os.getenv(\"OPENAI_API_KEY\"))"
   ]
  },
  {
   "cell_type": "markdown",
   "metadata": {},
   "source": [
    "### English article collection from India"
   ]
  },
  {
   "cell_type": "code",
   "execution_count": 3,
   "metadata": {},
   "outputs": [],
   "source": [
    "lang = \"eng\"\n",
    "topic = \"India_election_2024\"\n",
    "query = {\n",
    "  \"$query\": {\n",
    "    \"$and\": [\n",
    "      {\n",
    "        \"keyword\": \"india\",\n",
    "        \"keywordLoc\": \"body\"\n",
    "      },\n",
    "      {\n",
    "        \"keyword\": \"election\",\n",
    "        \"keywordLoc\": \"body\"\n",
    "      },\n",
    "      {\n",
    "        \"keyword\": \"2024\",\n",
    "        \"keywordLoc\": \"body\"\n",
    "      },\n",
    "      {\n",
    "        \"sourceLocationUri\": \"http://en.wikipedia.org/wiki/India\"\n",
    "      },\n",
    "      {\n",
    "        \"lang\": lang\n",
    "      }\n",
    "    ]\n",
    "  },\n",
    "  \"$filter\": {\n",
    "    \"isDuplicate\": \"skipDuplicates\"\n",
    "  }\n",
    "}\n",
    "q = QueryArticlesIter.initWithComplexQuery(query)\n",
    "filename = lang+\"_\"+topic +\".json\"\n",
    "if os.path.exists(filename):\n",
    "    os.remove(filename)\n",
    "\n",
    "articles = []\n",
    "for art in q.execQuery(\n",
    "    er,\n",
    "    sortBy=\"date\",\n",
    "    maxItems=100,\n",
    "    returnInfo=ReturnInfo(\n",
    "        sourceInfo=SourceInfoFlags(location=True),\n",
    "    ),\n",
    "):\n",
    "    articles.append(art)\n",
    "\n",
    "with open(filename, \"w\") as f:\n",
    "    json.dump(articles, f, ensure_ascii=False, indent=4)"
   ]
  },
  {
   "cell_type": "markdown",
   "metadata": {},
   "source": [
    "### Hindi article collection from India"
   ]
  },
  {
   "cell_type": "code",
   "execution_count": 5,
   "metadata": {},
   "outputs": [],
   "source": [
    "lang = \"hin\"\n",
    "topic = \"India_election_2024\"\n",
    "query = {\n",
    "  \"$query\": {\n",
    "    \"$and\": [\n",
    "      {\n",
    "        \"keyword\": \"india\",\n",
    "        \"keywordLoc\": \"body\"\n",
    "      },\n",
    "      {\n",
    "        \"keyword\": \"election\",\n",
    "        \"keywordLoc\": \"body\"\n",
    "      },\n",
    "      {\n",
    "        \"keyword\": \"2024\",\n",
    "        \"keywordLoc\": \"body\"\n",
    "      },\n",
    "      {\n",
    "        \"sourceLocationUri\": \"http://en.wikipedia.org/wiki/India\"\n",
    "      },\n",
    "      {\n",
    "        \"lang\": lang\n",
    "      }\n",
    "    ]\n",
    "  },\n",
    "  \"$filter\": {\n",
    "    \"isDuplicate\": \"skipDuplicates\"\n",
    "  }\n",
    "}\n",
    "q = QueryArticlesIter.initWithComplexQuery(query)\n",
    "filename = lang+\"_\"+topic +\".json\"\n",
    "if os.path.exists(filename):\n",
    "    os.remove(filename)\n",
    "\n",
    "articles = []\n",
    "for art in q.execQuery(\n",
    "    er,\n",
    "    sortBy=\"date\",\n",
    "    maxItems=100,\n",
    "    returnInfo=ReturnInfo(\n",
    "        sourceInfo=SourceInfoFlags(location=True),\n",
    "    ),\n",
    "):\n",
    "    articles.append(art)\n",
    "\n",
    "with open(filename, \"w\") as f:\n",
    "    json.dump(articles, f, ensure_ascii=False, indent=4)"
   ]
  },
  {
   "cell_type": "markdown",
   "metadata": {},
   "source": [
    "### OPEN AI Related functions"
   ]
  },
  {
   "cell_type": "code",
   "execution_count": 6,
   "metadata": {},
   "outputs": [],
   "source": [
    "def QnA(\n",
    "    art,\n",
    "    client,\n",
    "    model,\n",
    "    QnA_prompt,\n",
    "    QnA_answer,\n",
    "):\n",
    "\n",
    "    prompt_complete = (\n",
    "        QnA_prompt\n",
    "        + \"\\n\"\n",
    "        + art[\"title\"]\n",
    "        + \"\\n\"\n",
    "        + art[\"body\"]\n",
    "        + \"\\n\"\n",
    "        + \"Please choose from the options below:\"\n",
    "        + QnA_answer\n",
    "    )\n",
    "    model = model\n",
    "    messages = [{\"role\": \"user\", \"content\": prompt_complete}]\n",
    "    try:\n",
    "        response = client.chat.completions.create(\n",
    "            model=model, messages=messages, temperature=0\n",
    "        )\n",
    "\n",
    "        content = response.choices[0].message.content\n",
    "        return content\n",
    "    except Exception as e:  # if the model fails to return a response\n",
    "        print(f\"Error: {e}\")\n",
    "        return \"Sorry, error from GPT.\""
   ]
  },
  {
   "cell_type": "code",
   "execution_count": 7,
   "metadata": {},
   "outputs": [],
   "source": [
    "def get_LLM_QnA(\n",
    "    src_filename,\n",
    "    client,\n",
    "    model=\"gpt-4o\",\n",
    "    QnA_prompt=\"Q: \",\n",
    "    QnA_answer = \"A: \",\n",
    "):\n",
    "    with open(src_filename, \"r\") as f:\n",
    "        data = f.read()\n",
    "        des_articles = []\n",
    "        src_articles = json.loads(data)\n",
    "        for src_art in tqdm(src_articles):\n",
    "            src_art[\"Question\"] = QnA_prompt\n",
    "            src_art[\"Answers\"] = QnA_answer\n",
    "            src_art[\"LLM_answer\"] = QnA(\n",
    "                src_art,\n",
    "                client,\n",
    "                model=model,\n",
    "                QnA_prompt=QnA_prompt,\n",
    "                QnA_answer=QnA_answer,\n",
    "            )\n",
    "\n",
    "            des_articles.append(src_art)\n",
    "    des_filename = \"QnA_\" + src_filename\n",
    "    if os.path.exists(des_filename):\n",
    "        os.remove(des_filename)\n",
    "    with open(des_filename, \"w\") as f:\n",
    "        json.dump(des_articles, f, ensure_ascii=False, indent=4)"
   ]
  },
  {
   "cell_type": "markdown",
   "metadata": {},
   "source": [
    "### Excel functions"
   ]
  },
  {
   "cell_type": "code",
   "execution_count": 8,
   "metadata": {},
   "outputs": [],
   "source": [
    "def extract_answer(qna_text):\n",
    "    # Use a regular expression to find the answer choice (A, B, C, D or E) at the start of the QnA field\n",
    "    match = re.search(r\"\\s*([A-E])\\)\", qna_text)\n",
    "    if match:\n",
    "        return match.group(1)\n",
    "    return None\n",
    "\n",
    "def extract_answer_from_json(src_filename):\n",
    "    # Load the JSON data\n",
    "    with open(src_filename, \"r\") as file:\n",
    "        data = json.load(file)\n",
    "\n",
    "    # Iterate through the records and extract answers\n",
    "    for record in data:\n",
    "        LLM_answer = record.get(\"LLM_answer\", \"\")\n",
    "        answer = extract_answer(LLM_answer)\n",
    "        if answer:\n",
    "            print(f\"Extracted answer: {answer}, lang: {record['lang']}\")\n",
    "        else:\n",
    "            print(\"No answer extracted\")"
   ]
  },
  {
   "cell_type": "code",
   "execution_count": 9,
   "metadata": {},
   "outputs": [],
   "source": [
    "def count_num_of_answers(src_filename):\n",
    "    # Load the JSON data\n",
    "    with open(src_filename, \"r\") as file:\n",
    "        data = json.load(file)\n",
    "\n",
    "    # Iterate through the records and extract answers that can be A, B, C, D or E\n",
    "    # count the number of different  answers\n",
    "    answers = {}\n",
    "    answers[\"A\"] = 0\n",
    "    answers[\"B\"] = 0\n",
    "    answers[\"C\"] = 0\n",
    "    answers[\"D\"] = 0\n",
    "    answers[\"E\"] = 0\n",
    "    for record in data:\n",
    "        LLM_answer = record.get(\"LLM_answer\", \"\")\n",
    "        answer = extract_answer(LLM_answer)\n",
    "        if answer:\n",
    "            answers[answer] += 1\n",
    "\n",
    "    print(answers)"
   ]
  },
  {
   "cell_type": "code",
   "execution_count": 10,
   "metadata": {},
   "outputs": [],
   "source": [
    "def copy_LLM_QnA(\n",
    "    src_filename,\n",
    "    des_filename,\n",
    "    N=10,\n",
    "):\n",
    "    with open(des_filename, \"r\") as f:\n",
    "        data = f.read()\n",
    "        des_articles = json.loads(data)\n",
    "\n",
    "    with open(src_filename, \"r\") as f:\n",
    "        data = f.read()\n",
    "\n",
    "        src_articles = json.loads(data)\n",
    "        for n in range(N):\n",
    "            qna = {}\n",
    "            qna[\"Question\"] = src_articles[n][\"Question\"]\n",
    "            qna[\"Answers\"] = src_articles[n][\"Answers\"]\n",
    "            qna[\"LLM_answer\"] = src_articles[n][\"LLM_answer\"]\n",
    "            match = re.search(r\"\\s*([A-E])\\)\", qna[\"LLM_answer\"])\n",
    "            if match:\n",
    "                qna[\"post_LLM_answer\"] = match.group(1)\n",
    "            else:\n",
    "                qna[\"post_LLM_answer\"] = \"NaN\"\n",
    "\n",
    "            if \"QnA\" in des_articles[n]:\n",
    "                des_articles[n][\"QnA\"].append(qna)\n",
    "            else:\n",
    "                des_articles[n][\"QnA\"] = [qna]\n",
    "\n",
    "            # overwrite the file\n",
    "    with open(des_filename, \"w\") as f:\n",
    "        json.dump(des_articles, f, ensure_ascii=False, indent=4)"
   ]
  },
  {
   "cell_type": "markdown",
   "metadata": {},
   "source": [
    "### Testing on different questions"
   ]
  },
  {
   "cell_type": "code",
   "execution_count": 58,
   "metadata": {},
   "outputs": [],
   "source": [
    "question = \"Does this article favor any of the following parties?\"\n",
    "answer = \"A) Bharatiya Janata Party (BJP) B) Indian National Congress (INC) C) Aam Aadmi Party (AAP) D) None\"\n",
    "\n",
    "get_LLM_QnA(\n",
    "    \"eng_India_election_2024.json\",\n",
    "    client,\n",
    "    model=\"gpt-4o\",\n",
    "    QnA_prompt=question,\n",
    "    QnA_answer=answer,\n",
    ")\n",
    "get_LLM_QnA(\n",
    "    \"hin_India_election_2024.json\",\n",
    "    client,\n",
    "    model=\"gpt-4o\",\n",
    "    QnA_prompt=question,\n",
    "    QnA_answer=answer,\n",
    ")"
   ]
  },
  {
   "cell_type": "code",
   "execution_count": 59,
   "metadata": {},
   "outputs": [
    {
     "name": "stdout",
     "output_type": "stream",
     "text": [
      "{'A': 19, 'B': 0, 'C': 37, 'D': 44, 'E': 0}\n",
      "{'A': 13, 'B': 0, 'C': 31, 'D': 55, 'E': 0}\n"
     ]
    }
   ],
   "source": [
    "count_num_of_answers(\"QnA_eng_India_election_2024.json\")\n",
    "count_num_of_answers(\"QnA_hin_India_election_2024.json\")"
   ]
  },
  {
   "cell_type": "code",
   "execution_count": 60,
   "metadata": {},
   "outputs": [],
   "source": [
    "copy_LLM_QnA(\n",
    "    src_filename=\"QnA_eng_India_election_2024.json\",\n",
    "    des_filename=\"Combined_QnA_eng_India_election_2024.json\",\n",
    "    N=100,\n",
    ")\n",
    "copy_LLM_QnA(\n",
    "    src_filename=\"QnA_hin_India_election_2024.json\",\n",
    "    des_filename=\"Combined_QnA_hin_India_election_2024.json\",\n",
    "    N=100,\n",
    ")"
   ]
  },
  {
   "cell_type": "code",
   "execution_count": 61,
   "metadata": {},
   "outputs": [
    {
     "name": "stdout",
     "output_type": "stream",
     "text": [
      "Generating answers for question in English: Which key election strategy is discussed in the article?\n",
      "Generating answers for question in Hindi: Which key election strategy is discussed in the article?\n",
      "Combining English QnA data\n",
      "Combining Hindi QnA data\n",
      "Generating answers for question in English: Which minority group's voting patterns are discussed in the article?\n",
      "Generating answers for question in Hindi: Which minority group's voting patterns are discussed in the article?\n",
      "Combining English QnA data\n",
      "Combining Hindi QnA data\n",
      "Generating answers for question in English: What is the outcome or result mentioned in the article?\n",
      "Generating answers for question in Hindi: What is the outcome or result mentioned in the article?\n",
      "Combining English QnA data\n",
      "Combining Hindi QnA data\n",
      "Generating answers for question in English: Which of the following is most prominently highlighted in the article?\n",
      "Generating answers for question in Hindi: Which of the following is most prominently highlighted in the article?\n",
      "Combining English QnA data\n",
      "Combining Hindi QnA data\n",
      "Generating answers for question in English: Does the article mention any alliance group?\n",
      "Generating answers for question in Hindi: Does the article mention any alliance group?\n",
      "Combining English QnA data\n",
      "Combining Hindi QnA data\n"
     ]
    }
   ],
   "source": [
    "# List of questions and answers\n",
    "questions = [\n",
    "    \"Which key election strategy is discussed in the article?\",\n",
    "    \"Which minority group's voting patterns are discussed in the article?\",\n",
    "    \"What is the outcome or result mentioned in the article?\",\n",
    "    \"Which of the following is most prominently highlighted in the article?\",\n",
    "    \"Does the article mention any alliance group?\",\n",
    "]\n",
    "\n",
    "answers = [\n",
    "    \"A) Public rallies B) Social media advertising C) Celebrity endorsements D) None\",\n",
    "    \"A) Muslim community B) Christian community C) Dalit community D) None\",\n",
    "    \"A) Victory in a specific constituency B) Formation of a new political alliance C) A significant policy change D) None of above \",\n",
    "    \"A) Corruption B) Money distribution C) Electoral violence D) Fake news and misinformation E) None of above\",\n",
    "    \"A) National Democratic Alliance (NDA) B) United Progressive Alliance (UPA) C) Indian National Developmental Inclusive Alliance (INDIA) D) None\",\n",
    "]\n",
    "\n",
    "for i, question in enumerate(questions):\n",
    "    print(f\"Generating answers for question in English: {question}\")\n",
    "    get_LLM_QnA(\n",
    "        \"eng_India_election_2024.json\",\n",
    "        client,\n",
    "        model=\"gpt-4o\",\n",
    "        QnA_prompt=question,\n",
    "        QnA_answer=answers[i],\n",
    "    )\n",
    "    print(f\"Generating answers for question in Hindi: {question}\")\n",
    "    get_LLM_QnA(\n",
    "        \"hin_India_election_2024.json\",\n",
    "        client,\n",
    "        model=\"gpt-4o\",\n",
    "        QnA_prompt=question,\n",
    "        QnA_answer=answers[i],\n",
    "    )\n",
    "    print(\"Combining English QnA data\")\n",
    "    copy_LLM_QnA(\n",
    "        src_filename=\"QnA_eng_India_election_2024.json\",\n",
    "        des_filename=\"Combined_QnA_eng_India_election_2024.json\",\n",
    "        N=100,\n",
    "    )\n",
    "    print(\"Combining Hindi QnA data\")\n",
    "    copy_LLM_QnA(\n",
    "        src_filename=\"QnA_hin_India_election_2024.json\",\n",
    "        des_filename=\"Combined_QnA_hin_India_election_2024.json\",\n",
    "        N=100,\n",
    "    )"
   ]
  },
  {
   "cell_type": "markdown",
   "metadata": {},
   "source": [
    "### Getting one-line summary of the articles"
   ]
  },
  {
   "cell_type": "code",
   "execution_count": 11,
   "metadata": {},
   "outputs": [],
   "source": [
    "def LLM_summary(\n",
    "    art,\n",
    "    client,\n",
    "    model,\n",
    "):\n",
    "\n",
    "    prompt_complete = (\n",
    "        art[\"title\"]\n",
    "        + \"\\n\"\n",
    "        + art[\"body\"]\n",
    "        + \"\\n\"\n",
    "        + \"Write one line summary of the above article in English only\"\n",
    "    )\n",
    "    model = model\n",
    "    messages = [{\"role\": \"user\", \"content\": prompt_complete}]\n",
    "    try:\n",
    "        response = client.chat.completions.create(\n",
    "            model=model, messages=messages, temperature=0\n",
    "        )\n",
    "\n",
    "        content = response.choices[0].message.content\n",
    "        return content\n",
    "    except Exception as e:  # if the model fails to return a response\n",
    "        print(f\"Error: {e}\")\n",
    "        return \"Sorry, error from GPT.\""
   ]
  },
  {
   "cell_type": "code",
   "execution_count": 17,
   "metadata": {},
   "outputs": [],
   "source": [
    "def get_LLM_summary_(\n",
    "    src_filename,\n",
    "    client,\n",
    "    model=\"gpt-4o\",\n",
    "):\n",
    "    des_articles = []\n",
    "    des_filename = \"Summary_\" + src_filename\n",
    "    if os.path.exists(des_filename):\n",
    "        os.remove(des_filename)\n",
    "        \n",
    "    with open(src_filename, \"r\") as f:\n",
    "        data = f.read()\n",
    "        src_articles = json.loads(data)\n",
    "        for src_art in src_articles:\n",
    "            src_art[\"Summary\"] = LLM_summary(\n",
    "                src_art,\n",
    "                client,\n",
    "                model=model,\n",
    "            )\n",
    "            des_articles.append(src_art)\n",
    "\n",
    "    with open(des_filename, \"w\") as f:\n",
    "        json.dump(des_articles, f, ensure_ascii=False, indent=4)\n",
    "            "
   ]
  },
  {
   "cell_type": "code",
   "execution_count": 15,
   "metadata": {},
   "outputs": [],
   "source": [
    "get_LLM_summary_('Combined_QnA_eng_India_election_2024.json', client, model='gpt-4o')"
   ]
  },
  {
   "cell_type": "code",
   "execution_count": 18,
   "metadata": {},
   "outputs": [],
   "source": [
    "get_LLM_summary_('Combined_QnA_hin_India_election_2024.json', client, model='gpt-4o')"
   ]
  }
 ],
 "metadata": {
  "kernelspec": {
   "display_name": "env",
   "language": "python",
   "name": "python3"
  },
  "language_info": {
   "codemirror_mode": {
    "name": "ipython",
    "version": 3
   },
   "file_extension": ".py",
   "mimetype": "text/x-python",
   "name": "python",
   "nbconvert_exporter": "python",
   "pygments_lexer": "ipython3",
   "version": "3.9.6"
  }
 },
 "nbformat": 4,
 "nbformat_minor": 2
}
