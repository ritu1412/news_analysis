{
 "cells": [
  {
   "cell_type": "code",
   "execution_count": 1,
   "metadata": {},
   "outputs": [],
   "source": [
    "from openai import OpenAI\n",
    "import os\n",
    "import json\n",
    "\n",
    "client = OpenAI(api_key=os.getenv(\"OPENAI_API_KEY\"))"
   ]
  },
  {
   "cell_type": "code",
   "execution_count": 5,
   "metadata": {},
   "outputs": [],
   "source": [
    "def summary(\n",
    "    art,\n",
    "    client,\n",
    "    model,\n",
    "    QnA_prompt,\n",
    "):\n",
    "\n",
    "    prompt_complete = QnA_prompt + \"\\n\" + art[\"title\"] + \"\\n\" + art[\"body\"]\n",
    "    model = model\n",
    "    messages = [{\"role\": \"user\", \"content\": prompt_complete}]\n",
    "    try:\n",
    "        response = client.chat.completions.create(\n",
    "            model=model, messages=messages, temperature=0\n",
    "        )\n",
    "\n",
    "        content = response.choices[0].message.content\n",
    "        return content\n",
    "    except Exception as e:  # if the model fails to return a response\n",
    "        print(f\"Error: {e}\")\n",
    "        return \"Sorry, error from GPT.\""
   ]
  },
  {
   "cell_type": "code",
   "execution_count": 6,
   "metadata": {},
   "outputs": [],
   "source": [
    "def get_LLM_summary(\n",
    "    src_filename,\n",
    "    client,\n",
    "    model=\"gpt-4o\",\n",
    "    QnA_prompt=\"\",\n",
    "):\n",
    "    # Construct the full paths for reading and saving files\n",
    "    src_file_path = src_filename\n",
    "    des_filename = \"summary_\" + src_filename\n",
    "    des_file_path = des_filename\n",
    "\n",
    "    # Read the source file\n",
    "    with open(src_file_path, \"r\", encoding='utf-8') as f:\n",
    "        data = f.read()\n",
    "        des_articles = []\n",
    "        src_articles = json.loads(data)\n",
    "        for src_art in src_articles:\n",
    "            src_art[\"summary\"] = summary(\n",
    "                src_art,\n",
    "                client,\n",
    "                model=model,\n",
    "                QnA_prompt=QnA_prompt,\n",
    "            )\n",
    "            des_articles.append(src_art)\n",
    "\n",
    "    # Check if the destination file already exists and remove it if it does\n",
    "    if os.path.exists(des_file_path):\n",
    "        os.remove(des_file_path)\n",
    "\n",
    "    # Save the processed articles to the new file\n",
    "    with open(des_file_path, \"w\", encoding='utf-8') as f:\n",
    "        json.dump(des_articles, f, ensure_ascii=False, indent=4)\n",
    "\n"
   ]
  },
  {
   "cell_type": "code",
   "execution_count": 7,
   "metadata": {},
   "outputs": [],
   "source": [
    "question = \"Please summarize the following news article in English. The summary should be concise, and should include the main points, key events, people involved, and any significant outcomes or implications:\"\n",
    "\n",
    "get_LLM_summary(\n",
    "    src_filename=\"russia ukraine war_eng.json\",\n",
    "    client=client,  \n",
    "    model=\"gpt-4o\",\n",
    "    QnA_prompt=question,\n",
    ")\n"
   ]
  },
  {
   "cell_type": "code",
   "execution_count": 8,
   "metadata": {},
   "outputs": [],
   "source": [
    "question = \"Please summarize the following news article in English. The summary should be concise, and should include the main points, key events, people involved, and any significant outcomes or implications:\"\n",
    "\n",
    "get_LLM_summary(\n",
    "    src_filename=\"रूस यूक्रेन_hin.json\",\n",
    "    client=client,  \n",
    "    model=\"gpt-4o\",\n",
    "    QnA_prompt=question,\n",
    ")"
   ]
  },
  {
   "cell_type": "code",
   "execution_count": 9,
   "metadata": {},
   "outputs": [],
   "source": [
    "question = \"Please summarize the following news article in English. The summary should be concise, and should include the main points, key events, people involved, and any significant outcomes or implications:\"\n",
    "\n",
    "get_LLM_summary(\n",
    "    src_filename=\"俄乌战争_zho.json\",\n",
    "    client=client,  \n",
    "    model=\"gpt-4o\",\n",
    "    QnA_prompt=question,\n",
    ")"
   ]
  },
  {
   "cell_type": "code",
   "execution_count": 1,
   "metadata": {},
   "outputs": [],
   "source": [
    "#combine 3 json files to one file and save it\n",
    "import json\n",
    "\n",
    "with open('summary_russia ukraine war_eng.json') as f:\n",
    "    data1 = json.load(f)\n",
    "\n",
    "with open('summary_रूस यूक्रेन_hin.json') as f:\n",
    "    data2 = json.load(f)\n",
    "\n",
    "with open('summary_俄乌战争_zho.json') as f:\n",
    "    data3 = json.load(f)\n",
    "\n",
    "data1.extend(data2)\n",
    "data1.extend(data3)\n",
    "\n",
    "with open('summary_all.json', 'w') as f:\n",
    "    json.dump(data1, f, ensure_ascii=False, indent=4)"
   ]
  }
 ],
 "metadata": {
  "kernelspec": {
   "display_name": "base",
   "language": "python",
   "name": "python3"
  },
  "language_info": {
   "codemirror_mode": {
    "name": "ipython",
    "version": 3
   },
   "file_extension": ".py",
   "mimetype": "text/x-python",
   "name": "python",
   "nbconvert_exporter": "python",
   "pygments_lexer": "ipython3",
   "version": "3.9.6"
  }
 },
 "nbformat": 4,
 "nbformat_minor": 2
}
