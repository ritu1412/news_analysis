{
 "cells": [
  {
   "cell_type": "code",
   "execution_count": 1,
   "metadata": {},
   "outputs": [],
   "source": [
    "import json"
   ]
  },
  {
   "cell_type": "code",
   "execution_count": 5,
   "metadata": {},
   "outputs": [
    {
     "name": "stdout",
     "output_type": "stream",
     "text": [
      "Filtered articles saved to filtered_articles_eng.json\n"
     ]
    }
   ],
   "source": [
    "with open('filtered_output.json', 'r') as file:\n",
    "    data = json.load(file)\n",
    "\n",
    "# Filter articles with lang: \"eng\"\n",
    "filtered_articles = [article for article in data if article.get(\"lang\") == \"eng\"]\n",
    "\n",
    "# Save the filtered articles to a new JSON file\n",
    "with open('filtered_articles_eng.json', 'w') as json_file:\n",
    "    json.dump(filtered_articles, json_file, indent=4)\n",
    "\n",
    "print(\"Filtered articles saved to filtered_articles_eng.json\")"
   ]
  },
  {
   "cell_type": "code",
   "execution_count": 7,
   "metadata": {},
   "outputs": [
    {
     "data": {
      "text/plain": [
       "16"
      ]
     },
     "execution_count": 7,
     "metadata": {},
     "output_type": "execute_result"
    }
   ],
   "source": [
    "len_filtered_articles = len(filtered_articles)\n",
    "len_filtered_articles"
   ]
  },
  {
   "cell_type": "code",
   "execution_count": 8,
   "metadata": {},
   "outputs": [
    {
     "name": "stdout",
     "output_type": "stream",
     "text": [
      "Updated articles saved to updated_articles.json\n"
     ]
    }
   ],
   "source": [
    "with open('filtered_articles_eng.json', 'r') as file:\n",
    "    data = json.load(file)\n",
    "\n",
    "# Function to append true_narrative based on narrative_answers\n",
    "def append_true_narrative(articles):\n",
    "    for article in articles:\n",
    "        answer = article.get(\"narrative_answers\", {}).get(\"1\")\n",
    "        if answer == \"A\":\n",
    "            article[\"true_narrative\"] = 1\n",
    "        elif answer == \"B\":\n",
    "            article[\"true_narrative\"] = 2\n",
    "        elif answer == \"C\":\n",
    "            article[\"true_narrative\"] = 3\n",
    "\n",
    "# Append true_narrative to each article\n",
    "append_true_narrative(data)\n",
    "\n",
    "# Save the updated JSON data to a new file\n",
    "with open('updated_articles.json', 'w') as file:\n",
    "    json.dump(data, file, indent=4)\n",
    "\n",
    "print(\"Updated articles saved to updated_articles.json\")"
   ]
  }
 ],
 "metadata": {
  "kernelspec": {
   "display_name": "env",
   "language": "python",
   "name": "python3"
  },
  "language_info": {
   "codemirror_mode": {
    "name": "ipython",
    "version": 3
   },
   "file_extension": ".py",
   "mimetype": "text/x-python",
   "name": "python",
   "nbconvert_exporter": "python",
   "pygments_lexer": "ipython3",
   "version": "3.9.6"
  }
 },
 "nbformat": 4,
 "nbformat_minor": 2
}
