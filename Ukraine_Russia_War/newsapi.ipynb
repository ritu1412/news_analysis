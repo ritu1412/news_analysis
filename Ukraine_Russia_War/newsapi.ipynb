{
 "cells": [
  {
   "cell_type": "code",
   "execution_count": 4,
   "metadata": {},
   "outputs": [],
   "source": [
    "from eventregistry import *\n",
    "import json, os, sys\n",
    "import os\n",
    "from eventregistry import EventRegistry\n",
    "from openai import OpenAI\n",
    "from tqdm import tqdm"
   ]
  },
  {
   "cell_type": "code",
   "execution_count": 5,
   "metadata": {},
   "outputs": [],
   "source": [
    "api_key = os.getenv(\"NEWSAPI_API_KEY\")\n",
    "er = EventRegistry(apiKey=api_key, allowUseOfArchive=False)\n",
    "client = OpenAI(api_key=os.getenv(\"OPENAI_API_KEY\"))"
   ]
  },
  {
   "cell_type": "markdown",
   "metadata": {},
   "source": [
    "### Article collection"
   ]
  },
  {
   "cell_type": "code",
   "execution_count": 6,
   "metadata": {},
   "outputs": [],
   "source": [
    "keywords = \"俄乌战争\"\n",
    "lang = \"zho\"\n",
    "q = QueryArticlesIter(keywords=keywords, lang=lang)\n",
    "\n",
    "filename = keywords + \"_\" + lang + \".json\"\n",
    "if os.path.exists(filename):\n",
    "    os.remove(filename)\n",
    "\n",
    "articles = []\n",
    "for art in q.execQuery(\n",
    "    er,\n",
    "    sortBy=\"date\",\n",
    "    maxItems=100,\n",
    "    returnInfo=ReturnInfo(\n",
    "        sourceInfo=SourceInfoFlags(location=True),\n",
    "    ),\n",
    "):\n",
    "    articles.append(art)\n",
    "\n",
    "with open(filename, \"w\") as f:\n",
    "    json.dump(articles, f, ensure_ascii=False, indent=4)"
   ]
  },
  {
   "cell_type": "code",
   "execution_count": 7,
   "metadata": {},
   "outputs": [],
   "source": [
    "keywords = \"Russia Ukraine war\"\n",
    "lang = \"eng\"\n",
    "q = QueryArticlesIter(keywords=keywords, lang=lang)\n",
    "\n",
    "filename = keywords + \"_\" + lang + \".json\"\n",
    "if os.path.exists(filename):\n",
    "    os.remove(filename)\n",
    "\n",
    "articles = []\n",
    "for art in q.execQuery(\n",
    "    er,\n",
    "    sortBy=\"date\",\n",
    "    maxItems=100,\n",
    "    returnInfo=ReturnInfo(\n",
    "        sourceInfo=SourceInfoFlags(location=True),\n",
    "    ),\n",
    "):\n",
    "    articles.append(art)\n",
    "\n",
    "with open(filename, \"w\") as f:\n",
    "    json.dump(articles, f, ensure_ascii=False, indent=4)"
   ]
  },
  {
   "cell_type": "code",
   "execution_count": 9,
   "metadata": {},
   "outputs": [],
   "source": [
    "keywords = \"russia ukraine war\"\n",
    "lang = \"eng\"\n",
    "q = QueryArticlesIter(keywords=keywords, lang=lang, sourceLocationUri=\"http://en.wikipedia.org/wiki/United_States\",isDuplicateFilter=\"skipDuplicates\")\n",
    "\n",
    "filename = keywords + \"_\" + lang + \".json\"\n",
    "if os.path.exists(filename):\n",
    "    os.remove(filename)\n",
    "\n",
    "articles = []\n",
    "for art in q.execQuery(\n",
    "    er,\n",
    "    sortBy=\"date\",\n",
    "    maxItems=100,\n",
    "    returnInfo=ReturnInfo(\n",
    "        sourceInfo=SourceInfoFlags(location=True),\n",
    "    ),\n",
    "):\n",
    "    articles.append(art)\n",
    "\n",
    "with open(filename, \"w\") as f:\n",
    "    json.dump(articles, f, ensure_ascii=False, indent=4)"
   ]
  },
  {
   "cell_type": "code",
   "execution_count": 11,
   "metadata": {},
   "outputs": [],
   "source": [
    "keywords = \"रूस यूक्रेन\"\n",
    "lang = \"hin\"\n",
    "q = QueryArticlesIter(keywords=keywords, lang=lang,isDuplicateFilter=\"skipDuplicates\")\n",
    "\n",
    "filename = keywords + \"_\" + lang + \".json\"\n",
    "if os.path.exists(filename):\n",
    "    os.remove(filename)\n",
    "\n",
    "articles = []\n",
    "for art in q.execQuery(\n",
    "    er,\n",
    "    sortBy=\"date\",\n",
    "    maxItems=100,\n",
    "    returnInfo=ReturnInfo(\n",
    "        sourceInfo=SourceInfoFlags(location=True),\n",
    "    ),\n",
    "):\n",
    "    articles.append(art)\n",
    "\n",
    "with open(filename, \"w\") as f:\n",
    "    json.dump(articles, f, ensure_ascii=False, indent=4)"
   ]
  }
 ],
 "metadata": {
  "kernelspec": {
   "display_name": "env",
   "language": "python",
   "name": "python3"
  },
  "language_info": {
   "codemirror_mode": {
    "name": "ipython",
    "version": 3
   },
   "file_extension": ".py",
   "mimetype": "text/x-python",
   "name": "python",
   "nbconvert_exporter": "python",
   "pygments_lexer": "ipython3",
   "version": "3.9.6"
  }
 },
 "nbformat": 4,
 "nbformat_minor": 2
}
