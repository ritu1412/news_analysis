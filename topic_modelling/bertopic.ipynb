{
 "cells": [
  {
   "cell_type": "code",
   "execution_count": 4,
   "metadata": {},
   "outputs": [
    {
     "name": "stderr",
     "output_type": "stream",
     "text": [
      "/Users/ritutoshniwal/Code/news_analysis/env/lib/python3.9/site-packages/tqdm/auto.py:21: TqdmWarning: IProgress not found. Please update jupyter and ipywidgets. See https://ipywidgets.readthedocs.io/en/stable/user_install.html\n",
      "  from .autonotebook import tqdm as notebook_tqdm\n",
      "/Users/ritutoshniwal/Code/news_analysis/env/lib/python3.9/site-packages/urllib3/__init__.py:35: NotOpenSSLWarning: urllib3 v2 only supports OpenSSL 1.1.1+, currently the 'ssl' module is compiled with 'LibreSSL 2.8.3'. See: https://github.com/urllib3/urllib3/issues/3020\n",
      "  warnings.warn(\n"
     ]
    }
   ],
   "source": [
    "from bertopic import BERTopic\n",
    "import json\n",
    "import pandas as pd"
   ]
  },
  {
   "cell_type": "code",
   "execution_count": 9,
   "metadata": {},
   "outputs": [],
   "source": [
    "# Load JSON data\n",
    "with open('combined_summary.json', 'r') as file:\n",
    "    data = json.load(file)\n",
    "\n",
    "# Convert JSON data to DataFrame\n",
    "articles = pd.DataFrame(data)\n",
    "summaries = articles['body']"
   ]
  },
  {
   "cell_type": "code",
   "execution_count": 12,
   "metadata": {},
   "outputs": [],
   "source": [
    "topic_model = BERTopic(language=\"multilingual\")\n",
    "topics, probs = topic_model.fit_transform(summaries)"
   ]
  },
  {
   "cell_type": "code",
   "execution_count": 13,
   "metadata": {},
   "outputs": [
    {
     "data": {
      "text/html": [
       "<div>\n",
       "<style scoped>\n",
       "    .dataframe tbody tr th:only-of-type {\n",
       "        vertical-align: middle;\n",
       "    }\n",
       "\n",
       "    .dataframe tbody tr th {\n",
       "        vertical-align: top;\n",
       "    }\n",
       "\n",
       "    .dataframe thead th {\n",
       "        text-align: right;\n",
       "    }\n",
       "</style>\n",
       "<table border=\"1\" class=\"dataframe\">\n",
       "  <thead>\n",
       "    <tr style=\"text-align: right;\">\n",
       "      <th></th>\n",
       "      <th>Topic</th>\n",
       "      <th>Count</th>\n",
       "      <th>Name</th>\n",
       "      <th>Representation</th>\n",
       "      <th>Representative_Docs</th>\n",
       "    </tr>\n",
       "  </thead>\n",
       "  <tbody>\n",
       "    <tr>\n",
       "      <th>0</th>\n",
       "      <td>-1</td>\n",
       "      <td>53</td>\n",
       "      <td>-1_the_and_of_in</td>\n",
       "      <td>[the, and, of, in, to, food, that, sudan, phil...</td>\n",
       "      <td>[The United States on Friday announced another...</td>\n",
       "    </tr>\n",
       "    <tr>\n",
       "      <th>1</th>\n",
       "      <td>0</td>\n",
       "      <td>198</td>\n",
       "      <td>0_the_and_in_of</td>\n",
       "      <td>[the, and, in, of, to, india, पर, bjp, modi, on]</td>\n",
       "      <td>[London [UK], June 5 (ANI): UK Prime Minister ...</td>\n",
       "    </tr>\n",
       "    <tr>\n",
       "      <th>2</th>\n",
       "      <td>1</td>\n",
       "      <td>63</td>\n",
       "      <td>1_the_china_and_in</td>\n",
       "      <td>[the, china, and, in, 香会, of, to, that, with, ...</td>\n",
       "      <td>[Defense minister reiterates firm stances on T...</td>\n",
       "    </tr>\n",
       "    <tr>\n",
       "      <th>3</th>\n",
       "      <td>2</td>\n",
       "      <td>48</td>\n",
       "      <td>2_联合国海洋法公约_南海各方行为宣言_the_china</td>\n",
       "      <td>[联合国海洋法公约, 南海各方行为宣言, the, china, 在内的国际法, and, ...</td>\n",
       "      <td>[外交部回应菲总统涉南海问题演讲：菲方有关表态罔顾历史和事实\\n\\n外交部发言人就菲律宾总统...</td>\n",
       "    </tr>\n",
       "    <tr>\n",
       "      <th>4</th>\n",
       "      <td>3</td>\n",
       "      <td>46</td>\n",
       "      <td>3_china_the_philippine_chinese</td>\n",
       "      <td>[china, the, philippine, chinese, coast, of, g...</td>\n",
       "      <td>[Military officials says Chinese rigid hull in...</td>\n",
       "    </tr>\n",
       "    <tr>\n",
       "      <th>5</th>\n",
       "      <td>4</td>\n",
       "      <td>37</td>\n",
       "      <td>4_the_to_gaza_of</td>\n",
       "      <td>[the, to, gaza, of, and, in, israel, israeli, ...</td>\n",
       "      <td>[WASHINGTON -- The Biden administration Friday...</td>\n",
       "    </tr>\n",
       "    <tr>\n",
       "      <th>6</th>\n",
       "      <td>5</td>\n",
       "      <td>32</td>\n",
       "      <td>5_to_the_and_g7</td>\n",
       "      <td>[to, the, and, g7, of, migration, on, in, summ...</td>\n",
       "      <td>[The G7 leaders stressed their determination t...</td>\n",
       "    </tr>\n",
       "    <tr>\n",
       "      <th>7</th>\n",
       "      <td>6</td>\n",
       "      <td>28</td>\n",
       "      <td>6_gaza_noa_hamas_the</td>\n",
       "      <td>[gaza, noa, hamas, the, argamani, israeli, her...</td>\n",
       "      <td>[In a scene reminiscent of a spy thriller, the...</td>\n",
       "    </tr>\n",
       "    <tr>\n",
       "      <th>8</th>\n",
       "      <td>7</td>\n",
       "      <td>20</td>\n",
       "      <td>7_hezbollah_taleb_abdallah_sami</td>\n",
       "      <td>[hezbollah, taleb, abdallah, sami, israeli, go...</td>\n",
       "      <td>[（中央社貝魯特13日綜合外電報導）在以色列11日空襲擊斃黎巴嫩武裝團體真主黨（Hezbol...</td>\n",
       "    </tr>\n",
       "    <tr>\n",
       "      <th>9</th>\n",
       "      <td>8</td>\n",
       "      <td>19</td>\n",
       "      <td>8_the_to_in_and</td>\n",
       "      <td>[the, to, in, and, of, marcos, russia, ukraine...</td>\n",
       "      <td>[MANILA - The Philippines is attending the upc...</td>\n",
       "    </tr>\n",
       "    <tr>\n",
       "      <th>10</th>\n",
       "      <td>9</td>\n",
       "      <td>17</td>\n",
       "      <td>9_the_anc_of_in</td>\n",
       "      <td>[the, anc, of, in, parties, mr, parliament, na...</td>\n",
       "      <td>[The deal, which parties referred to as a gove...</td>\n",
       "    </tr>\n",
       "    <tr>\n",
       "      <th>11</th>\n",
       "      <td>10</td>\n",
       "      <td>14</td>\n",
       "      <td>10_the_of_huthis_yemen</td>\n",
       "      <td>[the, of, huthis, yemen, aden, in, red, attack...</td>\n",
       "      <td>[The crew of a ship that was holed in an attac...</td>\n",
       "    </tr>\n",
       "    <tr>\n",
       "      <th>12</th>\n",
       "      <td>11</td>\n",
       "      <td>14</td>\n",
       "      <td>11_china_sea_the_in</td>\n",
       "      <td>[china, sea, the, in, philippines, and, south,...</td>\n",
       "      <td>[China said the United States has played an \"e...</td>\n",
       "    </tr>\n",
       "    <tr>\n",
       "      <th>13</th>\n",
       "      <td>12</td>\n",
       "      <td>11</td>\n",
       "      <td>12_to_the_and_of</td>\n",
       "      <td>[to, the, and, of, in, on, g7, for, climate, m...</td>\n",
       "      <td>[The Group of Seven leading industrialised nat...</td>\n",
       "    </tr>\n",
       "  </tbody>\n",
       "</table>\n",
       "</div>"
      ],
      "text/plain": [
       "    Topic  Count                             Name  \\\n",
       "0      -1     53                 -1_the_and_of_in   \n",
       "1       0    198                  0_the_and_in_of   \n",
       "2       1     63               1_the_china_and_in   \n",
       "3       2     48    2_联合国海洋法公约_南海各方行为宣言_the_china   \n",
       "4       3     46   3_china_the_philippine_chinese   \n",
       "5       4     37                 4_the_to_gaza_of   \n",
       "6       5     32                  5_to_the_and_g7   \n",
       "7       6     28             6_gaza_noa_hamas_the   \n",
       "8       7     20  7_hezbollah_taleb_abdallah_sami   \n",
       "9       8     19                  8_the_to_in_and   \n",
       "10      9     17                  9_the_anc_of_in   \n",
       "11     10     14           10_the_of_huthis_yemen   \n",
       "12     11     14              11_china_sea_the_in   \n",
       "13     12     11                 12_to_the_and_of   \n",
       "\n",
       "                                       Representation  \\\n",
       "0   [the, and, of, in, to, food, that, sudan, phil...   \n",
       "1    [the, and, in, of, to, india, पर, bjp, modi, on]   \n",
       "2   [the, china, and, in, 香会, of, to, that, with, ...   \n",
       "3   [联合国海洋法公约, 南海各方行为宣言, the, china, 在内的国际法, and, ...   \n",
       "4   [china, the, philippine, chinese, coast, of, g...   \n",
       "5   [the, to, gaza, of, and, in, israel, israeli, ...   \n",
       "6   [to, the, and, g7, of, migration, on, in, summ...   \n",
       "7   [gaza, noa, hamas, the, argamani, israeli, her...   \n",
       "8   [hezbollah, taleb, abdallah, sami, israeli, go...   \n",
       "9   [the, to, in, and, of, marcos, russia, ukraine...   \n",
       "10  [the, anc, of, in, parties, mr, parliament, na...   \n",
       "11  [the, of, huthis, yemen, aden, in, red, attack...   \n",
       "12  [china, sea, the, in, philippines, and, south,...   \n",
       "13  [to, the, and, of, in, on, g7, for, climate, m...   \n",
       "\n",
       "                                  Representative_Docs  \n",
       "0   [The United States on Friday announced another...  \n",
       "1   [London [UK], June 5 (ANI): UK Prime Minister ...  \n",
       "2   [Defense minister reiterates firm stances on T...  \n",
       "3   [外交部回应菲总统涉南海问题演讲：菲方有关表态罔顾历史和事实\\n\\n外交部发言人就菲律宾总统...  \n",
       "4   [Military officials says Chinese rigid hull in...  \n",
       "5   [WASHINGTON -- The Biden administration Friday...  \n",
       "6   [The G7 leaders stressed their determination t...  \n",
       "7   [In a scene reminiscent of a spy thriller, the...  \n",
       "8   [（中央社貝魯特13日綜合外電報導）在以色列11日空襲擊斃黎巴嫩武裝團體真主黨（Hezbol...  \n",
       "9   [MANILA - The Philippines is attending the upc...  \n",
       "10  [The deal, which parties referred to as a gove...  \n",
       "11  [The crew of a ship that was holed in an attac...  \n",
       "12  [China said the United States has played an \"e...  \n",
       "13  [The Group of Seven leading industrialised nat...  "
      ]
     },
     "execution_count": 13,
     "metadata": {},
     "output_type": "execute_result"
    }
   ],
   "source": [
    "topic_model.get_topic_info()"
   ]
  },
  {
   "cell_type": "code",
   "execution_count": 14,
   "metadata": {},
   "outputs": [
    {
     "data": {
      "text/html": [
       "<div>\n",
       "<style scoped>\n",
       "    .dataframe tbody tr th:only-of-type {\n",
       "        vertical-align: middle;\n",
       "    }\n",
       "\n",
       "    .dataframe tbody tr th {\n",
       "        vertical-align: top;\n",
       "    }\n",
       "\n",
       "    .dataframe thead th {\n",
       "        text-align: right;\n",
       "    }\n",
       "</style>\n",
       "<table border=\"1\" class=\"dataframe\">\n",
       "  <thead>\n",
       "    <tr style=\"text-align: right;\">\n",
       "      <th></th>\n",
       "      <th>Document</th>\n",
       "      <th>Topic</th>\n",
       "      <th>Name</th>\n",
       "      <th>Representation</th>\n",
       "      <th>Representative_Docs</th>\n",
       "      <th>Top_n_words</th>\n",
       "      <th>Probability</th>\n",
       "      <th>Representative_document</th>\n",
       "    </tr>\n",
       "  </thead>\n",
       "  <tbody>\n",
       "    <tr>\n",
       "      <th>0</th>\n",
       "      <td>Rocket targets Shtula settlement, causing dama...</td>\n",
       "      <td>7</td>\n",
       "      <td>7_hezbollah_taleb_abdallah_sami</td>\n",
       "      <td>[hezbollah, taleb, abdallah, sami, israeli, go...</td>\n",
       "      <td>[（中央社貝魯特13日綜合外電報導）在以色列11日空襲擊斃黎巴嫩武裝團體真主黨（Hezbol...</td>\n",
       "      <td>hezbollah - taleb - abdallah - sami - israeli ...</td>\n",
       "      <td>0.950994</td>\n",
       "      <td>False</td>\n",
       "    </tr>\n",
       "    <tr>\n",
       "      <th>1</th>\n",
       "      <td>President Recep Tayyip Erdoan discussed Trkiye...</td>\n",
       "      <td>8</td>\n",
       "      <td>8_the_to_in_and</td>\n",
       "      <td>[the, to, in, and, of, marcos, russia, ukraine...</td>\n",
       "      <td>[MANILA - The Philippines is attending the upc...</td>\n",
       "      <td>the - to - in - and - of - marcos - russia - u...</td>\n",
       "      <td>0.750766</td>\n",
       "      <td>False</td>\n",
       "    </tr>\n",
       "    <tr>\n",
       "      <th>2</th>\n",
       "      <td>As temperatures soared this week in Gaza, thou...</td>\n",
       "      <td>6</td>\n",
       "      <td>6_gaza_noa_hamas_the</td>\n",
       "      <td>[gaza, noa, hamas, the, argamani, israeli, her...</td>\n",
       "      <td>[In a scene reminiscent of a spy thriller, the...</td>\n",
       "      <td>gaza - noa - hamas - the - argamani - israeli ...</td>\n",
       "      <td>1.000000</td>\n",
       "      <td>False</td>\n",
       "    </tr>\n",
       "    <tr>\n",
       "      <th>3</th>\n",
       "      <td>The G7 leaders stressed their determination to...</td>\n",
       "      <td>5</td>\n",
       "      <td>5_to_the_and_g7</td>\n",
       "      <td>[to, the, and, g7, of, migration, on, in, summ...</td>\n",
       "      <td>[The G7 leaders stressed their determination t...</td>\n",
       "      <td>to - the - and - g7 - of - migration - on - in...</td>\n",
       "      <td>0.851644</td>\n",
       "      <td>True</td>\n",
       "    </tr>\n",
       "    <tr>\n",
       "      <th>4</th>\n",
       "      <td>Marine Le Pen's anti-immigration National Rall...</td>\n",
       "      <td>9</td>\n",
       "      <td>9_the_anc_of_in</td>\n",
       "      <td>[the, anc, of, in, parties, mr, parliament, na...</td>\n",
       "      <td>[The deal, which parties referred to as a gove...</td>\n",
       "      <td>the - anc - of - in - parties - mr - parliamen...</td>\n",
       "      <td>0.164614</td>\n",
       "      <td>False</td>\n",
       "    </tr>\n",
       "    <tr>\n",
       "      <th>...</th>\n",
       "      <td>...</td>\n",
       "      <td>...</td>\n",
       "      <td>...</td>\n",
       "      <td>...</td>\n",
       "      <td>...</td>\n",
       "      <td>...</td>\n",
       "      <td>...</td>\n",
       "      <td>...</td>\n",
       "    </tr>\n",
       "    <tr>\n",
       "      <th>595</th>\n",
       "      <td>外交部副部长马朝旭同美国常务副国务卿坎贝尔举行磋商\\n\\n人民网华盛顿5月31日电 （记者李...</td>\n",
       "      <td>1</td>\n",
       "      <td>1_the_china_and_in</td>\n",
       "      <td>[the, china, and, in, 香会, of, to, that, with, ...</td>\n",
       "      <td>[Defense minister reiterates firm stances on T...</td>\n",
       "      <td>the - china - and - in - 香会 - of - to - that -...</td>\n",
       "      <td>1.000000</td>\n",
       "      <td>False</td>\n",
       "    </tr>\n",
       "    <tr>\n",
       "      <th>596</th>\n",
       "      <td>人民网华盛顿5月31日电 （记者李志伟）应美方邀请，外交部副部长马朝旭于5月30日至6月2日...</td>\n",
       "      <td>1</td>\n",
       "      <td>1_the_china_and_in</td>\n",
       "      <td>[the, china, and, in, 香会, of, to, that, with, ...</td>\n",
       "      <td>[Defense minister reiterates firm stances on T...</td>\n",
       "      <td>the - china - and - in - 香会 - of - to - that -...</td>\n",
       "      <td>1.000000</td>\n",
       "      <td>False</td>\n",
       "    </tr>\n",
       "    <tr>\n",
       "      <th>597</th>\n",
       "      <td>新华社新加坡6月1日电（记者蔡蜀亚　严钰景）中方参会专家5月31日晚在香格里拉对话会期间举行...</td>\n",
       "      <td>2</td>\n",
       "      <td>2_联合国海洋法公约_南海各方行为宣言_the_china</td>\n",
       "      <td>[联合国海洋法公约, 南海各方行为宣言, the, china, 在内的国际法, and, ...</td>\n",
       "      <td>[外交部回应菲总统涉南海问题演讲：菲方有关表态罔顾历史和事实\\n\\n外交部发言人就菲律宾总统...</td>\n",
       "      <td>联合国海洋法公约 - 南海各方行为宣言 - the - china - 在内的国际法 - a...</td>\n",
       "      <td>0.507450</td>\n",
       "      <td>False</td>\n",
       "    </tr>\n",
       "    <tr>\n",
       "      <th>598</th>\n",
       "      <td>5月31日晚，中方参会专家在第21届香格里拉对话会期间召开新闻吹风会，中国军事科学院原副院长...</td>\n",
       "      <td>-1</td>\n",
       "      <td>-1_the_and_of_in</td>\n",
       "      <td>[the, and, of, in, to, food, that, sudan, phil...</td>\n",
       "      <td>[The United States on Friday announced another...</td>\n",
       "      <td>the - and - of - in - to - food - that - sudan...</td>\n",
       "      <td>0.000000</td>\n",
       "      <td>False</td>\n",
       "    </tr>\n",
       "    <tr>\n",
       "      <th>599</th>\n",
       "      <td>美國商務部長親自領軍，帶著高階貿易投資代表團訪菲之舉，背後是中國和菲律賓南海主權紛爭延燒不止...</td>\n",
       "      <td>11</td>\n",
       "      <td>11_china_sea_the_in</td>\n",
       "      <td>[china, sea, the, in, philippines, and, south,...</td>\n",
       "      <td>[China said the United States has played an \"e...</td>\n",
       "      <td>china - sea - the - in - philippines - and - s...</td>\n",
       "      <td>0.907877</td>\n",
       "      <td>False</td>\n",
       "    </tr>\n",
       "  </tbody>\n",
       "</table>\n",
       "<p>600 rows × 8 columns</p>\n",
       "</div>"
      ],
      "text/plain": [
       "                                              Document  Topic  \\\n",
       "0    Rocket targets Shtula settlement, causing dama...      7   \n",
       "1    President Recep Tayyip Erdoan discussed Trkiye...      8   \n",
       "2    As temperatures soared this week in Gaza, thou...      6   \n",
       "3    The G7 leaders stressed their determination to...      5   \n",
       "4    Marine Le Pen's anti-immigration National Rall...      9   \n",
       "..                                                 ...    ...   \n",
       "595  外交部副部长马朝旭同美国常务副国务卿坎贝尔举行磋商\\n\\n人民网华盛顿5月31日电 （记者李...      1   \n",
       "596  人民网华盛顿5月31日电 （记者李志伟）应美方邀请，外交部副部长马朝旭于5月30日至6月2日...      1   \n",
       "597  新华社新加坡6月1日电（记者蔡蜀亚　严钰景）中方参会专家5月31日晚在香格里拉对话会期间举行...      2   \n",
       "598  5月31日晚，中方参会专家在第21届香格里拉对话会期间召开新闻吹风会，中国军事科学院原副院长...     -1   \n",
       "599  美國商務部長親自領軍，帶著高階貿易投資代表團訪菲之舉，背後是中國和菲律賓南海主權紛爭延燒不止...     11   \n",
       "\n",
       "                                Name  \\\n",
       "0    7_hezbollah_taleb_abdallah_sami   \n",
       "1                    8_the_to_in_and   \n",
       "2               6_gaza_noa_hamas_the   \n",
       "3                    5_to_the_and_g7   \n",
       "4                    9_the_anc_of_in   \n",
       "..                               ...   \n",
       "595               1_the_china_and_in   \n",
       "596               1_the_china_and_in   \n",
       "597    2_联合国海洋法公约_南海各方行为宣言_the_china   \n",
       "598                 -1_the_and_of_in   \n",
       "599              11_china_sea_the_in   \n",
       "\n",
       "                                        Representation  \\\n",
       "0    [hezbollah, taleb, abdallah, sami, israeli, go...   \n",
       "1    [the, to, in, and, of, marcos, russia, ukraine...   \n",
       "2    [gaza, noa, hamas, the, argamani, israeli, her...   \n",
       "3    [to, the, and, g7, of, migration, on, in, summ...   \n",
       "4    [the, anc, of, in, parties, mr, parliament, na...   \n",
       "..                                                 ...   \n",
       "595  [the, china, and, in, 香会, of, to, that, with, ...   \n",
       "596  [the, china, and, in, 香会, of, to, that, with, ...   \n",
       "597  [联合国海洋法公约, 南海各方行为宣言, the, china, 在内的国际法, and, ...   \n",
       "598  [the, and, of, in, to, food, that, sudan, phil...   \n",
       "599  [china, sea, the, in, philippines, and, south,...   \n",
       "\n",
       "                                   Representative_Docs  \\\n",
       "0    [（中央社貝魯特13日綜合外電報導）在以色列11日空襲擊斃黎巴嫩武裝團體真主黨（Hezbol...   \n",
       "1    [MANILA - The Philippines is attending the upc...   \n",
       "2    [In a scene reminiscent of a spy thriller, the...   \n",
       "3    [The G7 leaders stressed their determination t...   \n",
       "4    [The deal, which parties referred to as a gove...   \n",
       "..                                                 ...   \n",
       "595  [Defense minister reiterates firm stances on T...   \n",
       "596  [Defense minister reiterates firm stances on T...   \n",
       "597  [外交部回应菲总统涉南海问题演讲：菲方有关表态罔顾历史和事实\\n\\n外交部发言人就菲律宾总统...   \n",
       "598  [The United States on Friday announced another...   \n",
       "599  [China said the United States has played an \"e...   \n",
       "\n",
       "                                           Top_n_words  Probability  \\\n",
       "0    hezbollah - taleb - abdallah - sami - israeli ...     0.950994   \n",
       "1    the - to - in - and - of - marcos - russia - u...     0.750766   \n",
       "2    gaza - noa - hamas - the - argamani - israeli ...     1.000000   \n",
       "3    to - the - and - g7 - of - migration - on - in...     0.851644   \n",
       "4    the - anc - of - in - parties - mr - parliamen...     0.164614   \n",
       "..                                                 ...          ...   \n",
       "595  the - china - and - in - 香会 - of - to - that -...     1.000000   \n",
       "596  the - china - and - in - 香会 - of - to - that -...     1.000000   \n",
       "597  联合国海洋法公约 - 南海各方行为宣言 - the - china - 在内的国际法 - a...     0.507450   \n",
       "598  the - and - of - in - to - food - that - sudan...     0.000000   \n",
       "599  china - sea - the - in - philippines - and - s...     0.907877   \n",
       "\n",
       "     Representative_document  \n",
       "0                      False  \n",
       "1                      False  \n",
       "2                      False  \n",
       "3                       True  \n",
       "4                      False  \n",
       "..                       ...  \n",
       "595                    False  \n",
       "596                    False  \n",
       "597                    False  \n",
       "598                    False  \n",
       "599                    False  \n",
       "\n",
       "[600 rows x 8 columns]"
      ]
     },
     "execution_count": 14,
     "metadata": {},
     "output_type": "execute_result"
    }
   ],
   "source": [
    "topic_model.get_document_info(summaries)"
   ]
  },
  {
   "cell_type": "code",
   "execution_count": 16,
   "metadata": {},
   "outputs": [
    {
     "data": {
      "text/plain": [
       "[('the', 0.04598226062219961),\n",
       " ('and', 0.030063301121311083),\n",
       " ('in', 0.02970036392088716),\n",
       " ('of', 0.02918453781471104),\n",
       " ('to', 0.028453546163682387),\n",
       " ('india', 0.02674273007532796),\n",
       " ('पर', 0.02393293174652),\n",
       " ('bjp', 0.02274349799071177),\n",
       " ('modi', 0.02216867564504739),\n",
       " ('on', 0.021287413502242225)]"
      ]
     },
     "execution_count": 16,
     "metadata": {},
     "output_type": "execute_result"
    }
   ],
   "source": [
    "topic_model.get_topic(0)"
   ]
  },
  {
   "cell_type": "code",
   "execution_count": 17,
   "metadata": {},
   "outputs": [
    {
     "data": {
      "text/plain": [
       "['London [UK], June 5 (ANI): UK Prime Minister Rishi Sunak on Wednesday spoke to Prime Minister Narendra Modi to congratulate him on his win in the Lok Sabha elections. He noted that the two nations share the \"closest of friendship\" and the friendship will continue to thrive.\\n\\nSharing details regarding his conversation with PM Modi, Sunak stated, \"Today I spoke to @narendramodi to congratulate him on his election victory. The UK and India share the closest of friendships, and together that friendship will continue to thrive.\"\\n\\nAlso Read | Latin America\\'s Anger at China\\'s Economic Clout Grows.\\n\\nhttps://x.com/rishisunak/status/1798362601463976211?s=46&t=TbrKHKgG29uXA1CMFN38Pw\\n\\nThe counting of the 2024 Lok Sabha elections was held on Tuesday. The Election Commission of India has declared the results of the 543 Lok Sabha constituencies, with the BJP winning 240 seats and the Congress 99.\\n\\nAlso Read | Lok Sabha Election Results 2024: French President Emmanuel Macron Congratulates \\'Dear Friend\\' PM Narendra Modi on Historic Win, Hails Strategic Partnership With India.\\n\\nThe BJP fell 32 seats short of the 272 majority mark after votes polled in the 2024 Lok Sabha elections were counted. For the first time, since the Bharatiya Janata Party swept to power in 2014, it did not secure a majority on its own.\\n\\nWishes are pouring in from across the globe after Prime Minister Narendra Modi secured a third consecutive win in the Lok Sabha polls.\\n\\nEarlier, US President Joe Biden congratulated PM Modi and the National Democratic Alliance (NDA) on their victory in the 2024 Lok Sabha elections. He noted that the friendship between India and the US is only growing as the two nations unlock a shared future of unlimited potential.\\n\\nIn a post on X, Biden stated, \"Congratulations to Prime Minister Narendra Modi and the National Democratic Alliance on their victory, and the nearly 650 million voters in this historic election. The friendship between our nations is only growing as we unlock a shared future of unlimited potential.\"\\n\\nExtending his congratulations to Prime Minister Modi, Sri Lankan President Ranil Wickremesinghe said, \"I extend my warmest felicitations to the @BJP4India led NDA on its victory, demonstrating the confidence of the Indian people in the progress and prosperity under the leadership of PM @narendramodi.\"\\n\\n\"As the closest neighbour Sri Lanka looks forward to further strengthening the partnership with India,\" Wickremesinghe said in a post on social media platform X. The leader of the opposition of Sri Lanka, Sajith Premadasa too, wished the Prime Minister on the \"historic win.\"\"Congratulations to PM @narendramodi ji and NDA on a historic win. We look forward to being inspired by a new chapter of big decisions for India and another chapter of India\\'s \"Neighborhood First Policy,\" Premadasa wrote on X.\\n\\nThe wishes from Sri Lanka did not cease here. The former Prime Minister of the island nation, Mahinda Rajapaksa also extended his wishes on PM Modi\\'s election win.\\n\\n\"My heartiest congratulations to my friend @narendramodi ji on securing a third term following BJP\\'s victory in India. The people have spoken, acknowledging his vision & dedication to serving India. I look forward to furthering our ties with the new government,\" Rajapaksa wrote on X.\\n\\nTaiwanese President Lai Ching-te also congratulated Prime Minister Narendra Modi on his third consecutive victory in the Lok Sabha elections and said he looks forward to expanding the \"fast-growing\" ties between the two nations.\\n\\nHe further stressed expanding India-Taiwan collaboration on trade, technology and other sectors to contribute to peace and prosperity in the Indo-Pacific.\\n\\n\"My sincere congratulations to Prime Minister @narendramodi on his election victory. We look forward to enhancing the fast-growing Taiwan-India partnership, expanding our collaboration on trade, technology & other sectors to contribute to peace & prosperity in the Indo-Pacific,\" President Lai posted on X.\\n\\nMoreover, Ukrainian President Volodymyr Zelenskyy also congratulated Narendra Modi who is set for a third consecutive term as Prime Minister of India with the BJP-led National Democratic Alliance emerged victorious in the parliamentary elections.\\n\\nhttps://x.com/ZelenskyyUa/status/1798238861534851372\\n\\nMalaysia\\'s Prime Minister Anwar Ibrahim congratulated PM Modi for winning the third consecutive term.\\n\\nIbrahim stated that he looked forward to working with him as they forge a new era of ties between India and Malaysia. He also shared his old picture with PM Modi, where the two leaders shared a laugh while shaking hands.\\n\\nhttps://x.com/anwaribrahim/status/1798229851528409376\\n\\nSpanish PM Pedro Sanchez congratulated PM Modi on his win in the Lok Sabha polls. Calling India an \"important partner\" of Spain, he noted that the two nations will work together to address global challenges.\\n\\nIn a post on X, Sanchez stated, \"My most sincere congratulations to @narendramodi for his electoral victory. India is an important partner of Spain and together we work to address global challenges. We will continue to strengthen our relationships in this new mandate.\"\\n\\nEarlier in the day, National Democratic Alliance (NDA) unanimously passed a resolution to elect Narendra Modi as their leader. Twenty-one NDA leaders signed a letter to elect Narendra Modi as their leader during a key meeting held at his official residence in Delhi.\\n\\nDuring the meeting, the NDA leaders congratulated the Prime Minister for his leadership and the strides made by the nation under him in the last 10 years.\\n\\nThey appreciated the efforts made by the Prime Minister in nation-building highlighting that he has a clear vision for \\'Viksit Bharat\\' and that they are partners in this goal. (ANI)',\n",
       " 'London [UK], June 5 (ANI): UK Prime Minister Rishi Sunak on Wednesday spoke to Prime Minister Narendra Modi to congratulate him on his win in the Lok Sabha elections. He noted that the two nations share the \"closest of friendship\" and the friendship will continue to thrive.\\n\\nSharing details regarding his conversation with PM Modi, Sunak stated, \"Today I spoke to @narendramodi to congratulate him on his election victory. The UK and India share the closest of friendships, and together that friendship will continue to thrive.\"\\n\\nThe counting of the 2024 Lok Sabha elections was held on Tuesday. The Election Commission of India has declared the results of the 543 Lok Sabha constituencies, with the BJP winning 240 seats and the Congress 99.\\n\\nThe BJP fell 32 seats short of the 272 majority mark after votes polled in the 2024 Lok Sabha elections were counted. For the first time, since the Bharatiya Janata Party swept to power in 2014, it did not secure a majority on its own.\\n\\nWishes are pouring in from across the globe after Prime Minister Narendra Modi secured a third consecutive win in the Lok Sabha polls.\\n\\nEarlier, US President Joe Biden congratulated PM Modi and the National Democratic Alliance (NDA) on their victory in the 2024 Lok Sabha elections. He noted that the friendship between India and the US is only growing as the two nations unlock a shared future of unlimited potential.\\n\\nIn a post on X, Biden stated, \"Congratulations to Prime Minister Narendra Modi and the National Democratic Alliance on their victory, and the nearly 650 million voters in this historic election. The friendship between our nations is only growing as we unlock a shared future of unlimited potential.\"\\n\\nExtending his congratulations to Prime Minister Modi, Sri Lankan President Ranil Wickremesinghe said, \"I extend my warmest felicitations to the @BJP4India led NDA on its victory, demonstrating the confidence of the Indian people in the progress and prosperity under the leadership of PM @narendramodi.\"\\n\\n\"As the closest neighbour Sri Lanka looks forward to further strengthening the partnership with India,\" Wickremesinghe said in a post on social media platform X. The leader of the opposition of Sri Lanka, Sajith Premadasa too, wished the Prime Minister on the \"historic win.\"\"Congratulations to PM @narendramodi ji and NDA on a historic win. We look forward to being inspired by a new chapter of big decisions for India and another chapter of India\\'s \"Neighborhood First Policy,\" Premadasa wrote on X.\\n\\nThe wishes from Sri Lanka did not cease here. The former Prime Minister of the island nation, Mahinda Rajapaksa also extended his wishes on PM Modi\\'s election win.\\n\\n\"My heartiest congratulations to my friend @narendramodi ji on securing a third term following BJP\\'s victory in India. The people have spoken, acknowledging his vision & dedication to serving India. I look forward to furthering our ties with the new government,\" Rajapaksa wrote on X.\\n\\nTaiwanese President Lai Ching-te also congratulated Prime Minister Narendra Modi on his third consecutive victory in the Lok Sabha elections and said he looks forward to expanding the \"fast-growing\" ties between the two nations.\\n\\nHe further stressed expanding India-Taiwan collaboration on trade, technology and other sectors to contribute to peace and prosperity in the Indo-Pacific.\\n\\n\"My sincere congratulations to Prime Minister @narendramodi on his election victory. We look forward to enhancing the fast-growing Taiwan-India partnership, expanding our collaboration on trade, technology & other sectors to contribute to peace & prosperity in the Indo-Pacific,\" President Lai posted on X.\\n\\nMoreover, Ukrainian President Volodymyr Zelenskyy also congratulated Narendra Modi who is set for a third consecutive term as Prime Minister of India with the BJP-led National Democratic Alliance emerged victorious in the parliamentary elections.\\n\\nMalaysia\\'s Prime Minister Anwar Ibrahim congratulated PM Modi for winning the third consecutive term.\\n\\nIbrahim stated that he looked forward to working with him as they forge a new era of ties between India and Malaysia. He also shared his old picture with PM Modi, where the two leaders shared a laugh while shaking hands.\\n\\nSpanish PM Pedro Sanchez congratulated PM Modi on his win in the Lok Sabha polls. Calling India an \"important partner\" of Spain, he noted that the two nations will work together to address global challenges.\\n\\nIn a post on X, Sanchez stated, \"My most sincere congratulations to @narendramodi for his electoral victory. India is an important partner of Spain and together we work to address global challenges. We will continue to strengthen our relationships in this new mandate.\"\\n\\nEarlier in the day, National Democratic Alliance (NDA) unanimously passed a resolution to elect Narendra Modi as their leader. Twenty-one NDA leaders signed a letter to elect Narendra Modi as their leader during a key meeting held at his official residence in Delhi.\\n\\nDuring the meeting, the NDA leaders congratulated the Prime Minister for his leadership and the strides made by the nation under him in the last 10 years.\\n\\nThey appreciated the efforts made by the Prime Minister in nation-building highlighting that he has a clear vision for \\'Viksit Bharat\\' and that they are partners in this goal. (ANI)',\n",
       " 'Lok Sabha Elections 2024 Updates: Congress president Mallikarjun Kharge said, \"The INDIA bloc will continue will fight against the fascist rule of the BJP led by PM Modi. We will take the appropriate steps at the appropriate time to realise the people\\'s desire not to be ruled by the BJP\\'s govt.\"\\n\\nALL UPDATESJune 05, 2024 20:39Post-election Live Updates: Congress President Mallikarjun Kharge at INDIA parties meeting\\n\\nCongress President Mallikarjun Kharge said, \"the INDIA bloc will continue will fight against the fascist rule of the BJP led by PM Modi. We will take the appropriate steps at the appropriate time to realise the people\\'s desire not to be ruled by the BJP\\'s govt.\"\\n\\nJune 05, 2024 20:28Post-election Live Updates: Outgoing Council of Ministers at Rashtrapati Bhawan for the formal dinner hosted by President Droupadi Murmu. June 05, 2024 20:28Post-election Live Updates: INDIA bloc meeting at Congress President Mallikarjun Kharge\\'s residence ends. June 05, 2024 20:19Post-election live news: UK PM Rishi Sunak congratulates PM Narendra Modi\\n\\n\"Today I spoke to @narendramodi to congratulate him on his election victory. The UK and India share the closest of friendships, and together that friendship will continue to thrive,\" Sunak said on X.\\n\\nJune 05, 2024 20:18Post-election live updates: Russian President Vladimir Putin congratulates PM Modi on Lok Sabha Elections 2024 victory.\\n\\n\"The voting results again confirm your personal high political authority, support for your course towards accelerated socio-economic development of India and protection of its interests on the world stage,\" Putin said in a statement.\\n\\nJune 05, 2024 20:17Post-election live news: US Prez Joe Biden congratulates Narendra Modi\\n\\n\"Congratulations to Prime Minister Narendra Modi and the National Democratic Alliance on their victory, and the nearly 650 million voters in this historic election. The friendship between our nations is only growing as we unlock a shared future of unlimited potential,\" Biden said on X.\\n\\nJune 05, 2024 20:08AP new govt formation live news: TDP chief Chandrababu Naidu is likely to take oath on June 11 or 12 after PM Modi\\'s swearing in ceremony in Delhi, say party sources June 05, 2024 20:05Post-election live updates: German Chancellor Olaf Scholz congratulates PM Modi on Lok Sabha Elections 2024 victory\\n\\n\"Our countries have been strategic partners for decades. We will continue our successful co-operation to deepen German-India relations and to work on international and global issues,\" Scholz said in a statement\\n\\nJune 05, 2024 20:00Post-election live news: Here\\'s what BJP\\'s Shivraj Singh Chouhan said on his victory\\n\\nFormer Madhya Pradesh CM and BJP leader Shivraj Singh Chouhan, who has won from Vidisha by a huge margin, told ANI, \"I express my gratitude to the people for showing love. I will serve the people till my last breath for Viksit Bharat and Viksit Vidisha.\"\\n\\nJune 05, 2024 19:22Post-election Live Updates: Netherlands PM Mark Rutte congratulates Modi\\n\\nNetherlands PM Mark Rutte congratulates Modi. \"Just spoke with Prime Minister @narendramodi of India to congratulate him on his election victory. We also discussed ways to further enhance the strong cooperation between our countries in areas such as security, water management, green energy, semiconductors and healthcare,\" Rutte said on X.\\n\\nJune 05, 2024 19:20Post-election Live Updates: New number for NDA: 303 with 3 from smaller parties and 7 independents. June 05, 2024 19:10Post-election Live Updates: Discussions from the NDA Meeting held at PM\\'s residence\\n\\nAll leaders congratulated PM for his leadership and the strides our nation has made under him. They appreciated PM\\'s hardworking and efforts in nation building.\\n\\nNDA partners said that the PM has a clear vision for Viksit Bharat and they are partners in this goal From Unanimous PM\\'s leadershop desh ne tarakki.\\n\\nThey lauded the PM\\'s role in increasing India\\'s pride in the world.\\n\\nNDA leaders lauded PM\\'s efforts towards Poverty eradication and pledged to continue the good work.\\n\\nPM said that this was a historic mandate for 3rd consecutive government which was last received in India 60 years back.\\n\\nJune 05, 2024 19:09Post-election live Updates: Mandate is decisively against PM Modi, says INDIA bloc leader Kharge\\n\\nINDIA bloc meeting is on in New Delhi. At the INDIA alliance leaders\\' meeting, Congress President Mallikarjun Kharge said, \"We fought well, fought unitedly, fought resolutely. The INDIA Alliance welcomes all parties which share its fundamental commitment to the values enshrined in the Preamble to our Constitution and to its many provisions for economic, social and political justice. The mandate is decisively against PM Modi, against him and the substance and style of his politics. It is a huge political loss for him personally apart from being a clear moral defeat as well. However, he is determined to subvert the will of the people.\" (Agencies)\\n\\nINDIA parties meeting.jpg\\n\\nINDIA parties meeting1.jpg\\n\\nINDIA parties meeting2.jpg\\n\\nINDIA parties meeting3.jpg\\n\\nJune 05, 2024 19:04Post-election Live Updates: Jairam Ramesh slams NDA proposal as \\'height of fraud\\'\\n\\nCongress leader Jairam Ramesh reacts to NDA alliance statement. \"This proposal is the height of fraud. The caretaker Prime Minister had sought votes in his name alone by making a hue and cry about \\'Modi ki Guarantee\\', which the people of our country rejected. Now suddenly he has tried to breathe life into the dead NDA,\" says Ramesh on X.\\n\\nJune 05, 2024 18:37Post-election Live Updates: Joint statement of NDA members\\n\\nJoint statement of NDA members: \"We are proud that 2024 Lok Sabha Election was fought and won under the leadership of PM Narendra Modi. We, the leaders of NDA alliance, unanimously choose Mr Narendra Modi as our leader. Under his leadership, the NDA government will be committed to serve the poor, women, youth, farmers, downtrodden and deprived communities.\"\\n\\nNDA leaders held a meeting today at 7, LKM, the residence of Prime Minister Narendra Modi, in Delhi..jpg\\n\\nJune 05, 2024 18:33Post-election Live Updates: BREAKING - NDA alliance leaders unanimously elect Narendra Modi as their leader after passing a proposal in Delhi. June 05, 2024 18:26Post-election Live Updates: Nitish Kumar called me to sit with him: Tejashwi Yadav on viral images and video\\n\\nResponding to the viral images and video of him with Bihar CM-JD(U) leader Nitish Kumar doing the rounds on social media, RJD leader Tejashwi Yadav says \"We greeted each other, I was allotted the seat behind him but he saw me and called me to sit with him.\" (Agencies)\\n\\nJune 05, 2024 18:20Post-election Live Updates: JD (U) spokesperson Rajiv Ranjan says party firmly supports NDA alliance\\n\\nIn a press statement, Ranjan says rubbished speculations about Nitish Kumar joining INDIA block. He assured all members of NDA will devoted for the development of the country and the people.\\n\\nJune 05, 2024 18:13Post-election Live Updates: I extend my hearty congratulations to NDA: Rajinikath\\n\\nActor Rajinikath on X :My Hearty Congratulations to my dear friends .. Honourable Chief Minister of Tamil Nadu M.K Stalin @mkstalin ...and Shri Chandrababu Naidu Garu @ncbn\\n\\nI extend my hearty congratulations to NDA #nda and most respected dear Narendra Modiji @narendramodi \"\\n\\nJune 05, 2024 17:45Post-election Live Updates: The government under the leadership of Narendra Modi will soon be formed: JD(U) MP Sanjay Kumar Jha\\n\\n\"The NDA meeting was chaired at the PM\\'s residence, which was also attended by CM (Nitish Kumar). Everyone put forth their views and thanked the public for this mandate to the NDA for a third time. The government under the leadership of Narendra Modi will soon be formed, and very soon a meeting of all the MPs will take place,\" says JD(U) MP Sanjay Kumar Jha (PTI)\\n\\nJune 05, 2024 17:41Post-election Live Updates: BREAKING - President dissolves 17th Lok Sabha\\n\\nThe Cabinet, in its today\\'s meeting, has advised the President to dissolve the 17th Lok Sabha with immediate effect. The President has accepted the advice of the Cabinet and signed the order dissolving the 17th Lok Sabha.\\n\\nJune 05, 2024 17:40Post-election Live Updates: INDIA bloc meeting is scheduled for 6 pm today June 05, 2024 17:40Post-election Live Updates: Crucial NDA meet ends\\n\\nA key meeting held by NDA alliance members at PM\\'s residence has concluded. PM and Allies expected to stake claim to form government.\\n\\nJune 05, 2024 16:50Post-election Live Updates: NDA to stake claim to form government; NDA allies to meet President June 05, 2024 16:09Post-poll Live Updates: Congress leader Shashi Tharoor arrives in Delhi\\n\\nCongress leader Shashi Tharoor, who won Thiruvanthpuram seat arrives in Delhi. \"The results are already a vindication of what I have told people that I have been seeing on the ground, which was nothing like what the exit polls were claiming. Therefore, this result in many ways is a vindication of the kind of retail politics we did, talking to people and raising their issues,\" he told PTI\\n\\nJune 05, 2024 16:05Post-poll Live Updates: Congress on viral pic of SP chief Akhilesh Yadav meeting Chandrababu Naidu\\n\\nCongress\\' Kerala unit on X said the picture of Yadav and Naidu meet doing the rounds on social media is an old picture.\\n\\nGPTL5zZXUAARoAn.jpg\\n\\nJune 05, 2024 15:58Lok Sabha Election Results Updates: Congress leader Jairam Ramesh attacks PM Modi\\n\\n\"The caretaker Prime Minister is thumping his shrunken chest and boasting that not since 1962 has a Govt been re-elected thrice consecutively.\\n\\nHistory that even the Master Distortian cannot rewrite is that Nehru was elected PM in 1952 with 364 seats, in 1957 with 371 seats and in 1962 with 361 seats. Mr. Narendra Modi has got 241 seats in 2024. It is a big mandate AGAINST him. But he is intent on sabotaging this mandate.,\" Ramesh stated on X.\\n\\nJune 05, 2024 15:52Lok Sabha Election Results Updates: Key NDA meet set to begin at PM\\'s Residence\\n\\nCrucial NDA meet for government formation is set to begin as leaders from the alliance get into a huddle. Outgoing Union Ministers Rajnath Singh, Amit Shah have arrived at PM\\'s residence. Incoming Andhra Pradesh CM Chandrababu Naidu and Bihar CM Nitish Kumar will participate in this meeting.\\n\\nJune 05, 2024 15:39Post-poll Updates: Rouse Avenue Court extends Arvind Kejriwal\\'s judicial custody\\n\\nRouse Avenue Court extends the judicial custody of Delhi CM and AAP national convenor Arvind Kejriwal till June 19. He was produced virtually before the court today.\\n\\nJune 05, 2024 15:32Election Results Updates: World leaders congratulate Modi on his victory\\n\\nMore than 50 world leaders have congratulated PM Modi on his third-term win.\\n\\nPresidents of Sri Lanka, Maldives, Iran, Seychelles & PMs of Nepal, Bangladesh, Bhutan, Myanmar, Mauritius have sent congratulatory greetings.\\n\\nAmong G20 countries, PMs of Italy, Japan & President of South Korea have congratulated the PM. From Africa, Presidents of Nigeria, Kenya, Comoros have extended congratulatory messages.\\n\\nFrom Caribbean, leaders of Jamaica, Barbados, Guyana have congratulated PM.\\n\\nFrom South East Asia, PMs of Singapore & Malaysia have congratulated PM.\\n\\nBusinessline\\'s exclusive election results coverageJune 05, 2024 15:30Election Results Updates: 11 Women candidates of TMC emerged winners\\n\\nTMC leaders Derek O\\'Brien on X hailed the victory of the party\\'s women candidates stating that 38 per cent of the winners from the party are women.\\n\\nThis inclues Mahua Moitra, Sayoni Ghosh, Kakoli Ghosh Dastidar and Satabdi Roy among others.\\n\\nGPTRH8ybMAEZ1d6.jpg\\n\\nJune 05, 2024 15:28INDIA Bloc Updates: People of UP have rejected BJP, says SP leader Dimple Yadav\\n\\n\"I think the INDIA alliance has performed very well in the Lok Sabha polls. Now, it depends on the leaders to set a tuning (among themselves), but the people of UP have rejected BJP,\" says Samajwadi Party leader Dimple Yadav\\n\\nJune 05, 2024 15:22Lok Sabha Election Results: Mufti calls for release of winning candidate Engineer Rashid\\n\\nFormer Jammu and Kashmir Chief Minister and PDP Chief, Mehbooba Mufti, on Wednesday congratulated Abdul Rashid Sheikh, the winner of the Baramulla Lok Sabha seat and urged the government to respect the people\\'s verdict and called for the release of Engineer Rashid.\"Heartfelt congratulations to Mian Altaf, Aga Ruhullah, Engineer Rashid & Haneefa Jan for winning the parliament elections. Government of India must respect the verdict of the people & release Engineer Rashid,\" Mufti said in a post on X.\\n\\nJune 05, 2024 15:15Lok Sabha Election Results Updates: Naveen Patnaik resigns\\n\\nBJD supremo Naveen Patnaik on June 5 resigned from the post of the Chief Minister after the defeat of his party in the assembly elections in the State. He handed over his resignation Governor Raghubar Das at the Raj Bhavan. This mark the end of his 24-year old stint as CM of Odisha.\\n\\nJune 05, 2024 15:12Election Results Live Updates: Uddhav Thackeray is going to Delhi in the evening today to attend the INDIA alliance meeting, says Shiv Sena (UBT) leader Sushma Andhare June 05, 2024 15:10Lok Sabha Election Results Updates: Prasad thanks Patna Sahib, confirms Modi\\'s upcoming oath as PM\\n\\nRavi Shankar Prasad, elected MP from Patna Sahib said to reporters, \"I thank the people of Patna Sahib for blessing me...PM Narendra Modi will take oath as the Prime Minister soon... Bihar CM Nitish Kumar and Chandrababu Naidu have cleared their stand. PM will soon take oath.\"\\n\\nJune 05, 2024 15:09NDA Updates: NDA MPs\\' meeting to be held at Central Hall of Parliament on 7th June at 11 am, say sources Businessline\\'s exclusive election results coverageJune 05, 2024 15:08Election Outcomes: China congratulates BJP on election win, expresses willingness to promote stable China-India relations\\n\\nChina\\'s Foreign Ministry Spokesperson, Mao Ning said, \"We noted that the results of India\\'s general elections have been announced. China congratulates the Bharatiya Janata Party (BJP), led by Prime Minister (Narendra) Modi, and along with their National Democratic Alliance, on their victory. A healthy and stable China-India relationship is in the common interest of both sides and is conducive to peace and development in the region and the world. China is willing to work together with India in the fundamental interests of the two countries and peoples, focusing on the big picture and looking to the future to promote the development of relations between the two countries along a healthy and stable track.\"\\n\\nGPTGkISaMAAJ_SM.jpg\\n\\nJune 05, 2024 15:00Lok Sabha Election Results Updates: Clear verdict for PM Modi; BJP-led NDA is largest, says Tejasvi Surya\\n\\nBJP\\'s newly elected candidate from Bengaluru South Lok Sabha seat Tejasvi Surya, speaking to ANI said, \"People of India have given a clear verdict in the favour of the prime minister\\'s leadership. The BJP-led NDA is the largest political formation in the country today... PM Modi is going to be the PM of the country for the third consecutive time... After 1962, no political leader or party has achieved this phenomenon... We want to thank the people of India for having reposed their faith in the PM\\'s leadership. The NDA is an alliance of parties that believe in the PM\\'s leadership and his vision of Viksit Bharat.\"\\n\\nJune 05, 2024 14:59Election Outcomes: Looking forward to contribute peace, prosperity in Indo-Pacific, says Taiwan President, congratulating PM Modi after third successive win June 05, 2024 14:51Lok Sabha Election Results Updates: Public are the true kingmakers, not political leaders, says Abhishek Banerjee\\n\\n\"Let all INDIA bloc leaders meet first and then accordingly I will speak after the discussion. Too early to say about our plans. Let us come to some conclusion first,\" said Abhishek Banerjee.\\n\\n\"I must say the kingmaker is the general public and not any political leader. Those who voted against the price hike, BJP\\'s tyranny, communal & divisive politics - each and every poor & common man who voted are the actual Kingmakers.\"\\n\\nJune 05, 2024 14:49Election Outcomes: Fadnavis requests removal as Deputy CM to boost BJP\\'s performance\\n\\n\"I will request the BJP leadership to remove me from the responsibility of Deputy Chief Minister of Maharashtra. I will work to improve the performance of BJP in the upcoming assembly election in Maharashtra,\" said senior BJP leader Devendra Fadnavis\\n\\nJune 05, 2024 14:48NDA Updates: President accepts PM\\'s resignation, requests Ministers to continue in office till new Government is formed\\n\\nGPTDUnPbgAAe4zI.jpg\\n\\nGPTDWM7bgAAx1Fu.jpg\\n\\nGPTDTDna4AAQTGX.jpg\\n\\nJune 05, 2024 14:46BJP Updates: BJP got few seats in Maharashtra; will work harder, says Fadnavis\\n\\n\"In Maharashtra, we did not get what we wanted. We got very less seats we got. In Maharashtra our fight is against MVA and there was a narrative set. The MVA said that we want to change the constitution. That narrative should have been stopped but we could not stop it earlier. We have decided to work again. Where we have got more seats we are thankful,\" said senior BJP leader Devendra Fadnavis in Mumbai.\\n\\nJune 05, 2024 14:45Election Outcomes | People have taught a lesson to those who disrespected the Constitution: Akhilesh Yadav, SP Chief June 05, 2024 14:43Election Results Live: PM Modi and ministers resign; asked to stay till new government forms\\n\\nPM Narendra Modi called on President Droupadi Murmu at Rashtrapati Bhavan.\\n\\nThe Prime Minister tendered his resignation along with the Union Council of Ministers. The President accepted the resignation and requested the Prime Minister and the Union Council of Ministers to continue in office till the new Government is formed.\\n\\nBusinessline\\'s exclusive election results coverageJune 05, 2024 14:41Election Results Updates: PM Modi tenders resignation to President ahead of the oath-taking ceremony expected on June 8\\n\\nPrime Minister Narendra Modi will take oath for a third time on Saturday, and in so doing, become the first (and only) three-term leader of the country since Congress stalwart Jawaharlal Nehru. Mr Modi met President Droupadi Murmu at Rashtrapati Bhavan in Delhi to submit his resignation, and that of his cabinet. He was then requested to continue in his role till the swearing-in.\\n\\nJune 05, 2024 14:36Lok Sabha Election Results: BJP and allies increase seat tally in Assam; Congress wins both seats in Manipur\\n\\nThe ruling BJP and its allies-- the Asom Gana Parishad (AGP) and United Peoples\\' Party, Liberal (UPPL)-- have improved their tally to 11 seats in Assam in the Lok Sabha elections.\\n\\nRead more here.\\n\\nJune 05, 2024 14:35Lok Sabha Election Results: New parliament to have many celebrity faces including Kangana, Hema Malini\\n\\nWith voters favouring many celebrity faces -- trusted and new -- this election season, eyes will be on the performance of first-time MPs like Kangana Ranaut and Arun Govil as they take their place in the 18th Lok Sabha along with returning star-politicians Hema Malini and Manoj Tiwari.\\n\\nRead more here.\\n\\nJune 05, 2024 14:29Election Results Live Updates: Photo of Bihar CM Nitish Kumar and Tejashwi Yadav travelling together for separate meetings, go viral\\n\\nGPS5bt5acAA53gO.jpg\\n\\nJune 05, 2024 14:27Elections Live Updates: Aage Aage dekhte rahiye (keep watching), says Tejashwi Yadav after arriving in Delhi for INDIA bloc meet (ANI)\\n\\nGPS8x3XW0AANupX.png\\n\\nJune 05, 2024 14:25Elections Live Updates: Newly-elected Amethi MP Kishori Lal Sharma meets Sonia, Priyanka, and Rahul Gandhi\\n\\nCongress party\\'s newly-elected MP from Amethi, Kishori Lal Sharma shows his winning certificate as he meets Congress Parliamentary Party Chairperson Sonia Gandhi, General Secretary Priyanka Gandhi Vadra and MP Rahul Gandhi.\\n\\nGPS9MYubEAAJec7.jpg\\n\\nJune 05, 2024 14:19NDA Updates: NDA meeting to be held on June 7 in Delhi, to discuss government formation\\n\\nBusinessline\\'s exclusive election results coverage\\n\\nJune 05, 2024 14:18Election Results Updates: They have asked me to stay humble, says KL Sharma after defeating Smriti Irani\\n\\nAfter Congress\\' KL Sharma defeated Bhartiya Janta Party\\'s Smriti Irani in Uttar Pradesh\\'s Amethi, the newly elected party MP asserted that the senior leaders of the party have asked him to stay humble and not fill himself with ego after becoming an MP.\\n\\nRead more here.\\n\\nJune 05, 2024 14:04INDIA Bloc Updates: Shiv Sena (UBT) MP Sanjay Raut to attend INDIA bloc meet in Delhi\\n\\nShiv Sena (UBT) MP Sanjay Raut will attend the opposition INDIA alliance meeting to be held in New Delhi on Wednesday evening to deliberate on the Lok Sabha poll results, party sources said.\\n\\nSena (UBT) chief Uddhav Thackeray on Tuesday said he will also travel to Delhi to attend the INDIA alliance leaders\\' meeting, but now only Raut will be attending it.\\n\\nRaut is already in the national capital for the meeting, the sources added.\\n\\nThackeray on Tuesday pushed for staking a claim to form the next government at the Centre and said the opposition alliance\\'s leaders will meet on Wednesday in New Delhi to decide on the Prime Minister\\'s face.\\n\\nJune 05, 2024 13:23Post-poll developments from Bihar: RJD Leader Tejasshwi Yadav says on X\\n\\n\"Bihar has become a king maker, therefore support should be given on the following conditions to stop unemployment, migration and to set up industries in Bihar :-\\n\\n1. To give special state status to Bihar\\n\\n2. Conducting caste census across the country\\n\\n3. To include the 75% reservation increased by the Grand Alliance government in the 9th Schedule of the Constitution.\"\\n\\nJune 05, 2024 13:18Post-poll updates from TN: Tamil Nadu CM and DMK chief MK Stalin arrives in Delhi to attend INDIA bloc\\'s meeting\\n\\nTamil Nadu CM and DMK chief MK Stalin arrives in Delhi to attend INDIA bloc\\'s meeting scheduled to be held later today\\n\\nJune 05, 2024 13:18Post-poll updates from Congress party: Kapil Sibal commends Nitish Kumar and Chandrababu Naidu for upholding federal structure\\n\\nRajya Sabha MP Kapil Sibal told reporters , \"Nitish Kumar and Chandrababu Naidu have always maintained the federal structure... A few years ago, Naidu Ji said that a dictatorial government cannot run. And whatever the ED and CBI are doing without the consent of the states, is not acceptable. I salute them for upholding and I hope that they uphold the values that they stood by when they were chief ministers...\"\\n\\nBusinessline\\'s exclusive election results coverageJune 05, 2024 13:17Post-poll updates from Karnataka: HD Kumaraswamy attends PM\\'s meeting, supports Government formation under Modi\\'s leadership\\n\\nJD(S) leader and newly elected MP from Karnataka\\'s Mandya, HD Kumaraswamy told reporters , \"Union Home Minister and BJP President invited me for today\\'s meeting in the PM\\'s residence. I am attending the meeting without any big agenda from our side. We wanted to form the government without any hurdles under the leadership of PM Narendra Modi... INDIA alliance will not be helpful for the country\\'s development. They are just a bunch of friends who came together to form an alliance... Chandrababu Naidu is a mature politician, he will not do any such thing... When Atal Bihari Vajpayee was the Prime Minister, Nitish Kumar worked with the BJP and had a long relationship. Nitish Kumar will not take any negative step.\"\\n\\nJune 05, 2024 13:16Post-poll updates: Mayawati to meticulously consider Muslim representation in future elections\\n\\n\"We will now meticulously weigh Muslim representation in upcoming elections. Opportunities would be extended only after thorough deliberation.\\n\\nWe gave enough representation to Muslims in this Lok Sabha election as well as in previous elections, but we did not get adequate support, and they couldn\\'t understand us well\" - Mayawati says in a press release issued on X\\n\\nJune 05, 2024 13:12Post-poll updates: Oath taking ceremony of PM likely on June 8 : TV channels June 05, 2024 13:10Post-poll updates: Ukrainian President congratulates Modi on NDA\\'s election victory\\n\\nBusinessline\\'s exclusive election results coverageUkraine President Volodymyr Zelenskyy congratulates PM Modi on X : I welcome the successful holding of the world\\'s largest democratic elections in India. Congratulations to Prime Minister @NarendraModi, the BJP, and BJP-led NDA on the third consecutive victory in India\\'s parliamentary elections.\\n\\nI wish the people of India peace and prosperity, and I hope for continued cooperation between our countries. India and Ukraine share common values and a rich history. May our partnership continue to thrive, bringing progress and mutual understanding for our nations.\\n\\nEveryone in the world recognizes the significance and weight of India\\'s role in global affairs. It is critical that we all work together to ensure a just peace for all nations. In this regard, we also look forward to seeing India attend the Peace Summit.\\n\\nJune 05, 2024 13:07Post-poll updates: JD(U) confirms support for NDA, backs Narendra Modi for PM in Delhi meeting\\n\\nJD(U) spokesperson KC Tyagi says, \"NDA meeting is taking place in Delhi...Nitish Kumar is participating in the meeting. JD(U) will also submit the letter pledging support to NDA as well as to make Narendra Modi the PM..There is no question of going back (to INDIA alliance)...\" (ANI)\\n\\nJune 05, 2024 13:06Post-poll updates: Maharashtra BJP holds a core committee meeting in Mumbai June 05, 2024 13:06Post-poll updates: Sharad Pawar emphasises need for majority numbers in government formation\\n\\nMaharashtra: Nationalist Congress Party (NCP-SP) President Sharad Pawar emphasized the importance of getting the numbers for a majority before making any moves to form a government. He said to reporters, \"My personal opinion is that it is crucial to consider the numbers first. Only with the right numbers can we proceed. We cannot overlook this fact.\" Pawar also mentioned that the INDIA alliance is scheduled to meet to discuss their next steps. He noted that he was unaware of any developments regarding Nitish Kumar potentially being offered the Prime Minister\\'s position by the INDIA alliance.\\n\\nJune 05, 2024 12:53Lok Sabha 2024 polls: EC declares results of all 543 Lok Sabha seats, BJP secures 240, Congress 99\\n\\nAfter the Election Commission declared the results of all 543 Lok Sabha seats, the final tally showed BJP at 240, Congress at 99, Samajwadi Party (SP) at 37, Trinamool Congress (TMC) at 29, and Dravida Munnetra Kazhagam (DMK) at 22. The two parties that will be kingmakers have together won 28 seats -- Telugu Desam (TDP) at 16 and Janata Dal (United) at 12.\\n\\nAmong the BJP\\'s allies, Shiv Sena (Shinde group) has got seven seats, Lok Janshakti Party (Ram Vilas) 5 seats, Janasena Party (JNP) 2 seats, Rashtriya Lok Dal (RLD) 2 seats and Janata Dal (Secular) also two seats while Asom Gana Parishad, Apna Dal (Soneylal) NCP (Ajit Pawar faction) and AJSU Party 1 seat each, taking the NDA tally to 262 (without JD-U and TDP).\\n\\nJune 05, 2024 12:52NDA Updates: Union Cabinet recommends the dissolution of 17th Lok Sabha Businessline\\'s exclusive election results coverageJune 05, 2024 12:49Lok Sabha Election Results: Voters of UP illusioned by opposition, says Dushyant Gautam\\n\\nAfter the declaration of the 18th Lok Sabha election results of Uttar Pradesh, in which the Samajwadi Party won 37 seats while Bhartiya Janata Party clinched 33 seats, BJP National General Secretary Dushyant Kumar Gautam claimed that the voters of the state were illusioned by the opposition.\\n\\nRead more here.\\n\\nJune 05, 2024 12:33Election Outcomes: Andhra\\'s TDP Chief Naidu promises good governance, credits victory to alliance\\'s \\'teamwork\\'\\n\\nTelugu Desam Party (TDP) President N Chandrababu Naidu said the TDP-led NDA government in Andhra Pradesh will live up to people\\'s expectations.\\n\\nRead more here.\\n\\nJune 05, 2024 12:27Election Results | If Rahul Gandhi accepts PM post, why would we object: Shiv Sena UBT\\'s Sanjay Raut after LS poll results\\n\\nSanjay Raut, the Shiv Sena leader from Uddhav Balasaheb Thackeray faction, in a press conference, praised Congress leader Rahul Gandhi and conveyed the party\\'s thoughts on the prospects of Rahul Gandhi\\'s Prime Ministership.\\n\\nMeanwhile, he also slammed Prime Minister Narendra Modi and Amit Shah for not reaching the majority in the Lok Sabha Elections of 2024.\\n\\nIn a press conference, on the questions of Rahul Gandhi\\'s prospects of becoming Prime Minister, the Shiv Sena UBT leader said, \"If Rahul Gandhi is ready to accept the leadership, why would we object? He has proven himself as a national leader for multiple times. He is one of the popular leaders. We all want him and love him. There is no objection and difference in the alliance.\"\\n\\nHe further said, \"Since the commencement of the elections, the INDIA alliance has no dissonance over the post of Prime Minister. This alliance has always fought to save democracy and the constitution from the dictatorial governance of the BJP and people have voted for us. Narendra Modi and Amit Shah should accept their defeat.\"\\n\\nJune 05, 2024 12:17Congress Results | You fought with love, truth and kindness: Priyanka Gandhi pens emotional note for brother Rahul\\n\\nCongress leader Priyanka Gandhi Vadra penned down an emotional note for brother Rahul Gandhi, after he won both the seats he contested and the party improved its tally in the Lok Sabha elections.\\n\\nHeaping praise on Rahul, Priyanka Gandhi said that that despite his conviction being doubted and \"overwhelming propaganda of lies\" being spread against him, Rahul never backed down and kept \"fighting for truth.\"\\n\\nCalling him the \"bravest of all,\" she said that Rahul Gandhi fought with love, truth and kindness, adding that she is proud of him.\\n\\n\"You kept standing, no matter what they said and did to you...you never backed down whatever the odds, never stopped believing however much they doubted your conviction, you never stopped fighting for the truth despite the overwhelming propaganda of lies they spread, and you never allowed anger and hatred to overcome you, even when they gifted it to you every day,\" Priyanka Gandhi said in her post on X.\\n\\nJune 05, 2024 12:15NDA Updates: NDA\\'s victory in Kerala elections: Significant rise in vote share alongside breaching political fortress\\n\\nThe BJP-led National Democratic Alliance\\'s (NDA) Christian outreach appeared to have helped it breach the traditionally bipolar political scape in Kerala hemmed by the Congress-led United Democratic Front (UDF) and the ruling CPI(M)-led Left Democratic Front (LDF). Actor Suresh Gopi has made a historic entry into the Lok Sabha from Thrissur, which has a significant Christian population.\\n\\nRead more here.\\n\\nJune 05, 2024 12:12BJP Updates: BJP\\'s third-time win with alliance parties shows PM\\'s service, says Gautam, BJP National Secretary\\n\\nBJP National General Secretary Dushyant Kumar Gautam says, \"This is for the first time in the history that a PM has won an election for the third time with their alliance parties. This is the result of the service of the people... The voters of UP were illusioned by them (Opposition). The BJP never spoke of changing the Constitution.\" (ANI)\\n\\nBusinessline\\'s exclusive election results coverageJune 05, 2024 11:28Lok Sabha Election Results: Overcoming split in NCP, new symbol challenge, Sharad Pawar bags right to blow own \\'trumpet\\'\\n\\nDespite suffering a politically debilitating split in the NCP last year, veteran leader Sharad Pawar led from the front in the Lok Sabha polls in Maharashtra, where his party won eight of the 10 seats it contested, cementing his position as the tallest politician in the state.\\n\\nRead more here.\\n\\nJune 05, 2024 11:18Lok Sabha Election Results Analysis Live Updates: BJP loses all 4 Lok Sabha seats it contested in Marathwada; Congress wins all 3\\n\\nBharatiya Janata Party has lost all four seats in the Marathwada region which it contested, including Jalna where Union minister Raosaheb Danve faced defeat.\\n\\nRead more here.\\n\\nJune 05, 2024 11:00Lok Sabha Election Results Analysis Live Updates: BJP failed to secure majority under Modi\\'s leadership, says Tiwari\\n\\n\"The question is not that BJP could not get the majority, it is that BJP could not get the majority under PM Modi\\'s leadership for the first time. They had majority in 2014 and 2019. If they wouldn\\'t have had NDA alliance, then they would have failed to get even these many seats. Modi is no longer a brand,\" said Congress leader Pramod Tiwari, speaking to PTI.\\n\\nJune 05, 2024 10:37Lok Sabha Election Results: People of India have saved Constitution, democracy, says Rahul Gandhi\\n\\nHailing the Lok Sabha election results in 2024, Congress leader Rahul Gandhi on Tuesday thanked the people of Wayanad and Raebareli for making him win with a huge majority and said that the people have saved the Constitution and democracy in the country.\\n\\nRead more here.\\n\\nJune 05, 2024 10:33Lok Sabha Election Results: TMC wins decisively, credits Mamata Banerjee\\'s leadership and welfare schemes\\n\\nTMC leader Sagarika Ghose, said, \"It is a huge decisive victory for the TMC. This is a victory for Mamata Banerjee, our leader and country\\'s only woman CM. She campaigned relentlessly. This is a kind of victory for the social welfare schemes that TMC has rolled out for women, under privileged, minorities and those who are on the margin of society.\" (ANI)\\n\\nBusinessline\\'s exclusive election results coverage\\n\\nJune 05, 2024 10:20Election Results: Modi thanks Meloni, commits to deepening India-Italy partnership\\n\\n\"Thank you for your kind wishes PM @GiorgiaMeloni. We remain committed to deepening India-Italy strategic partnership which is underpinned by shared values and interests. Looking forward to working together for global good,\" posted PM Modi on X.\\n\\nJune 05, 2024 10:06Election Results: Election outcome poses near-term uncertainty, according to DBS Research\\n\\nThe election outcome poses near-term uncertainty but is unlikely to alter the economy\\'s path, according to DBS Research.\\n\\nRead more here.\\n\\nJune 05, 2024 09:47Election Outcomes: After 1962, govt has won 3rd consecutive term for the first time, says PM Modi\\n\\nPrime Minister Narendra Modi on Tuesday said people have shown full confidence in the BJP and the NDA and the Lok Sabha elections results were a victory of the people, democracy and faith in the country\\'s Constitution.\\n\\nRead more here.\\n\\nJune 05, 2024 09:36Election Outcomes: Victory for Pichada, Dalit, Alpsankhyak, says Akhilesh Yadav as INDIA bloc upsets BJP in UP (ANI) June 05, 2024 09:33Lok Sabha Election Results Analysis Live Updates: Cong says mandate against Modi and he should step down\\n\\nWith the BJP falling behind the majority mark and its poll pitch of \\'400 ke par\\', opposition INDIA bloc said on Tuesday that the 2024 Lok Sabha election mandate is against Prime Minister Narendra Modi and he should own up the political and moral responsibility and step aside from another stint in power.\\n\\nRead more here.\\n\\nJune 05, 2024 09:29Lok Sabha Election Results Analysis Live Updates: When Lok Sabha election results caught exit pollsters off guard\\n\\nThe final results of the 2024 Lok Sabha (LS) elections revealed flaws in the exit polls process as predictions of a thumping majority for the Bhartiya Janata Party (BJP) led National Democratic Alliance (NDA) did not materialise. Uttar Pradesh, West Bengal, Maharashtra and Tamil Nadu were among the States that particularly stumped exit pollsters.\\n\\nRead more here.\\n\\nJune 05, 2024 09:20Lok Sabha Election Results Analysis Live Updates: BJP\\'s 10-year low in Rajasthan: What went wrong?\\n\\nbusinessline exclusive election results coverage: In a significant turn of events, the BJP in Elections 2024 marked its worst performance in Rajasthan since Narendra Modi became Prime Minister in 2014. The party could secure only 25 Lok Sabha seats in the desert state, a stark contrast to the 2019 polls when it lost just one of the 25 seats in Rajasthan. In 2014, it had won all the 25 seats in the state.\\n\\nRead more here.\\n\\nJune 05, 2024 09:15Lok Sabha Election Results Analysis Live Updates: Tamil Nadu has voted for federal, secular, inclusive govt, says Karti Chidambaram\\n\\nCongress leader Karti Chidambaram, son of senior Congress leader P Chidambaram, won the election from the Sivaganga Lok Sabha constituency.\\n\\nKarti Chidambaram defeated AIADMK\\'s Xavierdass by a margin of 205664 votes.\\n\\nWhile speaking to ANI, he stated that the people of Tamil Nadu have rejected the BJP\\'s Hindutva politics and have voted for a federal, secular, and inclusive government.\\n\\n\"This victory is clear in the election results.\"\\n\\nJune 05, 2024 09:12Lok Sabha Election Results Analysis Live Updates | Maharashtra: BJP, allies get 17; Opposition combine bags 30 of 48 seats June 05, 2024 09:09Lok Sabha Election Results Analysis Live Updates: LJP\\'s Shambhavi Choudhary wins Samastipur, becomes youngest MP\\n\\nLok Janshakti Party (LJP) leader Shambhavi Choudhary has won Bihar\\'s Samastipur Lok Sabha seat becoming one of the youngest MPs. \"I extend my wishes to the people of Samastipur. I would say that they have taken the right decision, and I will try to live up to their expectations. Samastipur has given me a big victory, and I believe that the people have given me a place in their heart. I had said that I have come here to seek blessings as a daughter and today they have accepted me as their daughter,\" said Shambhavi Choudhary, according to PTI.\\n\\nJune 05, 2024 09:03Lok Sabha Election Results Analysis Live Updates: Despite coming together, our opponents could not get as many seats as BJP on its own, says PM Modi says during his speech, reports ANI June 05, 2024 08:57Lok Sabha Election Results Analysis Live Updates: Mahua Moitra celebrates victory, criticises Modi\\'s communal politics\\n\\nTMC candidate from Krishnanagar, West Bengal, Lok Sabha seat Mahua Moitra says, \"I am happy with my victory but considering the communal politics going on in India and Modi ji had said that he is contesting all 543 seats, I am happy that these elections have been held against him. The performance in Bengal has also been good,\" she said, according to an ANI report.\\n\\nBusinessline\\'s exclusive election results coverage\\n\\nJune 05, 2024 08:53Lok Sabha Election Results Analysis Live Updates: US expects continued close partnership with India, says state dept\\n\\nOn being asked how will be US-India relations after Modi 3.0, US State Department Spokesperson Matthew Miller says, \"So I expect a continued close partnership between the United States and India. There is a great partnership both at the government level and at the people-to-people level, and I fully expect that to continue,\" an ANI report said.\\n\\nJune 05, 2024 08:47Lok Sabha Election Results Analysis Live Updates: Italian PM Meloni congratulates PM Modi on electoral victory in Lok Sabha polls, says \"will work together to unite India, Italy\"\\n\\nGPQUDyUaIAAeJ1E.png\\n\\nJune 04, 2024 23:54Lok Sabha Election Results Analysis Live Updates: BJP gets ready to welcome the two new kingmakers - Chandrababu Naidu and Nitish Kumar\\n\\nFor the first time, Prime Minister Narendra Modi will have to depend on two past-masters of coalition politics - TDP Chief N Chandrababu Naidu and JD(U) chief and Bihar Chief Minister Nitish Kumar - to form the government.\\n\\nThe Prime Minister is believed to have spoken to Naidu and is expected to join his swearing-in as Chief Minister of Andhra Pradesh. A meeting of the BJP-led NDA is believed to have been scheduled for Wednesday for which both Nitish Kumar and Naidu have been invited.\\n\\nBusinessline exclusive election results coverage\\n\\nJune 04, 2024 23:52Lok Sabha Election Results Analysis Live Updates | BL Opinion: Modi and the coalition conundrum\\n\\nThe gap between the NDA and the INDIA alliance is so small, just about 60 seats, that they can make a difference to which formation forms the next government. The Congress party has said that it will discuss the possibilities on Wednesday with its partners. So, as of today, the matter of who forms the next government is still open and it\\'s up to the President as to who she invites to form it.\\n\\nJune 04, 2024 23:51Lok Sabha Election Results Analysis Live Updates: UP delivers a knockout punch to BJP\\n\\nThe State that scripted the BJP\\'s uninterrupted reign at the Centre for two terms brought the saffron party below the majority mark on Tuesday. A number of factors combined to thwart the BJP\\'s carefully-crafted strategy in Uttar Pradesh and the prime among them was the reverse social engineering attempted by saffron party\\'s main challenger - Samajwadi Party chief Akhilesh Yadav.\\n\\nJune 04, 2024 23:50Lok Sabha Election Results Analysis Live Updates: AP turns saviour for NDA\\n\\nThe TDP, which joined very late to the NDA alliance, emerged as a major player, giving the alliance a much-needed booster shot. With the BJP falling short of the magic figure, the TDP\\'s support turns crucial for the alliance to form the Government at the Centre. From just three in the 2019 elections, the alliance increased its tally to 21, pushing the YSRCP to just 4 (which won 22 in 2019).\\n\\nJune 04, 2024 23:49Lok Sabha Election Results Analysis Live Updates: BJP wins big in Gujarat, but fails to score hat-trick\\n\\nThe Bharatiya Janata Party\\'s (BJP) target of achieving a hat-trick of clean sweeps in Gujarat came undone Tuesday, after it conceded the Banaskantha Lok Sabha seat to its rival Congress.\\n\\nFor the first time since Narendra Modi became the Prime Minister, the BJP has lost a Lok Sabha seat in Gujarat, winning 25 of the 26 seats in the State. The saffron party had won all the 26 seats during the 2014 and 2019 Lok Sabha elections and had targeted to win all the 26 seats with a victory margin of 5 lakh votes.\\n\\nJune 04, 2024 23:46Lok Sabha Election Results Analysis Live Updates: BJP suffers major setback in Maharashtra; Uddhav Thackeray and Sharad Pawar emerge stronger\\n\\nThe BJP\\'s backed splits in Uddhav Thackeray\\'s Shiv Sena and Sharad Pawar\\'s NCP, including the controversial seizure of their party names and election symbols, backfired spectacularly. Voter anger against turncoats, coupled with issues such as agrarian distress, inflation, and the lacklustre performance of sitting BJP alliance MPs, proved to be decisive factors in the BJP\\'s downfall in Maharashtra.\\n\\nJune 04, 2024 23:45Lok Sabha Election Results Analysis Live Updates: In a major setback to BJP in West Bengal, Mamata Banerjee-led TMC set to increase seats\\n\\nIn a major setback to the Bharatiya Janata Party in West Bengal, the Mamata Banerjee-led Trinamool Congress is set to increase its seats in the state to 29 in the fiercely-contested LoK Sabha elections.\\n\\nDespite the prediction of most of the exit polls that the BJP would get more seats than the ruling Trinamool Congress in the state, the saffron party has bagged a lesser number of seats in the 2024 LS elections than 2019 elections.\\n\\nJune 04, 2024 23:41Lok Sabha Election Results Analysis Live Updates: Cong says mandate against Modi and he should step down\\n\\nWith the BJP falling behind the majority mark and its poll pitch of \\'400 ke par\\', opposition INDIA bloc said on Tuesday that the 2024 Lok Sabha election mandate is against Prime Minister Narendra Modi and he should own up the political and moral responsibility and step aside from another stint in power.\\n\\nJune 04, 2024 23:39Lok Sabha Election Results Analysis Live Updates: NDA gets a third term but BJP short of majority\\n\\nUnlike the previous two general elections, a clear mandate has eluded the BJP this time and the party appears set to win 240 seats, down 63 from the 303 it had won in 2019, and 33 short of a clear majority of 272 in the 543-member Lok Sabha.\\n\\nThe BJP will make up for the shortfall with Nitish Kumar\\'s Janata Dal (United), which looked set to win 12 seats in Bihar, and the Telugu Desam Party (TDP), looking to bag 17 seats in Andhra Pradesh besides minor allies including the Rashtriya Lok Samata Party, the Lok Janshakti Party, the Hindustani Awam Morcha, and the Jana Sena Party. Together, the NDA constituents come up to about 291 seats, 19 over the majority mark in the Lower House.\\n\\nBusinessline exclusive election results coverage\\n\\nSHARE Copy linkEmailFacebookTwitterTelegramLinkedInWhatsAppRedditPublished on June 5, 2024']"
      ]
     },
     "execution_count": 17,
     "metadata": {},
     "output_type": "execute_result"
    }
   ],
   "source": [
    "topic_model.get_representative_docs(0)"
   ]
  },
  {
   "cell_type": "code",
   "execution_count": 19,
   "metadata": {},
   "outputs": [
    {
     "ename": "ValueError",
     "evalue": "Mime type rendering requires nbformat>=4.2.0 but it is not installed",
     "output_type": "error",
     "traceback": [
      "\u001b[0;31m---------------------------------------------------------------------------\u001b[0m",
      "\u001b[0;31mValueError\u001b[0m                                Traceback (most recent call last)",
      "File \u001b[0;32m~/Code/news_analysis/env/lib/python3.9/site-packages/IPython/core/formatters.py:922\u001b[0m, in \u001b[0;36mIPythonDisplayFormatter.__call__\u001b[0;34m(self, obj)\u001b[0m\n\u001b[1;32m    920\u001b[0m method \u001b[38;5;241m=\u001b[39m get_real_method(obj, \u001b[38;5;28mself\u001b[39m\u001b[38;5;241m.\u001b[39mprint_method)\n\u001b[1;32m    921\u001b[0m \u001b[38;5;28;01mif\u001b[39;00m method \u001b[38;5;129;01mis\u001b[39;00m \u001b[38;5;129;01mnot\u001b[39;00m \u001b[38;5;28;01mNone\u001b[39;00m:\n\u001b[0;32m--> 922\u001b[0m     \u001b[43mmethod\u001b[49m\u001b[43m(\u001b[49m\u001b[43m)\u001b[49m\n\u001b[1;32m    923\u001b[0m     \u001b[38;5;28;01mreturn\u001b[39;00m \u001b[38;5;28;01mTrue\u001b[39;00m\n",
      "File \u001b[0;32m~/Code/news_analysis/env/lib/python3.9/site-packages/plotly/basedatatypes.py:832\u001b[0m, in \u001b[0;36mBaseFigure._ipython_display_\u001b[0;34m(self)\u001b[0m\n\u001b[1;32m    829\u001b[0m \u001b[38;5;28;01mimport\u001b[39;00m \u001b[38;5;21;01mplotly\u001b[39;00m\u001b[38;5;21;01m.\u001b[39;00m\u001b[38;5;21;01mio\u001b[39;00m \u001b[38;5;28;01mas\u001b[39;00m \u001b[38;5;21;01mpio\u001b[39;00m\n\u001b[1;32m    831\u001b[0m \u001b[38;5;28;01mif\u001b[39;00m pio\u001b[38;5;241m.\u001b[39mrenderers\u001b[38;5;241m.\u001b[39mrender_on_display \u001b[38;5;129;01mand\u001b[39;00m pio\u001b[38;5;241m.\u001b[39mrenderers\u001b[38;5;241m.\u001b[39mdefault:\n\u001b[0;32m--> 832\u001b[0m     \u001b[43mpio\u001b[49m\u001b[38;5;241;43m.\u001b[39;49m\u001b[43mshow\u001b[49m\u001b[43m(\u001b[49m\u001b[38;5;28;43mself\u001b[39;49m\u001b[43m)\u001b[49m\n\u001b[1;32m    833\u001b[0m \u001b[38;5;28;01melse\u001b[39;00m:\n\u001b[1;32m    834\u001b[0m     \u001b[38;5;28mprint\u001b[39m(\u001b[38;5;28mrepr\u001b[39m(\u001b[38;5;28mself\u001b[39m))\n",
      "File \u001b[0;32m~/Code/news_analysis/env/lib/python3.9/site-packages/plotly/io/_renderers.py:394\u001b[0m, in \u001b[0;36mshow\u001b[0;34m(fig, renderer, validate, **kwargs)\u001b[0m\n\u001b[1;32m    389\u001b[0m         \u001b[38;5;28;01mraise\u001b[39;00m \u001b[38;5;167;01mValueError\u001b[39;00m(\n\u001b[1;32m    390\u001b[0m             \u001b[38;5;124m\"\u001b[39m\u001b[38;5;124mMime type rendering requires ipython but it is not installed\u001b[39m\u001b[38;5;124m\"\u001b[39m\n\u001b[1;32m    391\u001b[0m         )\n\u001b[1;32m    393\u001b[0m     \u001b[38;5;28;01mif\u001b[39;00m \u001b[38;5;129;01mnot\u001b[39;00m nbformat \u001b[38;5;129;01mor\u001b[39;00m Version(nbformat\u001b[38;5;241m.\u001b[39m__version__) \u001b[38;5;241m<\u001b[39m Version(\u001b[38;5;124m\"\u001b[39m\u001b[38;5;124m4.2.0\u001b[39m\u001b[38;5;124m\"\u001b[39m):\n\u001b[0;32m--> 394\u001b[0m         \u001b[38;5;28;01mraise\u001b[39;00m \u001b[38;5;167;01mValueError\u001b[39;00m(\n\u001b[1;32m    395\u001b[0m             \u001b[38;5;124m\"\u001b[39m\u001b[38;5;124mMime type rendering requires nbformat>=4.2.0 but it is not installed\u001b[39m\u001b[38;5;124m\"\u001b[39m\n\u001b[1;32m    396\u001b[0m         )\n\u001b[1;32m    398\u001b[0m     ipython_display\u001b[38;5;241m.\u001b[39mdisplay(bundle, raw\u001b[38;5;241m=\u001b[39m\u001b[38;5;28;01mTrue\u001b[39;00m)\n\u001b[1;32m    400\u001b[0m \u001b[38;5;66;03m# external renderers\u001b[39;00m\n",
      "\u001b[0;31mValueError\u001b[0m: Mime type rendering requires nbformat>=4.2.0 but it is not installed"
     ]
    },
    {
     "data": {
      "application/vnd.plotly.v1+json": {
       "config": {
        "plotlyServerURL": "https://plot.ly"
       },
       "data": [
        {
         "customdata": [
          [
           0,
           "the | and | in | of | to",
           198
          ],
          [
           1,
           "the | china | and | in | 香会",
           63
          ],
          [
           2,
           "联合国海洋法公约 | 南海各方行为宣言 | the | china | 在内的国际法",
           48
          ],
          [
           3,
           "china | the | philippine | chinese | coast",
           46
          ],
          [
           4,
           "the | to | gaza | of | and",
           37
          ],
          [
           5,
           "to | the | and | g7 | of",
           32
          ],
          [
           6,
           "gaza | noa | hamas | the | argamani",
           28
          ],
          [
           7,
           "hezbollah | taleb | abdallah | sami | israeli",
           20
          ],
          [
           8,
           "the | to | in | and | of",
           19
          ],
          [
           9,
           "the | anc | of | in | parties",
           17
          ],
          [
           10,
           "the | of | huthis | yemen | aden",
           14
          ],
          [
           11,
           "china | sea | the | in | philippines",
           14
          ],
          [
           12,
           "to | the | and | of | in",
           11
          ]
         ],
         "hovertemplate": "<b>Topic %{customdata[0]}</b><br>%{customdata[1]}<br>Size: %{customdata[2]}",
         "legendgroup": "",
         "marker": {
          "color": "#B0BEC5",
          "line": {
           "color": "DarkSlateGrey",
           "width": 2
          },
          "size": [
           198,
           63,
           48,
           46,
           37,
           32,
           28,
           20,
           19,
           17,
           14,
           14,
           11
          ],
          "sizemode": "area",
          "sizeref": 0.12375,
          "symbol": "circle"
         },
         "mode": "markers",
         "name": "",
         "orientation": "v",
         "showlegend": false,
         "type": "scatter",
         "x": [
          9.262286186218262,
          -10.298050880432129,
          -10.140639305114746,
          -10.442510604858398,
          6.421175003051758,
          5.469287872314453,
          6.209767818450928,
          5.87811279296875,
          5.754105091094971,
          9.472440719604492,
          -10.686389923095703,
          -9.584259033203125,
          5.263682842254639
         ],
         "xaxis": "x",
         "y": [
          1.5291544198989868,
          13.463658332824707,
          13.783116340637207,
          14.464343070983887,
          -12.613889694213867,
          9.052651405334473,
          -12.402615547180176,
          -12.071083068847656,
          9.333142280578613,
          1.3190032243728638,
          14.852807998657227,
          13.870193481445312,
          8.846999168395996
         ],
         "yaxis": "y"
        }
       ],
       "layout": {
        "annotations": [
         {
          "showarrow": false,
          "text": "D1",
          "x": -12.28934841156006,
          "y": 1.287378025054931,
          "yshift": 10
         },
         {
          "showarrow": false,
          "text": "D2",
          "x": -0.6980207920074468,
          "xshift": 10,
          "y": 17.08072919845581
         }
        ],
        "height": 650,
        "hoverlabel": {
         "bgcolor": "white",
         "font": {
          "family": "Rockwell",
          "size": 16
         }
        },
        "legend": {
         "itemsizing": "constant",
         "tracegroupgap": 0
        },
        "margin": {
         "t": 60
        },
        "shapes": [
         {
          "line": {
           "color": "#CFD8DC",
           "width": 2
          },
          "type": "line",
          "x0": -0.6980207920074468,
          "x1": -0.6980207920074468,
          "y0": -14.505973148345948,
          "y1": 17.08072919845581
         },
         {
          "line": {
           "color": "#9E9E9E",
           "width": 2
          },
          "type": "line",
          "x0": -12.28934841156006,
          "x1": 10.893306827545166,
          "y0": 1.287378025054931,
          "y1": 1.287378025054931
         }
        ],
        "sliders": [
         {
          "active": 0,
          "pad": {
           "t": 50
          },
          "steps": [
           {
            "args": [
             {
              "marker.color": [
               [
                "red",
                "#B0BEC5",
                "#B0BEC5",
                "#B0BEC5",
                "#B0BEC5",
                "#B0BEC5",
                "#B0BEC5",
                "#B0BEC5",
                "#B0BEC5",
                "#B0BEC5",
                "#B0BEC5",
                "#B0BEC5",
                "#B0BEC5"
               ]
              ]
             }
            ],
            "label": "Topic 0",
            "method": "update"
           },
           {
            "args": [
             {
              "marker.color": [
               [
                "#B0BEC5",
                "red",
                "#B0BEC5",
                "#B0BEC5",
                "#B0BEC5",
                "#B0BEC5",
                "#B0BEC5",
                "#B0BEC5",
                "#B0BEC5",
                "#B0BEC5",
                "#B0BEC5",
                "#B0BEC5",
                "#B0BEC5"
               ]
              ]
             }
            ],
            "label": "Topic 1",
            "method": "update"
           },
           {
            "args": [
             {
              "marker.color": [
               [
                "#B0BEC5",
                "#B0BEC5",
                "red",
                "#B0BEC5",
                "#B0BEC5",
                "#B0BEC5",
                "#B0BEC5",
                "#B0BEC5",
                "#B0BEC5",
                "#B0BEC5",
                "#B0BEC5",
                "#B0BEC5",
                "#B0BEC5"
               ]
              ]
             }
            ],
            "label": "Topic 2",
            "method": "update"
           },
           {
            "args": [
             {
              "marker.color": [
               [
                "#B0BEC5",
                "#B0BEC5",
                "#B0BEC5",
                "red",
                "#B0BEC5",
                "#B0BEC5",
                "#B0BEC5",
                "#B0BEC5",
                "#B0BEC5",
                "#B0BEC5",
                "#B0BEC5",
                "#B0BEC5",
                "#B0BEC5"
               ]
              ]
             }
            ],
            "label": "Topic 3",
            "method": "update"
           },
           {
            "args": [
             {
              "marker.color": [
               [
                "#B0BEC5",
                "#B0BEC5",
                "#B0BEC5",
                "#B0BEC5",
                "red",
                "#B0BEC5",
                "#B0BEC5",
                "#B0BEC5",
                "#B0BEC5",
                "#B0BEC5",
                "#B0BEC5",
                "#B0BEC5",
                "#B0BEC5"
               ]
              ]
             }
            ],
            "label": "Topic 4",
            "method": "update"
           },
           {
            "args": [
             {
              "marker.color": [
               [
                "#B0BEC5",
                "#B0BEC5",
                "#B0BEC5",
                "#B0BEC5",
                "#B0BEC5",
                "red",
                "#B0BEC5",
                "#B0BEC5",
                "#B0BEC5",
                "#B0BEC5",
                "#B0BEC5",
                "#B0BEC5",
                "#B0BEC5"
               ]
              ]
             }
            ],
            "label": "Topic 5",
            "method": "update"
           },
           {
            "args": [
             {
              "marker.color": [
               [
                "#B0BEC5",
                "#B0BEC5",
                "#B0BEC5",
                "#B0BEC5",
                "#B0BEC5",
                "#B0BEC5",
                "red",
                "#B0BEC5",
                "#B0BEC5",
                "#B0BEC5",
                "#B0BEC5",
                "#B0BEC5",
                "#B0BEC5"
               ]
              ]
             }
            ],
            "label": "Topic 6",
            "method": "update"
           },
           {
            "args": [
             {
              "marker.color": [
               [
                "#B0BEC5",
                "#B0BEC5",
                "#B0BEC5",
                "#B0BEC5",
                "#B0BEC5",
                "#B0BEC5",
                "#B0BEC5",
                "red",
                "#B0BEC5",
                "#B0BEC5",
                "#B0BEC5",
                "#B0BEC5",
                "#B0BEC5"
               ]
              ]
             }
            ],
            "label": "Topic 7",
            "method": "update"
           },
           {
            "args": [
             {
              "marker.color": [
               [
                "#B0BEC5",
                "#B0BEC5",
                "#B0BEC5",
                "#B0BEC5",
                "#B0BEC5",
                "#B0BEC5",
                "#B0BEC5",
                "#B0BEC5",
                "red",
                "#B0BEC5",
                "#B0BEC5",
                "#B0BEC5",
                "#B0BEC5"
               ]
              ]
             }
            ],
            "label": "Topic 8",
            "method": "update"
           },
           {
            "args": [
             {
              "marker.color": [
               [
                "#B0BEC5",
                "#B0BEC5",
                "#B0BEC5",
                "#B0BEC5",
                "#B0BEC5",
                "#B0BEC5",
                "#B0BEC5",
                "#B0BEC5",
                "#B0BEC5",
                "red",
                "#B0BEC5",
                "#B0BEC5",
                "#B0BEC5"
               ]
              ]
             }
            ],
            "label": "Topic 9",
            "method": "update"
           },
           {
            "args": [
             {
              "marker.color": [
               [
                "#B0BEC5",
                "#B0BEC5",
                "#B0BEC5",
                "#B0BEC5",
                "#B0BEC5",
                "#B0BEC5",
                "#B0BEC5",
                "#B0BEC5",
                "#B0BEC5",
                "#B0BEC5",
                "red",
                "#B0BEC5",
                "#B0BEC5"
               ]
              ]
             }
            ],
            "label": "Topic 10",
            "method": "update"
           },
           {
            "args": [
             {
              "marker.color": [
               [
                "#B0BEC5",
                "#B0BEC5",
                "#B0BEC5",
                "#B0BEC5",
                "#B0BEC5",
                "#B0BEC5",
                "#B0BEC5",
                "#B0BEC5",
                "#B0BEC5",
                "#B0BEC5",
                "#B0BEC5",
                "red",
                "#B0BEC5"
               ]
              ]
             }
            ],
            "label": "Topic 11",
            "method": "update"
           },
           {
            "args": [
             {
              "marker.color": [
               [
                "#B0BEC5",
                "#B0BEC5",
                "#B0BEC5",
                "#B0BEC5",
                "#B0BEC5",
                "#B0BEC5",
                "#B0BEC5",
                "#B0BEC5",
                "#B0BEC5",
                "#B0BEC5",
                "#B0BEC5",
                "#B0BEC5",
                "red"
               ]
              ]
             }
            ],
            "label": "Topic 12",
            "method": "update"
           }
          ]
         }
        ],
        "template": {
         "data": {
          "bar": [
           {
            "error_x": {
             "color": "rgb(36,36,36)"
            },
            "error_y": {
             "color": "rgb(36,36,36)"
            },
            "marker": {
             "line": {
              "color": "white",
              "width": 0.5
             },
             "pattern": {
              "fillmode": "overlay",
              "size": 10,
              "solidity": 0.2
             }
            },
            "type": "bar"
           }
          ],
          "barpolar": [
           {
            "marker": {
             "line": {
              "color": "white",
              "width": 0.5
             },
             "pattern": {
              "fillmode": "overlay",
              "size": 10,
              "solidity": 0.2
             }
            },
            "type": "barpolar"
           }
          ],
          "carpet": [
           {
            "aaxis": {
             "endlinecolor": "rgb(36,36,36)",
             "gridcolor": "white",
             "linecolor": "white",
             "minorgridcolor": "white",
             "startlinecolor": "rgb(36,36,36)"
            },
            "baxis": {
             "endlinecolor": "rgb(36,36,36)",
             "gridcolor": "white",
             "linecolor": "white",
             "minorgridcolor": "white",
             "startlinecolor": "rgb(36,36,36)"
            },
            "type": "carpet"
           }
          ],
          "choropleth": [
           {
            "colorbar": {
             "outlinewidth": 1,
             "tickcolor": "rgb(36,36,36)",
             "ticks": "outside"
            },
            "type": "choropleth"
           }
          ],
          "contour": [
           {
            "colorbar": {
             "outlinewidth": 1,
             "tickcolor": "rgb(36,36,36)",
             "ticks": "outside"
            },
            "colorscale": [
             [
              0,
              "#440154"
             ],
             [
              0.1111111111111111,
              "#482878"
             ],
             [
              0.2222222222222222,
              "#3e4989"
             ],
             [
              0.3333333333333333,
              "#31688e"
             ],
             [
              0.4444444444444444,
              "#26828e"
             ],
             [
              0.5555555555555556,
              "#1f9e89"
             ],
             [
              0.6666666666666666,
              "#35b779"
             ],
             [
              0.7777777777777778,
              "#6ece58"
             ],
             [
              0.8888888888888888,
              "#b5de2b"
             ],
             [
              1,
              "#fde725"
             ]
            ],
            "type": "contour"
           }
          ],
          "contourcarpet": [
           {
            "colorbar": {
             "outlinewidth": 1,
             "tickcolor": "rgb(36,36,36)",
             "ticks": "outside"
            },
            "type": "contourcarpet"
           }
          ],
          "heatmap": [
           {
            "colorbar": {
             "outlinewidth": 1,
             "tickcolor": "rgb(36,36,36)",
             "ticks": "outside"
            },
            "colorscale": [
             [
              0,
              "#440154"
             ],
             [
              0.1111111111111111,
              "#482878"
             ],
             [
              0.2222222222222222,
              "#3e4989"
             ],
             [
              0.3333333333333333,
              "#31688e"
             ],
             [
              0.4444444444444444,
              "#26828e"
             ],
             [
              0.5555555555555556,
              "#1f9e89"
             ],
             [
              0.6666666666666666,
              "#35b779"
             ],
             [
              0.7777777777777778,
              "#6ece58"
             ],
             [
              0.8888888888888888,
              "#b5de2b"
             ],
             [
              1,
              "#fde725"
             ]
            ],
            "type": "heatmap"
           }
          ],
          "heatmapgl": [
           {
            "colorbar": {
             "outlinewidth": 1,
             "tickcolor": "rgb(36,36,36)",
             "ticks": "outside"
            },
            "colorscale": [
             [
              0,
              "#440154"
             ],
             [
              0.1111111111111111,
              "#482878"
             ],
             [
              0.2222222222222222,
              "#3e4989"
             ],
             [
              0.3333333333333333,
              "#31688e"
             ],
             [
              0.4444444444444444,
              "#26828e"
             ],
             [
              0.5555555555555556,
              "#1f9e89"
             ],
             [
              0.6666666666666666,
              "#35b779"
             ],
             [
              0.7777777777777778,
              "#6ece58"
             ],
             [
              0.8888888888888888,
              "#b5de2b"
             ],
             [
              1,
              "#fde725"
             ]
            ],
            "type": "heatmapgl"
           }
          ],
          "histogram": [
           {
            "marker": {
             "line": {
              "color": "white",
              "width": 0.6
             }
            },
            "type": "histogram"
           }
          ],
          "histogram2d": [
           {
            "colorbar": {
             "outlinewidth": 1,
             "tickcolor": "rgb(36,36,36)",
             "ticks": "outside"
            },
            "colorscale": [
             [
              0,
              "#440154"
             ],
             [
              0.1111111111111111,
              "#482878"
             ],
             [
              0.2222222222222222,
              "#3e4989"
             ],
             [
              0.3333333333333333,
              "#31688e"
             ],
             [
              0.4444444444444444,
              "#26828e"
             ],
             [
              0.5555555555555556,
              "#1f9e89"
             ],
             [
              0.6666666666666666,
              "#35b779"
             ],
             [
              0.7777777777777778,
              "#6ece58"
             ],
             [
              0.8888888888888888,
              "#b5de2b"
             ],
             [
              1,
              "#fde725"
             ]
            ],
            "type": "histogram2d"
           }
          ],
          "histogram2dcontour": [
           {
            "colorbar": {
             "outlinewidth": 1,
             "tickcolor": "rgb(36,36,36)",
             "ticks": "outside"
            },
            "colorscale": [
             [
              0,
              "#440154"
             ],
             [
              0.1111111111111111,
              "#482878"
             ],
             [
              0.2222222222222222,
              "#3e4989"
             ],
             [
              0.3333333333333333,
              "#31688e"
             ],
             [
              0.4444444444444444,
              "#26828e"
             ],
             [
              0.5555555555555556,
              "#1f9e89"
             ],
             [
              0.6666666666666666,
              "#35b779"
             ],
             [
              0.7777777777777778,
              "#6ece58"
             ],
             [
              0.8888888888888888,
              "#b5de2b"
             ],
             [
              1,
              "#fde725"
             ]
            ],
            "type": "histogram2dcontour"
           }
          ],
          "mesh3d": [
           {
            "colorbar": {
             "outlinewidth": 1,
             "tickcolor": "rgb(36,36,36)",
             "ticks": "outside"
            },
            "type": "mesh3d"
           }
          ],
          "parcoords": [
           {
            "line": {
             "colorbar": {
              "outlinewidth": 1,
              "tickcolor": "rgb(36,36,36)",
              "ticks": "outside"
             }
            },
            "type": "parcoords"
           }
          ],
          "pie": [
           {
            "automargin": true,
            "type": "pie"
           }
          ],
          "scatter": [
           {
            "fillpattern": {
             "fillmode": "overlay",
             "size": 10,
             "solidity": 0.2
            },
            "type": "scatter"
           }
          ],
          "scatter3d": [
           {
            "line": {
             "colorbar": {
              "outlinewidth": 1,
              "tickcolor": "rgb(36,36,36)",
              "ticks": "outside"
             }
            },
            "marker": {
             "colorbar": {
              "outlinewidth": 1,
              "tickcolor": "rgb(36,36,36)",
              "ticks": "outside"
             }
            },
            "type": "scatter3d"
           }
          ],
          "scattercarpet": [
           {
            "marker": {
             "colorbar": {
              "outlinewidth": 1,
              "tickcolor": "rgb(36,36,36)",
              "ticks": "outside"
             }
            },
            "type": "scattercarpet"
           }
          ],
          "scattergeo": [
           {
            "marker": {
             "colorbar": {
              "outlinewidth": 1,
              "tickcolor": "rgb(36,36,36)",
              "ticks": "outside"
             }
            },
            "type": "scattergeo"
           }
          ],
          "scattergl": [
           {
            "marker": {
             "colorbar": {
              "outlinewidth": 1,
              "tickcolor": "rgb(36,36,36)",
              "ticks": "outside"
             }
            },
            "type": "scattergl"
           }
          ],
          "scattermapbox": [
           {
            "marker": {
             "colorbar": {
              "outlinewidth": 1,
              "tickcolor": "rgb(36,36,36)",
              "ticks": "outside"
             }
            },
            "type": "scattermapbox"
           }
          ],
          "scatterpolar": [
           {
            "marker": {
             "colorbar": {
              "outlinewidth": 1,
              "tickcolor": "rgb(36,36,36)",
              "ticks": "outside"
             }
            },
            "type": "scatterpolar"
           }
          ],
          "scatterpolargl": [
           {
            "marker": {
             "colorbar": {
              "outlinewidth": 1,
              "tickcolor": "rgb(36,36,36)",
              "ticks": "outside"
             }
            },
            "type": "scatterpolargl"
           }
          ],
          "scatterternary": [
           {
            "marker": {
             "colorbar": {
              "outlinewidth": 1,
              "tickcolor": "rgb(36,36,36)",
              "ticks": "outside"
             }
            },
            "type": "scatterternary"
           }
          ],
          "surface": [
           {
            "colorbar": {
             "outlinewidth": 1,
             "tickcolor": "rgb(36,36,36)",
             "ticks": "outside"
            },
            "colorscale": [
             [
              0,
              "#440154"
             ],
             [
              0.1111111111111111,
              "#482878"
             ],
             [
              0.2222222222222222,
              "#3e4989"
             ],
             [
              0.3333333333333333,
              "#31688e"
             ],
             [
              0.4444444444444444,
              "#26828e"
             ],
             [
              0.5555555555555556,
              "#1f9e89"
             ],
             [
              0.6666666666666666,
              "#35b779"
             ],
             [
              0.7777777777777778,
              "#6ece58"
             ],
             [
              0.8888888888888888,
              "#b5de2b"
             ],
             [
              1,
              "#fde725"
             ]
            ],
            "type": "surface"
           }
          ],
          "table": [
           {
            "cells": {
             "fill": {
              "color": "rgb(237,237,237)"
             },
             "line": {
              "color": "white"
             }
            },
            "header": {
             "fill": {
              "color": "rgb(217,217,217)"
             },
             "line": {
              "color": "white"
             }
            },
            "type": "table"
           }
          ]
         },
         "layout": {
          "annotationdefaults": {
           "arrowhead": 0,
           "arrowwidth": 1
          },
          "autotypenumbers": "strict",
          "coloraxis": {
           "colorbar": {
            "outlinewidth": 1,
            "tickcolor": "rgb(36,36,36)",
            "ticks": "outside"
           }
          },
          "colorscale": {
           "diverging": [
            [
             0,
             "rgb(103,0,31)"
            ],
            [
             0.1,
             "rgb(178,24,43)"
            ],
            [
             0.2,
             "rgb(214,96,77)"
            ],
            [
             0.3,
             "rgb(244,165,130)"
            ],
            [
             0.4,
             "rgb(253,219,199)"
            ],
            [
             0.5,
             "rgb(247,247,247)"
            ],
            [
             0.6,
             "rgb(209,229,240)"
            ],
            [
             0.7,
             "rgb(146,197,222)"
            ],
            [
             0.8,
             "rgb(67,147,195)"
            ],
            [
             0.9,
             "rgb(33,102,172)"
            ],
            [
             1,
             "rgb(5,48,97)"
            ]
           ],
           "sequential": [
            [
             0,
             "#440154"
            ],
            [
             0.1111111111111111,
             "#482878"
            ],
            [
             0.2222222222222222,
             "#3e4989"
            ],
            [
             0.3333333333333333,
             "#31688e"
            ],
            [
             0.4444444444444444,
             "#26828e"
            ],
            [
             0.5555555555555556,
             "#1f9e89"
            ],
            [
             0.6666666666666666,
             "#35b779"
            ],
            [
             0.7777777777777778,
             "#6ece58"
            ],
            [
             0.8888888888888888,
             "#b5de2b"
            ],
            [
             1,
             "#fde725"
            ]
           ],
           "sequentialminus": [
            [
             0,
             "#440154"
            ],
            [
             0.1111111111111111,
             "#482878"
            ],
            [
             0.2222222222222222,
             "#3e4989"
            ],
            [
             0.3333333333333333,
             "#31688e"
            ],
            [
             0.4444444444444444,
             "#26828e"
            ],
            [
             0.5555555555555556,
             "#1f9e89"
            ],
            [
             0.6666666666666666,
             "#35b779"
            ],
            [
             0.7777777777777778,
             "#6ece58"
            ],
            [
             0.8888888888888888,
             "#b5de2b"
            ],
            [
             1,
             "#fde725"
            ]
           ]
          },
          "colorway": [
           "#1F77B4",
           "#FF7F0E",
           "#2CA02C",
           "#D62728",
           "#9467BD",
           "#8C564B",
           "#E377C2",
           "#7F7F7F",
           "#BCBD22",
           "#17BECF"
          ],
          "font": {
           "color": "rgb(36,36,36)"
          },
          "geo": {
           "bgcolor": "white",
           "lakecolor": "white",
           "landcolor": "white",
           "showlakes": true,
           "showland": true,
           "subunitcolor": "white"
          },
          "hoverlabel": {
           "align": "left"
          },
          "hovermode": "closest",
          "mapbox": {
           "style": "light"
          },
          "paper_bgcolor": "white",
          "plot_bgcolor": "white",
          "polar": {
           "angularaxis": {
            "gridcolor": "rgb(232,232,232)",
            "linecolor": "rgb(36,36,36)",
            "showgrid": false,
            "showline": true,
            "ticks": "outside"
           },
           "bgcolor": "white",
           "radialaxis": {
            "gridcolor": "rgb(232,232,232)",
            "linecolor": "rgb(36,36,36)",
            "showgrid": false,
            "showline": true,
            "ticks": "outside"
           }
          },
          "scene": {
           "xaxis": {
            "backgroundcolor": "white",
            "gridcolor": "rgb(232,232,232)",
            "gridwidth": 2,
            "linecolor": "rgb(36,36,36)",
            "showbackground": true,
            "showgrid": false,
            "showline": true,
            "ticks": "outside",
            "zeroline": false,
            "zerolinecolor": "rgb(36,36,36)"
           },
           "yaxis": {
            "backgroundcolor": "white",
            "gridcolor": "rgb(232,232,232)",
            "gridwidth": 2,
            "linecolor": "rgb(36,36,36)",
            "showbackground": true,
            "showgrid": false,
            "showline": true,
            "ticks": "outside",
            "zeroline": false,
            "zerolinecolor": "rgb(36,36,36)"
           },
           "zaxis": {
            "backgroundcolor": "white",
            "gridcolor": "rgb(232,232,232)",
            "gridwidth": 2,
            "linecolor": "rgb(36,36,36)",
            "showbackground": true,
            "showgrid": false,
            "showline": true,
            "ticks": "outside",
            "zeroline": false,
            "zerolinecolor": "rgb(36,36,36)"
           }
          },
          "shapedefaults": {
           "fillcolor": "black",
           "line": {
            "width": 0
           },
           "opacity": 0.3
          },
          "ternary": {
           "aaxis": {
            "gridcolor": "rgb(232,232,232)",
            "linecolor": "rgb(36,36,36)",
            "showgrid": false,
            "showline": true,
            "ticks": "outside"
           },
           "baxis": {
            "gridcolor": "rgb(232,232,232)",
            "linecolor": "rgb(36,36,36)",
            "showgrid": false,
            "showline": true,
            "ticks": "outside"
           },
           "bgcolor": "white",
           "caxis": {
            "gridcolor": "rgb(232,232,232)",
            "linecolor": "rgb(36,36,36)",
            "showgrid": false,
            "showline": true,
            "ticks": "outside"
           }
          },
          "title": {
           "x": 0.05
          },
          "xaxis": {
           "automargin": true,
           "gridcolor": "rgb(232,232,232)",
           "linecolor": "rgb(36,36,36)",
           "showgrid": false,
           "showline": true,
           "ticks": "outside",
           "title": {
            "standoff": 15
           },
           "zeroline": false,
           "zerolinecolor": "rgb(36,36,36)"
          },
          "yaxis": {
           "automargin": true,
           "gridcolor": "rgb(232,232,232)",
           "linecolor": "rgb(36,36,36)",
           "showgrid": false,
           "showline": true,
           "ticks": "outside",
           "title": {
            "standoff": 15
           },
           "zeroline": false,
           "zerolinecolor": "rgb(36,36,36)"
          }
         }
        },
        "title": {
         "font": {
          "color": "Black",
          "size": 22
         },
         "text": "<b>Intertopic Distance Map</b>",
         "x": 0.5,
         "xanchor": "center",
         "y": 0.95,
         "yanchor": "top"
        },
        "width": 650,
        "xaxis": {
         "anchor": "y",
         "domain": [
          0,
          1
         ],
         "range": [
          -12.28934841156006,
          10.893306827545166
         ],
         "title": {
          "text": ""
         },
         "visible": false
        },
        "yaxis": {
         "anchor": "x",
         "domain": [
          0,
          1
         ],
         "range": [
          -14.505973148345948,
          17.08072919845581
         ],
         "title": {
          "text": ""
         },
         "visible": false
        }
       }
      },
      "text/html": [
       "<div>                        <script type=\"text/javascript\">window.PlotlyConfig = {MathJaxConfig: 'local'};</script>\n",
       "        <script charset=\"utf-8\" src=\"https://cdn.plot.ly/plotly-2.32.0.min.js\"></script>                <div id=\"33e4eded-0dfb-448a-8bbf-603d080419d9\" class=\"plotly-graph-div\" style=\"height:650px; width:650px;\"></div>            <script type=\"text/javascript\">                                    window.PLOTLYENV=window.PLOTLYENV || {};                                    if (document.getElementById(\"33e4eded-0dfb-448a-8bbf-603d080419d9\")) {                    Plotly.newPlot(                        \"33e4eded-0dfb-448a-8bbf-603d080419d9\",                        [{\"customdata\":[[0,\"the | and | in | of | to\",198],[1,\"the | china | and | in | \\u9999\\u4f1a\",63],[2,\"\\u8054\\u5408\\u56fd\\u6d77\\u6d0b\\u6cd5\\u516c\\u7ea6 | \\u5357\\u6d77\\u5404\\u65b9\\u884c\\u4e3a\\u5ba3\\u8a00 | the | china | \\u5728\\u5185\\u7684\\u56fd\\u9645\\u6cd5\",48],[3,\"china | the | philippine | chinese | coast\",46],[4,\"the | to | gaza | of | and\",37],[5,\"to | the | and | g7 | of\",32],[6,\"gaza | noa | hamas | the | argamani\",28],[7,\"hezbollah | taleb | abdallah | sami | israeli\",20],[8,\"the | to | in | and | of\",19],[9,\"the | anc | of | in | parties\",17],[10,\"the | of | huthis | yemen | aden\",14],[11,\"china | sea | the | in | philippines\",14],[12,\"to | the | and | of | in\",11]],\"hovertemplate\":\"\\u003cb\\u003eTopic %{customdata[0]}\\u003c\\u002fb\\u003e\\u003cbr\\u003e%{customdata[1]}\\u003cbr\\u003eSize: %{customdata[2]}\",\"legendgroup\":\"\",\"marker\":{\"color\":\"#B0BEC5\",\"size\":[198,63,48,46,37,32,28,20,19,17,14,14,11],\"sizemode\":\"area\",\"sizeref\":0.12375,\"symbol\":\"circle\",\"line\":{\"color\":\"DarkSlateGrey\",\"width\":2}},\"mode\":\"markers\",\"name\":\"\",\"orientation\":\"v\",\"showlegend\":false,\"x\":[9.262286186218262,-10.298050880432129,-10.140639305114746,-10.442510604858398,6.421175003051758,5.469287872314453,6.209767818450928,5.87811279296875,5.754105091094971,9.472440719604492,-10.686389923095703,-9.584259033203125,5.263682842254639],\"xaxis\":\"x\",\"y\":[1.5291544198989868,13.463658332824707,13.783116340637207,14.464343070983887,-12.613889694213867,9.052651405334473,-12.402615547180176,-12.071083068847656,9.333142280578613,1.3190032243728638,14.852807998657227,13.870193481445312,8.846999168395996],\"yaxis\":\"y\",\"type\":\"scatter\"}],                        {\"template\":{\"data\":{\"barpolar\":[{\"marker\":{\"line\":{\"color\":\"white\",\"width\":0.5},\"pattern\":{\"fillmode\":\"overlay\",\"size\":10,\"solidity\":0.2}},\"type\":\"barpolar\"}],\"bar\":[{\"error_x\":{\"color\":\"rgb(36,36,36)\"},\"error_y\":{\"color\":\"rgb(36,36,36)\"},\"marker\":{\"line\":{\"color\":\"white\",\"width\":0.5},\"pattern\":{\"fillmode\":\"overlay\",\"size\":10,\"solidity\":0.2}},\"type\":\"bar\"}],\"carpet\":[{\"aaxis\":{\"endlinecolor\":\"rgb(36,36,36)\",\"gridcolor\":\"white\",\"linecolor\":\"white\",\"minorgridcolor\":\"white\",\"startlinecolor\":\"rgb(36,36,36)\"},\"baxis\":{\"endlinecolor\":\"rgb(36,36,36)\",\"gridcolor\":\"white\",\"linecolor\":\"white\",\"minorgridcolor\":\"white\",\"startlinecolor\":\"rgb(36,36,36)\"},\"type\":\"carpet\"}],\"choropleth\":[{\"colorbar\":{\"outlinewidth\":1,\"tickcolor\":\"rgb(36,36,36)\",\"ticks\":\"outside\"},\"type\":\"choropleth\"}],\"contourcarpet\":[{\"colorbar\":{\"outlinewidth\":1,\"tickcolor\":\"rgb(36,36,36)\",\"ticks\":\"outside\"},\"type\":\"contourcarpet\"}],\"contour\":[{\"colorbar\":{\"outlinewidth\":1,\"tickcolor\":\"rgb(36,36,36)\",\"ticks\":\"outside\"},\"colorscale\":[[0.0,\"#440154\"],[0.1111111111111111,\"#482878\"],[0.2222222222222222,\"#3e4989\"],[0.3333333333333333,\"#31688e\"],[0.4444444444444444,\"#26828e\"],[0.5555555555555556,\"#1f9e89\"],[0.6666666666666666,\"#35b779\"],[0.7777777777777778,\"#6ece58\"],[0.8888888888888888,\"#b5de2b\"],[1.0,\"#fde725\"]],\"type\":\"contour\"}],\"heatmapgl\":[{\"colorbar\":{\"outlinewidth\":1,\"tickcolor\":\"rgb(36,36,36)\",\"ticks\":\"outside\"},\"colorscale\":[[0.0,\"#440154\"],[0.1111111111111111,\"#482878\"],[0.2222222222222222,\"#3e4989\"],[0.3333333333333333,\"#31688e\"],[0.4444444444444444,\"#26828e\"],[0.5555555555555556,\"#1f9e89\"],[0.6666666666666666,\"#35b779\"],[0.7777777777777778,\"#6ece58\"],[0.8888888888888888,\"#b5de2b\"],[1.0,\"#fde725\"]],\"type\":\"heatmapgl\"}],\"heatmap\":[{\"colorbar\":{\"outlinewidth\":1,\"tickcolor\":\"rgb(36,36,36)\",\"ticks\":\"outside\"},\"colorscale\":[[0.0,\"#440154\"],[0.1111111111111111,\"#482878\"],[0.2222222222222222,\"#3e4989\"],[0.3333333333333333,\"#31688e\"],[0.4444444444444444,\"#26828e\"],[0.5555555555555556,\"#1f9e89\"],[0.6666666666666666,\"#35b779\"],[0.7777777777777778,\"#6ece58\"],[0.8888888888888888,\"#b5de2b\"],[1.0,\"#fde725\"]],\"type\":\"heatmap\"}],\"histogram2dcontour\":[{\"colorbar\":{\"outlinewidth\":1,\"tickcolor\":\"rgb(36,36,36)\",\"ticks\":\"outside\"},\"colorscale\":[[0.0,\"#440154\"],[0.1111111111111111,\"#482878\"],[0.2222222222222222,\"#3e4989\"],[0.3333333333333333,\"#31688e\"],[0.4444444444444444,\"#26828e\"],[0.5555555555555556,\"#1f9e89\"],[0.6666666666666666,\"#35b779\"],[0.7777777777777778,\"#6ece58\"],[0.8888888888888888,\"#b5de2b\"],[1.0,\"#fde725\"]],\"type\":\"histogram2dcontour\"}],\"histogram2d\":[{\"colorbar\":{\"outlinewidth\":1,\"tickcolor\":\"rgb(36,36,36)\",\"ticks\":\"outside\"},\"colorscale\":[[0.0,\"#440154\"],[0.1111111111111111,\"#482878\"],[0.2222222222222222,\"#3e4989\"],[0.3333333333333333,\"#31688e\"],[0.4444444444444444,\"#26828e\"],[0.5555555555555556,\"#1f9e89\"],[0.6666666666666666,\"#35b779\"],[0.7777777777777778,\"#6ece58\"],[0.8888888888888888,\"#b5de2b\"],[1.0,\"#fde725\"]],\"type\":\"histogram2d\"}],\"histogram\":[{\"marker\":{\"line\":{\"color\":\"white\",\"width\":0.6}},\"type\":\"histogram\"}],\"mesh3d\":[{\"colorbar\":{\"outlinewidth\":1,\"tickcolor\":\"rgb(36,36,36)\",\"ticks\":\"outside\"},\"type\":\"mesh3d\"}],\"parcoords\":[{\"line\":{\"colorbar\":{\"outlinewidth\":1,\"tickcolor\":\"rgb(36,36,36)\",\"ticks\":\"outside\"}},\"type\":\"parcoords\"}],\"pie\":[{\"automargin\":true,\"type\":\"pie\"}],\"scatter3d\":[{\"line\":{\"colorbar\":{\"outlinewidth\":1,\"tickcolor\":\"rgb(36,36,36)\",\"ticks\":\"outside\"}},\"marker\":{\"colorbar\":{\"outlinewidth\":1,\"tickcolor\":\"rgb(36,36,36)\",\"ticks\":\"outside\"}},\"type\":\"scatter3d\"}],\"scattercarpet\":[{\"marker\":{\"colorbar\":{\"outlinewidth\":1,\"tickcolor\":\"rgb(36,36,36)\",\"ticks\":\"outside\"}},\"type\":\"scattercarpet\"}],\"scattergeo\":[{\"marker\":{\"colorbar\":{\"outlinewidth\":1,\"tickcolor\":\"rgb(36,36,36)\",\"ticks\":\"outside\"}},\"type\":\"scattergeo\"}],\"scattergl\":[{\"marker\":{\"colorbar\":{\"outlinewidth\":1,\"tickcolor\":\"rgb(36,36,36)\",\"ticks\":\"outside\"}},\"type\":\"scattergl\"}],\"scattermapbox\":[{\"marker\":{\"colorbar\":{\"outlinewidth\":1,\"tickcolor\":\"rgb(36,36,36)\",\"ticks\":\"outside\"}},\"type\":\"scattermapbox\"}],\"scatterpolargl\":[{\"marker\":{\"colorbar\":{\"outlinewidth\":1,\"tickcolor\":\"rgb(36,36,36)\",\"ticks\":\"outside\"}},\"type\":\"scatterpolargl\"}],\"scatterpolar\":[{\"marker\":{\"colorbar\":{\"outlinewidth\":1,\"tickcolor\":\"rgb(36,36,36)\",\"ticks\":\"outside\"}},\"type\":\"scatterpolar\"}],\"scatter\":[{\"fillpattern\":{\"fillmode\":\"overlay\",\"size\":10,\"solidity\":0.2},\"type\":\"scatter\"}],\"scatterternary\":[{\"marker\":{\"colorbar\":{\"outlinewidth\":1,\"tickcolor\":\"rgb(36,36,36)\",\"ticks\":\"outside\"}},\"type\":\"scatterternary\"}],\"surface\":[{\"colorbar\":{\"outlinewidth\":1,\"tickcolor\":\"rgb(36,36,36)\",\"ticks\":\"outside\"},\"colorscale\":[[0.0,\"#440154\"],[0.1111111111111111,\"#482878\"],[0.2222222222222222,\"#3e4989\"],[0.3333333333333333,\"#31688e\"],[0.4444444444444444,\"#26828e\"],[0.5555555555555556,\"#1f9e89\"],[0.6666666666666666,\"#35b779\"],[0.7777777777777778,\"#6ece58\"],[0.8888888888888888,\"#b5de2b\"],[1.0,\"#fde725\"]],\"type\":\"surface\"}],\"table\":[{\"cells\":{\"fill\":{\"color\":\"rgb(237,237,237)\"},\"line\":{\"color\":\"white\"}},\"header\":{\"fill\":{\"color\":\"rgb(217,217,217)\"},\"line\":{\"color\":\"white\"}},\"type\":\"table\"}]},\"layout\":{\"annotationdefaults\":{\"arrowhead\":0,\"arrowwidth\":1},\"autotypenumbers\":\"strict\",\"coloraxis\":{\"colorbar\":{\"outlinewidth\":1,\"tickcolor\":\"rgb(36,36,36)\",\"ticks\":\"outside\"}},\"colorscale\":{\"diverging\":[[0.0,\"rgb(103,0,31)\"],[0.1,\"rgb(178,24,43)\"],[0.2,\"rgb(214,96,77)\"],[0.3,\"rgb(244,165,130)\"],[0.4,\"rgb(253,219,199)\"],[0.5,\"rgb(247,247,247)\"],[0.6,\"rgb(209,229,240)\"],[0.7,\"rgb(146,197,222)\"],[0.8,\"rgb(67,147,195)\"],[0.9,\"rgb(33,102,172)\"],[1.0,\"rgb(5,48,97)\"]],\"sequential\":[[0.0,\"#440154\"],[0.1111111111111111,\"#482878\"],[0.2222222222222222,\"#3e4989\"],[0.3333333333333333,\"#31688e\"],[0.4444444444444444,\"#26828e\"],[0.5555555555555556,\"#1f9e89\"],[0.6666666666666666,\"#35b779\"],[0.7777777777777778,\"#6ece58\"],[0.8888888888888888,\"#b5de2b\"],[1.0,\"#fde725\"]],\"sequentialminus\":[[0.0,\"#440154\"],[0.1111111111111111,\"#482878\"],[0.2222222222222222,\"#3e4989\"],[0.3333333333333333,\"#31688e\"],[0.4444444444444444,\"#26828e\"],[0.5555555555555556,\"#1f9e89\"],[0.6666666666666666,\"#35b779\"],[0.7777777777777778,\"#6ece58\"],[0.8888888888888888,\"#b5de2b\"],[1.0,\"#fde725\"]]},\"colorway\":[\"#1F77B4\",\"#FF7F0E\",\"#2CA02C\",\"#D62728\",\"#9467BD\",\"#8C564B\",\"#E377C2\",\"#7F7F7F\",\"#BCBD22\",\"#17BECF\"],\"font\":{\"color\":\"rgb(36,36,36)\"},\"geo\":{\"bgcolor\":\"white\",\"lakecolor\":\"white\",\"landcolor\":\"white\",\"showlakes\":true,\"showland\":true,\"subunitcolor\":\"white\"},\"hoverlabel\":{\"align\":\"left\"},\"hovermode\":\"closest\",\"mapbox\":{\"style\":\"light\"},\"paper_bgcolor\":\"white\",\"plot_bgcolor\":\"white\",\"polar\":{\"angularaxis\":{\"gridcolor\":\"rgb(232,232,232)\",\"linecolor\":\"rgb(36,36,36)\",\"showgrid\":false,\"showline\":true,\"ticks\":\"outside\"},\"bgcolor\":\"white\",\"radialaxis\":{\"gridcolor\":\"rgb(232,232,232)\",\"linecolor\":\"rgb(36,36,36)\",\"showgrid\":false,\"showline\":true,\"ticks\":\"outside\"}},\"scene\":{\"xaxis\":{\"backgroundcolor\":\"white\",\"gridcolor\":\"rgb(232,232,232)\",\"gridwidth\":2,\"linecolor\":\"rgb(36,36,36)\",\"showbackground\":true,\"showgrid\":false,\"showline\":true,\"ticks\":\"outside\",\"zeroline\":false,\"zerolinecolor\":\"rgb(36,36,36)\"},\"yaxis\":{\"backgroundcolor\":\"white\",\"gridcolor\":\"rgb(232,232,232)\",\"gridwidth\":2,\"linecolor\":\"rgb(36,36,36)\",\"showbackground\":true,\"showgrid\":false,\"showline\":true,\"ticks\":\"outside\",\"zeroline\":false,\"zerolinecolor\":\"rgb(36,36,36)\"},\"zaxis\":{\"backgroundcolor\":\"white\",\"gridcolor\":\"rgb(232,232,232)\",\"gridwidth\":2,\"linecolor\":\"rgb(36,36,36)\",\"showbackground\":true,\"showgrid\":false,\"showline\":true,\"ticks\":\"outside\",\"zeroline\":false,\"zerolinecolor\":\"rgb(36,36,36)\"}},\"shapedefaults\":{\"fillcolor\":\"black\",\"line\":{\"width\":0},\"opacity\":0.3},\"ternary\":{\"aaxis\":{\"gridcolor\":\"rgb(232,232,232)\",\"linecolor\":\"rgb(36,36,36)\",\"showgrid\":false,\"showline\":true,\"ticks\":\"outside\"},\"baxis\":{\"gridcolor\":\"rgb(232,232,232)\",\"linecolor\":\"rgb(36,36,36)\",\"showgrid\":false,\"showline\":true,\"ticks\":\"outside\"},\"bgcolor\":\"white\",\"caxis\":{\"gridcolor\":\"rgb(232,232,232)\",\"linecolor\":\"rgb(36,36,36)\",\"showgrid\":false,\"showline\":true,\"ticks\":\"outside\"}},\"title\":{\"x\":0.05},\"xaxis\":{\"automargin\":true,\"gridcolor\":\"rgb(232,232,232)\",\"linecolor\":\"rgb(36,36,36)\",\"showgrid\":false,\"showline\":true,\"ticks\":\"outside\",\"title\":{\"standoff\":15},\"zeroline\":false,\"zerolinecolor\":\"rgb(36,36,36)\"},\"yaxis\":{\"automargin\":true,\"gridcolor\":\"rgb(232,232,232)\",\"linecolor\":\"rgb(36,36,36)\",\"showgrid\":false,\"showline\":true,\"ticks\":\"outside\",\"title\":{\"standoff\":15},\"zeroline\":false,\"zerolinecolor\":\"rgb(36,36,36)\"}}},\"xaxis\":{\"anchor\":\"y\",\"domain\":[0.0,1.0],\"title\":{\"text\":\"\"},\"visible\":false,\"range\":[-12.28934841156006,10.893306827545166]},\"yaxis\":{\"anchor\":\"x\",\"domain\":[0.0,1.0],\"title\":{\"text\":\"\"},\"visible\":false,\"range\":[-14.505973148345948,17.08072919845581]},\"legend\":{\"tracegroupgap\":0,\"itemsizing\":\"constant\"},\"margin\":{\"t\":60},\"title\":{\"font\":{\"size\":22,\"color\":\"Black\"},\"text\":\"\\u003cb\\u003eIntertopic Distance Map\\u003c\\u002fb\\u003e\",\"y\":0.95,\"x\":0.5,\"xanchor\":\"center\",\"yanchor\":\"top\"},\"hoverlabel\":{\"font\":{\"size\":16,\"family\":\"Rockwell\"},\"bgcolor\":\"white\"},\"width\":650,\"height\":650,\"sliders\":[{\"active\":0,\"pad\":{\"t\":50},\"steps\":[{\"args\":[{\"marker.color\":[[\"red\",\"#B0BEC5\",\"#B0BEC5\",\"#B0BEC5\",\"#B0BEC5\",\"#B0BEC5\",\"#B0BEC5\",\"#B0BEC5\",\"#B0BEC5\",\"#B0BEC5\",\"#B0BEC5\",\"#B0BEC5\",\"#B0BEC5\"]]}],\"label\":\"Topic 0\",\"method\":\"update\"},{\"args\":[{\"marker.color\":[[\"#B0BEC5\",\"red\",\"#B0BEC5\",\"#B0BEC5\",\"#B0BEC5\",\"#B0BEC5\",\"#B0BEC5\",\"#B0BEC5\",\"#B0BEC5\",\"#B0BEC5\",\"#B0BEC5\",\"#B0BEC5\",\"#B0BEC5\"]]}],\"label\":\"Topic 1\",\"method\":\"update\"},{\"args\":[{\"marker.color\":[[\"#B0BEC5\",\"#B0BEC5\",\"red\",\"#B0BEC5\",\"#B0BEC5\",\"#B0BEC5\",\"#B0BEC5\",\"#B0BEC5\",\"#B0BEC5\",\"#B0BEC5\",\"#B0BEC5\",\"#B0BEC5\",\"#B0BEC5\"]]}],\"label\":\"Topic 2\",\"method\":\"update\"},{\"args\":[{\"marker.color\":[[\"#B0BEC5\",\"#B0BEC5\",\"#B0BEC5\",\"red\",\"#B0BEC5\",\"#B0BEC5\",\"#B0BEC5\",\"#B0BEC5\",\"#B0BEC5\",\"#B0BEC5\",\"#B0BEC5\",\"#B0BEC5\",\"#B0BEC5\"]]}],\"label\":\"Topic 3\",\"method\":\"update\"},{\"args\":[{\"marker.color\":[[\"#B0BEC5\",\"#B0BEC5\",\"#B0BEC5\",\"#B0BEC5\",\"red\",\"#B0BEC5\",\"#B0BEC5\",\"#B0BEC5\",\"#B0BEC5\",\"#B0BEC5\",\"#B0BEC5\",\"#B0BEC5\",\"#B0BEC5\"]]}],\"label\":\"Topic 4\",\"method\":\"update\"},{\"args\":[{\"marker.color\":[[\"#B0BEC5\",\"#B0BEC5\",\"#B0BEC5\",\"#B0BEC5\",\"#B0BEC5\",\"red\",\"#B0BEC5\",\"#B0BEC5\",\"#B0BEC5\",\"#B0BEC5\",\"#B0BEC5\",\"#B0BEC5\",\"#B0BEC5\"]]}],\"label\":\"Topic 5\",\"method\":\"update\"},{\"args\":[{\"marker.color\":[[\"#B0BEC5\",\"#B0BEC5\",\"#B0BEC5\",\"#B0BEC5\",\"#B0BEC5\",\"#B0BEC5\",\"red\",\"#B0BEC5\",\"#B0BEC5\",\"#B0BEC5\",\"#B0BEC5\",\"#B0BEC5\",\"#B0BEC5\"]]}],\"label\":\"Topic 6\",\"method\":\"update\"},{\"args\":[{\"marker.color\":[[\"#B0BEC5\",\"#B0BEC5\",\"#B0BEC5\",\"#B0BEC5\",\"#B0BEC5\",\"#B0BEC5\",\"#B0BEC5\",\"red\",\"#B0BEC5\",\"#B0BEC5\",\"#B0BEC5\",\"#B0BEC5\",\"#B0BEC5\"]]}],\"label\":\"Topic 7\",\"method\":\"update\"},{\"args\":[{\"marker.color\":[[\"#B0BEC5\",\"#B0BEC5\",\"#B0BEC5\",\"#B0BEC5\",\"#B0BEC5\",\"#B0BEC5\",\"#B0BEC5\",\"#B0BEC5\",\"red\",\"#B0BEC5\",\"#B0BEC5\",\"#B0BEC5\",\"#B0BEC5\"]]}],\"label\":\"Topic 8\",\"method\":\"update\"},{\"args\":[{\"marker.color\":[[\"#B0BEC5\",\"#B0BEC5\",\"#B0BEC5\",\"#B0BEC5\",\"#B0BEC5\",\"#B0BEC5\",\"#B0BEC5\",\"#B0BEC5\",\"#B0BEC5\",\"red\",\"#B0BEC5\",\"#B0BEC5\",\"#B0BEC5\"]]}],\"label\":\"Topic 9\",\"method\":\"update\"},{\"args\":[{\"marker.color\":[[\"#B0BEC5\",\"#B0BEC5\",\"#B0BEC5\",\"#B0BEC5\",\"#B0BEC5\",\"#B0BEC5\",\"#B0BEC5\",\"#B0BEC5\",\"#B0BEC5\",\"#B0BEC5\",\"red\",\"#B0BEC5\",\"#B0BEC5\"]]}],\"label\":\"Topic 10\",\"method\":\"update\"},{\"args\":[{\"marker.color\":[[\"#B0BEC5\",\"#B0BEC5\",\"#B0BEC5\",\"#B0BEC5\",\"#B0BEC5\",\"#B0BEC5\",\"#B0BEC5\",\"#B0BEC5\",\"#B0BEC5\",\"#B0BEC5\",\"#B0BEC5\",\"red\",\"#B0BEC5\"]]}],\"label\":\"Topic 11\",\"method\":\"update\"},{\"args\":[{\"marker.color\":[[\"#B0BEC5\",\"#B0BEC5\",\"#B0BEC5\",\"#B0BEC5\",\"#B0BEC5\",\"#B0BEC5\",\"#B0BEC5\",\"#B0BEC5\",\"#B0BEC5\",\"#B0BEC5\",\"#B0BEC5\",\"#B0BEC5\",\"red\"]]}],\"label\":\"Topic 12\",\"method\":\"update\"}]}],\"shapes\":[{\"line\":{\"color\":\"#CFD8DC\",\"width\":2},\"type\":\"line\",\"x0\":-0.6980207920074468,\"x1\":-0.6980207920074468,\"y0\":-14.505973148345948,\"y1\":17.08072919845581},{\"line\":{\"color\":\"#9E9E9E\",\"width\":2},\"type\":\"line\",\"x0\":-12.28934841156006,\"x1\":10.893306827545166,\"y0\":1.287378025054931,\"y1\":1.287378025054931}],\"annotations\":[{\"showarrow\":false,\"text\":\"D1\",\"x\":-12.28934841156006,\"y\":1.287378025054931,\"yshift\":10},{\"showarrow\":false,\"text\":\"D2\",\"x\":-0.6980207920074468,\"xshift\":10,\"y\":17.08072919845581}]},                        {\"responsive\": true}                    )                };                            </script>        </div>"
      ],
      "text/plain": [
       "Figure({\n",
       "    'data': [{'customdata': array([[0, 'the | and | in | of | to', 198],\n",
       "                                   [1, 'the | china | and | in | 香会', 63],\n",
       "                                   [2, '联合国海洋法公约 | 南海各方行为宣言 | the | china | 在内的国际法', 48],\n",
       "                                   [3, 'china | the | philippine | chinese | coast', 46],\n",
       "                                   [4, 'the | to | gaza | of | and', 37],\n",
       "                                   [5, 'to | the | and | g7 | of', 32],\n",
       "                                   [6, 'gaza | noa | hamas | the | argamani', 28],\n",
       "                                   [7, 'hezbollah | taleb | abdallah | sami | israeli', 20],\n",
       "                                   [8, 'the | to | in | and | of', 19],\n",
       "                                   [9, 'the | anc | of | in | parties', 17],\n",
       "                                   [10, 'the | of | huthis | yemen | aden', 14],\n",
       "                                   [11, 'china | sea | the | in | philippines', 14],\n",
       "                                   [12, 'to | the | and | of | in', 11]], dtype=object),\n",
       "              'hovertemplate': '<b>Topic %{customdata[0]}</b><br>%{customdata[1]}<br>Size: %{customdata[2]}',\n",
       "              'legendgroup': '',\n",
       "              'marker': {'color': '#B0BEC5',\n",
       "                         'line': {'color': 'DarkSlateGrey', 'width': 2},\n",
       "                         'size': array([198,  63,  48,  46,  37,  32,  28,  20,  19,  17,  14,  14,  11]),\n",
       "                         'sizemode': 'area',\n",
       "                         'sizeref': 0.12375,\n",
       "                         'symbol': 'circle'},\n",
       "              'mode': 'markers',\n",
       "              'name': '',\n",
       "              'orientation': 'v',\n",
       "              'showlegend': False,\n",
       "              'type': 'scatter',\n",
       "              'x': array([  9.262286, -10.298051, -10.140639, -10.442511,   6.421175,   5.469288,\n",
       "                            6.209768,   5.878113,   5.754105,   9.472441, -10.68639 ,  -9.584259,\n",
       "                            5.263683], dtype=float32),\n",
       "              'xaxis': 'x',\n",
       "              'y': array([  1.5291544,  13.463658 ,  13.783116 ,  14.464343 , -12.61389  ,\n",
       "                            9.052651 , -12.402616 , -12.071083 ,   9.333142 ,   1.3190032,\n",
       "                           14.852808 ,  13.8701935,   8.846999 ], dtype=float32),\n",
       "              'yaxis': 'y'}],\n",
       "    'layout': {'annotations': [{'showarrow': False,\n",
       "                                'text': 'D1',\n",
       "                                'x': -12.28934841156006,\n",
       "                                'y': 1.287378025054931,\n",
       "                                'yshift': 10},\n",
       "                               {'showarrow': False,\n",
       "                                'text': 'D2',\n",
       "                                'x': -0.6980207920074468,\n",
       "                                'xshift': 10,\n",
       "                                'y': 17.08072919845581}],\n",
       "               'height': 650,\n",
       "               'hoverlabel': {'bgcolor': 'white', 'font': {'family': 'Rockwell', 'size': 16}},\n",
       "               'legend': {'itemsizing': 'constant', 'tracegroupgap': 0},\n",
       "               'margin': {'t': 60},\n",
       "               'shapes': [{'line': {'color': '#CFD8DC', 'width': 2},\n",
       "                           'type': 'line',\n",
       "                           'x0': -0.6980207920074468,\n",
       "                           'x1': -0.6980207920074468,\n",
       "                           'y0': -14.505973148345948,\n",
       "                           'y1': 17.08072919845581},\n",
       "                          {'line': {'color': '#9E9E9E', 'width': 2},\n",
       "                           'type': 'line',\n",
       "                           'x0': -12.28934841156006,\n",
       "                           'x1': 10.893306827545166,\n",
       "                           'y0': 1.287378025054931,\n",
       "                           'y1': 1.287378025054931}],\n",
       "               'sliders': [{'active': 0,\n",
       "                            'pad': {'t': 50},\n",
       "                            'steps': [{'args': [{'marker.color': [['red',\n",
       "                                                                  '#B0BEC5',\n",
       "                                                                  '#B0BEC5',\n",
       "                                                                  '#B0BEC5',\n",
       "                                                                  '#B0BEC5',\n",
       "                                                                  '#B0BEC5',\n",
       "                                                                  '#B0BEC5',\n",
       "                                                                  '#B0BEC5',\n",
       "                                                                  '#B0BEC5',\n",
       "                                                                  '#B0BEC5',\n",
       "                                                                  '#B0BEC5',\n",
       "                                                                  '#B0BEC5',\n",
       "                                                                  '#B0BEC5']]}],\n",
       "                                       'label': 'Topic 0',\n",
       "                                       'method': 'update'},\n",
       "                                      {'args': [{'marker.color': [['#B0BEC5',\n",
       "                                                                  'red', '#B0BEC5',\n",
       "                                                                  '#B0BEC5',\n",
       "                                                                  '#B0BEC5',\n",
       "                                                                  '#B0BEC5',\n",
       "                                                                  '#B0BEC5',\n",
       "                                                                  '#B0BEC5',\n",
       "                                                                  '#B0BEC5',\n",
       "                                                                  '#B0BEC5',\n",
       "                                                                  '#B0BEC5',\n",
       "                                                                  '#B0BEC5',\n",
       "                                                                  '#B0BEC5']]}],\n",
       "                                       'label': 'Topic 1',\n",
       "                                       'method': 'update'},\n",
       "                                      {'args': [{'marker.color': [['#B0BEC5',\n",
       "                                                                  '#B0BEC5', 'red',\n",
       "                                                                  '#B0BEC5',\n",
       "                                                                  '#B0BEC5',\n",
       "                                                                  '#B0BEC5',\n",
       "                                                                  '#B0BEC5',\n",
       "                                                                  '#B0BEC5',\n",
       "                                                                  '#B0BEC5',\n",
       "                                                                  '#B0BEC5',\n",
       "                                                                  '#B0BEC5',\n",
       "                                                                  '#B0BEC5',\n",
       "                                                                  '#B0BEC5']]}],\n",
       "                                       'label': 'Topic 2',\n",
       "                                       'method': 'update'},\n",
       "                                      {'args': [{'marker.color': [['#B0BEC5',\n",
       "                                                                  '#B0BEC5',\n",
       "                                                                  '#B0BEC5', 'red',\n",
       "                                                                  '#B0BEC5',\n",
       "                                                                  '#B0BEC5',\n",
       "                                                                  '#B0BEC5',\n",
       "                                                                  '#B0BEC5',\n",
       "                                                                  '#B0BEC5',\n",
       "                                                                  '#B0BEC5',\n",
       "                                                                  '#B0BEC5',\n",
       "                                                                  '#B0BEC5',\n",
       "                                                                  '#B0BEC5']]}],\n",
       "                                       'label': 'Topic 3',\n",
       "                                       'method': 'update'},\n",
       "                                      {'args': [{'marker.color': [['#B0BEC5',\n",
       "                                                                  '#B0BEC5',\n",
       "                                                                  '#B0BEC5',\n",
       "                                                                  '#B0BEC5', 'red',\n",
       "                                                                  '#B0BEC5',\n",
       "                                                                  '#B0BEC5',\n",
       "                                                                  '#B0BEC5',\n",
       "                                                                  '#B0BEC5',\n",
       "                                                                  '#B0BEC5',\n",
       "                                                                  '#B0BEC5',\n",
       "                                                                  '#B0BEC5',\n",
       "                                                                  '#B0BEC5']]}],\n",
       "                                       'label': 'Topic 4',\n",
       "                                       'method': 'update'},\n",
       "                                      {'args': [{'marker.color': [['#B0BEC5',\n",
       "                                                                  '#B0BEC5',\n",
       "                                                                  '#B0BEC5',\n",
       "                                                                  '#B0BEC5',\n",
       "                                                                  '#B0BEC5', 'red',\n",
       "                                                                  '#B0BEC5',\n",
       "                                                                  '#B0BEC5',\n",
       "                                                                  '#B0BEC5',\n",
       "                                                                  '#B0BEC5',\n",
       "                                                                  '#B0BEC5',\n",
       "                                                                  '#B0BEC5',\n",
       "                                                                  '#B0BEC5']]}],\n",
       "                                       'label': 'Topic 5',\n",
       "                                       'method': 'update'},\n",
       "                                      {'args': [{'marker.color': [['#B0BEC5',\n",
       "                                                                  '#B0BEC5',\n",
       "                                                                  '#B0BEC5',\n",
       "                                                                  '#B0BEC5',\n",
       "                                                                  '#B0BEC5',\n",
       "                                                                  '#B0BEC5', 'red',\n",
       "                                                                  '#B0BEC5',\n",
       "                                                                  '#B0BEC5',\n",
       "                                                                  '#B0BEC5',\n",
       "                                                                  '#B0BEC5',\n",
       "                                                                  '#B0BEC5',\n",
       "                                                                  '#B0BEC5']]}],\n",
       "                                       'label': 'Topic 6',\n",
       "                                       'method': 'update'},\n",
       "                                      {'args': [{'marker.color': [['#B0BEC5',\n",
       "                                                                  '#B0BEC5',\n",
       "                                                                  '#B0BEC5',\n",
       "                                                                  '#B0BEC5',\n",
       "                                                                  '#B0BEC5',\n",
       "                                                                  '#B0BEC5',\n",
       "                                                                  '#B0BEC5', 'red',\n",
       "                                                                  '#B0BEC5',\n",
       "                                                                  '#B0BEC5',\n",
       "                                                                  '#B0BEC5',\n",
       "                                                                  '#B0BEC5',\n",
       "                                                                  '#B0BEC5']]}],\n",
       "                                       'label': 'Topic 7',\n",
       "                                       'method': 'update'},\n",
       "                                      {'args': [{'marker.color': [['#B0BEC5',\n",
       "                                                                  '#B0BEC5',\n",
       "                                                                  '#B0BEC5',\n",
       "                                                                  '#B0BEC5',\n",
       "                                                                  '#B0BEC5',\n",
       "                                                                  '#B0BEC5',\n",
       "                                                                  '#B0BEC5',\n",
       "                                                                  '#B0BEC5', 'red',\n",
       "                                                                  '#B0BEC5',\n",
       "                                                                  '#B0BEC5',\n",
       "                                                                  '#B0BEC5',\n",
       "                                                                  '#B0BEC5']]}],\n",
       "                                       'label': 'Topic 8',\n",
       "                                       'method': 'update'},\n",
       "                                      {'args': [{'marker.color': [['#B0BEC5',\n",
       "                                                                  '#B0BEC5',\n",
       "                                                                  '#B0BEC5',\n",
       "                                                                  '#B0BEC5',\n",
       "                                                                  '#B0BEC5',\n",
       "                                                                  '#B0BEC5',\n",
       "                                                                  '#B0BEC5',\n",
       "                                                                  '#B0BEC5',\n",
       "                                                                  '#B0BEC5', 'red',\n",
       "                                                                  '#B0BEC5',\n",
       "                                                                  '#B0BEC5',\n",
       "                                                                  '#B0BEC5']]}],\n",
       "                                       'label': 'Topic 9',\n",
       "                                       'method': 'update'},\n",
       "                                      {'args': [{'marker.color': [['#B0BEC5',\n",
       "                                                                  '#B0BEC5',\n",
       "                                                                  '#B0BEC5',\n",
       "                                                                  '#B0BEC5',\n",
       "                                                                  '#B0BEC5',\n",
       "                                                                  '#B0BEC5',\n",
       "                                                                  '#B0BEC5',\n",
       "                                                                  '#B0BEC5',\n",
       "                                                                  '#B0BEC5',\n",
       "                                                                  '#B0BEC5', 'red',\n",
       "                                                                  '#B0BEC5',\n",
       "                                                                  '#B0BEC5']]}],\n",
       "                                       'label': 'Topic 10',\n",
       "                                       'method': 'update'},\n",
       "                                      {'args': [{'marker.color': [['#B0BEC5',\n",
       "                                                                  '#B0BEC5',\n",
       "                                                                  '#B0BEC5',\n",
       "                                                                  '#B0BEC5',\n",
       "                                                                  '#B0BEC5',\n",
       "                                                                  '#B0BEC5',\n",
       "                                                                  '#B0BEC5',\n",
       "                                                                  '#B0BEC5',\n",
       "                                                                  '#B0BEC5',\n",
       "                                                                  '#B0BEC5',\n",
       "                                                                  '#B0BEC5', 'red',\n",
       "                                                                  '#B0BEC5']]}],\n",
       "                                       'label': 'Topic 11',\n",
       "                                       'method': 'update'},\n",
       "                                      {'args': [{'marker.color': [['#B0BEC5',\n",
       "                                                                  '#B0BEC5',\n",
       "                                                                  '#B0BEC5',\n",
       "                                                                  '#B0BEC5',\n",
       "                                                                  '#B0BEC5',\n",
       "                                                                  '#B0BEC5',\n",
       "                                                                  '#B0BEC5',\n",
       "                                                                  '#B0BEC5',\n",
       "                                                                  '#B0BEC5',\n",
       "                                                                  '#B0BEC5',\n",
       "                                                                  '#B0BEC5',\n",
       "                                                                  '#B0BEC5',\n",
       "                                                                  'red']]}],\n",
       "                                       'label': 'Topic 12',\n",
       "                                       'method': 'update'}]}],\n",
       "               'template': '...',\n",
       "               'title': {'font': {'color': 'Black', 'size': 22},\n",
       "                         'text': '<b>Intertopic Distance Map</b>',\n",
       "                         'x': 0.5,\n",
       "                         'xanchor': 'center',\n",
       "                         'y': 0.95,\n",
       "                         'yanchor': 'top'},\n",
       "               'width': 650,\n",
       "               'xaxis': {'anchor': 'y',\n",
       "                         'domain': [0.0, 1.0],\n",
       "                         'range': [-12.28934841156006, 10.893306827545166],\n",
       "                         'title': {'text': ''},\n",
       "                         'visible': False},\n",
       "               'yaxis': {'anchor': 'x',\n",
       "                         'domain': [0.0, 1.0],\n",
       "                         'range': [-14.505973148345948, 17.08072919845581],\n",
       "                         'title': {'text': ''},\n",
       "                         'visible': False}}\n",
       "})"
      ]
     },
     "execution_count": 19,
     "metadata": {},
     "output_type": "execute_result"
    }
   ],
   "source": [
    "topic_model.visualize_topics()"
   ]
  }
 ],
 "metadata": {
  "kernelspec": {
   "display_name": "env",
   "language": "python",
   "name": "python3"
  },
  "language_info": {
   "codemirror_mode": {
    "name": "ipython",
    "version": 3
   },
   "file_extension": ".py",
   "mimetype": "text/x-python",
   "name": "python",
   "nbconvert_exporter": "python",
   "pygments_lexer": "ipython3",
   "version": "3.9.6"
  }
 },
 "nbformat": 4,
 "nbformat_minor": 2
}
